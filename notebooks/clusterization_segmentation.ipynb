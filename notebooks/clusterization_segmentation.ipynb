{
  "cells": [
    {
      "cell_type": "markdown",
      "source": [
        "## Кластеризация "
      ],
      "metadata": {
        "id": "dvswXmVl09LN"
      }
    },
    {
      "cell_type": "markdown",
      "source": [
        "В данном ноутбуке мы кластеризуем пользователей Уралсиба на основе имеющихся в исходной файле данных. В качестве алгоритма кластеризации мы применяем **K-Means**. Задача заключается в оценке эффективности каналов посредством аналитики сходства Уралсиба и других каналов. \n",
        "\n",
        "**Алгоритм наших действий**: \n",
        "1. Оцениваем аудиторию Уралсиба путем кластеризации K-Means\n",
        "2. Парсим вручную данные с сайтов, которые мы определили как потенциальные рекламные площадки\n",
        "3. Получаем распределение клиентов Уралсиба и других каналов согласно трем признакам (возраст, пол, резидент не резидент)\n",
        "4. Рассчитываем расстояние Кульбака-Лейбнера между распределениями по признакам Уралсиба и по признакам других каналов. \n",
        "5. Выбираем топ 5-каналов, где это расстояние наименьшее. Эти каналы и будут являться эффективными!"
      ],
      "metadata": {
        "id": "Ep5LgEDc1Aal"
      }
    },
    {
      "cell_type": "markdown",
      "source": [
        "Для начала нам нужно обработать данные. В обработку данных входит: \n",
        "1. Удаление дублирующихся строк \n",
        "2. Удалние признаков, в которых очень много пропущенных значений \n",
        "3. Обработка категориальных данных "
      ],
      "metadata": {
        "id": "Zst-aCFh2OJZ"
      }
    },
    {
      "cell_type": "code",
      "execution_count": 1,
      "metadata": {
        "id": "9LchcRtkyzC8"
      },
      "outputs": [],
      "source": [
        "# загружаем библиотеки \n",
        "import pandas as pd\n",
        "import numpy as np\n",
        "df = pd.read_csv('/content/Данные по транзакционной активности клиентов (1).csv')"
      ]
    },
    {
      "cell_type": "code",
      "execution_count": 2,
      "metadata": {
        "id": "4aUMJNyLWyRj"
      },
      "outputs": [],
      "source": [
        "df.drop_duplicates(inplace = True)"
      ]
    },
    {
      "cell_type": "code",
      "execution_count": 3,
      "metadata": {
        "colab": {
          "base_uri": "https://localhost:8080/"
        },
        "id": "EVrUq_vXbJyp",
        "outputId": "17312b51-b167-4eb4-8f29-efcd9fc1ceea"
      },
      "outputs": [
        {
          "output_type": "execute_result",
          "data": {
            "text/plain": [
              "(240397, 21)"
            ]
          },
          "metadata": {},
          "execution_count": 3
        }
      ],
      "source": [
        "df.shape"
      ]
    },
    {
      "cell_type": "code",
      "execution_count": 4,
      "metadata": {
        "colab": {
          "base_uri": "https://localhost:8080/",
          "height": 191
        },
        "id": "PLm7XpVH0gPy",
        "outputId": "c3a8ad01-f123-49c7-a180-0063777de19f"
      },
      "outputs": [
        {
          "output_type": "stream",
          "name": "stdout",
          "text": [
            "Количество пропущенных значений после обработки пропусков в таблице:\n"
          ]
        },
        {
          "output_type": "execute_result",
          "data": {
            "text/plain": [
              "     term  fact_close_date  start_date  card_type_name  city  client_id  \\\n",
              "0  240397           162551       21322           21322   751          0   \n",
              "\n",
              "   current_credit_turn_sum  current_debit_turn_sum  current_balance_sum  \\\n",
              "0                        0                       0                    0   \n",
              "\n",
              "   current_balance_avg_sum  ...  purchase_sum  card_id  gender  \\\n",
              "0                        0  ...             0        0       0   \n",
              "\n",
              "   product_category_name  contract_sum  businessman_flag  nonresident_flag  \\\n",
              "0                      0             0                 0                 0   \n",
              "\n",
              "   create_date  birth_date  card_type  \n",
              "0            0           0          0  \n",
              "\n",
              "[1 rows x 21 columns]"
            ],
            "text/html": [
              "\n",
              "  <div id=\"df-2b39efd1-98a6-4547-befa-9883b143c5a1\">\n",
              "    <div class=\"colab-df-container\">\n",
              "      <div>\n",
              "<style scoped>\n",
              "    .dataframe tbody tr th:only-of-type {\n",
              "        vertical-align: middle;\n",
              "    }\n",
              "\n",
              "    .dataframe tbody tr th {\n",
              "        vertical-align: top;\n",
              "    }\n",
              "\n",
              "    .dataframe thead th {\n",
              "        text-align: right;\n",
              "    }\n",
              "</style>\n",
              "<table border=\"1\" class=\"dataframe\">\n",
              "  <thead>\n",
              "    <tr style=\"text-align: right;\">\n",
              "      <th></th>\n",
              "      <th>term</th>\n",
              "      <th>fact_close_date</th>\n",
              "      <th>start_date</th>\n",
              "      <th>card_type_name</th>\n",
              "      <th>city</th>\n",
              "      <th>client_id</th>\n",
              "      <th>current_credit_turn_sum</th>\n",
              "      <th>current_debit_turn_sum</th>\n",
              "      <th>current_balance_sum</th>\n",
              "      <th>current_balance_avg_sum</th>\n",
              "      <th>...</th>\n",
              "      <th>purchase_sum</th>\n",
              "      <th>card_id</th>\n",
              "      <th>gender</th>\n",
              "      <th>product_category_name</th>\n",
              "      <th>contract_sum</th>\n",
              "      <th>businessman_flag</th>\n",
              "      <th>nonresident_flag</th>\n",
              "      <th>create_date</th>\n",
              "      <th>birth_date</th>\n",
              "      <th>card_type</th>\n",
              "    </tr>\n",
              "  </thead>\n",
              "  <tbody>\n",
              "    <tr>\n",
              "      <th>0</th>\n",
              "      <td>240397</td>\n",
              "      <td>162551</td>\n",
              "      <td>21322</td>\n",
              "      <td>21322</td>\n",
              "      <td>751</td>\n",
              "      <td>0</td>\n",
              "      <td>0</td>\n",
              "      <td>0</td>\n",
              "      <td>0</td>\n",
              "      <td>0</td>\n",
              "      <td>...</td>\n",
              "      <td>0</td>\n",
              "      <td>0</td>\n",
              "      <td>0</td>\n",
              "      <td>0</td>\n",
              "      <td>0</td>\n",
              "      <td>0</td>\n",
              "      <td>0</td>\n",
              "      <td>0</td>\n",
              "      <td>0</td>\n",
              "      <td>0</td>\n",
              "    </tr>\n",
              "  </tbody>\n",
              "</table>\n",
              "<p>1 rows × 21 columns</p>\n",
              "</div>\n",
              "      <button class=\"colab-df-convert\" onclick=\"convertToInteractive('df-2b39efd1-98a6-4547-befa-9883b143c5a1')\"\n",
              "              title=\"Convert this dataframe to an interactive table.\"\n",
              "              style=\"display:none;\">\n",
              "        \n",
              "  <svg xmlns=\"http://www.w3.org/2000/svg\" height=\"24px\"viewBox=\"0 0 24 24\"\n",
              "       width=\"24px\">\n",
              "    <path d=\"M0 0h24v24H0V0z\" fill=\"none\"/>\n",
              "    <path d=\"M18.56 5.44l.94 2.06.94-2.06 2.06-.94-2.06-.94-.94-2.06-.94 2.06-2.06.94zm-11 1L8.5 8.5l.94-2.06 2.06-.94-2.06-.94L8.5 2.5l-.94 2.06-2.06.94zm10 10l.94 2.06.94-2.06 2.06-.94-2.06-.94-.94-2.06-.94 2.06-2.06.94z\"/><path d=\"M17.41 7.96l-1.37-1.37c-.4-.4-.92-.59-1.43-.59-.52 0-1.04.2-1.43.59L10.3 9.45l-7.72 7.72c-.78.78-.78 2.05 0 2.83L4 21.41c.39.39.9.59 1.41.59.51 0 1.02-.2 1.41-.59l7.78-7.78 2.81-2.81c.8-.78.8-2.07 0-2.86zM5.41 20L4 18.59l7.72-7.72 1.47 1.35L5.41 20z\"/>\n",
              "  </svg>\n",
              "      </button>\n",
              "      \n",
              "  <style>\n",
              "    .colab-df-container {\n",
              "      display:flex;\n",
              "      flex-wrap:wrap;\n",
              "      gap: 12px;\n",
              "    }\n",
              "\n",
              "    .colab-df-convert {\n",
              "      background-color: #E8F0FE;\n",
              "      border: none;\n",
              "      border-radius: 50%;\n",
              "      cursor: pointer;\n",
              "      display: none;\n",
              "      fill: #1967D2;\n",
              "      height: 32px;\n",
              "      padding: 0 0 0 0;\n",
              "      width: 32px;\n",
              "    }\n",
              "\n",
              "    .colab-df-convert:hover {\n",
              "      background-color: #E2EBFA;\n",
              "      box-shadow: 0px 1px 2px rgba(60, 64, 67, 0.3), 0px 1px 3px 1px rgba(60, 64, 67, 0.15);\n",
              "      fill: #174EA6;\n",
              "    }\n",
              "\n",
              "    [theme=dark] .colab-df-convert {\n",
              "      background-color: #3B4455;\n",
              "      fill: #D2E3FC;\n",
              "    }\n",
              "\n",
              "    [theme=dark] .colab-df-convert:hover {\n",
              "      background-color: #434B5C;\n",
              "      box-shadow: 0px 1px 3px 1px rgba(0, 0, 0, 0.15);\n",
              "      filter: drop-shadow(0px 1px 2px rgba(0, 0, 0, 0.3));\n",
              "      fill: #FFFFFF;\n",
              "    }\n",
              "  </style>\n",
              "\n",
              "      <script>\n",
              "        const buttonEl =\n",
              "          document.querySelector('#df-2b39efd1-98a6-4547-befa-9883b143c5a1 button.colab-df-convert');\n",
              "        buttonEl.style.display =\n",
              "          google.colab.kernel.accessAllowed ? 'block' : 'none';\n",
              "\n",
              "        async function convertToInteractive(key) {\n",
              "          const element = document.querySelector('#df-2b39efd1-98a6-4547-befa-9883b143c5a1');\n",
              "          const dataTable =\n",
              "            await google.colab.kernel.invokeFunction('convertToInteractive',\n",
              "                                                     [key], {});\n",
              "          if (!dataTable) return;\n",
              "\n",
              "          const docLinkHtml = 'Like what you see? Visit the ' +\n",
              "            '<a target=\"_blank\" href=https://colab.research.google.com/notebooks/data_table.ipynb>data table notebook</a>'\n",
              "            + ' to learn more about interactive tables.';\n",
              "          element.innerHTML = '';\n",
              "          dataTable['output_type'] = 'display_data';\n",
              "          await google.colab.output.renderOutput(dataTable, element);\n",
              "          const docLink = document.createElement('div');\n",
              "          docLink.innerHTML = docLinkHtml;\n",
              "          element.appendChild(docLink);\n",
              "        }\n",
              "      </script>\n",
              "    </div>\n",
              "  </div>\n",
              "  "
            ]
          },
          "metadata": {},
          "execution_count": 4
        }
      ],
      "source": [
        "print(\"Количество пропущенных значений после обработки пропусков в таблице:\")\n",
        "df.isna().sum().to_frame().sort_values(0, ascending = False).T"
      ]
    },
    {
      "cell_type": "code",
      "execution_count": 5,
      "metadata": {
        "id": "JJzhxfcybMFj"
      },
      "outputs": [],
      "source": [
        "del df['term']\n",
        "del df['card_id']\n",
        "del df['client_id']"
      ]
    },
    {
      "cell_type": "code",
      "execution_count": 8,
      "metadata": {
        "colab": {
          "base_uri": "https://localhost:8080/",
          "height": 473
        },
        "id": "mZDOqgnfbhkN",
        "outputId": "9097e660-232e-4f74-ea8e-3ba751456113"
      },
      "outputs": [
        {
          "output_type": "execute_result",
          "data": {
            "text/plain": [
              "  gender  birth_date create_date nonresident_flag  businessman_flag  \\\n",
              "0      Ж        1985  2020-01-29                R                 0   \n",
              "1      М        1951  2009-09-24                R                 0   \n",
              "2      Ж        1982  2006-12-25                R                 0   \n",
              "3      М        1955  2011-04-15                R                 0   \n",
              "4      М        1955  2011-04-15                R                 0   \n",
              "\n",
              "   contract_sum                        product_category_name  start_date  \\\n",
              "0           0.0  Договор на текущий счет для дебетовой карты      2019.0   \n",
              "1           0.0  Договор на текущий счет для дебетовой карты      2019.0   \n",
              "2           0.0  Договор на текущий счет для дебетовой карты         NaN   \n",
              "3           0.0  Договор на текущий счет для дебетовой карты      2021.0   \n",
              "4           0.0  Договор на текущий счет для дебетовой карты      2018.0   \n",
              "\n",
              "   fact_close_date  purchase_sum  ...  city_Химки  city_Челябинск  \\\n",
              "0           2021.0       16600.0  ...           0               0   \n",
              "1              NaN           0.0  ...           0               0   \n",
              "2              NaN           0.0  ...           0               0   \n",
              "3              NaN       24300.0  ...           0               0   \n",
              "4           2022.0       24300.0  ...           0               0   \n",
              "\n",
              "   city_Череповец  city_Чишмы  city_Чусовой city_Юрга  city_Языково  \\\n",
              "0               0           0             0         0             0   \n",
              "1               0           0             0         0             0   \n",
              "2               0           0             0         1             0   \n",
              "3               0           0             0         0             0   \n",
              "4               0           0             0         0             0   \n",
              "\n",
              "   city_Янаул  city_Янгантау  city_Ярославль  \n",
              "0           0              0               0  \n",
              "1           0              0               0  \n",
              "2           0              0               0  \n",
              "3           0              0               0  \n",
              "4           0              0               0  \n",
              "\n",
              "[5 rows x 193 columns]"
            ],
            "text/html": [
              "\n",
              "  <div id=\"df-40a64ac6-af09-4952-9220-aca7c7a8949a\">\n",
              "    <div class=\"colab-df-container\">\n",
              "      <div>\n",
              "<style scoped>\n",
              "    .dataframe tbody tr th:only-of-type {\n",
              "        vertical-align: middle;\n",
              "    }\n",
              "\n",
              "    .dataframe tbody tr th {\n",
              "        vertical-align: top;\n",
              "    }\n",
              "\n",
              "    .dataframe thead th {\n",
              "        text-align: right;\n",
              "    }\n",
              "</style>\n",
              "<table border=\"1\" class=\"dataframe\">\n",
              "  <thead>\n",
              "    <tr style=\"text-align: right;\">\n",
              "      <th></th>\n",
              "      <th>gender</th>\n",
              "      <th>birth_date</th>\n",
              "      <th>create_date</th>\n",
              "      <th>nonresident_flag</th>\n",
              "      <th>businessman_flag</th>\n",
              "      <th>contract_sum</th>\n",
              "      <th>product_category_name</th>\n",
              "      <th>start_date</th>\n",
              "      <th>fact_close_date</th>\n",
              "      <th>purchase_sum</th>\n",
              "      <th>...</th>\n",
              "      <th>city_Химки</th>\n",
              "      <th>city_Челябинск</th>\n",
              "      <th>city_Череповец</th>\n",
              "      <th>city_Чишмы</th>\n",
              "      <th>city_Чусовой</th>\n",
              "      <th>city_Юрга</th>\n",
              "      <th>city_Языково</th>\n",
              "      <th>city_Янаул</th>\n",
              "      <th>city_Янгантау</th>\n",
              "      <th>city_Ярославль</th>\n",
              "    </tr>\n",
              "  </thead>\n",
              "  <tbody>\n",
              "    <tr>\n",
              "      <th>0</th>\n",
              "      <td>Ж</td>\n",
              "      <td>1985</td>\n",
              "      <td>2020-01-29</td>\n",
              "      <td>R</td>\n",
              "      <td>0</td>\n",
              "      <td>0.0</td>\n",
              "      <td>Договор на текущий счет для дебетовой карты</td>\n",
              "      <td>2019.0</td>\n",
              "      <td>2021.0</td>\n",
              "      <td>16600.0</td>\n",
              "      <td>...</td>\n",
              "      <td>0</td>\n",
              "      <td>0</td>\n",
              "      <td>0</td>\n",
              "      <td>0</td>\n",
              "      <td>0</td>\n",
              "      <td>0</td>\n",
              "      <td>0</td>\n",
              "      <td>0</td>\n",
              "      <td>0</td>\n",
              "      <td>0</td>\n",
              "    </tr>\n",
              "    <tr>\n",
              "      <th>1</th>\n",
              "      <td>М</td>\n",
              "      <td>1951</td>\n",
              "      <td>2009-09-24</td>\n",
              "      <td>R</td>\n",
              "      <td>0</td>\n",
              "      <td>0.0</td>\n",
              "      <td>Договор на текущий счет для дебетовой карты</td>\n",
              "      <td>2019.0</td>\n",
              "      <td>NaN</td>\n",
              "      <td>0.0</td>\n",
              "      <td>...</td>\n",
              "      <td>0</td>\n",
              "      <td>0</td>\n",
              "      <td>0</td>\n",
              "      <td>0</td>\n",
              "      <td>0</td>\n",
              "      <td>0</td>\n",
              "      <td>0</td>\n",
              "      <td>0</td>\n",
              "      <td>0</td>\n",
              "      <td>0</td>\n",
              "    </tr>\n",
              "    <tr>\n",
              "      <th>2</th>\n",
              "      <td>Ж</td>\n",
              "      <td>1982</td>\n",
              "      <td>2006-12-25</td>\n",
              "      <td>R</td>\n",
              "      <td>0</td>\n",
              "      <td>0.0</td>\n",
              "      <td>Договор на текущий счет для дебетовой карты</td>\n",
              "      <td>NaN</td>\n",
              "      <td>NaN</td>\n",
              "      <td>0.0</td>\n",
              "      <td>...</td>\n",
              "      <td>0</td>\n",
              "      <td>0</td>\n",
              "      <td>0</td>\n",
              "      <td>0</td>\n",
              "      <td>0</td>\n",
              "      <td>1</td>\n",
              "      <td>0</td>\n",
              "      <td>0</td>\n",
              "      <td>0</td>\n",
              "      <td>0</td>\n",
              "    </tr>\n",
              "    <tr>\n",
              "      <th>3</th>\n",
              "      <td>М</td>\n",
              "      <td>1955</td>\n",
              "      <td>2011-04-15</td>\n",
              "      <td>R</td>\n",
              "      <td>0</td>\n",
              "      <td>0.0</td>\n",
              "      <td>Договор на текущий счет для дебетовой карты</td>\n",
              "      <td>2021.0</td>\n",
              "      <td>NaN</td>\n",
              "      <td>24300.0</td>\n",
              "      <td>...</td>\n",
              "      <td>0</td>\n",
              "      <td>0</td>\n",
              "      <td>0</td>\n",
              "      <td>0</td>\n",
              "      <td>0</td>\n",
              "      <td>0</td>\n",
              "      <td>0</td>\n",
              "      <td>0</td>\n",
              "      <td>0</td>\n",
              "      <td>0</td>\n",
              "    </tr>\n",
              "    <tr>\n",
              "      <th>4</th>\n",
              "      <td>М</td>\n",
              "      <td>1955</td>\n",
              "      <td>2011-04-15</td>\n",
              "      <td>R</td>\n",
              "      <td>0</td>\n",
              "      <td>0.0</td>\n",
              "      <td>Договор на текущий счет для дебетовой карты</td>\n",
              "      <td>2018.0</td>\n",
              "      <td>2022.0</td>\n",
              "      <td>24300.0</td>\n",
              "      <td>...</td>\n",
              "      <td>0</td>\n",
              "      <td>0</td>\n",
              "      <td>0</td>\n",
              "      <td>0</td>\n",
              "      <td>0</td>\n",
              "      <td>0</td>\n",
              "      <td>0</td>\n",
              "      <td>0</td>\n",
              "      <td>0</td>\n",
              "      <td>0</td>\n",
              "    </tr>\n",
              "  </tbody>\n",
              "</table>\n",
              "<p>5 rows × 193 columns</p>\n",
              "</div>\n",
              "      <button class=\"colab-df-convert\" onclick=\"convertToInteractive('df-40a64ac6-af09-4952-9220-aca7c7a8949a')\"\n",
              "              title=\"Convert this dataframe to an interactive table.\"\n",
              "              style=\"display:none;\">\n",
              "        \n",
              "  <svg xmlns=\"http://www.w3.org/2000/svg\" height=\"24px\"viewBox=\"0 0 24 24\"\n",
              "       width=\"24px\">\n",
              "    <path d=\"M0 0h24v24H0V0z\" fill=\"none\"/>\n",
              "    <path d=\"M18.56 5.44l.94 2.06.94-2.06 2.06-.94-2.06-.94-.94-2.06-.94 2.06-2.06.94zm-11 1L8.5 8.5l.94-2.06 2.06-.94-2.06-.94L8.5 2.5l-.94 2.06-2.06.94zm10 10l.94 2.06.94-2.06 2.06-.94-2.06-.94-.94-2.06-.94 2.06-2.06.94z\"/><path d=\"M17.41 7.96l-1.37-1.37c-.4-.4-.92-.59-1.43-.59-.52 0-1.04.2-1.43.59L10.3 9.45l-7.72 7.72c-.78.78-.78 2.05 0 2.83L4 21.41c.39.39.9.59 1.41.59.51 0 1.02-.2 1.41-.59l7.78-7.78 2.81-2.81c.8-.78.8-2.07 0-2.86zM5.41 20L4 18.59l7.72-7.72 1.47 1.35L5.41 20z\"/>\n",
              "  </svg>\n",
              "      </button>\n",
              "      \n",
              "  <style>\n",
              "    .colab-df-container {\n",
              "      display:flex;\n",
              "      flex-wrap:wrap;\n",
              "      gap: 12px;\n",
              "    }\n",
              "\n",
              "    .colab-df-convert {\n",
              "      background-color: #E8F0FE;\n",
              "      border: none;\n",
              "      border-radius: 50%;\n",
              "      cursor: pointer;\n",
              "      display: none;\n",
              "      fill: #1967D2;\n",
              "      height: 32px;\n",
              "      padding: 0 0 0 0;\n",
              "      width: 32px;\n",
              "    }\n",
              "\n",
              "    .colab-df-convert:hover {\n",
              "      background-color: #E2EBFA;\n",
              "      box-shadow: 0px 1px 2px rgba(60, 64, 67, 0.3), 0px 1px 3px 1px rgba(60, 64, 67, 0.15);\n",
              "      fill: #174EA6;\n",
              "    }\n",
              "\n",
              "    [theme=dark] .colab-df-convert {\n",
              "      background-color: #3B4455;\n",
              "      fill: #D2E3FC;\n",
              "    }\n",
              "\n",
              "    [theme=dark] .colab-df-convert:hover {\n",
              "      background-color: #434B5C;\n",
              "      box-shadow: 0px 1px 3px 1px rgba(0, 0, 0, 0.15);\n",
              "      filter: drop-shadow(0px 1px 2px rgba(0, 0, 0, 0.3));\n",
              "      fill: #FFFFFF;\n",
              "    }\n",
              "  </style>\n",
              "\n",
              "      <script>\n",
              "        const buttonEl =\n",
              "          document.querySelector('#df-40a64ac6-af09-4952-9220-aca7c7a8949a button.colab-df-convert');\n",
              "        buttonEl.style.display =\n",
              "          google.colab.kernel.accessAllowed ? 'block' : 'none';\n",
              "\n",
              "        async function convertToInteractive(key) {\n",
              "          const element = document.querySelector('#df-40a64ac6-af09-4952-9220-aca7c7a8949a');\n",
              "          const dataTable =\n",
              "            await google.colab.kernel.invokeFunction('convertToInteractive',\n",
              "                                                     [key], {});\n",
              "          if (!dataTable) return;\n",
              "\n",
              "          const docLinkHtml = 'Like what you see? Visit the ' +\n",
              "            '<a target=\"_blank\" href=https://colab.research.google.com/notebooks/data_table.ipynb>data table notebook</a>'\n",
              "            + ' to learn more about interactive tables.';\n",
              "          element.innerHTML = '';\n",
              "          dataTable['output_type'] = 'display_data';\n",
              "          await google.colab.output.renderOutput(dataTable, element);\n",
              "          const docLink = document.createElement('div');\n",
              "          docLink.innerHTML = docLinkHtml;\n",
              "          element.appendChild(docLink);\n",
              "        }\n",
              "      </script>\n",
              "    </div>\n",
              "  </div>\n",
              "  "
            ]
          },
          "metadata": {},
          "execution_count": 8
        }
      ],
      "source": [
        "# преобразование небинарных признаков\n",
        "one_hot_df = pd.get_dummies(df, \n",
        "                            columns=['card_type_name', 'city'], \n",
        "                            drop_first=False)\n",
        "one_hot_df.head()"
      ]
    },
    {
      "cell_type": "code",
      "execution_count": 10,
      "metadata": {
        "id": "3Ha61eZbbpaC"
      },
      "outputs": [],
      "source": [
        "from datetime import datetime, date\n",
        "today = date.today()\n",
        "one_hot_df['Year'] = pd.to_datetime(one_hot_df['birth_date'], format='%Y')\n",
        "one_hot_df['year'] = pd. DatetimeIndex(one_hot_df['Year']).year\n",
        "one_hot_df['age'] = today.year - one_hot_df['year']\n",
        "del one_hot_df['Year']\n",
        "del one_hot_df['year']\n",
        "del one_hot_df['birth_date']"
      ]
    },
    {
      "cell_type": "code",
      "execution_count": 11,
      "metadata": {
        "id": "yRJCS0D-fNuG"
      },
      "outputs": [],
      "source": [
        "one_hot_df['life_account'] = one_hot_df['fact_close_date'] - one_hot_df['start_date']\n",
        "one_hot_df.loc[one_hot_df[\"gender\"] == \"М\",\"gender\"] = 1\n",
        "one_hot_df.loc[one_hot_df[\"gender\"] == \"Ж\",\"gender\"] = 0\n",
        "one_hot_df.loc[one_hot_df[\"nonresident_flag\"] == \"R\",\"nonresident_flag\"] = 0\n",
        "one_hot_df.loc[one_hot_df[\"nonresident_flag\"] == \"N\",\"nonresident_flag\"] = 1\n",
        "\n",
        "one_hot_df.loc[one_hot_df['card_type'] == \"dc\",\"card_type\"] = 1\n",
        "one_hot_df.loc[one_hot_df['card_type'] == \"cc\",\"card_type\"] = 0\n",
        "\n",
        "\n",
        "one_hot_df.loc[one_hot_df['product_category_name'] == \"Кредитная карта\",\"product_category_name\"] = 1\n",
        "one_hot_df.loc[one_hot_df['product_category_name'] == \"Договор на текущий счет для дебетовой карты\",'product_category_name'] = 0\n",
        "\n",
        "one_hot_df[['start_date', 'fact_close_date']] = np.where(one_hot_df[['start_date', 'fact_close_date']].isnull(), 0, 1)"
      ]
    },
    {
      "cell_type": "code",
      "execution_count": 12,
      "metadata": {
        "id": "PtTSGPptezaU"
      },
      "outputs": [],
      "source": [
        "one_hot_df['year'] = pd. DatetimeIndex(one_hot_df['create_date']).year"
      ]
    },
    {
      "cell_type": "code",
      "execution_count": 13,
      "metadata": {
        "id": "f4F70UwalHtX"
      },
      "outputs": [],
      "source": [
        "del one_hot_df['create_date']"
      ]
    },
    {
      "cell_type": "code",
      "execution_count": 14,
      "metadata": {
        "id": "SWFWedVWlCt0"
      },
      "outputs": [],
      "source": [
        "one_hot_df.fillna(0, inplace=True)"
      ]
    },
    {
      "cell_type": "markdown",
      "metadata": {
        "id": "a7aYlq9QER4F"
      },
      "source": [
        "Бинарные категориальные признаки: \n"
      ]
    },
    {
      "cell_type": "markdown",
      "metadata": {
        "id": "8Mafz1gxmL1g"
      },
      "source": [
        "## Кластеризация "
      ]
    },
    {
      "cell_type": "code",
      "execution_count": 15,
      "metadata": {
        "colab": {
          "base_uri": "https://localhost:8080/"
        },
        "id": "1Y-mJegbmNwD",
        "outputId": "b5f25810-96b3-4007-eaaa-be6a27ebff35"
      },
      "outputs": [
        {
          "output_type": "execute_result",
          "data": {
            "text/plain": [
              "KMeans(max_iter=400, random_state=42)"
            ]
          },
          "metadata": {},
          "execution_count": 15
        }
      ],
      "source": [
        "from sklearn.cluster import KMeans\n",
        "kmeans_model = KMeans(init='k-means++',  max_iter=400, random_state=42)\n",
        "kmeans_model.fit(one_hot_df)"
      ]
    },
    {
      "cell_type": "code",
      "execution_count": 16,
      "metadata": {
        "id": "DP7KPBiVmWhR"
      },
      "outputs": [],
      "source": [
        "def try_different_clusters(K, data):\n",
        "       \n",
        "    cluster_values = list(range(1, K+1))\n",
        "    inertias=[]\n",
        "    \n",
        "    for c in cluster_values:\n",
        "        model = KMeans(n_clusters = c,init='k-means++',max_iter=400,random_state=42)\n",
        "        model.fit(data)\n",
        "        inertias.append(model.inertia_)\n",
        "    \n",
        "    return inertias"
      ]
    },
    {
      "cell_type": "code",
      "execution_count": 17,
      "metadata": {
        "id": "o56-LgEfmY5n"
      },
      "outputs": [],
      "source": [
        "outputs = try_different_clusters(7, one_hot_df)\n",
        "distances = pd.DataFrame({\"clusters\": list(range(1, 8)),\"sum of squared distances\": outputs})"
      ]
    },
    {
      "cell_type": "markdown",
      "source": [
        "Для корректной отработки кластеризации определим количество кластеров по методу локтя. Точка перегиба обозначает точку наименьшего количества кластеров. "
      ],
      "metadata": {
        "id": "pG4rjthM3HEp"
      }
    },
    {
      "cell_type": "code",
      "execution_count": 18,
      "metadata": {
        "colab": {
          "base_uri": "https://localhost:8080/",
          "height": 542
        },
        "id": "UWzMWWKFmZO3",
        "outputId": "295c994e-b2dc-4665-b26a-faac558264b6"
      },
      "outputs": [
        {
          "output_type": "display_data",
          "data": {
            "text/html": [
              "<html>\n",
              "<head><meta charset=\"utf-8\" /></head>\n",
              "<body>\n",
              "    <div>            <script src=\"https://cdnjs.cloudflare.com/ajax/libs/mathjax/2.7.5/MathJax.js?config=TeX-AMS-MML_SVG\"></script><script type=\"text/javascript\">if (window.MathJax) {MathJax.Hub.Config({SVG: {font: \"STIX-Web\"}});}</script>                <script type=\"text/javascript\">window.PlotlyConfig = {MathJaxConfig: 'local'};</script>\n",
              "        <script src=\"https://cdn.plot.ly/plotly-2.8.3.min.js\"></script>                <div id=\"4d243aaf-ec0a-4e82-aa22-c2e6d7486347\" class=\"plotly-graph-div\" style=\"height:525px; width:100%;\"></div>            <script type=\"text/javascript\">                                    window.PLOTLYENV=window.PLOTLYENV || {};                                    if (document.getElementById(\"4d243aaf-ec0a-4e82-aa22-c2e6d7486347\")) {                    Plotly.newPlot(                        \"4d243aaf-ec0a-4e82-aa22-c2e6d7486347\",                        [{\"x\":[1,2,3,4,5,6,7],\"y\":[8.242072242437525e+16,6.049091056520214e+16,4.591553997831242e+16,3.390760055638816e+16,2.7644726694764024e+16,2.328390133229717e+16,2.0759052014272536e+16],\"type\":\"scatter\"}],                        {\"template\":{\"data\":{\"bar\":[{\"error_x\":{\"color\":\"#2a3f5f\"},\"error_y\":{\"color\":\"#2a3f5f\"},\"marker\":{\"line\":{\"color\":\"#E5ECF6\",\"width\":0.5},\"pattern\":{\"fillmode\":\"overlay\",\"size\":10,\"solidity\":0.2}},\"type\":\"bar\"}],\"barpolar\":[{\"marker\":{\"line\":{\"color\":\"#E5ECF6\",\"width\":0.5},\"pattern\":{\"fillmode\":\"overlay\",\"size\":10,\"solidity\":0.2}},\"type\":\"barpolar\"}],\"carpet\":[{\"aaxis\":{\"endlinecolor\":\"#2a3f5f\",\"gridcolor\":\"white\",\"linecolor\":\"white\",\"minorgridcolor\":\"white\",\"startlinecolor\":\"#2a3f5f\"},\"baxis\":{\"endlinecolor\":\"#2a3f5f\",\"gridcolor\":\"white\",\"linecolor\":\"white\",\"minorgridcolor\":\"white\",\"startlinecolor\":\"#2a3f5f\"},\"type\":\"carpet\"}],\"choropleth\":[{\"colorbar\":{\"outlinewidth\":0,\"ticks\":\"\"},\"type\":\"choropleth\"}],\"contour\":[{\"colorbar\":{\"outlinewidth\":0,\"ticks\":\"\"},\"colorscale\":[[0.0,\"#0d0887\"],[0.1111111111111111,\"#46039f\"],[0.2222222222222222,\"#7201a8\"],[0.3333333333333333,\"#9c179e\"],[0.4444444444444444,\"#bd3786\"],[0.5555555555555556,\"#d8576b\"],[0.6666666666666666,\"#ed7953\"],[0.7777777777777778,\"#fb9f3a\"],[0.8888888888888888,\"#fdca26\"],[1.0,\"#f0f921\"]],\"type\":\"contour\"}],\"contourcarpet\":[{\"colorbar\":{\"outlinewidth\":0,\"ticks\":\"\"},\"type\":\"contourcarpet\"}],\"heatmap\":[{\"colorbar\":{\"outlinewidth\":0,\"ticks\":\"\"},\"colorscale\":[[0.0,\"#0d0887\"],[0.1111111111111111,\"#46039f\"],[0.2222222222222222,\"#7201a8\"],[0.3333333333333333,\"#9c179e\"],[0.4444444444444444,\"#bd3786\"],[0.5555555555555556,\"#d8576b\"],[0.6666666666666666,\"#ed7953\"],[0.7777777777777778,\"#fb9f3a\"],[0.8888888888888888,\"#fdca26\"],[1.0,\"#f0f921\"]],\"type\":\"heatmap\"}],\"heatmapgl\":[{\"colorbar\":{\"outlinewidth\":0,\"ticks\":\"\"},\"colorscale\":[[0.0,\"#0d0887\"],[0.1111111111111111,\"#46039f\"],[0.2222222222222222,\"#7201a8\"],[0.3333333333333333,\"#9c179e\"],[0.4444444444444444,\"#bd3786\"],[0.5555555555555556,\"#d8576b\"],[0.6666666666666666,\"#ed7953\"],[0.7777777777777778,\"#fb9f3a\"],[0.8888888888888888,\"#fdca26\"],[1.0,\"#f0f921\"]],\"type\":\"heatmapgl\"}],\"histogram\":[{\"marker\":{\"pattern\":{\"fillmode\":\"overlay\",\"size\":10,\"solidity\":0.2}},\"type\":\"histogram\"}],\"histogram2d\":[{\"colorbar\":{\"outlinewidth\":0,\"ticks\":\"\"},\"colorscale\":[[0.0,\"#0d0887\"],[0.1111111111111111,\"#46039f\"],[0.2222222222222222,\"#7201a8\"],[0.3333333333333333,\"#9c179e\"],[0.4444444444444444,\"#bd3786\"],[0.5555555555555556,\"#d8576b\"],[0.6666666666666666,\"#ed7953\"],[0.7777777777777778,\"#fb9f3a\"],[0.8888888888888888,\"#fdca26\"],[1.0,\"#f0f921\"]],\"type\":\"histogram2d\"}],\"histogram2dcontour\":[{\"colorbar\":{\"outlinewidth\":0,\"ticks\":\"\"},\"colorscale\":[[0.0,\"#0d0887\"],[0.1111111111111111,\"#46039f\"],[0.2222222222222222,\"#7201a8\"],[0.3333333333333333,\"#9c179e\"],[0.4444444444444444,\"#bd3786\"],[0.5555555555555556,\"#d8576b\"],[0.6666666666666666,\"#ed7953\"],[0.7777777777777778,\"#fb9f3a\"],[0.8888888888888888,\"#fdca26\"],[1.0,\"#f0f921\"]],\"type\":\"histogram2dcontour\"}],\"mesh3d\":[{\"colorbar\":{\"outlinewidth\":0,\"ticks\":\"\"},\"type\":\"mesh3d\"}],\"parcoords\":[{\"line\":{\"colorbar\":{\"outlinewidth\":0,\"ticks\":\"\"}},\"type\":\"parcoords\"}],\"pie\":[{\"automargin\":true,\"type\":\"pie\"}],\"scatter\":[{\"marker\":{\"colorbar\":{\"outlinewidth\":0,\"ticks\":\"\"}},\"type\":\"scatter\"}],\"scatter3d\":[{\"line\":{\"colorbar\":{\"outlinewidth\":0,\"ticks\":\"\"}},\"marker\":{\"colorbar\":{\"outlinewidth\":0,\"ticks\":\"\"}},\"type\":\"scatter3d\"}],\"scattercarpet\":[{\"marker\":{\"colorbar\":{\"outlinewidth\":0,\"ticks\":\"\"}},\"type\":\"scattercarpet\"}],\"scattergeo\":[{\"marker\":{\"colorbar\":{\"outlinewidth\":0,\"ticks\":\"\"}},\"type\":\"scattergeo\"}],\"scattergl\":[{\"marker\":{\"colorbar\":{\"outlinewidth\":0,\"ticks\":\"\"}},\"type\":\"scattergl\"}],\"scattermapbox\":[{\"marker\":{\"colorbar\":{\"outlinewidth\":0,\"ticks\":\"\"}},\"type\":\"scattermapbox\"}],\"scatterpolar\":[{\"marker\":{\"colorbar\":{\"outlinewidth\":0,\"ticks\":\"\"}},\"type\":\"scatterpolar\"}],\"scatterpolargl\":[{\"marker\":{\"colorbar\":{\"outlinewidth\":0,\"ticks\":\"\"}},\"type\":\"scatterpolargl\"}],\"scatterternary\":[{\"marker\":{\"colorbar\":{\"outlinewidth\":0,\"ticks\":\"\"}},\"type\":\"scatterternary\"}],\"surface\":[{\"colorbar\":{\"outlinewidth\":0,\"ticks\":\"\"},\"colorscale\":[[0.0,\"#0d0887\"],[0.1111111111111111,\"#46039f\"],[0.2222222222222222,\"#7201a8\"],[0.3333333333333333,\"#9c179e\"],[0.4444444444444444,\"#bd3786\"],[0.5555555555555556,\"#d8576b\"],[0.6666666666666666,\"#ed7953\"],[0.7777777777777778,\"#fb9f3a\"],[0.8888888888888888,\"#fdca26\"],[1.0,\"#f0f921\"]],\"type\":\"surface\"}],\"table\":[{\"cells\":{\"fill\":{\"color\":\"#EBF0F8\"},\"line\":{\"color\":\"white\"}},\"header\":{\"fill\":{\"color\":\"#C8D4E3\"},\"line\":{\"color\":\"white\"}},\"type\":\"table\"}]},\"layout\":{\"annotationdefaults\":{\"arrowcolor\":\"#2a3f5f\",\"arrowhead\":0,\"arrowwidth\":1},\"autotypenumbers\":\"strict\",\"coloraxis\":{\"colorbar\":{\"outlinewidth\":0,\"ticks\":\"\"}},\"colorscale\":{\"diverging\":[[0,\"#8e0152\"],[0.1,\"#c51b7d\"],[0.2,\"#de77ae\"],[0.3,\"#f1b6da\"],[0.4,\"#fde0ef\"],[0.5,\"#f7f7f7\"],[0.6,\"#e6f5d0\"],[0.7,\"#b8e186\"],[0.8,\"#7fbc41\"],[0.9,\"#4d9221\"],[1,\"#276419\"]],\"sequential\":[[0.0,\"#0d0887\"],[0.1111111111111111,\"#46039f\"],[0.2222222222222222,\"#7201a8\"],[0.3333333333333333,\"#9c179e\"],[0.4444444444444444,\"#bd3786\"],[0.5555555555555556,\"#d8576b\"],[0.6666666666666666,\"#ed7953\"],[0.7777777777777778,\"#fb9f3a\"],[0.8888888888888888,\"#fdca26\"],[1.0,\"#f0f921\"]],\"sequentialminus\":[[0.0,\"#0d0887\"],[0.1111111111111111,\"#46039f\"],[0.2222222222222222,\"#7201a8\"],[0.3333333333333333,\"#9c179e\"],[0.4444444444444444,\"#bd3786\"],[0.5555555555555556,\"#d8576b\"],[0.6666666666666666,\"#ed7953\"],[0.7777777777777778,\"#fb9f3a\"],[0.8888888888888888,\"#fdca26\"],[1.0,\"#f0f921\"]]},\"colorway\":[\"#636efa\",\"#EF553B\",\"#00cc96\",\"#ab63fa\",\"#FFA15A\",\"#19d3f3\",\"#FF6692\",\"#B6E880\",\"#FF97FF\",\"#FECB52\"],\"font\":{\"color\":\"#2a3f5f\"},\"geo\":{\"bgcolor\":\"white\",\"lakecolor\":\"white\",\"landcolor\":\"#E5ECF6\",\"showlakes\":true,\"showland\":true,\"subunitcolor\":\"white\"},\"hoverlabel\":{\"align\":\"left\"},\"hovermode\":\"closest\",\"mapbox\":{\"style\":\"light\"},\"paper_bgcolor\":\"white\",\"plot_bgcolor\":\"#E5ECF6\",\"polar\":{\"angularaxis\":{\"gridcolor\":\"white\",\"linecolor\":\"white\",\"ticks\":\"\"},\"bgcolor\":\"#E5ECF6\",\"radialaxis\":{\"gridcolor\":\"white\",\"linecolor\":\"white\",\"ticks\":\"\"}},\"scene\":{\"xaxis\":{\"backgroundcolor\":\"#E5ECF6\",\"gridcolor\":\"white\",\"gridwidth\":2,\"linecolor\":\"white\",\"showbackground\":true,\"ticks\":\"\",\"zerolinecolor\":\"white\"},\"yaxis\":{\"backgroundcolor\":\"#E5ECF6\",\"gridcolor\":\"white\",\"gridwidth\":2,\"linecolor\":\"white\",\"showbackground\":true,\"ticks\":\"\",\"zerolinecolor\":\"white\"},\"zaxis\":{\"backgroundcolor\":\"#E5ECF6\",\"gridcolor\":\"white\",\"gridwidth\":2,\"linecolor\":\"white\",\"showbackground\":true,\"ticks\":\"\",\"zerolinecolor\":\"white\"}},\"shapedefaults\":{\"line\":{\"color\":\"#2a3f5f\"}},\"ternary\":{\"aaxis\":{\"gridcolor\":\"white\",\"linecolor\":\"white\",\"ticks\":\"\"},\"baxis\":{\"gridcolor\":\"white\",\"linecolor\":\"white\",\"ticks\":\"\"},\"bgcolor\":\"#E5ECF6\",\"caxis\":{\"gridcolor\":\"white\",\"linecolor\":\"white\",\"ticks\":\"\"}},\"title\":{\"x\":0.05},\"xaxis\":{\"automargin\":true,\"gridcolor\":\"white\",\"linecolor\":\"white\",\"ticks\":\"\",\"title\":{\"standoff\":15},\"zerolinecolor\":\"white\",\"zerolinewidth\":2},\"yaxis\":{\"automargin\":true,\"gridcolor\":\"white\",\"linecolor\":\"white\",\"ticks\":\"\",\"title\":{\"standoff\":15},\"zerolinecolor\":\"white\",\"zerolinewidth\":2}}},\"xaxis\":{\"tick0\":1,\"dtick\":1,\"tickmode\":\"linear\",\"title\":{\"text\":\"\\u041a\\u043e\\u043b\\u0438\\u0447\\u0435\\u0441\\u0442\\u0432\\u043e \\u043a\\u043b\\u0430\\u0441\\u0442\\u0435\\u0440\\u043e\\u0432\"}},\"title\":{\"text\":\"\\u041e\\u043f\\u0442\\u0438\\u043c\\u0430\\u043b\\u044c\\u043d\\u043e\\u0435 \\u043a\\u043e\\u043b\\u0438\\u0447\\u0435\\u0441\\u0442\\u0432\\u043e \\u043a\\u043b\\u0430\\u0441\\u0442\\u0435\\u0440\\u043e\\u0432\"},\"yaxis\":{\"title\":{\"text\":\"\\u0421\\u0443\\u043c\\u043c\\u0430 \\u0440\\u0430\\u0441\\u0441\\u0442\\u043e\\u044f\\u043d\\u0438\\u0439\"}}},                        {\"responsive\": true}                    ).then(function(){\n",
              "                            \n",
              "var gd = document.getElementById('4d243aaf-ec0a-4e82-aa22-c2e6d7486347');\n",
              "var x = new MutationObserver(function (mutations, observer) {{\n",
              "        var display = window.getComputedStyle(gd).display;\n",
              "        if (!display || display === 'none') {{\n",
              "            console.log([gd, 'removed!']);\n",
              "            Plotly.purge(gd);\n",
              "            observer.disconnect();\n",
              "        }}\n",
              "}});\n",
              "\n",
              "// Listen for the removal of the full notebook cells\n",
              "var notebookContainer = gd.closest('#notebook-container');\n",
              "if (notebookContainer) {{\n",
              "    x.observe(notebookContainer, {childList: true});\n",
              "}}\n",
              "\n",
              "// Listen for the clearing of the current output cell\n",
              "var outputEl = gd.closest('.output');\n",
              "if (outputEl) {{\n",
              "    x.observe(outputEl, {childList: true});\n",
              "}}\n",
              "\n",
              "                        })                };                            </script>        </div>\n",
              "</body>\n",
              "</html>"
            ]
          },
          "metadata": {}
        }
      ],
      "source": [
        "import plotly.graph_objects as go\n",
        "figure = go.Figure()\n",
        "figure.add_trace(go.Scatter(x=distances[\"clusters\"], y=distances[\"sum of squared distances\"]))\n",
        "\n",
        "figure.update_layout(xaxis = dict(tick0 = 1,dtick = 1,tickmode = 'linear'),                  \n",
        "                  xaxis_title=\"Количество кластеров\",\n",
        "                  yaxis_title=\"Сумма расстояний\",\n",
        "                  title_text=\"Оптимальное количество кластеров\")\n",
        "figure.show()"
      ]
    },
    {
      "cell_type": "code",
      "execution_count": 19,
      "metadata": {
        "colab": {
          "base_uri": "https://localhost:8080/"
        },
        "id": "bCLaH9DqmbK7",
        "outputId": "91a94a84-f68d-4ea6-8353-30fb79c5d636"
      },
      "outputs": [
        {
          "output_type": "execute_result",
          "data": {
            "text/plain": [
              "array([1, 1, 1, ..., 1, 1, 1], dtype=int32)"
            ]
          },
          "metadata": {},
          "execution_count": 19
        }
      ],
      "source": [
        "kmeans_model_new = KMeans(n_clusters = 4,init='k-means++',max_iter=400,random_state=42)\n",
        "kmeans_model_new.fit_predict(one_hot_df)"
      ]
    },
    {
      "cell_type": "code",
      "execution_count": 20,
      "metadata": {
        "id": "uLvBSiNMnkpr"
      },
      "outputs": [],
      "source": [
        "one_hot_df[\"clusters\"] = kmeans_model_new.labels_"
      ]
    },
    {
      "cell_type": "code",
      "execution_count": 22,
      "metadata": {
        "id": "YsEM7i22vcNT"
      },
      "outputs": [],
      "source": [
        "one_hot_df.loc[one_hot_df['clusters'] == 0,\"clusters\"] = 'Кластер 0'\n",
        "one_hot_df.loc[one_hot_df['clusters'] == 1,\"clusters\"] = 'Кластер 1'\n",
        "one_hot_df.loc[one_hot_df['clusters'] == 2,\"clusters\"] = 'Кластер 2'\n",
        "one_hot_df.loc[one_hot_df['clusters'] == 3,\"clusters\"] = 'Кластер 3'"
      ]
    },
    {
      "cell_type": "code",
      "execution_count": 23,
      "metadata": {
        "id": "DrPlJq85wMBi"
      },
      "outputs": [],
      "source": [
        "bins=[18, 25, 35, 44, 54, 64, 65]\n",
        "labels=['18-24', '25-34', '35-44', '45-54', '55-64', '>65']\n",
        "one_hot_df['age_group'] = pd.cut(one_hot_df['age'], bins, labels=labels)"
      ]
    },
    {
      "cell_type": "code",
      "execution_count": 24,
      "metadata": {
        "id": "DU3-nvx09Rk3"
      },
      "outputs": [],
      "source": [
        "import collections\n",
        "dict_without_order_age =  dict(one_hot_df['age_group'].value_counts(1))\n",
        "dict_without_order_gender =  dict(one_hot_df['gender'].value_counts(1))\n",
        "od_gender = collections.OrderedDict(sorted(dict_without_order_gender.items()))\n",
        "dict_without_order_resident =  dict(one_hot_df['nonresident_flag'].value_counts(1))\n",
        "od_resident = collections.OrderedDict(sorted(dict_without_order_resident.items()))"
      ]
    },
    {
      "cell_type": "code",
      "execution_count": 25,
      "metadata": {
        "id": "-StM84VS9v3x"
      },
      "outputs": [],
      "source": [
        "empty_dict_age = dict.fromkeys(['18-24', '25-34', '35-44', '45-54', '55-64', '>65'])\n",
        "empty_dict_gender = dict.fromkeys(['0', '1'])\n",
        "empty_dict_resident = dict.fromkeys(['0', '1'])"
      ]
    },
    {
      "cell_type": "code",
      "execution_count": 26,
      "metadata": {
        "id": "d-3kHQynEi4y"
      },
      "outputs": [],
      "source": [
        "\n",
        "empty_dict_age.update(dict_without_order_age)\n",
        "od_gender.update(dict_without_order_gender)\n",
        "od_resident.update(empty_dict_resident)"
      ]
    },
    {
      "cell_type": "code",
      "execution_count": 27,
      "metadata": {
        "id": "GeClWEseCDJH"
      },
      "outputs": [],
      "source": [
        "age_distr = list(empty_dict_age.values())\n",
        "gender_distr = list(od_gender.values())\n",
        "resident_distr = list(od_resident.values())"
      ]
    },
    {
      "cell_type": "code",
      "execution_count": 28,
      "metadata": {
        "id": "yjAQc3ZlFs8z"
      },
      "outputs": [],
      "source": [
        "one_hot_df_clusters = list(set(one_hot_df['clusters']))\n",
        "clusters = []\n",
        "age = []\n",
        "gender = []\n",
        "residents = []\n",
        "for i in one_hot_df_clusters:\n",
        "  df_cluster = one_hot_df[one_hot_df['clusters'] == i]\n",
        "  dict_without_order_age =  dict(df_cluster['age_group'].value_counts(1))\n",
        "  dict_without_order_gender =  dict(df_cluster['gender'].value_counts(1))\n",
        "  od_gender = collections.OrderedDict(sorted(dict_without_order_gender.items()))\n",
        "  dict_without_order_resident =  dict(df_cluster['nonresident_flag'].value_counts(1))\n",
        "  #od_resident = collections.OrderedDict(sorted(dict_without_order_resident.items()))\n",
        "  empty_dict_age = dict.fromkeys(['18-24', '25-34', '35-44', '45-54', '55-64', '>65'])\n",
        "  empty_dict_gender = dict.fromkeys(['0', '1'])\n",
        "  empty_dict_resident = dict.fromkeys(['0', '1'])\n",
        "  empty_dict_age.update(dict_without_order_age)\n",
        "  od_gender.update(dict_without_order_gender)\n",
        "  #od_resident.update(empty_dict_resident)\n",
        "  age_distr = list(empty_dict_age.values())\n",
        "  age_dis = [0 if v is None else v for v in age_distr]\n",
        "  gender_distr = list(od_gender.values())\n",
        "  gender_dis = [0 if v is None else v for v in gender_distr]\n",
        "  resident_distr = list(dict_without_order_resident.values())\n",
        "  resident_dis = [0 if v is None else v for v in  resident_distr]\n",
        "\n",
        "  clusters.append(i)\n",
        "  age.append(age_dis)\n",
        "  gender.append(gender_dis)  \n",
        "  residents.append(resident_dis)"
      ]
    },
    {
      "cell_type": "code",
      "execution_count": 29,
      "metadata": {
        "colab": {
          "base_uri": "https://localhost:8080/",
          "height": 288
        },
        "id": "Q9mJE7YIHhJ_",
        "outputId": "82165ff8-6190-46c9-9797-80e19eb2e3f5"
      },
      "outputs": [
        {
          "output_type": "execute_result",
          "data": {
            "text/plain": [
              "     cluster                                        age_cluster  \\\n",
              "0  Кластер 2                     [0.0, 0.0, 0.8, 0.2, 0.0, 0.0]   \n",
              "1  Кластер 0  [0.006620428751576293, 0.12042875157629256, 0....   \n",
              "2  Кластер 3  [0.0, 0.0, 0.3217391304347826, 0.4260869565217...   \n",
              "3  Кластер 1  [0.09399680774237469, 0.22218849039332847, 0.2...   \n",
              "\n",
              "                             gender_cluster  \\\n",
              "0                                     [1.0]   \n",
              "1  [0.4588574423480084, 0.5411425576519916]   \n",
              "2  [0.2440944881889764, 0.7559055118110236]   \n",
              "3   [0.5472131411001949, 0.452786858899805]   \n",
              "\n",
              "                            residents_cluster  \n",
              "0                                       [1.0]  \n",
              "1   [0.9787735849056604, 0.02122641509433962]  \n",
              "2                                       [1.0]  \n",
              "3  [0.9793993630761814, 0.020600636923818666]  "
            ],
            "text/html": [
              "\n",
              "  <div id=\"df-77a41dd5-5d46-4874-8526-0c78463a967d\">\n",
              "    <div class=\"colab-df-container\">\n",
              "      <div>\n",
              "<style scoped>\n",
              "    .dataframe tbody tr th:only-of-type {\n",
              "        vertical-align: middle;\n",
              "    }\n",
              "\n",
              "    .dataframe tbody tr th {\n",
              "        vertical-align: top;\n",
              "    }\n",
              "\n",
              "    .dataframe thead th {\n",
              "        text-align: right;\n",
              "    }\n",
              "</style>\n",
              "<table border=\"1\" class=\"dataframe\">\n",
              "  <thead>\n",
              "    <tr style=\"text-align: right;\">\n",
              "      <th></th>\n",
              "      <th>cluster</th>\n",
              "      <th>age_cluster</th>\n",
              "      <th>gender_cluster</th>\n",
              "      <th>residents_cluster</th>\n",
              "    </tr>\n",
              "  </thead>\n",
              "  <tbody>\n",
              "    <tr>\n",
              "      <th>0</th>\n",
              "      <td>Кластер 2</td>\n",
              "      <td>[0.0, 0.0, 0.8, 0.2, 0.0, 0.0]</td>\n",
              "      <td>[1.0]</td>\n",
              "      <td>[1.0]</td>\n",
              "    </tr>\n",
              "    <tr>\n",
              "      <th>1</th>\n",
              "      <td>Кластер 0</td>\n",
              "      <td>[0.006620428751576293, 0.12042875157629256, 0....</td>\n",
              "      <td>[0.4588574423480084, 0.5411425576519916]</td>\n",
              "      <td>[0.9787735849056604, 0.02122641509433962]</td>\n",
              "    </tr>\n",
              "    <tr>\n",
              "      <th>2</th>\n",
              "      <td>Кластер 3</td>\n",
              "      <td>[0.0, 0.0, 0.3217391304347826, 0.4260869565217...</td>\n",
              "      <td>[0.2440944881889764, 0.7559055118110236]</td>\n",
              "      <td>[1.0]</td>\n",
              "    </tr>\n",
              "    <tr>\n",
              "      <th>3</th>\n",
              "      <td>Кластер 1</td>\n",
              "      <td>[0.09399680774237469, 0.22218849039332847, 0.2...</td>\n",
              "      <td>[0.5472131411001949, 0.452786858899805]</td>\n",
              "      <td>[0.9793993630761814, 0.020600636923818666]</td>\n",
              "    </tr>\n",
              "  </tbody>\n",
              "</table>\n",
              "</div>\n",
              "      <button class=\"colab-df-convert\" onclick=\"convertToInteractive('df-77a41dd5-5d46-4874-8526-0c78463a967d')\"\n",
              "              title=\"Convert this dataframe to an interactive table.\"\n",
              "              style=\"display:none;\">\n",
              "        \n",
              "  <svg xmlns=\"http://www.w3.org/2000/svg\" height=\"24px\"viewBox=\"0 0 24 24\"\n",
              "       width=\"24px\">\n",
              "    <path d=\"M0 0h24v24H0V0z\" fill=\"none\"/>\n",
              "    <path d=\"M18.56 5.44l.94 2.06.94-2.06 2.06-.94-2.06-.94-.94-2.06-.94 2.06-2.06.94zm-11 1L8.5 8.5l.94-2.06 2.06-.94-2.06-.94L8.5 2.5l-.94 2.06-2.06.94zm10 10l.94 2.06.94-2.06 2.06-.94-2.06-.94-.94-2.06-.94 2.06-2.06.94z\"/><path d=\"M17.41 7.96l-1.37-1.37c-.4-.4-.92-.59-1.43-.59-.52 0-1.04.2-1.43.59L10.3 9.45l-7.72 7.72c-.78.78-.78 2.05 0 2.83L4 21.41c.39.39.9.59 1.41.59.51 0 1.02-.2 1.41-.59l7.78-7.78 2.81-2.81c.8-.78.8-2.07 0-2.86zM5.41 20L4 18.59l7.72-7.72 1.47 1.35L5.41 20z\"/>\n",
              "  </svg>\n",
              "      </button>\n",
              "      \n",
              "  <style>\n",
              "    .colab-df-container {\n",
              "      display:flex;\n",
              "      flex-wrap:wrap;\n",
              "      gap: 12px;\n",
              "    }\n",
              "\n",
              "    .colab-df-convert {\n",
              "      background-color: #E8F0FE;\n",
              "      border: none;\n",
              "      border-radius: 50%;\n",
              "      cursor: pointer;\n",
              "      display: none;\n",
              "      fill: #1967D2;\n",
              "      height: 32px;\n",
              "      padding: 0 0 0 0;\n",
              "      width: 32px;\n",
              "    }\n",
              "\n",
              "    .colab-df-convert:hover {\n",
              "      background-color: #E2EBFA;\n",
              "      box-shadow: 0px 1px 2px rgba(60, 64, 67, 0.3), 0px 1px 3px 1px rgba(60, 64, 67, 0.15);\n",
              "      fill: #174EA6;\n",
              "    }\n",
              "\n",
              "    [theme=dark] .colab-df-convert {\n",
              "      background-color: #3B4455;\n",
              "      fill: #D2E3FC;\n",
              "    }\n",
              "\n",
              "    [theme=dark] .colab-df-convert:hover {\n",
              "      background-color: #434B5C;\n",
              "      box-shadow: 0px 1px 3px 1px rgba(0, 0, 0, 0.15);\n",
              "      filter: drop-shadow(0px 1px 2px rgba(0, 0, 0, 0.3));\n",
              "      fill: #FFFFFF;\n",
              "    }\n",
              "  </style>\n",
              "\n",
              "      <script>\n",
              "        const buttonEl =\n",
              "          document.querySelector('#df-77a41dd5-5d46-4874-8526-0c78463a967d button.colab-df-convert');\n",
              "        buttonEl.style.display =\n",
              "          google.colab.kernel.accessAllowed ? 'block' : 'none';\n",
              "\n",
              "        async function convertToInteractive(key) {\n",
              "          const element = document.querySelector('#df-77a41dd5-5d46-4874-8526-0c78463a967d');\n",
              "          const dataTable =\n",
              "            await google.colab.kernel.invokeFunction('convertToInteractive',\n",
              "                                                     [key], {});\n",
              "          if (!dataTable) return;\n",
              "\n",
              "          const docLinkHtml = 'Like what you see? Visit the ' +\n",
              "            '<a target=\"_blank\" href=https://colab.research.google.com/notebooks/data_table.ipynb>data table notebook</a>'\n",
              "            + ' to learn more about interactive tables.';\n",
              "          element.innerHTML = '';\n",
              "          dataTable['output_type'] = 'display_data';\n",
              "          await google.colab.output.renderOutput(dataTable, element);\n",
              "          const docLink = document.createElement('div');\n",
              "          docLink.innerHTML = docLinkHtml;\n",
              "          element.appendChild(docLink);\n",
              "        }\n",
              "      </script>\n",
              "    </div>\n",
              "  </div>\n",
              "  "
            ]
          },
          "metadata": {},
          "execution_count": 29
        }
      ],
      "source": [
        "d = {'cluster': clusters, 'age_cluster': age, 'gender_cluster':gender, 'residents_cluster':residents}\n",
        "df = pd.DataFrame(data=d)\n",
        "df"
      ]
    },
    {
      "cell_type": "code",
      "execution_count": 30,
      "metadata": {
        "id": "G2v0X9clWILg"
      },
      "outputs": [],
      "source": [
        "data_media = pd.DataFrame(columns=[\"site\", \"age\", \"gender\", \"resident\"])"
      ]
    },
    {
      "cell_type": "code",
      "execution_count": 31,
      "metadata": {
        "id": "Erj8rDL4WF2j"
      },
      "outputs": [],
      "source": [
        "data_media.loc[len(data_media.index)] = ['VK', [0.1987, 0.3338, 0.1863, 0.1419, 0.0956, 0.0437], [0.4437, 0.5563], [0.8238, 0.1762]]\n",
        "data_media.loc[len(data_media.index)] = ['TELEGRAM', [0.27, 0.38, 0.306, 0.213, 0.1, 0.085], [0.39, 0.61], [0.6, 0.4]]\n",
        "data_media.loc[len(data_media.index)] = ['Одноклассники', [0.1647, 0.2854, 0.1959, 0.1605, 0.1307, 0.0628], [0.5079, 0.4921], [0.735, 0.265]]\n",
        "data_media.loc[len(data_media.index)] = ['Яндекс Новости', [0.1522, 0.355, 0.2103, 0.1435, 0.0958, 0.0432], [0.4604, 0.5396], [0.9169, 0.083]]\n",
        "data_media.loc[len(data_media.index)] = ['РБК', [0.1085, 0.3158, 0.2127, 0.1699, 0.1265, 0.0665], [0.4311, 0.5689], [0.8897, 0.11]]\n",
        "data_media.loc[len(data_media.index)] = ['VC.RU', [0.163, 0.4295, 0.1968, 0.1155, 0.0655, 0.0297], [0.3912, 0.6088], [0.6725, 0.3275]]\n",
        "data_media.loc[len(data_media.index)] = ['НОВАЯ ГАЗЕТА', [0.1219, 0.2939, 0.1938, 0.1666, 0.1364, 0.0874], [0.4124, 0.5876], [0.5999, 0.4001]]\n",
        "data_media.loc[len(data_media.index)] = ['Forbes RU', [0.113, 0.3217, 0.1977, 0.1623, 0.1321, 0.0731], [0.4135, 0.5865], [0.7966, 0.2034]]\n",
        "data_media.loc[len(data_media.index)] = ['Хабр', [0.172, 0.4475, 0.1937, 0.1025, 0.0569, 0.0275], [0.301, 0.699], [0.6852, 0.3148]]\n",
        "data_media.loc[len(data_media.index)] = ['НОЖ', [0.1863, 0.352, 0.1804, 0.1461, 0.0948, 0.0403], [0.4872, 0.5128], [0.7327, 0.2673]]\n",
        "data_media.loc[len(data_media.index)] = ['YouTube', [0.1818, 0.4118, 0.1879, 0.119, 0.069, 0.0305], [0.4264, 0.5736], [0.7531, 0.2469]]\n",
        "data_media.loc[len(data_media.index)] = ['Rutube', [0.1597, 0.3538, 0.1829, 0.1432, 0.1102, 0.0502], [0.4239, 0.5761], [0.8178, 0.1822]]\n",
        "data_media.loc[len(data_media.index)] = ['Ozon', [0.1457, 0.3764, 0.2212, 0.1416, 0.0823, 0.0329], [0.4633, 0.5367], [0.9361, 0.0639]]\n",
        "data_media.loc[len(data_media.index)] = ['Avito', [0.1316, 0.3731, 0.2232, 0.15, 0.0882, 0.0339], [0.4346, 0.5654], [0.9573, 0.0427]]\n",
        "data_media.loc[len(data_media.index)] = ['ЦИАН', [0.112, 0.3754, 0.2259, 0.1561, 0.0963, 0.0343], [0.5155, 0.4845], [0.9625, 0.0375]]\n",
        "data_media.loc[len(data_media.index)] = ['Юла', [0.1427, 0.3792, 0.2166, 0.141, 0.0886, 0.0319], [0.4282, 0.5718], [0.9774, 0.02259]]\n",
        "data_media.loc[len(data_media.index)] = ['Wildberries', [0.1446, 0.3722, 0.2167, 0.1429, 0.0898, 0.0337], [0.5228, 0.4772], [0.9216, 0.0784]]\n",
        "data_media.loc[len(data_media.index)] = ['Wasd TV', [0.2726, 0.4071, 0.156, 0.0872, 0.05, 0.0272], [0.2448, 0.7552], [0.8434, 0.1566]]\n",
        "data_media.loc[len(data_media.index)] = ['Good Game', [0.2494, 0.3979, 0.1575, 0.1009, 0.0614, 0.0329], [0.2608, 0.7392], [0.7995, 0.2005]]\n",
        "data_media.loc[len(data_media.index)] = ['Likee', [0.293, 0.3272, 0.1615, 0.1001, 0.0712, 0.047], [0.3812, 0.6188], [0.1535, 0.8465]]\n",
        "data_media.loc[len(data_media.index)] = ['Отзовик', [0.1273, 0.3688, 0.2221, 0.1506, 0.0918, 0.0394], [0.5091, 0.4909], [0.855, 0.145]]\n",
        "data_media.loc[len(data_media.index)] = ['IVI', [0.2294, 0.3312, 0.1713, 0.125, 0.1015, 0.0416], [0.5192, 0.4808], [0.831, 0.169]]\n",
        "data_media.loc[len(data_media.index)] = ['Кинопоиск', [0.2329, 0.3766, 0.1667, 0.1128, 0.074, 0.0369], [0.4453, 0.5547], [0.8551, 0.1449]]\n",
        "data_media.loc[len(data_media.index)] = ['2ГИС', [0.126, 0.3768, 0.2247, 0.1524, 0.0877, 0.0324], [0.4798, 0.5202], [0.9746, 0.02539]]\n",
        "data_media.loc[len(data_media.index)] = ['Биржа фриланса FL', [0.1757, 0.4779, 0.1765, 0.093, 0.053, 0.0239], [0.3945, 0.6055], [0.7649, 0.235]]\n",
        "data_media.loc[len(data_media.index)] = ['Нетология', [0.1804, 0.464, 0.1841, 0.0992, 0.0503, 0.0221], [0.4709, 0.5291], [0.8287, 0.1703]]"
      ]
    },
    {
      "cell_type": "code",
      "execution_count": 32,
      "metadata": {
        "colab": {
          "base_uri": "https://localhost:8080/",
          "height": 865
        },
        "id": "ea2Q9F-JhrZ5",
        "outputId": "0e07c71a-061c-42c6-f28c-2a303e05b813"
      },
      "outputs": [
        {
          "output_type": "execute_result",
          "data": {
            "text/plain": [
              "                 site                                               age  \\\n",
              "0                  VK  [0.1987, 0.3338, 0.1863, 0.1419, 0.0956, 0.0437]   \n",
              "1            TELEGRAM            [0.27, 0.38, 0.306, 0.213, 0.1, 0.085]   \n",
              "2       Одноклассники  [0.1647, 0.2854, 0.1959, 0.1605, 0.1307, 0.0628]   \n",
              "3      Яндекс Новости   [0.1522, 0.355, 0.2103, 0.1435, 0.0958, 0.0432]   \n",
              "4                 РБК  [0.1085, 0.3158, 0.2127, 0.1699, 0.1265, 0.0665]   \n",
              "5               VC.RU   [0.163, 0.4295, 0.1968, 0.1155, 0.0655, 0.0297]   \n",
              "6        НОВАЯ ГАЗЕТА  [0.1219, 0.2939, 0.1938, 0.1666, 0.1364, 0.0874]   \n",
              "7           Forbes RU   [0.113, 0.3217, 0.1977, 0.1623, 0.1321, 0.0731]   \n",
              "8                Хабр   [0.172, 0.4475, 0.1937, 0.1025, 0.0569, 0.0275]   \n",
              "9                 НОЖ   [0.1863, 0.352, 0.1804, 0.1461, 0.0948, 0.0403]   \n",
              "10            YouTube    [0.1818, 0.4118, 0.1879, 0.119, 0.069, 0.0305]   \n",
              "11             Rutube  [0.1597, 0.3538, 0.1829, 0.1432, 0.1102, 0.0502]   \n",
              "12               Ozon  [0.1457, 0.3764, 0.2212, 0.1416, 0.0823, 0.0329]   \n",
              "13              Avito    [0.1316, 0.3731, 0.2232, 0.15, 0.0882, 0.0339]   \n",
              "14               ЦИАН   [0.112, 0.3754, 0.2259, 0.1561, 0.0963, 0.0343]   \n",
              "15                Юла   [0.1427, 0.3792, 0.2166, 0.141, 0.0886, 0.0319]   \n",
              "16        Wildberries  [0.1446, 0.3722, 0.2167, 0.1429, 0.0898, 0.0337]   \n",
              "17            Wasd TV     [0.2726, 0.4071, 0.156, 0.0872, 0.05, 0.0272]   \n",
              "18          Good Game  [0.2494, 0.3979, 0.1575, 0.1009, 0.0614, 0.0329]   \n",
              "19              Likee    [0.293, 0.3272, 0.1615, 0.1001, 0.0712, 0.047]   \n",
              "20            Отзовик  [0.1273, 0.3688, 0.2221, 0.1506, 0.0918, 0.0394]   \n",
              "21                IVI   [0.2294, 0.3312, 0.1713, 0.125, 0.1015, 0.0416]   \n",
              "22          Кинопоиск   [0.2329, 0.3766, 0.1667, 0.1128, 0.074, 0.0369]   \n",
              "23               2ГИС   [0.126, 0.3768, 0.2247, 0.1524, 0.0877, 0.0324]   \n",
              "24  Биржа фриланса FL    [0.1757, 0.4779, 0.1765, 0.093, 0.053, 0.0239]   \n",
              "25          Нетология   [0.1804, 0.464, 0.1841, 0.0992, 0.0503, 0.0221]   \n",
              "\n",
              "              gender           resident  \n",
              "0   [0.4437, 0.5563]   [0.8238, 0.1762]  \n",
              "1       [0.39, 0.61]         [0.6, 0.4]  \n",
              "2   [0.5079, 0.4921]     [0.735, 0.265]  \n",
              "3   [0.4604, 0.5396]    [0.9169, 0.083]  \n",
              "4   [0.4311, 0.5689]     [0.8897, 0.11]  \n",
              "5   [0.3912, 0.6088]   [0.6725, 0.3275]  \n",
              "6   [0.4124, 0.5876]   [0.5999, 0.4001]  \n",
              "7   [0.4135, 0.5865]   [0.7966, 0.2034]  \n",
              "8     [0.301, 0.699]   [0.6852, 0.3148]  \n",
              "9   [0.4872, 0.5128]   [0.7327, 0.2673]  \n",
              "10  [0.4264, 0.5736]   [0.7531, 0.2469]  \n",
              "11  [0.4239, 0.5761]   [0.8178, 0.1822]  \n",
              "12  [0.4633, 0.5367]   [0.9361, 0.0639]  \n",
              "13  [0.4346, 0.5654]   [0.9573, 0.0427]  \n",
              "14  [0.5155, 0.4845]   [0.9625, 0.0375]  \n",
              "15  [0.4282, 0.5718]  [0.9774, 0.02259]  \n",
              "16  [0.5228, 0.4772]   [0.9216, 0.0784]  \n",
              "17  [0.2448, 0.7552]   [0.8434, 0.1566]  \n",
              "18  [0.2608, 0.7392]   [0.7995, 0.2005]  \n",
              "19  [0.3812, 0.6188]   [0.1535, 0.8465]  \n",
              "20  [0.5091, 0.4909]     [0.855, 0.145]  \n",
              "21  [0.5192, 0.4808]     [0.831, 0.169]  \n",
              "22  [0.4453, 0.5547]   [0.8551, 0.1449]  \n",
              "23  [0.4798, 0.5202]  [0.9746, 0.02539]  \n",
              "24  [0.3945, 0.6055]    [0.7649, 0.235]  \n",
              "25  [0.4709, 0.5291]   [0.8287, 0.1703]  "
            ],
            "text/html": [
              "\n",
              "  <div id=\"df-da637484-37b9-4a4d-b13a-932558e205c2\">\n",
              "    <div class=\"colab-df-container\">\n",
              "      <div>\n",
              "<style scoped>\n",
              "    .dataframe tbody tr th:only-of-type {\n",
              "        vertical-align: middle;\n",
              "    }\n",
              "\n",
              "    .dataframe tbody tr th {\n",
              "        vertical-align: top;\n",
              "    }\n",
              "\n",
              "    .dataframe thead th {\n",
              "        text-align: right;\n",
              "    }\n",
              "</style>\n",
              "<table border=\"1\" class=\"dataframe\">\n",
              "  <thead>\n",
              "    <tr style=\"text-align: right;\">\n",
              "      <th></th>\n",
              "      <th>site</th>\n",
              "      <th>age</th>\n",
              "      <th>gender</th>\n",
              "      <th>resident</th>\n",
              "    </tr>\n",
              "  </thead>\n",
              "  <tbody>\n",
              "    <tr>\n",
              "      <th>0</th>\n",
              "      <td>VK</td>\n",
              "      <td>[0.1987, 0.3338, 0.1863, 0.1419, 0.0956, 0.0437]</td>\n",
              "      <td>[0.4437, 0.5563]</td>\n",
              "      <td>[0.8238, 0.1762]</td>\n",
              "    </tr>\n",
              "    <tr>\n",
              "      <th>1</th>\n",
              "      <td>TELEGRAM</td>\n",
              "      <td>[0.27, 0.38, 0.306, 0.213, 0.1, 0.085]</td>\n",
              "      <td>[0.39, 0.61]</td>\n",
              "      <td>[0.6, 0.4]</td>\n",
              "    </tr>\n",
              "    <tr>\n",
              "      <th>2</th>\n",
              "      <td>Одноклассники</td>\n",
              "      <td>[0.1647, 0.2854, 0.1959, 0.1605, 0.1307, 0.0628]</td>\n",
              "      <td>[0.5079, 0.4921]</td>\n",
              "      <td>[0.735, 0.265]</td>\n",
              "    </tr>\n",
              "    <tr>\n",
              "      <th>3</th>\n",
              "      <td>Яндекс Новости</td>\n",
              "      <td>[0.1522, 0.355, 0.2103, 0.1435, 0.0958, 0.0432]</td>\n",
              "      <td>[0.4604, 0.5396]</td>\n",
              "      <td>[0.9169, 0.083]</td>\n",
              "    </tr>\n",
              "    <tr>\n",
              "      <th>4</th>\n",
              "      <td>РБК</td>\n",
              "      <td>[0.1085, 0.3158, 0.2127, 0.1699, 0.1265, 0.0665]</td>\n",
              "      <td>[0.4311, 0.5689]</td>\n",
              "      <td>[0.8897, 0.11]</td>\n",
              "    </tr>\n",
              "    <tr>\n",
              "      <th>5</th>\n",
              "      <td>VC.RU</td>\n",
              "      <td>[0.163, 0.4295, 0.1968, 0.1155, 0.0655, 0.0297]</td>\n",
              "      <td>[0.3912, 0.6088]</td>\n",
              "      <td>[0.6725, 0.3275]</td>\n",
              "    </tr>\n",
              "    <tr>\n",
              "      <th>6</th>\n",
              "      <td>НОВАЯ ГАЗЕТА</td>\n",
              "      <td>[0.1219, 0.2939, 0.1938, 0.1666, 0.1364, 0.0874]</td>\n",
              "      <td>[0.4124, 0.5876]</td>\n",
              "      <td>[0.5999, 0.4001]</td>\n",
              "    </tr>\n",
              "    <tr>\n",
              "      <th>7</th>\n",
              "      <td>Forbes RU</td>\n",
              "      <td>[0.113, 0.3217, 0.1977, 0.1623, 0.1321, 0.0731]</td>\n",
              "      <td>[0.4135, 0.5865]</td>\n",
              "      <td>[0.7966, 0.2034]</td>\n",
              "    </tr>\n",
              "    <tr>\n",
              "      <th>8</th>\n",
              "      <td>Хабр</td>\n",
              "      <td>[0.172, 0.4475, 0.1937, 0.1025, 0.0569, 0.0275]</td>\n",
              "      <td>[0.301, 0.699]</td>\n",
              "      <td>[0.6852, 0.3148]</td>\n",
              "    </tr>\n",
              "    <tr>\n",
              "      <th>9</th>\n",
              "      <td>НОЖ</td>\n",
              "      <td>[0.1863, 0.352, 0.1804, 0.1461, 0.0948, 0.0403]</td>\n",
              "      <td>[0.4872, 0.5128]</td>\n",
              "      <td>[0.7327, 0.2673]</td>\n",
              "    </tr>\n",
              "    <tr>\n",
              "      <th>10</th>\n",
              "      <td>YouTube</td>\n",
              "      <td>[0.1818, 0.4118, 0.1879, 0.119, 0.069, 0.0305]</td>\n",
              "      <td>[0.4264, 0.5736]</td>\n",
              "      <td>[0.7531, 0.2469]</td>\n",
              "    </tr>\n",
              "    <tr>\n",
              "      <th>11</th>\n",
              "      <td>Rutube</td>\n",
              "      <td>[0.1597, 0.3538, 0.1829, 0.1432, 0.1102, 0.0502]</td>\n",
              "      <td>[0.4239, 0.5761]</td>\n",
              "      <td>[0.8178, 0.1822]</td>\n",
              "    </tr>\n",
              "    <tr>\n",
              "      <th>12</th>\n",
              "      <td>Ozon</td>\n",
              "      <td>[0.1457, 0.3764, 0.2212, 0.1416, 0.0823, 0.0329]</td>\n",
              "      <td>[0.4633, 0.5367]</td>\n",
              "      <td>[0.9361, 0.0639]</td>\n",
              "    </tr>\n",
              "    <tr>\n",
              "      <th>13</th>\n",
              "      <td>Avito</td>\n",
              "      <td>[0.1316, 0.3731, 0.2232, 0.15, 0.0882, 0.0339]</td>\n",
              "      <td>[0.4346, 0.5654]</td>\n",
              "      <td>[0.9573, 0.0427]</td>\n",
              "    </tr>\n",
              "    <tr>\n",
              "      <th>14</th>\n",
              "      <td>ЦИАН</td>\n",
              "      <td>[0.112, 0.3754, 0.2259, 0.1561, 0.0963, 0.0343]</td>\n",
              "      <td>[0.5155, 0.4845]</td>\n",
              "      <td>[0.9625, 0.0375]</td>\n",
              "    </tr>\n",
              "    <tr>\n",
              "      <th>15</th>\n",
              "      <td>Юла</td>\n",
              "      <td>[0.1427, 0.3792, 0.2166, 0.141, 0.0886, 0.0319]</td>\n",
              "      <td>[0.4282, 0.5718]</td>\n",
              "      <td>[0.9774, 0.02259]</td>\n",
              "    </tr>\n",
              "    <tr>\n",
              "      <th>16</th>\n",
              "      <td>Wildberries</td>\n",
              "      <td>[0.1446, 0.3722, 0.2167, 0.1429, 0.0898, 0.0337]</td>\n",
              "      <td>[0.5228, 0.4772]</td>\n",
              "      <td>[0.9216, 0.0784]</td>\n",
              "    </tr>\n",
              "    <tr>\n",
              "      <th>17</th>\n",
              "      <td>Wasd TV</td>\n",
              "      <td>[0.2726, 0.4071, 0.156, 0.0872, 0.05, 0.0272]</td>\n",
              "      <td>[0.2448, 0.7552]</td>\n",
              "      <td>[0.8434, 0.1566]</td>\n",
              "    </tr>\n",
              "    <tr>\n",
              "      <th>18</th>\n",
              "      <td>Good Game</td>\n",
              "      <td>[0.2494, 0.3979, 0.1575, 0.1009, 0.0614, 0.0329]</td>\n",
              "      <td>[0.2608, 0.7392]</td>\n",
              "      <td>[0.7995, 0.2005]</td>\n",
              "    </tr>\n",
              "    <tr>\n",
              "      <th>19</th>\n",
              "      <td>Likee</td>\n",
              "      <td>[0.293, 0.3272, 0.1615, 0.1001, 0.0712, 0.047]</td>\n",
              "      <td>[0.3812, 0.6188]</td>\n",
              "      <td>[0.1535, 0.8465]</td>\n",
              "    </tr>\n",
              "    <tr>\n",
              "      <th>20</th>\n",
              "      <td>Отзовик</td>\n",
              "      <td>[0.1273, 0.3688, 0.2221, 0.1506, 0.0918, 0.0394]</td>\n",
              "      <td>[0.5091, 0.4909]</td>\n",
              "      <td>[0.855, 0.145]</td>\n",
              "    </tr>\n",
              "    <tr>\n",
              "      <th>21</th>\n",
              "      <td>IVI</td>\n",
              "      <td>[0.2294, 0.3312, 0.1713, 0.125, 0.1015, 0.0416]</td>\n",
              "      <td>[0.5192, 0.4808]</td>\n",
              "      <td>[0.831, 0.169]</td>\n",
              "    </tr>\n",
              "    <tr>\n",
              "      <th>22</th>\n",
              "      <td>Кинопоиск</td>\n",
              "      <td>[0.2329, 0.3766, 0.1667, 0.1128, 0.074, 0.0369]</td>\n",
              "      <td>[0.4453, 0.5547]</td>\n",
              "      <td>[0.8551, 0.1449]</td>\n",
              "    </tr>\n",
              "    <tr>\n",
              "      <th>23</th>\n",
              "      <td>2ГИС</td>\n",
              "      <td>[0.126, 0.3768, 0.2247, 0.1524, 0.0877, 0.0324]</td>\n",
              "      <td>[0.4798, 0.5202]</td>\n",
              "      <td>[0.9746, 0.02539]</td>\n",
              "    </tr>\n",
              "    <tr>\n",
              "      <th>24</th>\n",
              "      <td>Биржа фриланса FL</td>\n",
              "      <td>[0.1757, 0.4779, 0.1765, 0.093, 0.053, 0.0239]</td>\n",
              "      <td>[0.3945, 0.6055]</td>\n",
              "      <td>[0.7649, 0.235]</td>\n",
              "    </tr>\n",
              "    <tr>\n",
              "      <th>25</th>\n",
              "      <td>Нетология</td>\n",
              "      <td>[0.1804, 0.464, 0.1841, 0.0992, 0.0503, 0.0221]</td>\n",
              "      <td>[0.4709, 0.5291]</td>\n",
              "      <td>[0.8287, 0.1703]</td>\n",
              "    </tr>\n",
              "  </tbody>\n",
              "</table>\n",
              "</div>\n",
              "      <button class=\"colab-df-convert\" onclick=\"convertToInteractive('df-da637484-37b9-4a4d-b13a-932558e205c2')\"\n",
              "              title=\"Convert this dataframe to an interactive table.\"\n",
              "              style=\"display:none;\">\n",
              "        \n",
              "  <svg xmlns=\"http://www.w3.org/2000/svg\" height=\"24px\"viewBox=\"0 0 24 24\"\n",
              "       width=\"24px\">\n",
              "    <path d=\"M0 0h24v24H0V0z\" fill=\"none\"/>\n",
              "    <path d=\"M18.56 5.44l.94 2.06.94-2.06 2.06-.94-2.06-.94-.94-2.06-.94 2.06-2.06.94zm-11 1L8.5 8.5l.94-2.06 2.06-.94-2.06-.94L8.5 2.5l-.94 2.06-2.06.94zm10 10l.94 2.06.94-2.06 2.06-.94-2.06-.94-.94-2.06-.94 2.06-2.06.94z\"/><path d=\"M17.41 7.96l-1.37-1.37c-.4-.4-.92-.59-1.43-.59-.52 0-1.04.2-1.43.59L10.3 9.45l-7.72 7.72c-.78.78-.78 2.05 0 2.83L4 21.41c.39.39.9.59 1.41.59.51 0 1.02-.2 1.41-.59l7.78-7.78 2.81-2.81c.8-.78.8-2.07 0-2.86zM5.41 20L4 18.59l7.72-7.72 1.47 1.35L5.41 20z\"/>\n",
              "  </svg>\n",
              "      </button>\n",
              "      \n",
              "  <style>\n",
              "    .colab-df-container {\n",
              "      display:flex;\n",
              "      flex-wrap:wrap;\n",
              "      gap: 12px;\n",
              "    }\n",
              "\n",
              "    .colab-df-convert {\n",
              "      background-color: #E8F0FE;\n",
              "      border: none;\n",
              "      border-radius: 50%;\n",
              "      cursor: pointer;\n",
              "      display: none;\n",
              "      fill: #1967D2;\n",
              "      height: 32px;\n",
              "      padding: 0 0 0 0;\n",
              "      width: 32px;\n",
              "    }\n",
              "\n",
              "    .colab-df-convert:hover {\n",
              "      background-color: #E2EBFA;\n",
              "      box-shadow: 0px 1px 2px rgba(60, 64, 67, 0.3), 0px 1px 3px 1px rgba(60, 64, 67, 0.15);\n",
              "      fill: #174EA6;\n",
              "    }\n",
              "\n",
              "    [theme=dark] .colab-df-convert {\n",
              "      background-color: #3B4455;\n",
              "      fill: #D2E3FC;\n",
              "    }\n",
              "\n",
              "    [theme=dark] .colab-df-convert:hover {\n",
              "      background-color: #434B5C;\n",
              "      box-shadow: 0px 1px 3px 1px rgba(0, 0, 0, 0.15);\n",
              "      filter: drop-shadow(0px 1px 2px rgba(0, 0, 0, 0.3));\n",
              "      fill: #FFFFFF;\n",
              "    }\n",
              "  </style>\n",
              "\n",
              "      <script>\n",
              "        const buttonEl =\n",
              "          document.querySelector('#df-da637484-37b9-4a4d-b13a-932558e205c2 button.colab-df-convert');\n",
              "        buttonEl.style.display =\n",
              "          google.colab.kernel.accessAllowed ? 'block' : 'none';\n",
              "\n",
              "        async function convertToInteractive(key) {\n",
              "          const element = document.querySelector('#df-da637484-37b9-4a4d-b13a-932558e205c2');\n",
              "          const dataTable =\n",
              "            await google.colab.kernel.invokeFunction('convertToInteractive',\n",
              "                                                     [key], {});\n",
              "          if (!dataTable) return;\n",
              "\n",
              "          const docLinkHtml = 'Like what you see? Visit the ' +\n",
              "            '<a target=\"_blank\" href=https://colab.research.google.com/notebooks/data_table.ipynb>data table notebook</a>'\n",
              "            + ' to learn more about interactive tables.';\n",
              "          element.innerHTML = '';\n",
              "          dataTable['output_type'] = 'display_data';\n",
              "          await google.colab.output.renderOutput(dataTable, element);\n",
              "          const docLink = document.createElement('div');\n",
              "          docLink.innerHTML = docLinkHtml;\n",
              "          element.appendChild(docLink);\n",
              "        }\n",
              "      </script>\n",
              "    </div>\n",
              "  </div>\n",
              "  "
            ]
          },
          "metadata": {},
          "execution_count": 32
        }
      ],
      "source": [
        "data_media"
      ]
    },
    {
      "cell_type": "code",
      "execution_count": 33,
      "metadata": {
        "id": "tl8TSLoDYc0T"
      },
      "outputs": [],
      "source": [
        "df_cross = df.merge(data_media, how='cross')"
      ]
    },
    {
      "cell_type": "code",
      "execution_count": 34,
      "metadata": {
        "id": "MZxTPNOdB7oE"
      },
      "outputs": [],
      "source": [
        "## расстояние между распределениями \n",
        "import numpy as np\n",
        "import sklearn\n",
        "from sklearn import metrics\n",
        "from scipy.stats import entropy\n",
        "def KL(a, b):\n",
        "  if len(a) == len(b):\n",
        "   return (entropy(a, qk=b))\n",
        "  else: \n",
        "    a.append(0)\n",
        "    return (entropy(a, qk=b))\n",
        "    # a = np.asarray(a, dtype=np.float)\n",
        "    # b = np.asarray(b, dtype=np.float)\n",
        "    # return sklearn.metrics.mutual_info_score(a,b)\n",
        "\n",
        "    #return np.sum(np.where(a != 0, a * np.log(a / b), 0))"
      ]
    },
    {
      "cell_type": "code",
      "execution_count": 35,
      "metadata": {
        "id": "93g8GUrMUNd5"
      },
      "outputs": [],
      "source": [
        "df_cross['age_diff'] = df_cross.apply(lambda x: KL(x['age_cluster'], x['age']), axis=1)\n",
        "df_cross['gender_diff'] = df_cross.apply(lambda x: KL( x['gender_cluster'], x['gender']), axis=1)\n",
        "df_cross['res_diff'] = df_cross.apply(lambda x: KL(x['residents_cluster'], x['resident']), axis=1)"
      ]
    },
    {
      "cell_type": "code",
      "execution_count": 36,
      "metadata": {
        "colab": {
          "base_uri": "https://localhost:8080/",
          "height": 1000
        },
        "id": "-wbVHq47VHZI",
        "outputId": "1fd9acc6-1e3d-45f8-eca9-120fffc9110b"
      },
      "outputs": [
        {
          "output_type": "execute_result",
          "data": {
            "text/plain": [
              "      cluster                                        age_cluster  \\\n",
              "0   Кластер 2                     [0.0, 0.0, 0.8, 0.2, 0.0, 0.0]   \n",
              "1   Кластер 2                     [0.0, 0.0, 0.8, 0.2, 0.0, 0.0]   \n",
              "2   Кластер 2                     [0.0, 0.0, 0.8, 0.2, 0.0, 0.0]   \n",
              "3   Кластер 2                     [0.0, 0.0, 0.8, 0.2, 0.0, 0.0]   \n",
              "4   Кластер 2                     [0.0, 0.0, 0.8, 0.2, 0.0, 0.0]   \n",
              "5   Кластер 2                     [0.0, 0.0, 0.8, 0.2, 0.0, 0.0]   \n",
              "6   Кластер 2                     [0.0, 0.0, 0.8, 0.2, 0.0, 0.0]   \n",
              "7   Кластер 2                     [0.0, 0.0, 0.8, 0.2, 0.0, 0.0]   \n",
              "8   Кластер 2                     [0.0, 0.0, 0.8, 0.2, 0.0, 0.0]   \n",
              "9   Кластер 2                     [0.0, 0.0, 0.8, 0.2, 0.0, 0.0]   \n",
              "10  Кластер 2                     [0.0, 0.0, 0.8, 0.2, 0.0, 0.0]   \n",
              "11  Кластер 2                     [0.0, 0.0, 0.8, 0.2, 0.0, 0.0]   \n",
              "12  Кластер 2                     [0.0, 0.0, 0.8, 0.2, 0.0, 0.0]   \n",
              "13  Кластер 2                     [0.0, 0.0, 0.8, 0.2, 0.0, 0.0]   \n",
              "14  Кластер 2                     [0.0, 0.0, 0.8, 0.2, 0.0, 0.0]   \n",
              "15  Кластер 2                     [0.0, 0.0, 0.8, 0.2, 0.0, 0.0]   \n",
              "16  Кластер 2                     [0.0, 0.0, 0.8, 0.2, 0.0, 0.0]   \n",
              "17  Кластер 2                     [0.0, 0.0, 0.8, 0.2, 0.0, 0.0]   \n",
              "18  Кластер 2                     [0.0, 0.0, 0.8, 0.2, 0.0, 0.0]   \n",
              "19  Кластер 2                     [0.0, 0.0, 0.8, 0.2, 0.0, 0.0]   \n",
              "20  Кластер 2                     [0.0, 0.0, 0.8, 0.2, 0.0, 0.0]   \n",
              "21  Кластер 2                     [0.0, 0.0, 0.8, 0.2, 0.0, 0.0]   \n",
              "22  Кластер 2                     [0.0, 0.0, 0.8, 0.2, 0.0, 0.0]   \n",
              "23  Кластер 2                     [0.0, 0.0, 0.8, 0.2, 0.0, 0.0]   \n",
              "24  Кластер 2                     [0.0, 0.0, 0.8, 0.2, 0.0, 0.0]   \n",
              "25  Кластер 2                     [0.0, 0.0, 0.8, 0.2, 0.0, 0.0]   \n",
              "26  Кластер 0  [0.006620428751576293, 0.12042875157629256, 0....   \n",
              "27  Кластер 0  [0.006620428751576293, 0.12042875157629256, 0....   \n",
              "28  Кластер 0  [0.006620428751576293, 0.12042875157629256, 0....   \n",
              "29  Кластер 0  [0.006620428751576293, 0.12042875157629256, 0....   \n",
              "30  Кластер 0  [0.006620428751576293, 0.12042875157629256, 0....   \n",
              "31  Кластер 0  [0.006620428751576293, 0.12042875157629256, 0....   \n",
              "32  Кластер 0  [0.006620428751576293, 0.12042875157629256, 0....   \n",
              "33  Кластер 0  [0.006620428751576293, 0.12042875157629256, 0....   \n",
              "34  Кластер 0  [0.006620428751576293, 0.12042875157629256, 0....   \n",
              "35  Кластер 0  [0.006620428751576293, 0.12042875157629256, 0....   \n",
              "36  Кластер 0  [0.006620428751576293, 0.12042875157629256, 0....   \n",
              "37  Кластер 0  [0.006620428751576293, 0.12042875157629256, 0....   \n",
              "38  Кластер 0  [0.006620428751576293, 0.12042875157629256, 0....   \n",
              "39  Кластер 0  [0.006620428751576293, 0.12042875157629256, 0....   \n",
              "40  Кластер 0  [0.006620428751576293, 0.12042875157629256, 0....   \n",
              "41  Кластер 0  [0.006620428751576293, 0.12042875157629256, 0....   \n",
              "42  Кластер 0  [0.006620428751576293, 0.12042875157629256, 0....   \n",
              "43  Кластер 0  [0.006620428751576293, 0.12042875157629256, 0....   \n",
              "44  Кластер 0  [0.006620428751576293, 0.12042875157629256, 0....   \n",
              "45  Кластер 0  [0.006620428751576293, 0.12042875157629256, 0....   \n",
              "46  Кластер 0  [0.006620428751576293, 0.12042875157629256, 0....   \n",
              "47  Кластер 0  [0.006620428751576293, 0.12042875157629256, 0....   \n",
              "48  Кластер 0  [0.006620428751576293, 0.12042875157629256, 0....   \n",
              "49  Кластер 0  [0.006620428751576293, 0.12042875157629256, 0....   \n",
              "\n",
              "                              gender_cluster  \\\n",
              "0                                   [1.0, 0]   \n",
              "1                                   [1.0, 0]   \n",
              "2                                   [1.0, 0]   \n",
              "3                                   [1.0, 0]   \n",
              "4                                   [1.0, 0]   \n",
              "5                                   [1.0, 0]   \n",
              "6                                   [1.0, 0]   \n",
              "7                                   [1.0, 0]   \n",
              "8                                   [1.0, 0]   \n",
              "9                                   [1.0, 0]   \n",
              "10                                  [1.0, 0]   \n",
              "11                                  [1.0, 0]   \n",
              "12                                  [1.0, 0]   \n",
              "13                                  [1.0, 0]   \n",
              "14                                  [1.0, 0]   \n",
              "15                                  [1.0, 0]   \n",
              "16                                  [1.0, 0]   \n",
              "17                                  [1.0, 0]   \n",
              "18                                  [1.0, 0]   \n",
              "19                                  [1.0, 0]   \n",
              "20                                  [1.0, 0]   \n",
              "21                                  [1.0, 0]   \n",
              "22                                  [1.0, 0]   \n",
              "23                                  [1.0, 0]   \n",
              "24                                  [1.0, 0]   \n",
              "25                                  [1.0, 0]   \n",
              "26  [0.4588574423480084, 0.5411425576519916]   \n",
              "27  [0.4588574423480084, 0.5411425576519916]   \n",
              "28  [0.4588574423480084, 0.5411425576519916]   \n",
              "29  [0.4588574423480084, 0.5411425576519916]   \n",
              "30  [0.4588574423480084, 0.5411425576519916]   \n",
              "31  [0.4588574423480084, 0.5411425576519916]   \n",
              "32  [0.4588574423480084, 0.5411425576519916]   \n",
              "33  [0.4588574423480084, 0.5411425576519916]   \n",
              "34  [0.4588574423480084, 0.5411425576519916]   \n",
              "35  [0.4588574423480084, 0.5411425576519916]   \n",
              "36  [0.4588574423480084, 0.5411425576519916]   \n",
              "37  [0.4588574423480084, 0.5411425576519916]   \n",
              "38  [0.4588574423480084, 0.5411425576519916]   \n",
              "39  [0.4588574423480084, 0.5411425576519916]   \n",
              "40  [0.4588574423480084, 0.5411425576519916]   \n",
              "41  [0.4588574423480084, 0.5411425576519916]   \n",
              "42  [0.4588574423480084, 0.5411425576519916]   \n",
              "43  [0.4588574423480084, 0.5411425576519916]   \n",
              "44  [0.4588574423480084, 0.5411425576519916]   \n",
              "45  [0.4588574423480084, 0.5411425576519916]   \n",
              "46  [0.4588574423480084, 0.5411425576519916]   \n",
              "47  [0.4588574423480084, 0.5411425576519916]   \n",
              "48  [0.4588574423480084, 0.5411425576519916]   \n",
              "49  [0.4588574423480084, 0.5411425576519916]   \n",
              "\n",
              "                            residents_cluster               site  \\\n",
              "0                                    [1.0, 0]                 VK   \n",
              "1                                    [1.0, 0]           TELEGRAM   \n",
              "2                                    [1.0, 0]      Одноклассники   \n",
              "3                                    [1.0, 0]     Яндекс Новости   \n",
              "4                                    [1.0, 0]                РБК   \n",
              "5                                    [1.0, 0]              VC.RU   \n",
              "6                                    [1.0, 0]       НОВАЯ ГАЗЕТА   \n",
              "7                                    [1.0, 0]          Forbes RU   \n",
              "8                                    [1.0, 0]               Хабр   \n",
              "9                                    [1.0, 0]                НОЖ   \n",
              "10                                   [1.0, 0]            YouTube   \n",
              "11                                   [1.0, 0]             Rutube   \n",
              "12                                   [1.0, 0]               Ozon   \n",
              "13                                   [1.0, 0]              Avito   \n",
              "14                                   [1.0, 0]               ЦИАН   \n",
              "15                                   [1.0, 0]                Юла   \n",
              "16                                   [1.0, 0]        Wildberries   \n",
              "17                                   [1.0, 0]            Wasd TV   \n",
              "18                                   [1.0, 0]          Good Game   \n",
              "19                                   [1.0, 0]              Likee   \n",
              "20                                   [1.0, 0]            Отзовик   \n",
              "21                                   [1.0, 0]                IVI   \n",
              "22                                   [1.0, 0]          Кинопоиск   \n",
              "23                                   [1.0, 0]               2ГИС   \n",
              "24                                   [1.0, 0]  Биржа фриланса FL   \n",
              "25                                   [1.0, 0]          Нетология   \n",
              "26  [0.9787735849056604, 0.02122641509433962]                 VK   \n",
              "27  [0.9787735849056604, 0.02122641509433962]           TELEGRAM   \n",
              "28  [0.9787735849056604, 0.02122641509433962]      Одноклассники   \n",
              "29  [0.9787735849056604, 0.02122641509433962]     Яндекс Новости   \n",
              "30  [0.9787735849056604, 0.02122641509433962]                РБК   \n",
              "31  [0.9787735849056604, 0.02122641509433962]              VC.RU   \n",
              "32  [0.9787735849056604, 0.02122641509433962]       НОВАЯ ГАЗЕТА   \n",
              "33  [0.9787735849056604, 0.02122641509433962]          Forbes RU   \n",
              "34  [0.9787735849056604, 0.02122641509433962]               Хабр   \n",
              "35  [0.9787735849056604, 0.02122641509433962]                НОЖ   \n",
              "36  [0.9787735849056604, 0.02122641509433962]            YouTube   \n",
              "37  [0.9787735849056604, 0.02122641509433962]             Rutube   \n",
              "38  [0.9787735849056604, 0.02122641509433962]               Ozon   \n",
              "39  [0.9787735849056604, 0.02122641509433962]              Avito   \n",
              "40  [0.9787735849056604, 0.02122641509433962]               ЦИАН   \n",
              "41  [0.9787735849056604, 0.02122641509433962]                Юла   \n",
              "42  [0.9787735849056604, 0.02122641509433962]        Wildberries   \n",
              "43  [0.9787735849056604, 0.02122641509433962]            Wasd TV   \n",
              "44  [0.9787735849056604, 0.02122641509433962]          Good Game   \n",
              "45  [0.9787735849056604, 0.02122641509433962]              Likee   \n",
              "46  [0.9787735849056604, 0.02122641509433962]            Отзовик   \n",
              "47  [0.9787735849056604, 0.02122641509433962]                IVI   \n",
              "48  [0.9787735849056604, 0.02122641509433962]          Кинопоиск   \n",
              "49  [0.9787735849056604, 0.02122641509433962]               2ГИС   \n",
              "\n",
              "                                                 age            gender  \\\n",
              "0   [0.1987, 0.3338, 0.1863, 0.1419, 0.0956, 0.0437]  [0.4437, 0.5563]   \n",
              "1             [0.27, 0.38, 0.306, 0.213, 0.1, 0.085]      [0.39, 0.61]   \n",
              "2   [0.1647, 0.2854, 0.1959, 0.1605, 0.1307, 0.0628]  [0.5079, 0.4921]   \n",
              "3    [0.1522, 0.355, 0.2103, 0.1435, 0.0958, 0.0432]  [0.4604, 0.5396]   \n",
              "4   [0.1085, 0.3158, 0.2127, 0.1699, 0.1265, 0.0665]  [0.4311, 0.5689]   \n",
              "5    [0.163, 0.4295, 0.1968, 0.1155, 0.0655, 0.0297]  [0.3912, 0.6088]   \n",
              "6   [0.1219, 0.2939, 0.1938, 0.1666, 0.1364, 0.0874]  [0.4124, 0.5876]   \n",
              "7    [0.113, 0.3217, 0.1977, 0.1623, 0.1321, 0.0731]  [0.4135, 0.5865]   \n",
              "8    [0.172, 0.4475, 0.1937, 0.1025, 0.0569, 0.0275]    [0.301, 0.699]   \n",
              "9    [0.1863, 0.352, 0.1804, 0.1461, 0.0948, 0.0403]  [0.4872, 0.5128]   \n",
              "10    [0.1818, 0.4118, 0.1879, 0.119, 0.069, 0.0305]  [0.4264, 0.5736]   \n",
              "11  [0.1597, 0.3538, 0.1829, 0.1432, 0.1102, 0.0502]  [0.4239, 0.5761]   \n",
              "12  [0.1457, 0.3764, 0.2212, 0.1416, 0.0823, 0.0329]  [0.4633, 0.5367]   \n",
              "13    [0.1316, 0.3731, 0.2232, 0.15, 0.0882, 0.0339]  [0.4346, 0.5654]   \n",
              "14   [0.112, 0.3754, 0.2259, 0.1561, 0.0963, 0.0343]  [0.5155, 0.4845]   \n",
              "15   [0.1427, 0.3792, 0.2166, 0.141, 0.0886, 0.0319]  [0.4282, 0.5718]   \n",
              "16  [0.1446, 0.3722, 0.2167, 0.1429, 0.0898, 0.0337]  [0.5228, 0.4772]   \n",
              "17     [0.2726, 0.4071, 0.156, 0.0872, 0.05, 0.0272]  [0.2448, 0.7552]   \n",
              "18  [0.2494, 0.3979, 0.1575, 0.1009, 0.0614, 0.0329]  [0.2608, 0.7392]   \n",
              "19    [0.293, 0.3272, 0.1615, 0.1001, 0.0712, 0.047]  [0.3812, 0.6188]   \n",
              "20  [0.1273, 0.3688, 0.2221, 0.1506, 0.0918, 0.0394]  [0.5091, 0.4909]   \n",
              "21   [0.2294, 0.3312, 0.1713, 0.125, 0.1015, 0.0416]  [0.5192, 0.4808]   \n",
              "22   [0.2329, 0.3766, 0.1667, 0.1128, 0.074, 0.0369]  [0.4453, 0.5547]   \n",
              "23   [0.126, 0.3768, 0.2247, 0.1524, 0.0877, 0.0324]  [0.4798, 0.5202]   \n",
              "24    [0.1757, 0.4779, 0.1765, 0.093, 0.053, 0.0239]  [0.3945, 0.6055]   \n",
              "25   [0.1804, 0.464, 0.1841, 0.0992, 0.0503, 0.0221]  [0.4709, 0.5291]   \n",
              "26  [0.1987, 0.3338, 0.1863, 0.1419, 0.0956, 0.0437]  [0.4437, 0.5563]   \n",
              "27            [0.27, 0.38, 0.306, 0.213, 0.1, 0.085]      [0.39, 0.61]   \n",
              "28  [0.1647, 0.2854, 0.1959, 0.1605, 0.1307, 0.0628]  [0.5079, 0.4921]   \n",
              "29   [0.1522, 0.355, 0.2103, 0.1435, 0.0958, 0.0432]  [0.4604, 0.5396]   \n",
              "30  [0.1085, 0.3158, 0.2127, 0.1699, 0.1265, 0.0665]  [0.4311, 0.5689]   \n",
              "31   [0.163, 0.4295, 0.1968, 0.1155, 0.0655, 0.0297]  [0.3912, 0.6088]   \n",
              "32  [0.1219, 0.2939, 0.1938, 0.1666, 0.1364, 0.0874]  [0.4124, 0.5876]   \n",
              "33   [0.113, 0.3217, 0.1977, 0.1623, 0.1321, 0.0731]  [0.4135, 0.5865]   \n",
              "34   [0.172, 0.4475, 0.1937, 0.1025, 0.0569, 0.0275]    [0.301, 0.699]   \n",
              "35   [0.1863, 0.352, 0.1804, 0.1461, 0.0948, 0.0403]  [0.4872, 0.5128]   \n",
              "36    [0.1818, 0.4118, 0.1879, 0.119, 0.069, 0.0305]  [0.4264, 0.5736]   \n",
              "37  [0.1597, 0.3538, 0.1829, 0.1432, 0.1102, 0.0502]  [0.4239, 0.5761]   \n",
              "38  [0.1457, 0.3764, 0.2212, 0.1416, 0.0823, 0.0329]  [0.4633, 0.5367]   \n",
              "39    [0.1316, 0.3731, 0.2232, 0.15, 0.0882, 0.0339]  [0.4346, 0.5654]   \n",
              "40   [0.112, 0.3754, 0.2259, 0.1561, 0.0963, 0.0343]  [0.5155, 0.4845]   \n",
              "41   [0.1427, 0.3792, 0.2166, 0.141, 0.0886, 0.0319]  [0.4282, 0.5718]   \n",
              "42  [0.1446, 0.3722, 0.2167, 0.1429, 0.0898, 0.0337]  [0.5228, 0.4772]   \n",
              "43     [0.2726, 0.4071, 0.156, 0.0872, 0.05, 0.0272]  [0.2448, 0.7552]   \n",
              "44  [0.2494, 0.3979, 0.1575, 0.1009, 0.0614, 0.0329]  [0.2608, 0.7392]   \n",
              "45    [0.293, 0.3272, 0.1615, 0.1001, 0.0712, 0.047]  [0.3812, 0.6188]   \n",
              "46  [0.1273, 0.3688, 0.2221, 0.1506, 0.0918, 0.0394]  [0.5091, 0.4909]   \n",
              "47   [0.2294, 0.3312, 0.1713, 0.125, 0.1015, 0.0416]  [0.5192, 0.4808]   \n",
              "48   [0.2329, 0.3766, 0.1667, 0.1128, 0.074, 0.0369]  [0.4453, 0.5547]   \n",
              "49   [0.126, 0.3768, 0.2247, 0.1524, 0.0877, 0.0324]  [0.4798, 0.5202]   \n",
              "\n",
              "             resident  age_diff  gender_diff  res_diff  \n",
              "0    [0.8238, 0.1762]  1.234442     0.812607  0.193827  \n",
              "1          [0.6, 0.4]  1.059290     0.941609  0.510826  \n",
              "2      [0.735, 0.265]  1.169611     0.677471  0.307885  \n",
              "3     [0.9169, 0.083]  1.135258     0.775660  0.086657  \n",
              "4      [0.8897, 0.11]  1.092305     0.841415  0.116571  \n",
              "5    [0.6725, 0.3275]  1.231748     0.938536  0.396753  \n",
              "6    [0.5999, 0.4001]  1.170772     0.885762  0.510992  \n",
              "7    [0.7966, 0.2034]  1.159963     0.883098  0.227403  \n",
              "8    [0.6852, 0.3148]  1.268432     1.200645  0.378045  \n",
              "9    [0.7327, 0.2673]  1.254253     0.719081  0.311019  \n",
              "10   [0.7531, 0.2469]  1.262800     0.852377  0.283557  \n",
              "11   [0.8178, 0.1822]  1.247353     0.858258  0.201137  \n",
              "12   [0.9361, 0.0639]  1.097598     0.769380  0.066033  \n",
              "13   [0.9573, 0.0427]  1.078771     0.833329  0.043638  \n",
              "14   [0.9625, 0.0375]  1.061180     0.662618  0.038221  \n",
              "15  [0.9774, 0.02259]  1.115159     0.848165  0.022849  \n",
              "16   [0.9216, 0.0784]  1.112013     0.648556  0.081644  \n",
              "17   [0.8434, 0.1566]  1.473927     1.407314  0.170314  \n",
              "18   [0.7995, 0.2005]  1.436987     1.344001  0.223769  \n",
              "19   [0.1535, 0.8465]  1.418515     0.964431  1.874055  \n",
              "20     [0.855, 0.145]  1.081925     0.675111  0.156654  \n",
              "21     [0.831, 0.169]  1.326957     0.655466  0.185125  \n",
              "22   [0.8551, 0.1449]  1.369173     0.809007  0.156537  \n",
              "23  [0.9746, 0.02539]  1.070238     0.734386  0.025718  \n",
              "24    [0.7649, 0.235]  1.362176     0.930136  0.267910  \n",
              "25   [0.8287, 0.1703]  1.315642     0.753110  0.186897  \n",
              "26   [0.8238, 0.1762]  0.499759     0.000464  0.123791  \n",
              "27         [0.6, 0.4]  0.512095     0.009791  0.416658  \n",
              "28     [0.735, 0.265]  0.373753     0.004814  0.226764  \n",
              "29    [0.9169, 0.083]  0.457166     0.000005  0.034872  \n",
              "30     [0.8897, 0.11]  0.334407     0.001563  0.058168  \n",
              "31   [0.6725, 0.3275]  0.632064     0.009447  0.309251  \n",
              "32   [0.5999, 0.4001]  0.348960     0.004411  0.416816  \n",
              "33   [0.7966, 0.2034]  0.351625     0.004202  0.153606  \n",
              "34   [0.6852, 0.3148]  0.708869     0.054953  0.291779  \n",
              "35   [0.7327, 0.2673]  0.497073     0.001610  0.229648  \n",
              "36   [0.7531, 0.2469]  0.624540     0.002141  0.204455  \n",
              "37   [0.8178, 0.1822]  0.452992     0.002486  0.130235  \n",
              "38   [0.9361, 0.0639]  0.488101     0.000040  0.020239  \n",
              "39   [0.9573, 0.0427]  0.449456     0.001193  0.006876  \n",
              "40   [0.9625, 0.0375]  0.408448     0.006422  0.004331  \n",
              "41  [0.9774, 0.02259]  0.472400     0.001909  0.000043  \n",
              "42   [0.9216, 0.0784]  0.465969     0.008185  0.031177  \n",
              "43   [0.8434, 0.1566]  0.862483     0.107936  0.103279  \n",
              "44   [0.7995, 0.2005]  0.757484     0.090473  0.150354  \n",
              "45   [0.1535, 0.8465]  0.728450     0.012512  1.735038  \n",
              "46     [0.855, 0.145]  0.438147     0.005053  0.091543  \n",
              "47     [0.831, 0.169]  0.542289     0.007288  0.116159  \n",
              "48   [0.8551, 0.1449]  0.659582     0.000371  0.091443  \n",
              "49  [0.9746, 0.02539]  0.444120     0.000880  0.000371  "
            ],
            "text/html": [
              "\n",
              "  <div id=\"df-c7e1116a-bb87-4b05-b66d-aed0a8a912f9\">\n",
              "    <div class=\"colab-df-container\">\n",
              "      <div>\n",
              "<style scoped>\n",
              "    .dataframe tbody tr th:only-of-type {\n",
              "        vertical-align: middle;\n",
              "    }\n",
              "\n",
              "    .dataframe tbody tr th {\n",
              "        vertical-align: top;\n",
              "    }\n",
              "\n",
              "    .dataframe thead th {\n",
              "        text-align: right;\n",
              "    }\n",
              "</style>\n",
              "<table border=\"1\" class=\"dataframe\">\n",
              "  <thead>\n",
              "    <tr style=\"text-align: right;\">\n",
              "      <th></th>\n",
              "      <th>cluster</th>\n",
              "      <th>age_cluster</th>\n",
              "      <th>gender_cluster</th>\n",
              "      <th>residents_cluster</th>\n",
              "      <th>site</th>\n",
              "      <th>age</th>\n",
              "      <th>gender</th>\n",
              "      <th>resident</th>\n",
              "      <th>age_diff</th>\n",
              "      <th>gender_diff</th>\n",
              "      <th>res_diff</th>\n",
              "    </tr>\n",
              "  </thead>\n",
              "  <tbody>\n",
              "    <tr>\n",
              "      <th>0</th>\n",
              "      <td>Кластер 2</td>\n",
              "      <td>[0.0, 0.0, 0.8, 0.2, 0.0, 0.0]</td>\n",
              "      <td>[1.0, 0]</td>\n",
              "      <td>[1.0, 0]</td>\n",
              "      <td>VK</td>\n",
              "      <td>[0.1987, 0.3338, 0.1863, 0.1419, 0.0956, 0.0437]</td>\n",
              "      <td>[0.4437, 0.5563]</td>\n",
              "      <td>[0.8238, 0.1762]</td>\n",
              "      <td>1.234442</td>\n",
              "      <td>0.812607</td>\n",
              "      <td>0.193827</td>\n",
              "    </tr>\n",
              "    <tr>\n",
              "      <th>1</th>\n",
              "      <td>Кластер 2</td>\n",
              "      <td>[0.0, 0.0, 0.8, 0.2, 0.0, 0.0]</td>\n",
              "      <td>[1.0, 0]</td>\n",
              "      <td>[1.0, 0]</td>\n",
              "      <td>TELEGRAM</td>\n",
              "      <td>[0.27, 0.38, 0.306, 0.213, 0.1, 0.085]</td>\n",
              "      <td>[0.39, 0.61]</td>\n",
              "      <td>[0.6, 0.4]</td>\n",
              "      <td>1.059290</td>\n",
              "      <td>0.941609</td>\n",
              "      <td>0.510826</td>\n",
              "    </tr>\n",
              "    <tr>\n",
              "      <th>2</th>\n",
              "      <td>Кластер 2</td>\n",
              "      <td>[0.0, 0.0, 0.8, 0.2, 0.0, 0.0]</td>\n",
              "      <td>[1.0, 0]</td>\n",
              "      <td>[1.0, 0]</td>\n",
              "      <td>Одноклассники</td>\n",
              "      <td>[0.1647, 0.2854, 0.1959, 0.1605, 0.1307, 0.0628]</td>\n",
              "      <td>[0.5079, 0.4921]</td>\n",
              "      <td>[0.735, 0.265]</td>\n",
              "      <td>1.169611</td>\n",
              "      <td>0.677471</td>\n",
              "      <td>0.307885</td>\n",
              "    </tr>\n",
              "    <tr>\n",
              "      <th>3</th>\n",
              "      <td>Кластер 2</td>\n",
              "      <td>[0.0, 0.0, 0.8, 0.2, 0.0, 0.0]</td>\n",
              "      <td>[1.0, 0]</td>\n",
              "      <td>[1.0, 0]</td>\n",
              "      <td>Яндекс Новости</td>\n",
              "      <td>[0.1522, 0.355, 0.2103, 0.1435, 0.0958, 0.0432]</td>\n",
              "      <td>[0.4604, 0.5396]</td>\n",
              "      <td>[0.9169, 0.083]</td>\n",
              "      <td>1.135258</td>\n",
              "      <td>0.775660</td>\n",
              "      <td>0.086657</td>\n",
              "    </tr>\n",
              "    <tr>\n",
              "      <th>4</th>\n",
              "      <td>Кластер 2</td>\n",
              "      <td>[0.0, 0.0, 0.8, 0.2, 0.0, 0.0]</td>\n",
              "      <td>[1.0, 0]</td>\n",
              "      <td>[1.0, 0]</td>\n",
              "      <td>РБК</td>\n",
              "      <td>[0.1085, 0.3158, 0.2127, 0.1699, 0.1265, 0.0665]</td>\n",
              "      <td>[0.4311, 0.5689]</td>\n",
              "      <td>[0.8897, 0.11]</td>\n",
              "      <td>1.092305</td>\n",
              "      <td>0.841415</td>\n",
              "      <td>0.116571</td>\n",
              "    </tr>\n",
              "    <tr>\n",
              "      <th>5</th>\n",
              "      <td>Кластер 2</td>\n",
              "      <td>[0.0, 0.0, 0.8, 0.2, 0.0, 0.0]</td>\n",
              "      <td>[1.0, 0]</td>\n",
              "      <td>[1.0, 0]</td>\n",
              "      <td>VC.RU</td>\n",
              "      <td>[0.163, 0.4295, 0.1968, 0.1155, 0.0655, 0.0297]</td>\n",
              "      <td>[0.3912, 0.6088]</td>\n",
              "      <td>[0.6725, 0.3275]</td>\n",
              "      <td>1.231748</td>\n",
              "      <td>0.938536</td>\n",
              "      <td>0.396753</td>\n",
              "    </tr>\n",
              "    <tr>\n",
              "      <th>6</th>\n",
              "      <td>Кластер 2</td>\n",
              "      <td>[0.0, 0.0, 0.8, 0.2, 0.0, 0.0]</td>\n",
              "      <td>[1.0, 0]</td>\n",
              "      <td>[1.0, 0]</td>\n",
              "      <td>НОВАЯ ГАЗЕТА</td>\n",
              "      <td>[0.1219, 0.2939, 0.1938, 0.1666, 0.1364, 0.0874]</td>\n",
              "      <td>[0.4124, 0.5876]</td>\n",
              "      <td>[0.5999, 0.4001]</td>\n",
              "      <td>1.170772</td>\n",
              "      <td>0.885762</td>\n",
              "      <td>0.510992</td>\n",
              "    </tr>\n",
              "    <tr>\n",
              "      <th>7</th>\n",
              "      <td>Кластер 2</td>\n",
              "      <td>[0.0, 0.0, 0.8, 0.2, 0.0, 0.0]</td>\n",
              "      <td>[1.0, 0]</td>\n",
              "      <td>[1.0, 0]</td>\n",
              "      <td>Forbes RU</td>\n",
              "      <td>[0.113, 0.3217, 0.1977, 0.1623, 0.1321, 0.0731]</td>\n",
              "      <td>[0.4135, 0.5865]</td>\n",
              "      <td>[0.7966, 0.2034]</td>\n",
              "      <td>1.159963</td>\n",
              "      <td>0.883098</td>\n",
              "      <td>0.227403</td>\n",
              "    </tr>\n",
              "    <tr>\n",
              "      <th>8</th>\n",
              "      <td>Кластер 2</td>\n",
              "      <td>[0.0, 0.0, 0.8, 0.2, 0.0, 0.0]</td>\n",
              "      <td>[1.0, 0]</td>\n",
              "      <td>[1.0, 0]</td>\n",
              "      <td>Хабр</td>\n",
              "      <td>[0.172, 0.4475, 0.1937, 0.1025, 0.0569, 0.0275]</td>\n",
              "      <td>[0.301, 0.699]</td>\n",
              "      <td>[0.6852, 0.3148]</td>\n",
              "      <td>1.268432</td>\n",
              "      <td>1.200645</td>\n",
              "      <td>0.378045</td>\n",
              "    </tr>\n",
              "    <tr>\n",
              "      <th>9</th>\n",
              "      <td>Кластер 2</td>\n",
              "      <td>[0.0, 0.0, 0.8, 0.2, 0.0, 0.0]</td>\n",
              "      <td>[1.0, 0]</td>\n",
              "      <td>[1.0, 0]</td>\n",
              "      <td>НОЖ</td>\n",
              "      <td>[0.1863, 0.352, 0.1804, 0.1461, 0.0948, 0.0403]</td>\n",
              "      <td>[0.4872, 0.5128]</td>\n",
              "      <td>[0.7327, 0.2673]</td>\n",
              "      <td>1.254253</td>\n",
              "      <td>0.719081</td>\n",
              "      <td>0.311019</td>\n",
              "    </tr>\n",
              "    <tr>\n",
              "      <th>10</th>\n",
              "      <td>Кластер 2</td>\n",
              "      <td>[0.0, 0.0, 0.8, 0.2, 0.0, 0.0]</td>\n",
              "      <td>[1.0, 0]</td>\n",
              "      <td>[1.0, 0]</td>\n",
              "      <td>YouTube</td>\n",
              "      <td>[0.1818, 0.4118, 0.1879, 0.119, 0.069, 0.0305]</td>\n",
              "      <td>[0.4264, 0.5736]</td>\n",
              "      <td>[0.7531, 0.2469]</td>\n",
              "      <td>1.262800</td>\n",
              "      <td>0.852377</td>\n",
              "      <td>0.283557</td>\n",
              "    </tr>\n",
              "    <tr>\n",
              "      <th>11</th>\n",
              "      <td>Кластер 2</td>\n",
              "      <td>[0.0, 0.0, 0.8, 0.2, 0.0, 0.0]</td>\n",
              "      <td>[1.0, 0]</td>\n",
              "      <td>[1.0, 0]</td>\n",
              "      <td>Rutube</td>\n",
              "      <td>[0.1597, 0.3538, 0.1829, 0.1432, 0.1102, 0.0502]</td>\n",
              "      <td>[0.4239, 0.5761]</td>\n",
              "      <td>[0.8178, 0.1822]</td>\n",
              "      <td>1.247353</td>\n",
              "      <td>0.858258</td>\n",
              "      <td>0.201137</td>\n",
              "    </tr>\n",
              "    <tr>\n",
              "      <th>12</th>\n",
              "      <td>Кластер 2</td>\n",
              "      <td>[0.0, 0.0, 0.8, 0.2, 0.0, 0.0]</td>\n",
              "      <td>[1.0, 0]</td>\n",
              "      <td>[1.0, 0]</td>\n",
              "      <td>Ozon</td>\n",
              "      <td>[0.1457, 0.3764, 0.2212, 0.1416, 0.0823, 0.0329]</td>\n",
              "      <td>[0.4633, 0.5367]</td>\n",
              "      <td>[0.9361, 0.0639]</td>\n",
              "      <td>1.097598</td>\n",
              "      <td>0.769380</td>\n",
              "      <td>0.066033</td>\n",
              "    </tr>\n",
              "    <tr>\n",
              "      <th>13</th>\n",
              "      <td>Кластер 2</td>\n",
              "      <td>[0.0, 0.0, 0.8, 0.2, 0.0, 0.0]</td>\n",
              "      <td>[1.0, 0]</td>\n",
              "      <td>[1.0, 0]</td>\n",
              "      <td>Avito</td>\n",
              "      <td>[0.1316, 0.3731, 0.2232, 0.15, 0.0882, 0.0339]</td>\n",
              "      <td>[0.4346, 0.5654]</td>\n",
              "      <td>[0.9573, 0.0427]</td>\n",
              "      <td>1.078771</td>\n",
              "      <td>0.833329</td>\n",
              "      <td>0.043638</td>\n",
              "    </tr>\n",
              "    <tr>\n",
              "      <th>14</th>\n",
              "      <td>Кластер 2</td>\n",
              "      <td>[0.0, 0.0, 0.8, 0.2, 0.0, 0.0]</td>\n",
              "      <td>[1.0, 0]</td>\n",
              "      <td>[1.0, 0]</td>\n",
              "      <td>ЦИАН</td>\n",
              "      <td>[0.112, 0.3754, 0.2259, 0.1561, 0.0963, 0.0343]</td>\n",
              "      <td>[0.5155, 0.4845]</td>\n",
              "      <td>[0.9625, 0.0375]</td>\n",
              "      <td>1.061180</td>\n",
              "      <td>0.662618</td>\n",
              "      <td>0.038221</td>\n",
              "    </tr>\n",
              "    <tr>\n",
              "      <th>15</th>\n",
              "      <td>Кластер 2</td>\n",
              "      <td>[0.0, 0.0, 0.8, 0.2, 0.0, 0.0]</td>\n",
              "      <td>[1.0, 0]</td>\n",
              "      <td>[1.0, 0]</td>\n",
              "      <td>Юла</td>\n",
              "      <td>[0.1427, 0.3792, 0.2166, 0.141, 0.0886, 0.0319]</td>\n",
              "      <td>[0.4282, 0.5718]</td>\n",
              "      <td>[0.9774, 0.02259]</td>\n",
              "      <td>1.115159</td>\n",
              "      <td>0.848165</td>\n",
              "      <td>0.022849</td>\n",
              "    </tr>\n",
              "    <tr>\n",
              "      <th>16</th>\n",
              "      <td>Кластер 2</td>\n",
              "      <td>[0.0, 0.0, 0.8, 0.2, 0.0, 0.0]</td>\n",
              "      <td>[1.0, 0]</td>\n",
              "      <td>[1.0, 0]</td>\n",
              "      <td>Wildberries</td>\n",
              "      <td>[0.1446, 0.3722, 0.2167, 0.1429, 0.0898, 0.0337]</td>\n",
              "      <td>[0.5228, 0.4772]</td>\n",
              "      <td>[0.9216, 0.0784]</td>\n",
              "      <td>1.112013</td>\n",
              "      <td>0.648556</td>\n",
              "      <td>0.081644</td>\n",
              "    </tr>\n",
              "    <tr>\n",
              "      <th>17</th>\n",
              "      <td>Кластер 2</td>\n",
              "      <td>[0.0, 0.0, 0.8, 0.2, 0.0, 0.0]</td>\n",
              "      <td>[1.0, 0]</td>\n",
              "      <td>[1.0, 0]</td>\n",
              "      <td>Wasd TV</td>\n",
              "      <td>[0.2726, 0.4071, 0.156, 0.0872, 0.05, 0.0272]</td>\n",
              "      <td>[0.2448, 0.7552]</td>\n",
              "      <td>[0.8434, 0.1566]</td>\n",
              "      <td>1.473927</td>\n",
              "      <td>1.407314</td>\n",
              "      <td>0.170314</td>\n",
              "    </tr>\n",
              "    <tr>\n",
              "      <th>18</th>\n",
              "      <td>Кластер 2</td>\n",
              "      <td>[0.0, 0.0, 0.8, 0.2, 0.0, 0.0]</td>\n",
              "      <td>[1.0, 0]</td>\n",
              "      <td>[1.0, 0]</td>\n",
              "      <td>Good Game</td>\n",
              "      <td>[0.2494, 0.3979, 0.1575, 0.1009, 0.0614, 0.0329]</td>\n",
              "      <td>[0.2608, 0.7392]</td>\n",
              "      <td>[0.7995, 0.2005]</td>\n",
              "      <td>1.436987</td>\n",
              "      <td>1.344001</td>\n",
              "      <td>0.223769</td>\n",
              "    </tr>\n",
              "    <tr>\n",
              "      <th>19</th>\n",
              "      <td>Кластер 2</td>\n",
              "      <td>[0.0, 0.0, 0.8, 0.2, 0.0, 0.0]</td>\n",
              "      <td>[1.0, 0]</td>\n",
              "      <td>[1.0, 0]</td>\n",
              "      <td>Likee</td>\n",
              "      <td>[0.293, 0.3272, 0.1615, 0.1001, 0.0712, 0.047]</td>\n",
              "      <td>[0.3812, 0.6188]</td>\n",
              "      <td>[0.1535, 0.8465]</td>\n",
              "      <td>1.418515</td>\n",
              "      <td>0.964431</td>\n",
              "      <td>1.874055</td>\n",
              "    </tr>\n",
              "    <tr>\n",
              "      <th>20</th>\n",
              "      <td>Кластер 2</td>\n",
              "      <td>[0.0, 0.0, 0.8, 0.2, 0.0, 0.0]</td>\n",
              "      <td>[1.0, 0]</td>\n",
              "      <td>[1.0, 0]</td>\n",
              "      <td>Отзовик</td>\n",
              "      <td>[0.1273, 0.3688, 0.2221, 0.1506, 0.0918, 0.0394]</td>\n",
              "      <td>[0.5091, 0.4909]</td>\n",
              "      <td>[0.855, 0.145]</td>\n",
              "      <td>1.081925</td>\n",
              "      <td>0.675111</td>\n",
              "      <td>0.156654</td>\n",
              "    </tr>\n",
              "    <tr>\n",
              "      <th>21</th>\n",
              "      <td>Кластер 2</td>\n",
              "      <td>[0.0, 0.0, 0.8, 0.2, 0.0, 0.0]</td>\n",
              "      <td>[1.0, 0]</td>\n",
              "      <td>[1.0, 0]</td>\n",
              "      <td>IVI</td>\n",
              "      <td>[0.2294, 0.3312, 0.1713, 0.125, 0.1015, 0.0416]</td>\n",
              "      <td>[0.5192, 0.4808]</td>\n",
              "      <td>[0.831, 0.169]</td>\n",
              "      <td>1.326957</td>\n",
              "      <td>0.655466</td>\n",
              "      <td>0.185125</td>\n",
              "    </tr>\n",
              "    <tr>\n",
              "      <th>22</th>\n",
              "      <td>Кластер 2</td>\n",
              "      <td>[0.0, 0.0, 0.8, 0.2, 0.0, 0.0]</td>\n",
              "      <td>[1.0, 0]</td>\n",
              "      <td>[1.0, 0]</td>\n",
              "      <td>Кинопоиск</td>\n",
              "      <td>[0.2329, 0.3766, 0.1667, 0.1128, 0.074, 0.0369]</td>\n",
              "      <td>[0.4453, 0.5547]</td>\n",
              "      <td>[0.8551, 0.1449]</td>\n",
              "      <td>1.369173</td>\n",
              "      <td>0.809007</td>\n",
              "      <td>0.156537</td>\n",
              "    </tr>\n",
              "    <tr>\n",
              "      <th>23</th>\n",
              "      <td>Кластер 2</td>\n",
              "      <td>[0.0, 0.0, 0.8, 0.2, 0.0, 0.0]</td>\n",
              "      <td>[1.0, 0]</td>\n",
              "      <td>[1.0, 0]</td>\n",
              "      <td>2ГИС</td>\n",
              "      <td>[0.126, 0.3768, 0.2247, 0.1524, 0.0877, 0.0324]</td>\n",
              "      <td>[0.4798, 0.5202]</td>\n",
              "      <td>[0.9746, 0.02539]</td>\n",
              "      <td>1.070238</td>\n",
              "      <td>0.734386</td>\n",
              "      <td>0.025718</td>\n",
              "    </tr>\n",
              "    <tr>\n",
              "      <th>24</th>\n",
              "      <td>Кластер 2</td>\n",
              "      <td>[0.0, 0.0, 0.8, 0.2, 0.0, 0.0]</td>\n",
              "      <td>[1.0, 0]</td>\n",
              "      <td>[1.0, 0]</td>\n",
              "      <td>Биржа фриланса FL</td>\n",
              "      <td>[0.1757, 0.4779, 0.1765, 0.093, 0.053, 0.0239]</td>\n",
              "      <td>[0.3945, 0.6055]</td>\n",
              "      <td>[0.7649, 0.235]</td>\n",
              "      <td>1.362176</td>\n",
              "      <td>0.930136</td>\n",
              "      <td>0.267910</td>\n",
              "    </tr>\n",
              "    <tr>\n",
              "      <th>25</th>\n",
              "      <td>Кластер 2</td>\n",
              "      <td>[0.0, 0.0, 0.8, 0.2, 0.0, 0.0]</td>\n",
              "      <td>[1.0, 0]</td>\n",
              "      <td>[1.0, 0]</td>\n",
              "      <td>Нетология</td>\n",
              "      <td>[0.1804, 0.464, 0.1841, 0.0992, 0.0503, 0.0221]</td>\n",
              "      <td>[0.4709, 0.5291]</td>\n",
              "      <td>[0.8287, 0.1703]</td>\n",
              "      <td>1.315642</td>\n",
              "      <td>0.753110</td>\n",
              "      <td>0.186897</td>\n",
              "    </tr>\n",
              "    <tr>\n",
              "      <th>26</th>\n",
              "      <td>Кластер 0</td>\n",
              "      <td>[0.006620428751576293, 0.12042875157629256, 0....</td>\n",
              "      <td>[0.4588574423480084, 0.5411425576519916]</td>\n",
              "      <td>[0.9787735849056604, 0.02122641509433962]</td>\n",
              "      <td>VK</td>\n",
              "      <td>[0.1987, 0.3338, 0.1863, 0.1419, 0.0956, 0.0437]</td>\n",
              "      <td>[0.4437, 0.5563]</td>\n",
              "      <td>[0.8238, 0.1762]</td>\n",
              "      <td>0.499759</td>\n",
              "      <td>0.000464</td>\n",
              "      <td>0.123791</td>\n",
              "    </tr>\n",
              "    <tr>\n",
              "      <th>27</th>\n",
              "      <td>Кластер 0</td>\n",
              "      <td>[0.006620428751576293, 0.12042875157629256, 0....</td>\n",
              "      <td>[0.4588574423480084, 0.5411425576519916]</td>\n",
              "      <td>[0.9787735849056604, 0.02122641509433962]</td>\n",
              "      <td>TELEGRAM</td>\n",
              "      <td>[0.27, 0.38, 0.306, 0.213, 0.1, 0.085]</td>\n",
              "      <td>[0.39, 0.61]</td>\n",
              "      <td>[0.6, 0.4]</td>\n",
              "      <td>0.512095</td>\n",
              "      <td>0.009791</td>\n",
              "      <td>0.416658</td>\n",
              "    </tr>\n",
              "    <tr>\n",
              "      <th>28</th>\n",
              "      <td>Кластер 0</td>\n",
              "      <td>[0.006620428751576293, 0.12042875157629256, 0....</td>\n",
              "      <td>[0.4588574423480084, 0.5411425576519916]</td>\n",
              "      <td>[0.9787735849056604, 0.02122641509433962]</td>\n",
              "      <td>Одноклассники</td>\n",
              "      <td>[0.1647, 0.2854, 0.1959, 0.1605, 0.1307, 0.0628]</td>\n",
              "      <td>[0.5079, 0.4921]</td>\n",
              "      <td>[0.735, 0.265]</td>\n",
              "      <td>0.373753</td>\n",
              "      <td>0.004814</td>\n",
              "      <td>0.226764</td>\n",
              "    </tr>\n",
              "    <tr>\n",
              "      <th>29</th>\n",
              "      <td>Кластер 0</td>\n",
              "      <td>[0.006620428751576293, 0.12042875157629256, 0....</td>\n",
              "      <td>[0.4588574423480084, 0.5411425576519916]</td>\n",
              "      <td>[0.9787735849056604, 0.02122641509433962]</td>\n",
              "      <td>Яндекс Новости</td>\n",
              "      <td>[0.1522, 0.355, 0.2103, 0.1435, 0.0958, 0.0432]</td>\n",
              "      <td>[0.4604, 0.5396]</td>\n",
              "      <td>[0.9169, 0.083]</td>\n",
              "      <td>0.457166</td>\n",
              "      <td>0.000005</td>\n",
              "      <td>0.034872</td>\n",
              "    </tr>\n",
              "    <tr>\n",
              "      <th>30</th>\n",
              "      <td>Кластер 0</td>\n",
              "      <td>[0.006620428751576293, 0.12042875157629256, 0....</td>\n",
              "      <td>[0.4588574423480084, 0.5411425576519916]</td>\n",
              "      <td>[0.9787735849056604, 0.02122641509433962]</td>\n",
              "      <td>РБК</td>\n",
              "      <td>[0.1085, 0.3158, 0.2127, 0.1699, 0.1265, 0.0665]</td>\n",
              "      <td>[0.4311, 0.5689]</td>\n",
              "      <td>[0.8897, 0.11]</td>\n",
              "      <td>0.334407</td>\n",
              "      <td>0.001563</td>\n",
              "      <td>0.058168</td>\n",
              "    </tr>\n",
              "    <tr>\n",
              "      <th>31</th>\n",
              "      <td>Кластер 0</td>\n",
              "      <td>[0.006620428751576293, 0.12042875157629256, 0....</td>\n",
              "      <td>[0.4588574423480084, 0.5411425576519916]</td>\n",
              "      <td>[0.9787735849056604, 0.02122641509433962]</td>\n",
              "      <td>VC.RU</td>\n",
              "      <td>[0.163, 0.4295, 0.1968, 0.1155, 0.0655, 0.0297]</td>\n",
              "      <td>[0.3912, 0.6088]</td>\n",
              "      <td>[0.6725, 0.3275]</td>\n",
              "      <td>0.632064</td>\n",
              "      <td>0.009447</td>\n",
              "      <td>0.309251</td>\n",
              "    </tr>\n",
              "    <tr>\n",
              "      <th>32</th>\n",
              "      <td>Кластер 0</td>\n",
              "      <td>[0.006620428751576293, 0.12042875157629256, 0....</td>\n",
              "      <td>[0.4588574423480084, 0.5411425576519916]</td>\n",
              "      <td>[0.9787735849056604, 0.02122641509433962]</td>\n",
              "      <td>НОВАЯ ГАЗЕТА</td>\n",
              "      <td>[0.1219, 0.2939, 0.1938, 0.1666, 0.1364, 0.0874]</td>\n",
              "      <td>[0.4124, 0.5876]</td>\n",
              "      <td>[0.5999, 0.4001]</td>\n",
              "      <td>0.348960</td>\n",
              "      <td>0.004411</td>\n",
              "      <td>0.416816</td>\n",
              "    </tr>\n",
              "    <tr>\n",
              "      <th>33</th>\n",
              "      <td>Кластер 0</td>\n",
              "      <td>[0.006620428751576293, 0.12042875157629256, 0....</td>\n",
              "      <td>[0.4588574423480084, 0.5411425576519916]</td>\n",
              "      <td>[0.9787735849056604, 0.02122641509433962]</td>\n",
              "      <td>Forbes RU</td>\n",
              "      <td>[0.113, 0.3217, 0.1977, 0.1623, 0.1321, 0.0731]</td>\n",
              "      <td>[0.4135, 0.5865]</td>\n",
              "      <td>[0.7966, 0.2034]</td>\n",
              "      <td>0.351625</td>\n",
              "      <td>0.004202</td>\n",
              "      <td>0.153606</td>\n",
              "    </tr>\n",
              "    <tr>\n",
              "      <th>34</th>\n",
              "      <td>Кластер 0</td>\n",
              "      <td>[0.006620428751576293, 0.12042875157629256, 0....</td>\n",
              "      <td>[0.4588574423480084, 0.5411425576519916]</td>\n",
              "      <td>[0.9787735849056604, 0.02122641509433962]</td>\n",
              "      <td>Хабр</td>\n",
              "      <td>[0.172, 0.4475, 0.1937, 0.1025, 0.0569, 0.0275]</td>\n",
              "      <td>[0.301, 0.699]</td>\n",
              "      <td>[0.6852, 0.3148]</td>\n",
              "      <td>0.708869</td>\n",
              "      <td>0.054953</td>\n",
              "      <td>0.291779</td>\n",
              "    </tr>\n",
              "    <tr>\n",
              "      <th>35</th>\n",
              "      <td>Кластер 0</td>\n",
              "      <td>[0.006620428751576293, 0.12042875157629256, 0....</td>\n",
              "      <td>[0.4588574423480084, 0.5411425576519916]</td>\n",
              "      <td>[0.9787735849056604, 0.02122641509433962]</td>\n",
              "      <td>НОЖ</td>\n",
              "      <td>[0.1863, 0.352, 0.1804, 0.1461, 0.0948, 0.0403]</td>\n",
              "      <td>[0.4872, 0.5128]</td>\n",
              "      <td>[0.7327, 0.2673]</td>\n",
              "      <td>0.497073</td>\n",
              "      <td>0.001610</td>\n",
              "      <td>0.229648</td>\n",
              "    </tr>\n",
              "    <tr>\n",
              "      <th>36</th>\n",
              "      <td>Кластер 0</td>\n",
              "      <td>[0.006620428751576293, 0.12042875157629256, 0....</td>\n",
              "      <td>[0.4588574423480084, 0.5411425576519916]</td>\n",
              "      <td>[0.9787735849056604, 0.02122641509433962]</td>\n",
              "      <td>YouTube</td>\n",
              "      <td>[0.1818, 0.4118, 0.1879, 0.119, 0.069, 0.0305]</td>\n",
              "      <td>[0.4264, 0.5736]</td>\n",
              "      <td>[0.7531, 0.2469]</td>\n",
              "      <td>0.624540</td>\n",
              "      <td>0.002141</td>\n",
              "      <td>0.204455</td>\n",
              "    </tr>\n",
              "    <tr>\n",
              "      <th>37</th>\n",
              "      <td>Кластер 0</td>\n",
              "      <td>[0.006620428751576293, 0.12042875157629256, 0....</td>\n",
              "      <td>[0.4588574423480084, 0.5411425576519916]</td>\n",
              "      <td>[0.9787735849056604, 0.02122641509433962]</td>\n",
              "      <td>Rutube</td>\n",
              "      <td>[0.1597, 0.3538, 0.1829, 0.1432, 0.1102, 0.0502]</td>\n",
              "      <td>[0.4239, 0.5761]</td>\n",
              "      <td>[0.8178, 0.1822]</td>\n",
              "      <td>0.452992</td>\n",
              "      <td>0.002486</td>\n",
              "      <td>0.130235</td>\n",
              "    </tr>\n",
              "    <tr>\n",
              "      <th>38</th>\n",
              "      <td>Кластер 0</td>\n",
              "      <td>[0.006620428751576293, 0.12042875157629256, 0....</td>\n",
              "      <td>[0.4588574423480084, 0.5411425576519916]</td>\n",
              "      <td>[0.9787735849056604, 0.02122641509433962]</td>\n",
              "      <td>Ozon</td>\n",
              "      <td>[0.1457, 0.3764, 0.2212, 0.1416, 0.0823, 0.0329]</td>\n",
              "      <td>[0.4633, 0.5367]</td>\n",
              "      <td>[0.9361, 0.0639]</td>\n",
              "      <td>0.488101</td>\n",
              "      <td>0.000040</td>\n",
              "      <td>0.020239</td>\n",
              "    </tr>\n",
              "    <tr>\n",
              "      <th>39</th>\n",
              "      <td>Кластер 0</td>\n",
              "      <td>[0.006620428751576293, 0.12042875157629256, 0....</td>\n",
              "      <td>[0.4588574423480084, 0.5411425576519916]</td>\n",
              "      <td>[0.9787735849056604, 0.02122641509433962]</td>\n",
              "      <td>Avito</td>\n",
              "      <td>[0.1316, 0.3731, 0.2232, 0.15, 0.0882, 0.0339]</td>\n",
              "      <td>[0.4346, 0.5654]</td>\n",
              "      <td>[0.9573, 0.0427]</td>\n",
              "      <td>0.449456</td>\n",
              "      <td>0.001193</td>\n",
              "      <td>0.006876</td>\n",
              "    </tr>\n",
              "    <tr>\n",
              "      <th>40</th>\n",
              "      <td>Кластер 0</td>\n",
              "      <td>[0.006620428751576293, 0.12042875157629256, 0....</td>\n",
              "      <td>[0.4588574423480084, 0.5411425576519916]</td>\n",
              "      <td>[0.9787735849056604, 0.02122641509433962]</td>\n",
              "      <td>ЦИАН</td>\n",
              "      <td>[0.112, 0.3754, 0.2259, 0.1561, 0.0963, 0.0343]</td>\n",
              "      <td>[0.5155, 0.4845]</td>\n",
              "      <td>[0.9625, 0.0375]</td>\n",
              "      <td>0.408448</td>\n",
              "      <td>0.006422</td>\n",
              "      <td>0.004331</td>\n",
              "    </tr>\n",
              "    <tr>\n",
              "      <th>41</th>\n",
              "      <td>Кластер 0</td>\n",
              "      <td>[0.006620428751576293, 0.12042875157629256, 0....</td>\n",
              "      <td>[0.4588574423480084, 0.5411425576519916]</td>\n",
              "      <td>[0.9787735849056604, 0.02122641509433962]</td>\n",
              "      <td>Юла</td>\n",
              "      <td>[0.1427, 0.3792, 0.2166, 0.141, 0.0886, 0.0319]</td>\n",
              "      <td>[0.4282, 0.5718]</td>\n",
              "      <td>[0.9774, 0.02259]</td>\n",
              "      <td>0.472400</td>\n",
              "      <td>0.001909</td>\n",
              "      <td>0.000043</td>\n",
              "    </tr>\n",
              "    <tr>\n",
              "      <th>42</th>\n",
              "      <td>Кластер 0</td>\n",
              "      <td>[0.006620428751576293, 0.12042875157629256, 0....</td>\n",
              "      <td>[0.4588574423480084, 0.5411425576519916]</td>\n",
              "      <td>[0.9787735849056604, 0.02122641509433962]</td>\n",
              "      <td>Wildberries</td>\n",
              "      <td>[0.1446, 0.3722, 0.2167, 0.1429, 0.0898, 0.0337]</td>\n",
              "      <td>[0.5228, 0.4772]</td>\n",
              "      <td>[0.9216, 0.0784]</td>\n",
              "      <td>0.465969</td>\n",
              "      <td>0.008185</td>\n",
              "      <td>0.031177</td>\n",
              "    </tr>\n",
              "    <tr>\n",
              "      <th>43</th>\n",
              "      <td>Кластер 0</td>\n",
              "      <td>[0.006620428751576293, 0.12042875157629256, 0....</td>\n",
              "      <td>[0.4588574423480084, 0.5411425576519916]</td>\n",
              "      <td>[0.9787735849056604, 0.02122641509433962]</td>\n",
              "      <td>Wasd TV</td>\n",
              "      <td>[0.2726, 0.4071, 0.156, 0.0872, 0.05, 0.0272]</td>\n",
              "      <td>[0.2448, 0.7552]</td>\n",
              "      <td>[0.8434, 0.1566]</td>\n",
              "      <td>0.862483</td>\n",
              "      <td>0.107936</td>\n",
              "      <td>0.103279</td>\n",
              "    </tr>\n",
              "    <tr>\n",
              "      <th>44</th>\n",
              "      <td>Кластер 0</td>\n",
              "      <td>[0.006620428751576293, 0.12042875157629256, 0....</td>\n",
              "      <td>[0.4588574423480084, 0.5411425576519916]</td>\n",
              "      <td>[0.9787735849056604, 0.02122641509433962]</td>\n",
              "      <td>Good Game</td>\n",
              "      <td>[0.2494, 0.3979, 0.1575, 0.1009, 0.0614, 0.0329]</td>\n",
              "      <td>[0.2608, 0.7392]</td>\n",
              "      <td>[0.7995, 0.2005]</td>\n",
              "      <td>0.757484</td>\n",
              "      <td>0.090473</td>\n",
              "      <td>0.150354</td>\n",
              "    </tr>\n",
              "    <tr>\n",
              "      <th>45</th>\n",
              "      <td>Кластер 0</td>\n",
              "      <td>[0.006620428751576293, 0.12042875157629256, 0....</td>\n",
              "      <td>[0.4588574423480084, 0.5411425576519916]</td>\n",
              "      <td>[0.9787735849056604, 0.02122641509433962]</td>\n",
              "      <td>Likee</td>\n",
              "      <td>[0.293, 0.3272, 0.1615, 0.1001, 0.0712, 0.047]</td>\n",
              "      <td>[0.3812, 0.6188]</td>\n",
              "      <td>[0.1535, 0.8465]</td>\n",
              "      <td>0.728450</td>\n",
              "      <td>0.012512</td>\n",
              "      <td>1.735038</td>\n",
              "    </tr>\n",
              "    <tr>\n",
              "      <th>46</th>\n",
              "      <td>Кластер 0</td>\n",
              "      <td>[0.006620428751576293, 0.12042875157629256, 0....</td>\n",
              "      <td>[0.4588574423480084, 0.5411425576519916]</td>\n",
              "      <td>[0.9787735849056604, 0.02122641509433962]</td>\n",
              "      <td>Отзовик</td>\n",
              "      <td>[0.1273, 0.3688, 0.2221, 0.1506, 0.0918, 0.0394]</td>\n",
              "      <td>[0.5091, 0.4909]</td>\n",
              "      <td>[0.855, 0.145]</td>\n",
              "      <td>0.438147</td>\n",
              "      <td>0.005053</td>\n",
              "      <td>0.091543</td>\n",
              "    </tr>\n",
              "    <tr>\n",
              "      <th>47</th>\n",
              "      <td>Кластер 0</td>\n",
              "      <td>[0.006620428751576293, 0.12042875157629256, 0....</td>\n",
              "      <td>[0.4588574423480084, 0.5411425576519916]</td>\n",
              "      <td>[0.9787735849056604, 0.02122641509433962]</td>\n",
              "      <td>IVI</td>\n",
              "      <td>[0.2294, 0.3312, 0.1713, 0.125, 0.1015, 0.0416]</td>\n",
              "      <td>[0.5192, 0.4808]</td>\n",
              "      <td>[0.831, 0.169]</td>\n",
              "      <td>0.542289</td>\n",
              "      <td>0.007288</td>\n",
              "      <td>0.116159</td>\n",
              "    </tr>\n",
              "    <tr>\n",
              "      <th>48</th>\n",
              "      <td>Кластер 0</td>\n",
              "      <td>[0.006620428751576293, 0.12042875157629256, 0....</td>\n",
              "      <td>[0.4588574423480084, 0.5411425576519916]</td>\n",
              "      <td>[0.9787735849056604, 0.02122641509433962]</td>\n",
              "      <td>Кинопоиск</td>\n",
              "      <td>[0.2329, 0.3766, 0.1667, 0.1128, 0.074, 0.0369]</td>\n",
              "      <td>[0.4453, 0.5547]</td>\n",
              "      <td>[0.8551, 0.1449]</td>\n",
              "      <td>0.659582</td>\n",
              "      <td>0.000371</td>\n",
              "      <td>0.091443</td>\n",
              "    </tr>\n",
              "    <tr>\n",
              "      <th>49</th>\n",
              "      <td>Кластер 0</td>\n",
              "      <td>[0.006620428751576293, 0.12042875157629256, 0....</td>\n",
              "      <td>[0.4588574423480084, 0.5411425576519916]</td>\n",
              "      <td>[0.9787735849056604, 0.02122641509433962]</td>\n",
              "      <td>2ГИС</td>\n",
              "      <td>[0.126, 0.3768, 0.2247, 0.1524, 0.0877, 0.0324]</td>\n",
              "      <td>[0.4798, 0.5202]</td>\n",
              "      <td>[0.9746, 0.02539]</td>\n",
              "      <td>0.444120</td>\n",
              "      <td>0.000880</td>\n",
              "      <td>0.000371</td>\n",
              "    </tr>\n",
              "  </tbody>\n",
              "</table>\n",
              "</div>\n",
              "      <button class=\"colab-df-convert\" onclick=\"convertToInteractive('df-c7e1116a-bb87-4b05-b66d-aed0a8a912f9')\"\n",
              "              title=\"Convert this dataframe to an interactive table.\"\n",
              "              style=\"display:none;\">\n",
              "        \n",
              "  <svg xmlns=\"http://www.w3.org/2000/svg\" height=\"24px\"viewBox=\"0 0 24 24\"\n",
              "       width=\"24px\">\n",
              "    <path d=\"M0 0h24v24H0V0z\" fill=\"none\"/>\n",
              "    <path d=\"M18.56 5.44l.94 2.06.94-2.06 2.06-.94-2.06-.94-.94-2.06-.94 2.06-2.06.94zm-11 1L8.5 8.5l.94-2.06 2.06-.94-2.06-.94L8.5 2.5l-.94 2.06-2.06.94zm10 10l.94 2.06.94-2.06 2.06-.94-2.06-.94-.94-2.06-.94 2.06-2.06.94z\"/><path d=\"M17.41 7.96l-1.37-1.37c-.4-.4-.92-.59-1.43-.59-.52 0-1.04.2-1.43.59L10.3 9.45l-7.72 7.72c-.78.78-.78 2.05 0 2.83L4 21.41c.39.39.9.59 1.41.59.51 0 1.02-.2 1.41-.59l7.78-7.78 2.81-2.81c.8-.78.8-2.07 0-2.86zM5.41 20L4 18.59l7.72-7.72 1.47 1.35L5.41 20z\"/>\n",
              "  </svg>\n",
              "      </button>\n",
              "      \n",
              "  <style>\n",
              "    .colab-df-container {\n",
              "      display:flex;\n",
              "      flex-wrap:wrap;\n",
              "      gap: 12px;\n",
              "    }\n",
              "\n",
              "    .colab-df-convert {\n",
              "      background-color: #E8F0FE;\n",
              "      border: none;\n",
              "      border-radius: 50%;\n",
              "      cursor: pointer;\n",
              "      display: none;\n",
              "      fill: #1967D2;\n",
              "      height: 32px;\n",
              "      padding: 0 0 0 0;\n",
              "      width: 32px;\n",
              "    }\n",
              "\n",
              "    .colab-df-convert:hover {\n",
              "      background-color: #E2EBFA;\n",
              "      box-shadow: 0px 1px 2px rgba(60, 64, 67, 0.3), 0px 1px 3px 1px rgba(60, 64, 67, 0.15);\n",
              "      fill: #174EA6;\n",
              "    }\n",
              "\n",
              "    [theme=dark] .colab-df-convert {\n",
              "      background-color: #3B4455;\n",
              "      fill: #D2E3FC;\n",
              "    }\n",
              "\n",
              "    [theme=dark] .colab-df-convert:hover {\n",
              "      background-color: #434B5C;\n",
              "      box-shadow: 0px 1px 3px 1px rgba(0, 0, 0, 0.15);\n",
              "      filter: drop-shadow(0px 1px 2px rgba(0, 0, 0, 0.3));\n",
              "      fill: #FFFFFF;\n",
              "    }\n",
              "  </style>\n",
              "\n",
              "      <script>\n",
              "        const buttonEl =\n",
              "          document.querySelector('#df-c7e1116a-bb87-4b05-b66d-aed0a8a912f9 button.colab-df-convert');\n",
              "        buttonEl.style.display =\n",
              "          google.colab.kernel.accessAllowed ? 'block' : 'none';\n",
              "\n",
              "        async function convertToInteractive(key) {\n",
              "          const element = document.querySelector('#df-c7e1116a-bb87-4b05-b66d-aed0a8a912f9');\n",
              "          const dataTable =\n",
              "            await google.colab.kernel.invokeFunction('convertToInteractive',\n",
              "                                                     [key], {});\n",
              "          if (!dataTable) return;\n",
              "\n",
              "          const docLinkHtml = 'Like what you see? Visit the ' +\n",
              "            '<a target=\"_blank\" href=https://colab.research.google.com/notebooks/data_table.ipynb>data table notebook</a>'\n",
              "            + ' to learn more about interactive tables.';\n",
              "          element.innerHTML = '';\n",
              "          dataTable['output_type'] = 'display_data';\n",
              "          await google.colab.output.renderOutput(dataTable, element);\n",
              "          const docLink = document.createElement('div');\n",
              "          docLink.innerHTML = docLinkHtml;\n",
              "          element.appendChild(docLink);\n",
              "        }\n",
              "      </script>\n",
              "    </div>\n",
              "  </div>\n",
              "  "
            ]
          },
          "metadata": {},
          "execution_count": 36
        }
      ],
      "source": [
        "df_cross.head(50)"
      ]
    },
    {
      "cell_type": "code",
      "source": [
        "df_cross[\"total_diff\"] = df_cross.age_diff + df_cross.gender_diff + df_cross.res_diff"
      ],
      "metadata": {
        "id": "e_vUfd553fMM"
      },
      "execution_count": null,
      "outputs": []
    },
    {
      "cell_type": "code",
      "execution_count": 38,
      "metadata": {
        "colab": {
          "base_uri": "https://localhost:8080/"
        },
        "id": "p5kO1rJMhrZ6",
        "outputId": "7bb8400d-22b1-4d18-8902-f4a5a1b1dc64"
      },
      "outputs": [
        {
          "output_type": "execute_result",
          "data": {
            "text/plain": [
              "[30    РБК\n",
              " Name: site, dtype: object, 92    ЦИАН\n",
              " Name: site, dtype: object, 14    ЦИАН\n",
              " Name: site, dtype: object, 56    РБК\n",
              " Name: site, dtype: object]"
            ]
          },
          "metadata": {},
          "execution_count": 38
        }
      ],
      "source": [
        "[df_cross[df_cross['total_diff'] == i]['site'] for i in df_cross.groupby([\"cluster\"]).min()['total_diff'].reset_index()['total_diff']]\n"
      ]
    },
    {
      "cell_type": "code",
      "execution_count": 39,
      "metadata": {
        "id": "nMJCaJ2khrZ7"
      },
      "outputs": [],
      "source": [
        "df_top5 = df_cross.sort_values(['cluster','total_diff'],ascending=True).groupby('cluster').head(5)"
      ]
    },
    {
      "cell_type": "code",
      "execution_count": null,
      "metadata": {
        "id": "QEymFpyehrZ7",
        "outputId": "70d54443-6dd4-45df-8332-1296f3a8f5f2"
      },
      "outputs": [
        {
          "data": {
            "text/html": [
              "<div>\n",
              "<style scoped>\n",
              "    .dataframe tbody tr th:only-of-type {\n",
              "        vertical-align: middle;\n",
              "    }\n",
              "\n",
              "    .dataframe tbody tr th {\n",
              "        vertical-align: top;\n",
              "    }\n",
              "\n",
              "    .dataframe thead th {\n",
              "        text-align: right;\n",
              "    }\n",
              "</style>\n",
              "<table border=\"1\" class=\"dataframe\">\n",
              "  <thead>\n",
              "    <tr style=\"text-align: right;\">\n",
              "      <th></th>\n",
              "      <th>cluster</th>\n",
              "      <th>age_cluster</th>\n",
              "      <th>gender_cluster</th>\n",
              "      <th>residents_cluster</th>\n",
              "      <th>site</th>\n",
              "      <th>age</th>\n",
              "      <th>gender</th>\n",
              "      <th>resident</th>\n",
              "      <th>age_diff</th>\n",
              "      <th>gender_diff</th>\n",
              "      <th>res_diff</th>\n",
              "      <th>total_diff</th>\n",
              "    </tr>\n",
              "  </thead>\n",
              "  <tbody>\n",
              "    <tr>\n",
              "      <th>14</th>\n",
              "      <td>Кластер 1</td>\n",
              "      <td>[0.09399680774237469, 0.22218849039332847, 0.2...</td>\n",
              "      <td>[0.5472131411001949, 0.452786858899805]</td>\n",
              "      <td>[0.9793993630761814, 0.020600636923818666]</td>\n",
              "      <td>ЦИАН</td>\n",
              "      <td>[0.112, 0.3754, 0.2259, 0.1561, 0.0963, 0.0343]</td>\n",
              "      <td>[0.5155, 0.4845]</td>\n",
              "      <td>[0.9625, 0.0375]</td>\n",
              "      <td>0.101697</td>\n",
              "      <td>0.002017</td>\n",
              "      <td>0.004707</td>\n",
              "      <td>0.108421</td>\n",
              "    </tr>\n",
              "    <tr>\n",
              "      <th>23</th>\n",
              "      <td>Кластер 1</td>\n",
              "      <td>[0.09399680774237469, 0.22218849039332847, 0.2...</td>\n",
              "      <td>[0.5472131411001949, 0.452786858899805]</td>\n",
              "      <td>[0.9793993630761814, 0.020600636923818666]</td>\n",
              "      <td>2ГИС</td>\n",
              "      <td>[0.126, 0.3768, 0.2247, 0.1524, 0.0877, 0.0324]</td>\n",
              "      <td>[0.4798, 0.5202]</td>\n",
              "      <td>[0.9746, 0.02539]</td>\n",
              "      <td>0.114922</td>\n",
              "      <td>0.009098</td>\n",
              "      <td>0.000495</td>\n",
              "      <td>0.124515</td>\n",
              "    </tr>\n",
              "    <tr>\n",
              "      <th>13</th>\n",
              "      <td>Кластер 1</td>\n",
              "      <td>[0.09399680774237469, 0.22218849039332847, 0.2...</td>\n",
              "      <td>[0.5472131411001949, 0.452786858899805]</td>\n",
              "      <td>[0.9793993630761814, 0.020600636923818666]</td>\n",
              "      <td>Avito</td>\n",
              "      <td>[0.1316, 0.3731, 0.2232, 0.15, 0.0882, 0.0339]</td>\n",
              "      <td>[0.4346, 0.5654]</td>\n",
              "      <td>[0.9573, 0.0427]</td>\n",
              "      <td>0.116913</td>\n",
              "      <td>0.025515</td>\n",
              "      <td>0.007337</td>\n",
              "      <td>0.149765</td>\n",
              "    </tr>\n",
              "    <tr>\n",
              "      <th>15</th>\n",
              "      <td>Кластер 1</td>\n",
              "      <td>[0.09399680774237469, 0.22218849039332847, 0.2...</td>\n",
              "      <td>[0.5472131411001949, 0.452786858899805]</td>\n",
              "      <td>[0.9793993630761814, 0.020600636923818666]</td>\n",
              "      <td>Юла</td>\n",
              "      <td>[0.1427, 0.3792, 0.2166, 0.141, 0.0886, 0.0319]</td>\n",
              "      <td>[0.4282, 0.5718]</td>\n",
              "      <td>[0.9774, 0.02259]</td>\n",
              "      <td>0.127755</td>\n",
              "      <td>0.028537</td>\n",
              "      <td>0.000092</td>\n",
              "      <td>0.156385</td>\n",
              "    </tr>\n",
              "    <tr>\n",
              "      <th>16</th>\n",
              "      <td>Кластер 1</td>\n",
              "      <td>[0.09399680774237469, 0.22218849039332847, 0.2...</td>\n",
              "      <td>[0.5472131411001949, 0.452786858899805]</td>\n",
              "      <td>[0.9793993630761814, 0.020600636923818666]</td>\n",
              "      <td>Wildberries</td>\n",
              "      <td>[0.1446, 0.3722, 0.2167, 0.1429, 0.0898, 0.0337]</td>\n",
              "      <td>[0.5228, 0.4772]</td>\n",
              "      <td>[0.9216, 0.0784]</td>\n",
              "      <td>0.124114</td>\n",
              "      <td>0.001197</td>\n",
              "      <td>0.032042</td>\n",
              "      <td>0.157353</td>\n",
              "    </tr>\n",
              "    <tr>\n",
              "      <th>...</th>\n",
              "      <td>...</td>\n",
              "      <td>...</td>\n",
              "      <td>...</td>\n",
              "      <td>...</td>\n",
              "      <td>...</td>\n",
              "      <td>...</td>\n",
              "      <td>...</td>\n",
              "      <td>...</td>\n",
              "      <td>...</td>\n",
              "      <td>...</td>\n",
              "      <td>...</td>\n",
              "      <td>...</td>\n",
              "    </tr>\n",
              "    <tr>\n",
              "      <th>60</th>\n",
              "      <td>Кластер 2</td>\n",
              "      <td>[0.0, 0.0, 0.8, 0.2, 0.0, 0.0]</td>\n",
              "      <td>[1.0, 0]</td>\n",
              "      <td>[1.0, 0]</td>\n",
              "      <td>Хабр</td>\n",
              "      <td>[0.172, 0.4475, 0.1937, 0.1025, 0.0569, 0.0275]</td>\n",
              "      <td>[0.301, 0.699]</td>\n",
              "      <td>[0.6852, 0.3148]</td>\n",
              "      <td>1.268432</td>\n",
              "      <td>1.200645</td>\n",
              "      <td>0.378045</td>\n",
              "      <td>2.847121</td>\n",
              "    </tr>\n",
              "    <tr>\n",
              "      <th>70</th>\n",
              "      <td>Кластер 2</td>\n",
              "      <td>[0.0, 0.0, 0.8, 0.2, 0.0, 0.0]</td>\n",
              "      <td>[1.0, 0]</td>\n",
              "      <td>[1.0, 0]</td>\n",
              "      <td>Good Game</td>\n",
              "      <td>[0.2494, 0.3979, 0.1575, 0.1009, 0.0614, 0.0329]</td>\n",
              "      <td>[0.2608, 0.7392]</td>\n",
              "      <td>[0.7995, 0.2005]</td>\n",
              "      <td>1.436987</td>\n",
              "      <td>1.344001</td>\n",
              "      <td>0.223769</td>\n",
              "      <td>3.004757</td>\n",
              "    </tr>\n",
              "    <tr>\n",
              "      <th>69</th>\n",
              "      <td>Кластер 2</td>\n",
              "      <td>[0.0, 0.0, 0.8, 0.2, 0.0, 0.0]</td>\n",
              "      <td>[1.0, 0]</td>\n",
              "      <td>[1.0, 0]</td>\n",
              "      <td>Wasd TV</td>\n",
              "      <td>[0.2726, 0.4071, 0.156, 0.0872, 0.05, 0.0272]</td>\n",
              "      <td>[0.2448, 0.7552]</td>\n",
              "      <td>[0.8434, 0.1566]</td>\n",
              "      <td>1.473927</td>\n",
              "      <td>1.407314</td>\n",
              "      <td>0.170314</td>\n",
              "      <td>3.051555</td>\n",
              "    </tr>\n",
              "    <tr>\n",
              "      <th>97</th>\n",
              "      <td>Кластер 3</td>\n",
              "      <td>[0.0, 0.0, 0.3217391304347826, 0.4260869565217...</td>\n",
              "      <td>[0.2440944881889764, 0.7559055118110236]</td>\n",
              "      <td>[1.0, 0]</td>\n",
              "      <td>Likee</td>\n",
              "      <td>[0.293, 0.3272, 0.1615, 0.1001, 0.0712, 0.047]</td>\n",
              "      <td>[0.3812, 0.6188]</td>\n",
              "      <td>[0.1535, 0.8465]</td>\n",
              "      <td>1.157836</td>\n",
              "      <td>0.042473</td>\n",
              "      <td>1.874055</td>\n",
              "      <td>3.074363</td>\n",
              "    </tr>\n",
              "    <tr>\n",
              "      <th>71</th>\n",
              "      <td>Кластер 2</td>\n",
              "      <td>[0.0, 0.0, 0.8, 0.2, 0.0, 0.0]</td>\n",
              "      <td>[1.0, 0]</td>\n",
              "      <td>[1.0, 0]</td>\n",
              "      <td>Likee</td>\n",
              "      <td>[0.293, 0.3272, 0.1615, 0.1001, 0.0712, 0.047]</td>\n",
              "      <td>[0.3812, 0.6188]</td>\n",
              "      <td>[0.1535, 0.8465]</td>\n",
              "      <td>1.418515</td>\n",
              "      <td>0.964431</td>\n",
              "      <td>1.874055</td>\n",
              "      <td>4.257001</td>\n",
              "    </tr>\n",
              "  </tbody>\n",
              "</table>\n",
              "<p>104 rows × 12 columns</p>\n",
              "</div>"
            ],
            "text/plain": [
              "      cluster                                        age_cluster  \\\n",
              "14  Кластер 1  [0.09399680774237469, 0.22218849039332847, 0.2...   \n",
              "23  Кластер 1  [0.09399680774237469, 0.22218849039332847, 0.2...   \n",
              "13  Кластер 1  [0.09399680774237469, 0.22218849039332847, 0.2...   \n",
              "15  Кластер 1  [0.09399680774237469, 0.22218849039332847, 0.2...   \n",
              "16  Кластер 1  [0.09399680774237469, 0.22218849039332847, 0.2...   \n",
              "..        ...                                                ...   \n",
              "60  Кластер 2                     [0.0, 0.0, 0.8, 0.2, 0.0, 0.0]   \n",
              "70  Кластер 2                     [0.0, 0.0, 0.8, 0.2, 0.0, 0.0]   \n",
              "69  Кластер 2                     [0.0, 0.0, 0.8, 0.2, 0.0, 0.0]   \n",
              "97  Кластер 3  [0.0, 0.0, 0.3217391304347826, 0.4260869565217...   \n",
              "71  Кластер 2                     [0.0, 0.0, 0.8, 0.2, 0.0, 0.0]   \n",
              "\n",
              "                              gender_cluster  \\\n",
              "14   [0.5472131411001949, 0.452786858899805]   \n",
              "23   [0.5472131411001949, 0.452786858899805]   \n",
              "13   [0.5472131411001949, 0.452786858899805]   \n",
              "15   [0.5472131411001949, 0.452786858899805]   \n",
              "16   [0.5472131411001949, 0.452786858899805]   \n",
              "..                                       ...   \n",
              "60                                  [1.0, 0]   \n",
              "70                                  [1.0, 0]   \n",
              "69                                  [1.0, 0]   \n",
              "97  [0.2440944881889764, 0.7559055118110236]   \n",
              "71                                  [1.0, 0]   \n",
              "\n",
              "                             residents_cluster         site  \\\n",
              "14  [0.9793993630761814, 0.020600636923818666]         ЦИАН   \n",
              "23  [0.9793993630761814, 0.020600636923818666]         2ГИС   \n",
              "13  [0.9793993630761814, 0.020600636923818666]        Avito   \n",
              "15  [0.9793993630761814, 0.020600636923818666]          Юла   \n",
              "16  [0.9793993630761814, 0.020600636923818666]  Wildberries   \n",
              "..                                         ...          ...   \n",
              "60                                    [1.0, 0]         Хабр   \n",
              "70                                    [1.0, 0]    Good Game   \n",
              "69                                    [1.0, 0]      Wasd TV   \n",
              "97                                    [1.0, 0]        Likee   \n",
              "71                                    [1.0, 0]        Likee   \n",
              "\n",
              "                                                 age            gender  \\\n",
              "14   [0.112, 0.3754, 0.2259, 0.1561, 0.0963, 0.0343]  [0.5155, 0.4845]   \n",
              "23   [0.126, 0.3768, 0.2247, 0.1524, 0.0877, 0.0324]  [0.4798, 0.5202]   \n",
              "13    [0.1316, 0.3731, 0.2232, 0.15, 0.0882, 0.0339]  [0.4346, 0.5654]   \n",
              "15   [0.1427, 0.3792, 0.2166, 0.141, 0.0886, 0.0319]  [0.4282, 0.5718]   \n",
              "16  [0.1446, 0.3722, 0.2167, 0.1429, 0.0898, 0.0337]  [0.5228, 0.4772]   \n",
              "..                                               ...               ...   \n",
              "60   [0.172, 0.4475, 0.1937, 0.1025, 0.0569, 0.0275]    [0.301, 0.699]   \n",
              "70  [0.2494, 0.3979, 0.1575, 0.1009, 0.0614, 0.0329]  [0.2608, 0.7392]   \n",
              "69     [0.2726, 0.4071, 0.156, 0.0872, 0.05, 0.0272]  [0.2448, 0.7552]   \n",
              "97    [0.293, 0.3272, 0.1615, 0.1001, 0.0712, 0.047]  [0.3812, 0.6188]   \n",
              "71    [0.293, 0.3272, 0.1615, 0.1001, 0.0712, 0.047]  [0.3812, 0.6188]   \n",
              "\n",
              "             resident  age_diff  gender_diff  res_diff  total_diff  \n",
              "14   [0.9625, 0.0375]  0.101697     0.002017  0.004707    0.108421  \n",
              "23  [0.9746, 0.02539]  0.114922     0.009098  0.000495    0.124515  \n",
              "13   [0.9573, 0.0427]  0.116913     0.025515  0.007337    0.149765  \n",
              "15  [0.9774, 0.02259]  0.127755     0.028537  0.000092    0.156385  \n",
              "16   [0.9216, 0.0784]  0.124114     0.001197  0.032042    0.157353  \n",
              "..                ...       ...          ...       ...         ...  \n",
              "60   [0.6852, 0.3148]  1.268432     1.200645  0.378045    2.847121  \n",
              "70   [0.7995, 0.2005]  1.436987     1.344001  0.223769    3.004757  \n",
              "69   [0.8434, 0.1566]  1.473927     1.407314  0.170314    3.051555  \n",
              "97   [0.1535, 0.8465]  1.157836     0.042473  1.874055    3.074363  \n",
              "71   [0.1535, 0.8465]  1.418515     0.964431  1.874055    4.257001  \n",
              "\n",
              "[104 rows x 12 columns]"
            ]
          },
          "execution_count": 89,
          "metadata": {},
          "output_type": "execute_result"
        }
      ],
      "source": [
        "df_cross = df_cross.sort_values('total_diff')"
      ]
    },
    {
      "cell_type": "code",
      "execution_count": null,
      "metadata": {
        "id": "ZIvfQ2xDhrZ7"
      },
      "outputs": [],
      "source": [
        "df_media = pd.read_csv(r'C:\\Moscow City Hack\\data_eff_media.csv').drop_duplicates(subset=['site'])"
      ]
    },
    {
      "cell_type": "markdown",
      "source": [
        "Рисуем графики на основе полученных данных "
      ],
      "metadata": {
        "id": "NA0Xjr9t3nvn"
      }
    },
    {
      "cell_type": "code",
      "execution_count": null,
      "metadata": {
        "id": "RB5daeBmhrZ8",
        "outputId": "bb86b8b3-ec8f-4eb2-ec38-a5ebd493468b"
      },
      "outputs": [
        {
          "data": {
            "application/vnd.plotly.v1+json": {
              "config": {
                "plotlyServerURL": "https://plot.ly"
              },
              "data": [
                {
                  "alignmentgroup": "True",
                  "hovertemplate": "variable=total_diff<br>cluster=Кластер 0<br>site=%{x}<br>value=%{y}<extra></extra>",
                  "legendgroup": "total_diff",
                  "marker": {
                    "color": "#636efa",
                    "opacity": 0.7,
                    "pattern": {
                      "shape": ""
                    }
                  },
                  "name": "total_diff",
                  "offsetgroup": "total_diff",
                  "orientation": "v",
                  "showlegend": true,
                  "textposition": "auto",
                  "type": "bar",
                  "x": [
                    "РБК",
                    "ЦИАН",
                    "2ГИС",
                    "Avito",
                    "Юла"
                  ],
                  "xaxis": "x",
                  "y": [
                    0.39413856565024136,
                    0.4191999825628411,
                    0.4453700503578439,
                    0.45752546921172926,
                    0.4743516972058574
                  ],
                  "yaxis": "y"
                },
                {
                  "alignmentgroup": "True",
                  "hovertemplate": "variable=total_diff<br>cluster=Кластер 1<br>site=%{x}<br>value=%{y}<extra></extra>",
                  "legendgroup": "total_diff",
                  "marker": {
                    "color": "#636efa",
                    "opacity": 0.7,
                    "pattern": {
                      "shape": ""
                    }
                  },
                  "name": "total_diff",
                  "offsetgroup": "total_diff",
                  "orientation": "v",
                  "showlegend": false,
                  "textposition": "auto",
                  "type": "bar",
                  "x": [
                    "ЦИАН",
                    "2ГИС",
                    "Avito",
                    "Юла",
                    "Wildberries"
                  ],
                  "xaxis": "x2",
                  "y": [
                    0.10842094563160469,
                    0.12451512923022295,
                    0.1497653929404732,
                    0.15638480328393953,
                    0.15735290183337095
                  ],
                  "yaxis": "y2"
                },
                {
                  "alignmentgroup": "True",
                  "hovertemplate": "variable=total_diff<br>cluster=Кластер 2<br>site=%{x}<br>value=%{y}<extra></extra>",
                  "legendgroup": "total_diff",
                  "marker": {
                    "color": "#636efa",
                    "opacity": 0.7,
                    "pattern": {
                      "shape": ""
                    }
                  },
                  "name": "total_diff",
                  "offsetgroup": "total_diff",
                  "orientation": "v",
                  "showlegend": false,
                  "textposition": "auto",
                  "type": "bar",
                  "x": [
                    "ЦИАН",
                    "2ГИС",
                    "Wildberries",
                    "Отзовик",
                    "Ozon"
                  ],
                  "xaxis": "x3",
                  "y": [
                    1.7620187395058264,
                    1.830342260539687,
                    1.8422129928951811,
                    1.9136898357697087,
                    1.9330112556377872
                  ],
                  "yaxis": "y3"
                },
                {
                  "alignmentgroup": "True",
                  "hovertemplate": "variable=total_diff<br>cluster=Кластер 3<br>site=%{x}<br>value=%{y}<extra></extra>",
                  "legendgroup": "total_diff",
                  "marker": {
                    "color": "#636efa",
                    "opacity": 0.7,
                    "pattern": {
                      "shape": ""
                    }
                  },
                  "name": "total_diff",
                  "offsetgroup": "total_diff",
                  "orientation": "v",
                  "showlegend": false,
                  "textposition": "auto",
                  "type": "bar",
                  "x": [
                    "РБК",
                    "Avito",
                    "Юла",
                    "2ГИС",
                    "ЦИАН"
                  ],
                  "xaxis": "x4",
                  "y": [
                    0.8913528054642443,
                    0.9497308124112793,
                    0.9589351429418483,
                    0.9631563164803352,
                    0.9763583378079318
                  ],
                  "yaxis": "y4"
                },
                {
                  "alignmentgroup": "True",
                  "hovertemplate": "variable=efficiency<br>cluster=Кластер 0<br>site=%{x}<br>value=%{y}<extra></extra>",
                  "legendgroup": "efficiency",
                  "marker": {
                    "color": "#EF553B",
                    "opacity": 0.7,
                    "pattern": {
                      "shape": ""
                    }
                  },
                  "name": "efficiency",
                  "offsetgroup": "efficiency",
                  "orientation": "v",
                  "showlegend": true,
                  "textposition": "auto",
                  "type": "bar",
                  "x": [
                    "РБК",
                    "ЦИАН",
                    "2ГИС",
                    "Avito",
                    "Юла"
                  ],
                  "xaxis": "x",
                  "y": [
                    364.8605996843766,
                    450.70694487698535,
                    387.2254559565386,
                    8846.95792880259,
                    156.53370655470027
                  ],
                  "yaxis": "y"
                },
                {
                  "alignmentgroup": "True",
                  "hovertemplate": "variable=efficiency<br>cluster=Кластер 1<br>site=%{x}<br>value=%{y}<extra></extra>",
                  "legendgroup": "efficiency",
                  "marker": {
                    "color": "#EF553B",
                    "opacity": 0.7,
                    "pattern": {
                      "shape": ""
                    }
                  },
                  "name": "efficiency",
                  "offsetgroup": "efficiency",
                  "orientation": "v",
                  "showlegend": false,
                  "textposition": "auto",
                  "type": "bar",
                  "x": [
                    "ЦИАН",
                    "2ГИС",
                    "Avito",
                    "Юла",
                    "Wildberries"
                  ],
                  "xaxis": "x2",
                  "y": [
                    450.70694487698535,
                    387.2254559565386,
                    8846.95792880259,
                    156.53370655470027,
                    6921.818181818182
                  ],
                  "yaxis": "y2"
                },
                {
                  "alignmentgroup": "True",
                  "hovertemplate": "variable=efficiency<br>cluster=Кластер 2<br>site=%{x}<br>value=%{y}<extra></extra>",
                  "legendgroup": "efficiency",
                  "marker": {
                    "color": "#EF553B",
                    "opacity": 0.7,
                    "pattern": {
                      "shape": ""
                    }
                  },
                  "name": "efficiency",
                  "offsetgroup": "efficiency",
                  "orientation": "v",
                  "showlegend": false,
                  "textposition": "auto",
                  "type": "bar",
                  "x": [
                    "ЦИАН",
                    "2ГИС",
                    "Wildberries",
                    "Отзовик",
                    "Ozon"
                  ],
                  "xaxis": "x3",
                  "y": [
                    450.70694487698535,
                    387.2254559565386,
                    6921.818181818182,
                    124.6819860484202,
                    2883.209109730849
                  ],
                  "yaxis": "y3"
                },
                {
                  "alignmentgroup": "True",
                  "hovertemplate": "variable=efficiency<br>cluster=Кластер 3<br>site=%{x}<br>value=%{y}<extra></extra>",
                  "legendgroup": "efficiency",
                  "marker": {
                    "color": "#EF553B",
                    "opacity": 0.7,
                    "pattern": {
                      "shape": ""
                    }
                  },
                  "name": "efficiency",
                  "offsetgroup": "efficiency",
                  "orientation": "v",
                  "showlegend": false,
                  "textposition": "auto",
                  "type": "bar",
                  "x": [
                    "РБК",
                    "Avito",
                    "Юла",
                    "2ГИС",
                    "ЦИАН"
                  ],
                  "xaxis": "x4",
                  "y": [
                    364.8605996843766,
                    8846.95792880259,
                    156.53370655470027,
                    387.2254559565386,
                    450.70694487698535
                  ],
                  "yaxis": "y4"
                },
                {
                  "alignmentgroup": "True",
                  "hovertemplate": "variable=relative_efficiency<br>cluster=Кластер 0<br>site=%{x}<br>value=%{y}<extra></extra>",
                  "legendgroup": "relative_efficiency",
                  "marker": {
                    "color": "#00cc96",
                    "opacity": 0.7,
                    "pattern": {
                      "shape": ""
                    }
                  },
                  "name": "relative_efficiency",
                  "offsetgroup": "relative_efficiency",
                  "orientation": "v",
                  "showlegend": true,
                  "textposition": "auto",
                  "type": "bar",
                  "x": [
                    "РБК",
                    "ЦИАН",
                    "2ГИС",
                    "Avito",
                    "Юла"
                  ],
                  "xaxis": "x",
                  "y": [
                    925.7165664122144,
                    1075.1597414711753,
                    869.4465549387807,
                    19336.53648625292,
                    329.9950384424752
                  ],
                  "yaxis": "y"
                },
                {
                  "alignmentgroup": "True",
                  "hovertemplate": "variable=relative_efficiency<br>cluster=Кластер 1<br>site=%{x}<br>value=%{y}<extra></extra>",
                  "legendgroup": "relative_efficiency",
                  "marker": {
                    "color": "#00cc96",
                    "opacity": 0.7,
                    "pattern": {
                      "shape": ""
                    }
                  },
                  "name": "relative_efficiency",
                  "offsetgroup": "relative_efficiency",
                  "orientation": "v",
                  "showlegend": false,
                  "textposition": "auto",
                  "type": "bar",
                  "x": [
                    "ЦИАН",
                    "2ГИС",
                    "Avito",
                    "Юла",
                    "Wildberries"
                  ],
                  "xaxis": "x2",
                  "y": [
                    4157.009904787294,
                    3109.866715397901,
                    59072.11108723204,
                    1000.9521594658427,
                    43989.13589244163
                  ],
                  "yaxis": "y2"
                },
                {
                  "alignmentgroup": "True",
                  "hovertemplate": "variable=relative_efficiency<br>cluster=Кластер 2<br>site=%{x}<br>value=%{y}<extra></extra>",
                  "legendgroup": "relative_efficiency",
                  "marker": {
                    "color": "#00cc96",
                    "opacity": 0.7,
                    "pattern": {
                      "shape": ""
                    }
                  },
                  "name": "relative_efficiency",
                  "offsetgroup": "relative_efficiency",
                  "orientation": "v",
                  "showlegend": false,
                  "textposition": "auto",
                  "type": "bar",
                  "x": [
                    "ЦИАН",
                    "2ГИС",
                    "Wildberries",
                    "Отзовик",
                    "Ozon"
                  ],
                  "xaxis": "x3",
                  "y": [
                    255.79009733085476,
                    211.55904242868922,
                    3757.338705412128,
                    65.15266148041782,
                    1491.5635391784353
                  ],
                  "yaxis": "y3"
                },
                {
                  "alignmentgroup": "True",
                  "hovertemplate": "variable=relative_efficiency<br>cluster=Кластер 3<br>site=%{x}<br>value=%{y}<extra></extra>",
                  "legendgroup": "relative_efficiency",
                  "marker": {
                    "color": "#00cc96",
                    "opacity": 0.7,
                    "pattern": {
                      "shape": ""
                    }
                  },
                  "name": "relative_efficiency",
                  "offsetgroup": "relative_efficiency",
                  "orientation": "v",
                  "showlegend": false,
                  "textposition": "auto",
                  "type": "bar",
                  "x": [
                    "РБК",
                    "Avito",
                    "Юла",
                    "2ГИС",
                    "ЦИАН"
                  ],
                  "xaxis": "x4",
                  "y": [
                    409.3335404877599,
                    9315.226812891304,
                    163.2370110813561,
                    402.03801743374083,
                    461.6204188811341
                  ],
                  "yaxis": "y4"
                }
              ],
              "layout": {
                "annotations": [
                  {
                    "font": {},
                    "showarrow": false,
                    "text": "cluster=Кластер 0",
                    "x": 0.1175,
                    "xanchor": "center",
                    "xref": "paper",
                    "y": 1,
                    "yanchor": "bottom",
                    "yref": "paper"
                  },
                  {
                    "font": {},
                    "showarrow": false,
                    "text": "cluster=Кластер 1",
                    "x": 0.3725,
                    "xanchor": "center",
                    "xref": "paper",
                    "y": 1,
                    "yanchor": "bottom",
                    "yref": "paper"
                  },
                  {
                    "font": {},
                    "showarrow": false,
                    "text": "cluster=Кластер 2",
                    "x": 0.6275,
                    "xanchor": "center",
                    "xref": "paper",
                    "y": 1,
                    "yanchor": "bottom",
                    "yref": "paper"
                  },
                  {
                    "font": {},
                    "showarrow": false,
                    "text": "cluster=Кластер 3",
                    "x": 0.8824999999999998,
                    "xanchor": "center",
                    "xref": "paper",
                    "y": 1,
                    "yanchor": "bottom",
                    "yref": "paper"
                  }
                ],
                "autosize": true,
                "barmode": "relative",
                "legend": {
                  "title": {
                    "text": "variable"
                  },
                  "tracegroupgap": 0
                },
                "margin": {
                  "t": 60
                },
                "template": {
                  "data": {
                    "bar": [
                      {
                        "error_x": {
                          "color": "#2a3f5f"
                        },
                        "error_y": {
                          "color": "#2a3f5f"
                        },
                        "marker": {
                          "line": {
                            "color": "#E5ECF6",
                            "width": 0.5
                          },
                          "pattern": {
                            "fillmode": "overlay",
                            "size": 10,
                            "solidity": 0.2
                          }
                        },
                        "type": "bar"
                      }
                    ],
                    "barpolar": [
                      {
                        "marker": {
                          "line": {
                            "color": "#E5ECF6",
                            "width": 0.5
                          },
                          "pattern": {
                            "fillmode": "overlay",
                            "size": 10,
                            "solidity": 0.2
                          }
                        },
                        "type": "barpolar"
                      }
                    ],
                    "carpet": [
                      {
                        "aaxis": {
                          "endlinecolor": "#2a3f5f",
                          "gridcolor": "white",
                          "linecolor": "white",
                          "minorgridcolor": "white",
                          "startlinecolor": "#2a3f5f"
                        },
                        "baxis": {
                          "endlinecolor": "#2a3f5f",
                          "gridcolor": "white",
                          "linecolor": "white",
                          "minorgridcolor": "white",
                          "startlinecolor": "#2a3f5f"
                        },
                        "type": "carpet"
                      }
                    ],
                    "choropleth": [
                      {
                        "colorbar": {
                          "outlinewidth": 0,
                          "ticks": ""
                        },
                        "type": "choropleth"
                      }
                    ],
                    "contour": [
                      {
                        "colorbar": {
                          "outlinewidth": 0,
                          "ticks": ""
                        },
                        "colorscale": [
                          [
                            0,
                            "#0d0887"
                          ],
                          [
                            0.1111111111111111,
                            "#46039f"
                          ],
                          [
                            0.2222222222222222,
                            "#7201a8"
                          ],
                          [
                            0.3333333333333333,
                            "#9c179e"
                          ],
                          [
                            0.4444444444444444,
                            "#bd3786"
                          ],
                          [
                            0.5555555555555556,
                            "#d8576b"
                          ],
                          [
                            0.6666666666666666,
                            "#ed7953"
                          ],
                          [
                            0.7777777777777778,
                            "#fb9f3a"
                          ],
                          [
                            0.8888888888888888,
                            "#fdca26"
                          ],
                          [
                            1,
                            "#f0f921"
                          ]
                        ],
                        "type": "contour"
                      }
                    ],
                    "contourcarpet": [
                      {
                        "colorbar": {
                          "outlinewidth": 0,
                          "ticks": ""
                        },
                        "type": "contourcarpet"
                      }
                    ],
                    "heatmap": [
                      {
                        "colorbar": {
                          "outlinewidth": 0,
                          "ticks": ""
                        },
                        "colorscale": [
                          [
                            0,
                            "#0d0887"
                          ],
                          [
                            0.1111111111111111,
                            "#46039f"
                          ],
                          [
                            0.2222222222222222,
                            "#7201a8"
                          ],
                          [
                            0.3333333333333333,
                            "#9c179e"
                          ],
                          [
                            0.4444444444444444,
                            "#bd3786"
                          ],
                          [
                            0.5555555555555556,
                            "#d8576b"
                          ],
                          [
                            0.6666666666666666,
                            "#ed7953"
                          ],
                          [
                            0.7777777777777778,
                            "#fb9f3a"
                          ],
                          [
                            0.8888888888888888,
                            "#fdca26"
                          ],
                          [
                            1,
                            "#f0f921"
                          ]
                        ],
                        "type": "heatmap"
                      }
                    ],
                    "heatmapgl": [
                      {
                        "colorbar": {
                          "outlinewidth": 0,
                          "ticks": ""
                        },
                        "colorscale": [
                          [
                            0,
                            "#0d0887"
                          ],
                          [
                            0.1111111111111111,
                            "#46039f"
                          ],
                          [
                            0.2222222222222222,
                            "#7201a8"
                          ],
                          [
                            0.3333333333333333,
                            "#9c179e"
                          ],
                          [
                            0.4444444444444444,
                            "#bd3786"
                          ],
                          [
                            0.5555555555555556,
                            "#d8576b"
                          ],
                          [
                            0.6666666666666666,
                            "#ed7953"
                          ],
                          [
                            0.7777777777777778,
                            "#fb9f3a"
                          ],
                          [
                            0.8888888888888888,
                            "#fdca26"
                          ],
                          [
                            1,
                            "#f0f921"
                          ]
                        ],
                        "type": "heatmapgl"
                      }
                    ],
                    "histogram": [
                      {
                        "marker": {
                          "pattern": {
                            "fillmode": "overlay",
                            "size": 10,
                            "solidity": 0.2
                          }
                        },
                        "type": "histogram"
                      }
                    ],
                    "histogram2d": [
                      {
                        "colorbar": {
                          "outlinewidth": 0,
                          "ticks": ""
                        },
                        "colorscale": [
                          [
                            0,
                            "#0d0887"
                          ],
                          [
                            0.1111111111111111,
                            "#46039f"
                          ],
                          [
                            0.2222222222222222,
                            "#7201a8"
                          ],
                          [
                            0.3333333333333333,
                            "#9c179e"
                          ],
                          [
                            0.4444444444444444,
                            "#bd3786"
                          ],
                          [
                            0.5555555555555556,
                            "#d8576b"
                          ],
                          [
                            0.6666666666666666,
                            "#ed7953"
                          ],
                          [
                            0.7777777777777778,
                            "#fb9f3a"
                          ],
                          [
                            0.8888888888888888,
                            "#fdca26"
                          ],
                          [
                            1,
                            "#f0f921"
                          ]
                        ],
                        "type": "histogram2d"
                      }
                    ],
                    "histogram2dcontour": [
                      {
                        "colorbar": {
                          "outlinewidth": 0,
                          "ticks": ""
                        },
                        "colorscale": [
                          [
                            0,
                            "#0d0887"
                          ],
                          [
                            0.1111111111111111,
                            "#46039f"
                          ],
                          [
                            0.2222222222222222,
                            "#7201a8"
                          ],
                          [
                            0.3333333333333333,
                            "#9c179e"
                          ],
                          [
                            0.4444444444444444,
                            "#bd3786"
                          ],
                          [
                            0.5555555555555556,
                            "#d8576b"
                          ],
                          [
                            0.6666666666666666,
                            "#ed7953"
                          ],
                          [
                            0.7777777777777778,
                            "#fb9f3a"
                          ],
                          [
                            0.8888888888888888,
                            "#fdca26"
                          ],
                          [
                            1,
                            "#f0f921"
                          ]
                        ],
                        "type": "histogram2dcontour"
                      }
                    ],
                    "mesh3d": [
                      {
                        "colorbar": {
                          "outlinewidth": 0,
                          "ticks": ""
                        },
                        "type": "mesh3d"
                      }
                    ],
                    "parcoords": [
                      {
                        "line": {
                          "colorbar": {
                            "outlinewidth": 0,
                            "ticks": ""
                          }
                        },
                        "type": "parcoords"
                      }
                    ],
                    "pie": [
                      {
                        "automargin": true,
                        "type": "pie"
                      }
                    ],
                    "scatter": [
                      {
                        "marker": {
                          "colorbar": {
                            "outlinewidth": 0,
                            "ticks": ""
                          }
                        },
                        "type": "scatter"
                      }
                    ],
                    "scatter3d": [
                      {
                        "line": {
                          "colorbar": {
                            "outlinewidth": 0,
                            "ticks": ""
                          }
                        },
                        "marker": {
                          "colorbar": {
                            "outlinewidth": 0,
                            "ticks": ""
                          }
                        },
                        "type": "scatter3d"
                      }
                    ],
                    "scattercarpet": [
                      {
                        "marker": {
                          "colorbar": {
                            "outlinewidth": 0,
                            "ticks": ""
                          }
                        },
                        "type": "scattercarpet"
                      }
                    ],
                    "scattergeo": [
                      {
                        "marker": {
                          "colorbar": {
                            "outlinewidth": 0,
                            "ticks": ""
                          }
                        },
                        "type": "scattergeo"
                      }
                    ],
                    "scattergl": [
                      {
                        "marker": {
                          "colorbar": {
                            "outlinewidth": 0,
                            "ticks": ""
                          }
                        },
                        "type": "scattergl"
                      }
                    ],
                    "scattermapbox": [
                      {
                        "marker": {
                          "colorbar": {
                            "outlinewidth": 0,
                            "ticks": ""
                          }
                        },
                        "type": "scattermapbox"
                      }
                    ],
                    "scatterpolar": [
                      {
                        "marker": {
                          "colorbar": {
                            "outlinewidth": 0,
                            "ticks": ""
                          }
                        },
                        "type": "scatterpolar"
                      }
                    ],
                    "scatterpolargl": [
                      {
                        "marker": {
                          "colorbar": {
                            "outlinewidth": 0,
                            "ticks": ""
                          }
                        },
                        "type": "scatterpolargl"
                      }
                    ],
                    "scatterternary": [
                      {
                        "marker": {
                          "colorbar": {
                            "outlinewidth": 0,
                            "ticks": ""
                          }
                        },
                        "type": "scatterternary"
                      }
                    ],
                    "surface": [
                      {
                        "colorbar": {
                          "outlinewidth": 0,
                          "ticks": ""
                        },
                        "colorscale": [
                          [
                            0,
                            "#0d0887"
                          ],
                          [
                            0.1111111111111111,
                            "#46039f"
                          ],
                          [
                            0.2222222222222222,
                            "#7201a8"
                          ],
                          [
                            0.3333333333333333,
                            "#9c179e"
                          ],
                          [
                            0.4444444444444444,
                            "#bd3786"
                          ],
                          [
                            0.5555555555555556,
                            "#d8576b"
                          ],
                          [
                            0.6666666666666666,
                            "#ed7953"
                          ],
                          [
                            0.7777777777777778,
                            "#fb9f3a"
                          ],
                          [
                            0.8888888888888888,
                            "#fdca26"
                          ],
                          [
                            1,
                            "#f0f921"
                          ]
                        ],
                        "type": "surface"
                      }
                    ],
                    "table": [
                      {
                        "cells": {
                          "fill": {
                            "color": "#EBF0F8"
                          },
                          "line": {
                            "color": "white"
                          }
                        },
                        "header": {
                          "fill": {
                            "color": "#C8D4E3"
                          },
                          "line": {
                            "color": "white"
                          }
                        },
                        "type": "table"
                      }
                    ]
                  },
                  "layout": {
                    "annotationdefaults": {
                      "arrowcolor": "#2a3f5f",
                      "arrowhead": 0,
                      "arrowwidth": 1
                    },
                    "autotypenumbers": "strict",
                    "coloraxis": {
                      "colorbar": {
                        "outlinewidth": 0,
                        "ticks": ""
                      }
                    },
                    "colorscale": {
                      "diverging": [
                        [
                          0,
                          "#8e0152"
                        ],
                        [
                          0.1,
                          "#c51b7d"
                        ],
                        [
                          0.2,
                          "#de77ae"
                        ],
                        [
                          0.3,
                          "#f1b6da"
                        ],
                        [
                          0.4,
                          "#fde0ef"
                        ],
                        [
                          0.5,
                          "#f7f7f7"
                        ],
                        [
                          0.6,
                          "#e6f5d0"
                        ],
                        [
                          0.7,
                          "#b8e186"
                        ],
                        [
                          0.8,
                          "#7fbc41"
                        ],
                        [
                          0.9,
                          "#4d9221"
                        ],
                        [
                          1,
                          "#276419"
                        ]
                      ],
                      "sequential": [
                        [
                          0,
                          "#0d0887"
                        ],
                        [
                          0.1111111111111111,
                          "#46039f"
                        ],
                        [
                          0.2222222222222222,
                          "#7201a8"
                        ],
                        [
                          0.3333333333333333,
                          "#9c179e"
                        ],
                        [
                          0.4444444444444444,
                          "#bd3786"
                        ],
                        [
                          0.5555555555555556,
                          "#d8576b"
                        ],
                        [
                          0.6666666666666666,
                          "#ed7953"
                        ],
                        [
                          0.7777777777777778,
                          "#fb9f3a"
                        ],
                        [
                          0.8888888888888888,
                          "#fdca26"
                        ],
                        [
                          1,
                          "#f0f921"
                        ]
                      ],
                      "sequentialminus": [
                        [
                          0,
                          "#0d0887"
                        ],
                        [
                          0.1111111111111111,
                          "#46039f"
                        ],
                        [
                          0.2222222222222222,
                          "#7201a8"
                        ],
                        [
                          0.3333333333333333,
                          "#9c179e"
                        ],
                        [
                          0.4444444444444444,
                          "#bd3786"
                        ],
                        [
                          0.5555555555555556,
                          "#d8576b"
                        ],
                        [
                          0.6666666666666666,
                          "#ed7953"
                        ],
                        [
                          0.7777777777777778,
                          "#fb9f3a"
                        ],
                        [
                          0.8888888888888888,
                          "#fdca26"
                        ],
                        [
                          1,
                          "#f0f921"
                        ]
                      ]
                    },
                    "colorway": [
                      "#636efa",
                      "#EF553B",
                      "#00cc96",
                      "#ab63fa",
                      "#FFA15A",
                      "#19d3f3",
                      "#FF6692",
                      "#B6E880",
                      "#FF97FF",
                      "#FECB52"
                    ],
                    "font": {
                      "color": "#2a3f5f"
                    },
                    "geo": {
                      "bgcolor": "white",
                      "lakecolor": "white",
                      "landcolor": "#E5ECF6",
                      "showlakes": true,
                      "showland": true,
                      "subunitcolor": "white"
                    },
                    "hoverlabel": {
                      "align": "left"
                    },
                    "hovermode": "closest",
                    "mapbox": {
                      "style": "light"
                    },
                    "paper_bgcolor": "white",
                    "plot_bgcolor": "#E5ECF6",
                    "polar": {
                      "angularaxis": {
                        "gridcolor": "white",
                        "linecolor": "white",
                        "ticks": ""
                      },
                      "bgcolor": "#E5ECF6",
                      "radialaxis": {
                        "gridcolor": "white",
                        "linecolor": "white",
                        "ticks": ""
                      }
                    },
                    "scene": {
                      "xaxis": {
                        "backgroundcolor": "#E5ECF6",
                        "gridcolor": "white",
                        "gridwidth": 2,
                        "linecolor": "white",
                        "showbackground": true,
                        "ticks": "",
                        "zerolinecolor": "white"
                      },
                      "yaxis": {
                        "backgroundcolor": "#E5ECF6",
                        "gridcolor": "white",
                        "gridwidth": 2,
                        "linecolor": "white",
                        "showbackground": true,
                        "ticks": "",
                        "zerolinecolor": "white"
                      },
                      "zaxis": {
                        "backgroundcolor": "#E5ECF6",
                        "gridcolor": "white",
                        "gridwidth": 2,
                        "linecolor": "white",
                        "showbackground": true,
                        "ticks": "",
                        "zerolinecolor": "white"
                      }
                    },
                    "shapedefaults": {
                      "line": {
                        "color": "#2a3f5f"
                      }
                    },
                    "ternary": {
                      "aaxis": {
                        "gridcolor": "white",
                        "linecolor": "white",
                        "ticks": ""
                      },
                      "baxis": {
                        "gridcolor": "white",
                        "linecolor": "white",
                        "ticks": ""
                      },
                      "bgcolor": "#E5ECF6",
                      "caxis": {
                        "gridcolor": "white",
                        "linecolor": "white",
                        "ticks": ""
                      }
                    },
                    "title": {
                      "x": 0.05
                    },
                    "xaxis": {
                      "automargin": true,
                      "gridcolor": "white",
                      "linecolor": "white",
                      "ticks": "",
                      "title": {
                        "standoff": 15
                      },
                      "zerolinecolor": "white",
                      "zerolinewidth": 2
                    },
                    "yaxis": {
                      "automargin": true,
                      "gridcolor": "white",
                      "linecolor": "white",
                      "ticks": "",
                      "title": {
                        "standoff": 15
                      },
                      "zerolinecolor": "white",
                      "zerolinewidth": 2
                    }
                  }
                },
                "xaxis": {
                  "anchor": "y",
                  "autorange": true,
                  "domain": [
                    0,
                    0.235
                  ],
                  "range": [
                    -0.5,
                    7.5
                  ],
                  "title": {
                    "text": "site"
                  },
                  "type": "category"
                },
                "xaxis2": {
                  "anchor": "y2",
                  "autorange": true,
                  "domain": [
                    0.255,
                    0.49
                  ],
                  "matches": "x",
                  "range": [
                    -0.5,
                    7.5
                  ],
                  "title": {
                    "text": "site"
                  },
                  "type": "category"
                },
                "xaxis3": {
                  "anchor": "y3",
                  "autorange": true,
                  "domain": [
                    0.51,
                    0.745
                  ],
                  "matches": "x",
                  "range": [
                    -0.5,
                    7.5
                  ],
                  "title": {
                    "text": "site"
                  },
                  "type": "category"
                },
                "xaxis4": {
                  "anchor": "y4",
                  "autorange": true,
                  "domain": [
                    0.7649999999999999,
                    0.9999999999999999
                  ],
                  "matches": "x",
                  "range": [
                    -0.5,
                    7.5
                  ],
                  "title": {
                    "text": "site"
                  },
                  "type": "category"
                },
                "yaxis": {
                  "anchor": "x",
                  "autorange": true,
                  "domain": [
                    0,
                    1
                  ],
                  "range": [
                    0,
                    71493.91450676585
                  ],
                  "title": {
                    "text": "value"
                  },
                  "type": "linear"
                },
                "yaxis2": {
                  "anchor": "x2",
                  "autorange": true,
                  "domain": [
                    0,
                    1
                  ],
                  "matches": "y",
                  "range": [
                    0,
                    71493.91450676585
                  ],
                  "showticklabels": false,
                  "type": "linear"
                },
                "yaxis3": {
                  "anchor": "x3",
                  "autorange": true,
                  "domain": [
                    0,
                    1
                  ],
                  "matches": "y",
                  "range": [
                    0,
                    71493.91450676585
                  ],
                  "showticklabels": false,
                  "type": "linear"
                },
                "yaxis4": {
                  "anchor": "x4",
                  "autorange": true,
                  "domain": [
                    0,
                    1
                  ],
                  "matches": "y",
                  "range": [
                    0,
                    71493.91450676585
                  ],
                  "showticklabels": false,
                  "type": "linear"
                }
              }
            },
            "image/png": "[encoded data removed]",
            "text/html": [
              "<div>                            <div id=\"98096c45-9b73-4b2e-85af-6fb9e1d06e1f\" class=\"plotly-graph-div\" style=\"height:525px; width:100%;\"></div>            <script type=\"text/javascript\">                require([\"plotly\"], function(Plotly) {                    window.PLOTLYENV=window.PLOTLYENV || {};                                    if (document.getElementById(\"98096c45-9b73-4b2e-85af-6fb9e1d06e1f\")) {                    Plotly.newPlot(                        \"98096c45-9b73-4b2e-85af-6fb9e1d06e1f\",                        [{\"alignmentgroup\":\"True\",\"hovertemplate\":\"variable=total_diff<br>cluster=\\u041a\\u043b\\u0430\\u0441\\u0442\\u0435\\u0440 0<br>site=%{x}<br>value=%{y}<extra></extra>\",\"legendgroup\":\"total_diff\",\"marker\":{\"color\":\"#636efa\",\"opacity\":0.7,\"pattern\":{\"shape\":\"\"}},\"name\":\"total_diff\",\"offsetgroup\":\"total_diff\",\"orientation\":\"v\",\"showlegend\":true,\"textposition\":\"auto\",\"x\":[\"\\u0420\\u0411\\u041a\",\"\\u0426\\u0418\\u0410\\u041d\",\"2\\u0413\\u0418\\u0421\",\"Avito\",\"\\u042e\\u043b\\u0430\"],\"xaxis\":\"x\",\"y\":[0.39413856565024136,0.4191999825628411,0.4453700503578439,0.45752546921172926,0.4743516972058574],\"yaxis\":\"y\",\"type\":\"bar\"},{\"alignmentgroup\":\"True\",\"hovertemplate\":\"variable=total_diff<br>cluster=\\u041a\\u043b\\u0430\\u0441\\u0442\\u0435\\u0440 1<br>site=%{x}<br>value=%{y}<extra></extra>\",\"legendgroup\":\"total_diff\",\"marker\":{\"color\":\"#636efa\",\"opacity\":0.7,\"pattern\":{\"shape\":\"\"}},\"name\":\"total_diff\",\"offsetgroup\":\"total_diff\",\"orientation\":\"v\",\"showlegend\":false,\"textposition\":\"auto\",\"x\":[\"\\u0426\\u0418\\u0410\\u041d\",\"2\\u0413\\u0418\\u0421\",\"Avito\",\"\\u042e\\u043b\\u0430\",\"Wildberries\"],\"xaxis\":\"x2\",\"y\":[0.10842094563160469,0.12451512923022295,0.1497653929404732,0.15638480328393953,0.15735290183337095],\"yaxis\":\"y2\",\"type\":\"bar\"},{\"alignmentgroup\":\"True\",\"hovertemplate\":\"variable=total_diff<br>cluster=\\u041a\\u043b\\u0430\\u0441\\u0442\\u0435\\u0440 2<br>site=%{x}<br>value=%{y}<extra></extra>\",\"legendgroup\":\"total_diff\",\"marker\":{\"color\":\"#636efa\",\"opacity\":0.7,\"pattern\":{\"shape\":\"\"}},\"name\":\"total_diff\",\"offsetgroup\":\"total_diff\",\"orientation\":\"v\",\"showlegend\":false,\"textposition\":\"auto\",\"x\":[\"\\u0426\\u0418\\u0410\\u041d\",\"2\\u0413\\u0418\\u0421\",\"Wildberries\",\"\\u041e\\u0442\\u0437\\u043e\\u0432\\u0438\\u043a\",\"Ozon\"],\"xaxis\":\"x3\",\"y\":[1.7620187395058264,1.830342260539687,1.8422129928951811,1.9136898357697087,1.9330112556377872],\"yaxis\":\"y3\",\"type\":\"bar\"},{\"alignmentgroup\":\"True\",\"hovertemplate\":\"variable=total_diff<br>cluster=\\u041a\\u043b\\u0430\\u0441\\u0442\\u0435\\u0440 3<br>site=%{x}<br>value=%{y}<extra></extra>\",\"legendgroup\":\"total_diff\",\"marker\":{\"color\":\"#636efa\",\"opacity\":0.7,\"pattern\":{\"shape\":\"\"}},\"name\":\"total_diff\",\"offsetgroup\":\"total_diff\",\"orientation\":\"v\",\"showlegend\":false,\"textposition\":\"auto\",\"x\":[\"\\u0420\\u0411\\u041a\",\"Avito\",\"\\u042e\\u043b\\u0430\",\"2\\u0413\\u0418\\u0421\",\"\\u0426\\u0418\\u0410\\u041d\"],\"xaxis\":\"x4\",\"y\":[0.8913528054642443,0.9497308124112793,0.9589351429418483,0.9631563164803352,0.9763583378079318],\"yaxis\":\"y4\",\"type\":\"bar\"},{\"alignmentgroup\":\"True\",\"hovertemplate\":\"variable=efficiency<br>cluster=\\u041a\\u043b\\u0430\\u0441\\u0442\\u0435\\u0440 0<br>site=%{x}<br>value=%{y}<extra></extra>\",\"legendgroup\":\"efficiency\",\"marker\":{\"color\":\"#EF553B\",\"opacity\":0.7,\"pattern\":{\"shape\":\"\"}},\"name\":\"efficiency\",\"offsetgroup\":\"efficiency\",\"orientation\":\"v\",\"showlegend\":true,\"textposition\":\"auto\",\"x\":[\"\\u0420\\u0411\\u041a\",\"\\u0426\\u0418\\u0410\\u041d\",\"2\\u0413\\u0418\\u0421\",\"Avito\",\"\\u042e\\u043b\\u0430\"],\"xaxis\":\"x\",\"y\":[364.8605996843766,450.70694487698535,387.2254559565386,8846.95792880259,156.53370655470027],\"yaxis\":\"y\",\"type\":\"bar\"},{\"alignmentgroup\":\"True\",\"hovertemplate\":\"variable=efficiency<br>cluster=\\u041a\\u043b\\u0430\\u0441\\u0442\\u0435\\u0440 1<br>site=%{x}<br>value=%{y}<extra></extra>\",\"legendgroup\":\"efficiency\",\"marker\":{\"color\":\"#EF553B\",\"opacity\":0.7,\"pattern\":{\"shape\":\"\"}},\"name\":\"efficiency\",\"offsetgroup\":\"efficiency\",\"orientation\":\"v\",\"showlegend\":false,\"textposition\":\"auto\",\"x\":[\"\\u0426\\u0418\\u0410\\u041d\",\"2\\u0413\\u0418\\u0421\",\"Avito\",\"\\u042e\\u043b\\u0430\",\"Wildberries\"],\"xaxis\":\"x2\",\"y\":[450.70694487698535,387.2254559565386,8846.95792880259,156.53370655470027,6921.818181818182],\"yaxis\":\"y2\",\"type\":\"bar\"},{\"alignmentgroup\":\"True\",\"hovertemplate\":\"variable=efficiency<br>cluster=\\u041a\\u043b\\u0430\\u0441\\u0442\\u0435\\u0440 2<br>site=%{x}<br>value=%{y}<extra></extra>\",\"legendgroup\":\"efficiency\",\"marker\":{\"color\":\"#EF553B\",\"opacity\":0.7,\"pattern\":{\"shape\":\"\"}},\"name\":\"efficiency\",\"offsetgroup\":\"efficiency\",\"orientation\":\"v\",\"showlegend\":false,\"textposition\":\"auto\",\"x\":[\"\\u0426\\u0418\\u0410\\u041d\",\"2\\u0413\\u0418\\u0421\",\"Wildberries\",\"\\u041e\\u0442\\u0437\\u043e\\u0432\\u0438\\u043a\",\"Ozon\"],\"xaxis\":\"x3\",\"y\":[450.70694487698535,387.2254559565386,6921.818181818182,124.6819860484202,2883.209109730849],\"yaxis\":\"y3\",\"type\":\"bar\"},{\"alignmentgroup\":\"True\",\"hovertemplate\":\"variable=efficiency<br>cluster=\\u041a\\u043b\\u0430\\u0441\\u0442\\u0435\\u0440 3<br>site=%{x}<br>value=%{y}<extra></extra>\",\"legendgroup\":\"efficiency\",\"marker\":{\"color\":\"#EF553B\",\"opacity\":0.7,\"pattern\":{\"shape\":\"\"}},\"name\":\"efficiency\",\"offsetgroup\":\"efficiency\",\"orientation\":\"v\",\"showlegend\":false,\"textposition\":\"auto\",\"x\":[\"\\u0420\\u0411\\u041a\",\"Avito\",\"\\u042e\\u043b\\u0430\",\"2\\u0413\\u0418\\u0421\",\"\\u0426\\u0418\\u0410\\u041d\"],\"xaxis\":\"x4\",\"y\":[364.8605996843766,8846.95792880259,156.53370655470027,387.2254559565386,450.70694487698535],\"yaxis\":\"y4\",\"type\":\"bar\"},{\"alignmentgroup\":\"True\",\"hovertemplate\":\"variable=relative_efficiency<br>cluster=\\u041a\\u043b\\u0430\\u0441\\u0442\\u0435\\u0440 0<br>site=%{x}<br>value=%{y}<extra></extra>\",\"legendgroup\":\"relative_efficiency\",\"marker\":{\"color\":\"#00cc96\",\"opacity\":0.7,\"pattern\":{\"shape\":\"\"}},\"name\":\"relative_efficiency\",\"offsetgroup\":\"relative_efficiency\",\"orientation\":\"v\",\"showlegend\":true,\"textposition\":\"auto\",\"x\":[\"\\u0420\\u0411\\u041a\",\"\\u0426\\u0418\\u0410\\u041d\",\"2\\u0413\\u0418\\u0421\",\"Avito\",\"\\u042e\\u043b\\u0430\"],\"xaxis\":\"x\",\"y\":[925.7165664122144,1075.1597414711753,869.4465549387807,19336.53648625292,329.9950384424752],\"yaxis\":\"y\",\"type\":\"bar\"},{\"alignmentgroup\":\"True\",\"hovertemplate\":\"variable=relative_efficiency<br>cluster=\\u041a\\u043b\\u0430\\u0441\\u0442\\u0435\\u0440 1<br>site=%{x}<br>value=%{y}<extra></extra>\",\"legendgroup\":\"relative_efficiency\",\"marker\":{\"color\":\"#00cc96\",\"opacity\":0.7,\"pattern\":{\"shape\":\"\"}},\"name\":\"relative_efficiency\",\"offsetgroup\":\"relative_efficiency\",\"orientation\":\"v\",\"showlegend\":false,\"textposition\":\"auto\",\"x\":[\"\\u0426\\u0418\\u0410\\u041d\",\"2\\u0413\\u0418\\u0421\",\"Avito\",\"\\u042e\\u043b\\u0430\",\"Wildberries\"],\"xaxis\":\"x2\",\"y\":[4157.009904787294,3109.866715397901,59072.11108723204,1000.9521594658427,43989.13589244163],\"yaxis\":\"y2\",\"type\":\"bar\"},{\"alignmentgroup\":\"True\",\"hovertemplate\":\"variable=relative_efficiency<br>cluster=\\u041a\\u043b\\u0430\\u0441\\u0442\\u0435\\u0440 2<br>site=%{x}<br>value=%{y}<extra></extra>\",\"legendgroup\":\"relative_efficiency\",\"marker\":{\"color\":\"#00cc96\",\"opacity\":0.7,\"pattern\":{\"shape\":\"\"}},\"name\":\"relative_efficiency\",\"offsetgroup\":\"relative_efficiency\",\"orientation\":\"v\",\"showlegend\":false,\"textposition\":\"auto\",\"x\":[\"\\u0426\\u0418\\u0410\\u041d\",\"2\\u0413\\u0418\\u0421\",\"Wildberries\",\"\\u041e\\u0442\\u0437\\u043e\\u0432\\u0438\\u043a\",\"Ozon\"],\"xaxis\":\"x3\",\"y\":[255.79009733085476,211.55904242868922,3757.338705412128,65.15266148041782,1491.5635391784353],\"yaxis\":\"y3\",\"type\":\"bar\"},{\"alignmentgroup\":\"True\",\"hovertemplate\":\"variable=relative_efficiency<br>cluster=\\u041a\\u043b\\u0430\\u0441\\u0442\\u0435\\u0440 3<br>site=%{x}<br>value=%{y}<extra></extra>\",\"legendgroup\":\"relative_efficiency\",\"marker\":{\"color\":\"#00cc96\",\"opacity\":0.7,\"pattern\":{\"shape\":\"\"}},\"name\":\"relative_efficiency\",\"offsetgroup\":\"relative_efficiency\",\"orientation\":\"v\",\"showlegend\":false,\"textposition\":\"auto\",\"x\":[\"\\u0420\\u0411\\u041a\",\"Avito\",\"\\u042e\\u043b\\u0430\",\"2\\u0413\\u0418\\u0421\",\"\\u0426\\u0418\\u0410\\u041d\"],\"xaxis\":\"x4\",\"y\":[409.3335404877599,9315.226812891304,163.2370110813561,402.03801743374083,461.6204188811341],\"yaxis\":\"y4\",\"type\":\"bar\"}],                        {\"template\":{\"data\":{\"bar\":[{\"error_x\":{\"color\":\"#2a3f5f\"},\"error_y\":{\"color\":\"#2a3f5f\"},\"marker\":{\"line\":{\"color\":\"#E5ECF6\",\"width\":0.5},\"pattern\":{\"fillmode\":\"overlay\",\"size\":10,\"solidity\":0.2}},\"type\":\"bar\"}],\"barpolar\":[{\"marker\":{\"line\":{\"color\":\"#E5ECF6\",\"width\":0.5},\"pattern\":{\"fillmode\":\"overlay\",\"size\":10,\"solidity\":0.2}},\"type\":\"barpolar\"}],\"carpet\":[{\"aaxis\":{\"endlinecolor\":\"#2a3f5f\",\"gridcolor\":\"white\",\"linecolor\":\"white\",\"minorgridcolor\":\"white\",\"startlinecolor\":\"#2a3f5f\"},\"baxis\":{\"endlinecolor\":\"#2a3f5f\",\"gridcolor\":\"white\",\"linecolor\":\"white\",\"minorgridcolor\":\"white\",\"startlinecolor\":\"#2a3f5f\"},\"type\":\"carpet\"}],\"choropleth\":[{\"colorbar\":{\"outlinewidth\":0,\"ticks\":\"\"},\"type\":\"choropleth\"}],\"contour\":[{\"colorbar\":{\"outlinewidth\":0,\"ticks\":\"\"},\"colorscale\":[[0.0,\"#0d0887\"],[0.1111111111111111,\"#46039f\"],[0.2222222222222222,\"#7201a8\"],[0.3333333333333333,\"#9c179e\"],[0.4444444444444444,\"#bd3786\"],[0.5555555555555556,\"#d8576b\"],[0.6666666666666666,\"#ed7953\"],[0.7777777777777778,\"#fb9f3a\"],[0.8888888888888888,\"#fdca26\"],[1.0,\"#f0f921\"]],\"type\":\"contour\"}],\"contourcarpet\":[{\"colorbar\":{\"outlinewidth\":0,\"ticks\":\"\"},\"type\":\"contourcarpet\"}],\"heatmap\":[{\"colorbar\":{\"outlinewidth\":0,\"ticks\":\"\"},\"colorscale\":[[0.0,\"#0d0887\"],[0.1111111111111111,\"#46039f\"],[0.2222222222222222,\"#7201a8\"],[0.3333333333333333,\"#9c179e\"],[0.4444444444444444,\"#bd3786\"],[0.5555555555555556,\"#d8576b\"],[0.6666666666666666,\"#ed7953\"],[0.7777777777777778,\"#fb9f3a\"],[0.8888888888888888,\"#fdca26\"],[1.0,\"#f0f921\"]],\"type\":\"heatmap\"}],\"heatmapgl\":[{\"colorbar\":{\"outlinewidth\":0,\"ticks\":\"\"},\"colorscale\":[[0.0,\"#0d0887\"],[0.1111111111111111,\"#46039f\"],[0.2222222222222222,\"#7201a8\"],[0.3333333333333333,\"#9c179e\"],[0.4444444444444444,\"#bd3786\"],[0.5555555555555556,\"#d8576b\"],[0.6666666666666666,\"#ed7953\"],[0.7777777777777778,\"#fb9f3a\"],[0.8888888888888888,\"#fdca26\"],[1.0,\"#f0f921\"]],\"type\":\"heatmapgl\"}],\"histogram\":[{\"marker\":{\"pattern\":{\"fillmode\":\"overlay\",\"size\":10,\"solidity\":0.2}},\"type\":\"histogram\"}],\"histogram2d\":[{\"colorbar\":{\"outlinewidth\":0,\"ticks\":\"\"},\"colorscale\":[[0.0,\"#0d0887\"],[0.1111111111111111,\"#46039f\"],[0.2222222222222222,\"#7201a8\"],[0.3333333333333333,\"#9c179e\"],[0.4444444444444444,\"#bd3786\"],[0.5555555555555556,\"#d8576b\"],[0.6666666666666666,\"#ed7953\"],[0.7777777777777778,\"#fb9f3a\"],[0.8888888888888888,\"#fdca26\"],[1.0,\"#f0f921\"]],\"type\":\"histogram2d\"}],\"histogram2dcontour\":[{\"colorbar\":{\"outlinewidth\":0,\"ticks\":\"\"},\"colorscale\":[[0.0,\"#0d0887\"],[0.1111111111111111,\"#46039f\"],[0.2222222222222222,\"#7201a8\"],[0.3333333333333333,\"#9c179e\"],[0.4444444444444444,\"#bd3786\"],[0.5555555555555556,\"#d8576b\"],[0.6666666666666666,\"#ed7953\"],[0.7777777777777778,\"#fb9f3a\"],[0.8888888888888888,\"#fdca26\"],[1.0,\"#f0f921\"]],\"type\":\"histogram2dcontour\"}],\"mesh3d\":[{\"colorbar\":{\"outlinewidth\":0,\"ticks\":\"\"},\"type\":\"mesh3d\"}],\"parcoords\":[{\"line\":{\"colorbar\":{\"outlinewidth\":0,\"ticks\":\"\"}},\"type\":\"parcoords\"}],\"pie\":[{\"automargin\":true,\"type\":\"pie\"}],\"scatter\":[{\"marker\":{\"colorbar\":{\"outlinewidth\":0,\"ticks\":\"\"}},\"type\":\"scatter\"}],\"scatter3d\":[{\"line\":{\"colorbar\":{\"outlinewidth\":0,\"ticks\":\"\"}},\"marker\":{\"colorbar\":{\"outlinewidth\":0,\"ticks\":\"\"}},\"type\":\"scatter3d\"}],\"scattercarpet\":[{\"marker\":{\"colorbar\":{\"outlinewidth\":0,\"ticks\":\"\"}},\"type\":\"scattercarpet\"}],\"scattergeo\":[{\"marker\":{\"colorbar\":{\"outlinewidth\":0,\"ticks\":\"\"}},\"type\":\"scattergeo\"}],\"scattergl\":[{\"marker\":{\"colorbar\":{\"outlinewidth\":0,\"ticks\":\"\"}},\"type\":\"scattergl\"}],\"scattermapbox\":[{\"marker\":{\"colorbar\":{\"outlinewidth\":0,\"ticks\":\"\"}},\"type\":\"scattermapbox\"}],\"scatterpolar\":[{\"marker\":{\"colorbar\":{\"outlinewidth\":0,\"ticks\":\"\"}},\"type\":\"scatterpolar\"}],\"scatterpolargl\":[{\"marker\":{\"colorbar\":{\"outlinewidth\":0,\"ticks\":\"\"}},\"type\":\"scatterpolargl\"}],\"scatterternary\":[{\"marker\":{\"colorbar\":{\"outlinewidth\":0,\"ticks\":\"\"}},\"type\":\"scatterternary\"}],\"surface\":[{\"colorbar\":{\"outlinewidth\":0,\"ticks\":\"\"},\"colorscale\":[[0.0,\"#0d0887\"],[0.1111111111111111,\"#46039f\"],[0.2222222222222222,\"#7201a8\"],[0.3333333333333333,\"#9c179e\"],[0.4444444444444444,\"#bd3786\"],[0.5555555555555556,\"#d8576b\"],[0.6666666666666666,\"#ed7953\"],[0.7777777777777778,\"#fb9f3a\"],[0.8888888888888888,\"#fdca26\"],[1.0,\"#f0f921\"]],\"type\":\"surface\"}],\"table\":[{\"cells\":{\"fill\":{\"color\":\"#EBF0F8\"},\"line\":{\"color\":\"white\"}},\"header\":{\"fill\":{\"color\":\"#C8D4E3\"},\"line\":{\"color\":\"white\"}},\"type\":\"table\"}]},\"layout\":{\"annotationdefaults\":{\"arrowcolor\":\"#2a3f5f\",\"arrowhead\":0,\"arrowwidth\":1},\"autotypenumbers\":\"strict\",\"coloraxis\":{\"colorbar\":{\"outlinewidth\":0,\"ticks\":\"\"}},\"colorscale\":{\"diverging\":[[0,\"#8e0152\"],[0.1,\"#c51b7d\"],[0.2,\"#de77ae\"],[0.3,\"#f1b6da\"],[0.4,\"#fde0ef\"],[0.5,\"#f7f7f7\"],[0.6,\"#e6f5d0\"],[0.7,\"#b8e186\"],[0.8,\"#7fbc41\"],[0.9,\"#4d9221\"],[1,\"#276419\"]],\"sequential\":[[0.0,\"#0d0887\"],[0.1111111111111111,\"#46039f\"],[0.2222222222222222,\"#7201a8\"],[0.3333333333333333,\"#9c179e\"],[0.4444444444444444,\"#bd3786\"],[0.5555555555555556,\"#d8576b\"],[0.6666666666666666,\"#ed7953\"],[0.7777777777777778,\"#fb9f3a\"],[0.8888888888888888,\"#fdca26\"],[1.0,\"#f0f921\"]],\"sequentialminus\":[[0.0,\"#0d0887\"],[0.1111111111111111,\"#46039f\"],[0.2222222222222222,\"#7201a8\"],[0.3333333333333333,\"#9c179e\"],[0.4444444444444444,\"#bd3786\"],[0.5555555555555556,\"#d8576b\"],[0.6666666666666666,\"#ed7953\"],[0.7777777777777778,\"#fb9f3a\"],[0.8888888888888888,\"#fdca26\"],[1.0,\"#f0f921\"]]},\"colorway\":[\"#636efa\",\"#EF553B\",\"#00cc96\",\"#ab63fa\",\"#FFA15A\",\"#19d3f3\",\"#FF6692\",\"#B6E880\",\"#FF97FF\",\"#FECB52\"],\"font\":{\"color\":\"#2a3f5f\"},\"geo\":{\"bgcolor\":\"white\",\"lakecolor\":\"white\",\"landcolor\":\"#E5ECF6\",\"showlakes\":true,\"showland\":true,\"subunitcolor\":\"white\"},\"hoverlabel\":{\"align\":\"left\"},\"hovermode\":\"closest\",\"mapbox\":{\"style\":\"light\"},\"paper_bgcolor\":\"white\",\"plot_bgcolor\":\"#E5ECF6\",\"polar\":{\"angularaxis\":{\"gridcolor\":\"white\",\"linecolor\":\"white\",\"ticks\":\"\"},\"bgcolor\":\"#E5ECF6\",\"radialaxis\":{\"gridcolor\":\"white\",\"linecolor\":\"white\",\"ticks\":\"\"}},\"scene\":{\"xaxis\":{\"backgroundcolor\":\"#E5ECF6\",\"gridcolor\":\"white\",\"gridwidth\":2,\"linecolor\":\"white\",\"showbackground\":true,\"ticks\":\"\",\"zerolinecolor\":\"white\"},\"yaxis\":{\"backgroundcolor\":\"#E5ECF6\",\"gridcolor\":\"white\",\"gridwidth\":2,\"linecolor\":\"white\",\"showbackground\":true,\"ticks\":\"\",\"zerolinecolor\":\"white\"},\"zaxis\":{\"backgroundcolor\":\"#E5ECF6\",\"gridcolor\":\"white\",\"gridwidth\":2,\"linecolor\":\"white\",\"showbackground\":true,\"ticks\":\"\",\"zerolinecolor\":\"white\"}},\"shapedefaults\":{\"line\":{\"color\":\"#2a3f5f\"}},\"ternary\":{\"aaxis\":{\"gridcolor\":\"white\",\"linecolor\":\"white\",\"ticks\":\"\"},\"baxis\":{\"gridcolor\":\"white\",\"linecolor\":\"white\",\"ticks\":\"\"},\"bgcolor\":\"#E5ECF6\",\"caxis\":{\"gridcolor\":\"white\",\"linecolor\":\"white\",\"ticks\":\"\"}},\"title\":{\"x\":0.05},\"xaxis\":{\"automargin\":true,\"gridcolor\":\"white\",\"linecolor\":\"white\",\"ticks\":\"\",\"title\":{\"standoff\":15},\"zerolinecolor\":\"white\",\"zerolinewidth\":2},\"yaxis\":{\"automargin\":true,\"gridcolor\":\"white\",\"linecolor\":\"white\",\"ticks\":\"\",\"title\":{\"standoff\":15},\"zerolinecolor\":\"white\",\"zerolinewidth\":2}}},\"xaxis\":{\"anchor\":\"y\",\"domain\":[0.0,0.235],\"title\":{\"text\":\"site\"}},\"yaxis\":{\"anchor\":\"x\",\"domain\":[0.0,1.0],\"title\":{\"text\":\"value\"}},\"xaxis2\":{\"anchor\":\"y2\",\"domain\":[0.255,0.49],\"matches\":\"x\",\"title\":{\"text\":\"site\"}},\"yaxis2\":{\"anchor\":\"x2\",\"domain\":[0.0,1.0],\"matches\":\"y\",\"showticklabels\":false},\"xaxis3\":{\"anchor\":\"y3\",\"domain\":[0.51,0.745],\"matches\":\"x\",\"title\":{\"text\":\"site\"}},\"yaxis3\":{\"anchor\":\"x3\",\"domain\":[0.0,1.0],\"matches\":\"y\",\"showticklabels\":false},\"xaxis4\":{\"anchor\":\"y4\",\"domain\":[0.7649999999999999,0.9999999999999999],\"matches\":\"x\",\"title\":{\"text\":\"site\"}},\"yaxis4\":{\"anchor\":\"x4\",\"domain\":[0.0,1.0],\"matches\":\"y\",\"showticklabels\":false},\"annotations\":[{\"font\":{},\"showarrow\":false,\"text\":\"cluster=\\u041a\\u043b\\u0430\\u0441\\u0442\\u0435\\u0440 0\",\"x\":0.1175,\"xanchor\":\"center\",\"xref\":\"paper\",\"y\":1.0,\"yanchor\":\"bottom\",\"yref\":\"paper\"},{\"font\":{},\"showarrow\":false,\"text\":\"cluster=\\u041a\\u043b\\u0430\\u0441\\u0442\\u0435\\u0440 1\",\"x\":0.3725,\"xanchor\":\"center\",\"xref\":\"paper\",\"y\":1.0,\"yanchor\":\"bottom\",\"yref\":\"paper\"},{\"font\":{},\"showarrow\":false,\"text\":\"cluster=\\u041a\\u043b\\u0430\\u0441\\u0442\\u0435\\u0440 2\",\"x\":0.6275,\"xanchor\":\"center\",\"xref\":\"paper\",\"y\":1.0,\"yanchor\":\"bottom\",\"yref\":\"paper\"},{\"font\":{},\"showarrow\":false,\"text\":\"cluster=\\u041a\\u043b\\u0430\\u0441\\u0442\\u0435\\u0440 3\",\"x\":0.8824999999999998,\"xanchor\":\"center\",\"xref\":\"paper\",\"y\":1.0,\"yanchor\":\"bottom\",\"yref\":\"paper\"}],\"legend\":{\"title\":{\"text\":\"variable\"},\"tracegroupgap\":0},\"margin\":{\"t\":60},\"barmode\":\"relative\"},                        {\"responsive\": true}                    ).then(function(){\n",
              "                            \n",
              "var gd = document.getElementById('98096c45-9b73-4b2e-85af-6fb9e1d06e1f');\n",
              "var x = new MutationObserver(function (mutations, observer) {{\n",
              "        var display = window.getComputedStyle(gd).display;\n",
              "        if (!display || display === 'none') {{\n",
              "            console.log([gd, 'removed!']);\n",
              "            Plotly.purge(gd);\n",
              "            observer.disconnect();\n",
              "        }}\n",
              "}});\n",
              "\n",
              "// Listen for the removal of the full notebook cells\n",
              "var notebookContainer = gd.closest('#notebook-container');\n",
              "if (notebookContainer) {{\n",
              "    x.observe(notebookContainer, {childList: true});\n",
              "}}\n",
              "\n",
              "// Listen for the clearing of the current output cell\n",
              "var outputEl = gd.closest('.output');\n",
              "if (outputEl) {{\n",
              "    x.observe(outputEl, {childList: true});\n",
              "}}\n",
              "\n",
              "                        })                };                });            </script>        </div>"
            ]
          },
          "metadata": {},
          "output_type": "display_data"
        }
      ],
      "source": [
        "import plotly.express as px\n",
        "df_top_merged = df_top5.merge(df_media,on='site',how='left')\n",
        "# df__ = df_top_merged['total_diff']\n",
        "# df_top_merged['total_diff']=(df__-df__.mean())/df__.std()\n",
        "df_top_merged['relative_efficiency'] = df_top_merged['efficiency']/df_top_merged['total_diff']\n",
        "plt_topscat = px.scatter(df_top_merged,'efficiency','total_diff','cluster','site')\n",
        "plt_topbar = px.bar(df_top_merged,'site',['total_diff','efficiency','relative_efficiency'],facet_col='cluster',opacity=0.7)\n",
        "# plt_ef_dif = px.bar(df_top_merged,'site',,facet_col='cluster')\n",
        "plt_topbar"
      ]
    },
    {
      "cell_type": "code",
      "execution_count": null,
      "metadata": {
        "id": "Kd-dnpdEhrZ8"
      },
      "outputs": [],
      "source": [
        "import pickle as pkl\n",
        "\n",
        "pkl.dump(plt_topbar, open( \"plt_topbar.pkl\", \"wb\" ) )\n",
        "pkl.dump(plt_topscat, open( \"plt_topscat.pkl\", \"wb\" ) )"
      ]
    },
    {
      "cell_type": "code",
      "execution_count": null,
      "metadata": {
        "id": "kAjhFRM5hrZ8"
      },
      "outputs": [],
      "source": [
        "plt_topbar = pkl.load(open( \"plt_topbar.pkl\", \"rb\" ) )\n",
        "plt_topscat = pkl.load(open( \"plt_topscat.pkl\", \"rb\" ) )"
      ]
    },
    {
      "cell_type": "code",
      "execution_count": null,
      "metadata": {
        "id": "KKaeUpolhrZ8",
        "outputId": "ca8683c7-189e-4d0b-a859-8f4e67dc63bc"
      },
      "outputs": [
        {
          "data": {
            "application/vnd.plotly.v1+json": {
              "config": {
                "plotlyServerURL": "https://plot.ly"
              },
              "data": [
                {
                  "hovertemplate": "cluster=Кластер 0<br>site=РБК<br>efficiency=%{x}<br>total_diff=%{y}<extra></extra>",
                  "legendgroup": "Кластер 0, РБК",
                  "marker": {
                    "color": "#636efa",
                    "symbol": "circle"
                  },
                  "mode": "markers",
                  "name": "Кластер 0, РБК",
                  "orientation": "v",
                  "showlegend": true,
                  "type": "scatter",
                  "x": [
                    364.8605996843766
                  ],
                  "xaxis": "x",
                  "y": [
                    0.39413856565024136
                  ],
                  "yaxis": "y"
                },
                {
                  "hovertemplate": "cluster=Кластер 0<br>site=ЦИАН<br>efficiency=%{x}<br>total_diff=%{y}<extra></extra>",
                  "legendgroup": "Кластер 0, ЦИАН",
                  "marker": {
                    "color": "#636efa",
                    "symbol": "diamond"
                  },
                  "mode": "markers",
                  "name": "Кластер 0, ЦИАН",
                  "orientation": "v",
                  "showlegend": true,
                  "type": "scatter",
                  "x": [
                    450.70694487698535
                  ],
                  "xaxis": "x",
                  "y": [
                    0.4191999825628411
                  ],
                  "yaxis": "y"
                },
                {
                  "hovertemplate": "cluster=Кластер 0<br>site=2ГИС<br>efficiency=%{x}<br>total_diff=%{y}<extra></extra>",
                  "legendgroup": "Кластер 0, 2ГИС",
                  "marker": {
                    "color": "#636efa",
                    "symbol": "square"
                  },
                  "mode": "markers",
                  "name": "Кластер 0, 2ГИС",
                  "orientation": "v",
                  "showlegend": true,
                  "type": "scatter",
                  "x": [
                    387.2254559565386
                  ],
                  "xaxis": "x",
                  "y": [
                    0.4453700503578439
                  ],
                  "yaxis": "y"
                },
                {
                  "hovertemplate": "cluster=Кластер 0<br>site=Avito<br>efficiency=%{x}<br>total_diff=%{y}<extra></extra>",
                  "legendgroup": "Кластер 0, Avito",
                  "marker": {
                    "color": "#636efa",
                    "symbol": "x"
                  },
                  "mode": "markers",
                  "name": "Кластер 0, Avito",
                  "orientation": "v",
                  "showlegend": true,
                  "type": "scatter",
                  "x": [
                    8846.95792880259
                  ],
                  "xaxis": "x",
                  "y": [
                    0.45752546921172926
                  ],
                  "yaxis": "y"
                },
                {
                  "hovertemplate": "cluster=Кластер 0<br>site=Юла<br>efficiency=%{x}<br>total_diff=%{y}<extra></extra>",
                  "legendgroup": "Кластер 0, Юла",
                  "marker": {
                    "color": "#636efa",
                    "symbol": "cross"
                  },
                  "mode": "markers",
                  "name": "Кластер 0, Юла",
                  "orientation": "v",
                  "showlegend": true,
                  "type": "scatter",
                  "x": [
                    156.53370655470027
                  ],
                  "xaxis": "x",
                  "y": [
                    0.4743516972058574
                  ],
                  "yaxis": "y"
                },
                {
                  "hovertemplate": "cluster=Кластер 1<br>site=ЦИАН<br>efficiency=%{x}<br>total_diff=%{y}<extra></extra>",
                  "legendgroup": "Кластер 1, ЦИАН",
                  "marker": {
                    "color": "#EF553B",
                    "symbol": "diamond"
                  },
                  "mode": "markers",
                  "name": "Кластер 1, ЦИАН",
                  "orientation": "v",
                  "showlegend": true,
                  "type": "scatter",
                  "x": [
                    450.70694487698535
                  ],
                  "xaxis": "x",
                  "y": [
                    0.10842094563160469
                  ],
                  "yaxis": "y"
                },
                {
                  "hovertemplate": "cluster=Кластер 1<br>site=2ГИС<br>efficiency=%{x}<br>total_diff=%{y}<extra></extra>",
                  "legendgroup": "Кластер 1, 2ГИС",
                  "marker": {
                    "color": "#EF553B",
                    "symbol": "square"
                  },
                  "mode": "markers",
                  "name": "Кластер 1, 2ГИС",
                  "orientation": "v",
                  "showlegend": true,
                  "type": "scatter",
                  "x": [
                    387.2254559565386
                  ],
                  "xaxis": "x",
                  "y": [
                    0.12451512923022295
                  ],
                  "yaxis": "y"
                },
                {
                  "hovertemplate": "cluster=Кластер 1<br>site=Avito<br>efficiency=%{x}<br>total_diff=%{y}<extra></extra>",
                  "legendgroup": "Кластер 1, Avito",
                  "marker": {
                    "color": "#EF553B",
                    "symbol": "x"
                  },
                  "mode": "markers",
                  "name": "Кластер 1, Avito",
                  "orientation": "v",
                  "showlegend": true,
                  "type": "scatter",
                  "x": [
                    8846.95792880259
                  ],
                  "xaxis": "x",
                  "y": [
                    0.1497653929404732
                  ],
                  "yaxis": "y"
                },
                {
                  "hovertemplate": "cluster=Кластер 1<br>site=Юла<br>efficiency=%{x}<br>total_diff=%{y}<extra></extra>",
                  "legendgroup": "Кластер 1, Юла",
                  "marker": {
                    "color": "#EF553B",
                    "symbol": "cross"
                  },
                  "mode": "markers",
                  "name": "Кластер 1, Юла",
                  "orientation": "v",
                  "showlegend": true,
                  "type": "scatter",
                  "x": [
                    156.53370655470027
                  ],
                  "xaxis": "x",
                  "y": [
                    0.15638480328393953
                  ],
                  "yaxis": "y"
                },
                {
                  "hovertemplate": "cluster=Кластер 1<br>site=Wildberries<br>efficiency=%{x}<br>total_diff=%{y}<extra></extra>",
                  "legendgroup": "Кластер 1, Wildberries",
                  "marker": {
                    "color": "#EF553B",
                    "symbol": "circle"
                  },
                  "mode": "markers",
                  "name": "Кластер 1, Wildberries",
                  "orientation": "v",
                  "showlegend": true,
                  "type": "scatter",
                  "x": [
                    6921.818181818182
                  ],
                  "xaxis": "x",
                  "y": [
                    0.15735290183337095
                  ],
                  "yaxis": "y"
                },
                {
                  "hovertemplate": "cluster=Кластер 2<br>site=ЦИАН<br>efficiency=%{x}<br>total_diff=%{y}<extra></extra>",
                  "legendgroup": "Кластер 2, ЦИАН",
                  "marker": {
                    "color": "#00cc96",
                    "symbol": "diamond"
                  },
                  "mode": "markers",
                  "name": "Кластер 2, ЦИАН",
                  "orientation": "v",
                  "showlegend": true,
                  "type": "scatter",
                  "x": [
                    450.70694487698535
                  ],
                  "xaxis": "x",
                  "y": [
                    1.7620187395058264
                  ],
                  "yaxis": "y"
                },
                {
                  "hovertemplate": "cluster=Кластер 2<br>site=2ГИС<br>efficiency=%{x}<br>total_diff=%{y}<extra></extra>",
                  "legendgroup": "Кластер 2, 2ГИС",
                  "marker": {
                    "color": "#00cc96",
                    "symbol": "square"
                  },
                  "mode": "markers",
                  "name": "Кластер 2, 2ГИС",
                  "orientation": "v",
                  "showlegend": true,
                  "type": "scatter",
                  "x": [
                    387.2254559565386
                  ],
                  "xaxis": "x",
                  "y": [
                    1.830342260539687
                  ],
                  "yaxis": "y"
                },
                {
                  "hovertemplate": "cluster=Кластер 2<br>site=Wildberries<br>efficiency=%{x}<br>total_diff=%{y}<extra></extra>",
                  "legendgroup": "Кластер 2, Wildberries",
                  "marker": {
                    "color": "#00cc96",
                    "symbol": "circle"
                  },
                  "mode": "markers",
                  "name": "Кластер 2, Wildberries",
                  "orientation": "v",
                  "showlegend": true,
                  "type": "scatter",
                  "x": [
                    6921.818181818182
                  ],
                  "xaxis": "x",
                  "y": [
                    1.8422129928951811
                  ],
                  "yaxis": "y"
                },
                {
                  "hovertemplate": "cluster=Кластер 2<br>site=Отзовик<br>efficiency=%{x}<br>total_diff=%{y}<extra></extra>",
                  "legendgroup": "Кластер 2, Отзовик",
                  "marker": {
                    "color": "#00cc96",
                    "symbol": "diamond"
                  },
                  "mode": "markers",
                  "name": "Кластер 2, Отзовик",
                  "orientation": "v",
                  "showlegend": true,
                  "type": "scatter",
                  "x": [
                    124.6819860484202
                  ],
                  "xaxis": "x",
                  "y": [
                    1.9136898357697087
                  ],
                  "yaxis": "y"
                },
                {
                  "hovertemplate": "cluster=Кластер 2<br>site=Ozon<br>efficiency=%{x}<br>total_diff=%{y}<extra></extra>",
                  "legendgroup": "Кластер 2, Ozon",
                  "marker": {
                    "color": "#00cc96",
                    "symbol": "square"
                  },
                  "mode": "markers",
                  "name": "Кластер 2, Ozon",
                  "orientation": "v",
                  "showlegend": true,
                  "type": "scatter",
                  "x": [
                    2883.209109730849
                  ],
                  "xaxis": "x",
                  "y": [
                    1.9330112556377872
                  ],
                  "yaxis": "y"
                },
                {
                  "hovertemplate": "cluster=Кластер 3<br>site=РБК<br>efficiency=%{x}<br>total_diff=%{y}<extra></extra>",
                  "legendgroup": "Кластер 3, РБК",
                  "marker": {
                    "color": "#ab63fa",
                    "symbol": "circle"
                  },
                  "mode": "markers",
                  "name": "Кластер 3, РБК",
                  "orientation": "v",
                  "showlegend": true,
                  "type": "scatter",
                  "x": [
                    364.8605996843766
                  ],
                  "xaxis": "x",
                  "y": [
                    0.8913528054642443
                  ],
                  "yaxis": "y"
                },
                {
                  "hovertemplate": "cluster=Кластер 3<br>site=ЦИАН<br>efficiency=%{x}<br>total_diff=%{y}<extra></extra>",
                  "legendgroup": "Кластер 3, ЦИАН",
                  "marker": {
                    "color": "#ab63fa",
                    "symbol": "diamond"
                  },
                  "mode": "markers",
                  "name": "Кластер 3, ЦИАН",
                  "orientation": "v",
                  "showlegend": true,
                  "type": "scatter",
                  "x": [
                    450.70694487698535
                  ],
                  "xaxis": "x",
                  "y": [
                    0.9763583378079318
                  ],
                  "yaxis": "y"
                },
                {
                  "hovertemplate": "cluster=Кластер 3<br>site=2ГИС<br>efficiency=%{x}<br>total_diff=%{y}<extra></extra>",
                  "legendgroup": "Кластер 3, 2ГИС",
                  "marker": {
                    "color": "#ab63fa",
                    "symbol": "square"
                  },
                  "mode": "markers",
                  "name": "Кластер 3, 2ГИС",
                  "orientation": "v",
                  "showlegend": true,
                  "type": "scatter",
                  "x": [
                    387.2254559565386
                  ],
                  "xaxis": "x",
                  "y": [
                    0.9631563164803352
                  ],
                  "yaxis": "y"
                },
                {
                  "hovertemplate": "cluster=Кластер 3<br>site=Avito<br>efficiency=%{x}<br>total_diff=%{y}<extra></extra>",
                  "legendgroup": "Кластер 3, Avito",
                  "marker": {
                    "color": "#ab63fa",
                    "symbol": "x"
                  },
                  "mode": "markers",
                  "name": "Кластер 3, Avito",
                  "orientation": "v",
                  "showlegend": true,
                  "type": "scatter",
                  "x": [
                    8846.95792880259
                  ],
                  "xaxis": "x",
                  "y": [
                    0.9497308124112793
                  ],
                  "yaxis": "y"
                },
                {
                  "hovertemplate": "cluster=Кластер 3<br>site=Юла<br>efficiency=%{x}<br>total_diff=%{y}<extra></extra>",
                  "legendgroup": "Кластер 3, Юла",
                  "marker": {
                    "color": "#ab63fa",
                    "symbol": "cross"
                  },
                  "mode": "markers",
                  "name": "Кластер 3, Юла",
                  "orientation": "v",
                  "showlegend": true,
                  "type": "scatter",
                  "x": [
                    156.53370655470027
                  ],
                  "xaxis": "x",
                  "y": [
                    0.9589351429418483
                  ],
                  "yaxis": "y"
                }
              ],
              "layout": {
                "autosize": true,
                "legend": {
                  "title": {
                    "text": "cluster, site"
                  },
                  "tracegroupgap": 0
                },
                "margin": {
                  "t": 60
                },
                "template": {
                  "data": {
                    "bar": [
                      {
                        "error_x": {
                          "color": "#2a3f5f"
                        },
                        "error_y": {
                          "color": "#2a3f5f"
                        },
                        "marker": {
                          "line": {
                            "color": "#E5ECF6",
                            "width": 0.5
                          },
                          "pattern": {
                            "fillmode": "overlay",
                            "size": 10,
                            "solidity": 0.2
                          }
                        },
                        "type": "bar"
                      }
                    ],
                    "barpolar": [
                      {
                        "marker": {
                          "line": {
                            "color": "#E5ECF6",
                            "width": 0.5
                          },
                          "pattern": {
                            "fillmode": "overlay",
                            "size": 10,
                            "solidity": 0.2
                          }
                        },
                        "type": "barpolar"
                      }
                    ],
                    "carpet": [
                      {
                        "aaxis": {
                          "endlinecolor": "#2a3f5f",
                          "gridcolor": "white",
                          "linecolor": "white",
                          "minorgridcolor": "white",
                          "startlinecolor": "#2a3f5f"
                        },
                        "baxis": {
                          "endlinecolor": "#2a3f5f",
                          "gridcolor": "white",
                          "linecolor": "white",
                          "minorgridcolor": "white",
                          "startlinecolor": "#2a3f5f"
                        },
                        "type": "carpet"
                      }
                    ],
                    "choropleth": [
                      {
                        "colorbar": {
                          "outlinewidth": 0,
                          "ticks": ""
                        },
                        "type": "choropleth"
                      }
                    ],
                    "contour": [
                      {
                        "colorbar": {
                          "outlinewidth": 0,
                          "ticks": ""
                        },
                        "colorscale": [
                          [
                            0,
                            "#0d0887"
                          ],
                          [
                            0.1111111111111111,
                            "#46039f"
                          ],
                          [
                            0.2222222222222222,
                            "#7201a8"
                          ],
                          [
                            0.3333333333333333,
                            "#9c179e"
                          ],
                          [
                            0.4444444444444444,
                            "#bd3786"
                          ],
                          [
                            0.5555555555555556,
                            "#d8576b"
                          ],
                          [
                            0.6666666666666666,
                            "#ed7953"
                          ],
                          [
                            0.7777777777777778,
                            "#fb9f3a"
                          ],
                          [
                            0.8888888888888888,
                            "#fdca26"
                          ],
                          [
                            1,
                            "#f0f921"
                          ]
                        ],
                        "type": "contour"
                      }
                    ],
                    "contourcarpet": [
                      {
                        "colorbar": {
                          "outlinewidth": 0,
                          "ticks": ""
                        },
                        "type": "contourcarpet"
                      }
                    ],
                    "heatmap": [
                      {
                        "colorbar": {
                          "outlinewidth": 0,
                          "ticks": ""
                        },
                        "colorscale": [
                          [
                            0,
                            "#0d0887"
                          ],
                          [
                            0.1111111111111111,
                            "#46039f"
                          ],
                          [
                            0.2222222222222222,
                            "#7201a8"
                          ],
                          [
                            0.3333333333333333,
                            "#9c179e"
                          ],
                          [
                            0.4444444444444444,
                            "#bd3786"
                          ],
                          [
                            0.5555555555555556,
                            "#d8576b"
                          ],
                          [
                            0.6666666666666666,
                            "#ed7953"
                          ],
                          [
                            0.7777777777777778,
                            "#fb9f3a"
                          ],
                          [
                            0.8888888888888888,
                            "#fdca26"
                          ],
                          [
                            1,
                            "#f0f921"
                          ]
                        ],
                        "type": "heatmap"
                      }
                    ],
                    "heatmapgl": [
                      {
                        "colorbar": {
                          "outlinewidth": 0,
                          "ticks": ""
                        },
                        "colorscale": [
                          [
                            0,
                            "#0d0887"
                          ],
                          [
                            0.1111111111111111,
                            "#46039f"
                          ],
                          [
                            0.2222222222222222,
                            "#7201a8"
                          ],
                          [
                            0.3333333333333333,
                            "#9c179e"
                          ],
                          [
                            0.4444444444444444,
                            "#bd3786"
                          ],
                          [
                            0.5555555555555556,
                            "#d8576b"
                          ],
                          [
                            0.6666666666666666,
                            "#ed7953"
                          ],
                          [
                            0.7777777777777778,
                            "#fb9f3a"
                          ],
                          [
                            0.8888888888888888,
                            "#fdca26"
                          ],
                          [
                            1,
                            "#f0f921"
                          ]
                        ],
                        "type": "heatmapgl"
                      }
                    ],
                    "histogram": [
                      {
                        "marker": {
                          "pattern": {
                            "fillmode": "overlay",
                            "size": 10,
                            "solidity": 0.2
                          }
                        },
                        "type": "histogram"
                      }
                    ],
                    "histogram2d": [
                      {
                        "colorbar": {
                          "outlinewidth": 0,
                          "ticks": ""
                        },
                        "colorscale": [
                          [
                            0,
                            "#0d0887"
                          ],
                          [
                            0.1111111111111111,
                            "#46039f"
                          ],
                          [
                            0.2222222222222222,
                            "#7201a8"
                          ],
                          [
                            0.3333333333333333,
                            "#9c179e"
                          ],
                          [
                            0.4444444444444444,
                            "#bd3786"
                          ],
                          [
                            0.5555555555555556,
                            "#d8576b"
                          ],
                          [
                            0.6666666666666666,
                            "#ed7953"
                          ],
                          [
                            0.7777777777777778,
                            "#fb9f3a"
                          ],
                          [
                            0.8888888888888888,
                            "#fdca26"
                          ],
                          [
                            1,
                            "#f0f921"
                          ]
                        ],
                        "type": "histogram2d"
                      }
                    ],
                    "histogram2dcontour": [
                      {
                        "colorbar": {
                          "outlinewidth": 0,
                          "ticks": ""
                        },
                        "colorscale": [
                          [
                            0,
                            "#0d0887"
                          ],
                          [
                            0.1111111111111111,
                            "#46039f"
                          ],
                          [
                            0.2222222222222222,
                            "#7201a8"
                          ],
                          [
                            0.3333333333333333,
                            "#9c179e"
                          ],
                          [
                            0.4444444444444444,
                            "#bd3786"
                          ],
                          [
                            0.5555555555555556,
                            "#d8576b"
                          ],
                          [
                            0.6666666666666666,
                            "#ed7953"
                          ],
                          [
                            0.7777777777777778,
                            "#fb9f3a"
                          ],
                          [
                            0.8888888888888888,
                            "#fdca26"
                          ],
                          [
                            1,
                            "#f0f921"
                          ]
                        ],
                        "type": "histogram2dcontour"
                      }
                    ],
                    "mesh3d": [
                      {
                        "colorbar": {
                          "outlinewidth": 0,
                          "ticks": ""
                        },
                        "type": "mesh3d"
                      }
                    ],
                    "parcoords": [
                      {
                        "line": {
                          "colorbar": {
                            "outlinewidth": 0,
                            "ticks": ""
                          }
                        },
                        "type": "parcoords"
                      }
                    ],
                    "pie": [
                      {
                        "automargin": true,
                        "type": "pie"
                      }
                    ],
                    "scatter": [
                      {
                        "marker": {
                          "colorbar": {
                            "outlinewidth": 0,
                            "ticks": ""
                          }
                        },
                        "type": "scatter"
                      }
                    ],
                    "scatter3d": [
                      {
                        "line": {
                          "colorbar": {
                            "outlinewidth": 0,
                            "ticks": ""
                          }
                        },
                        "marker": {
                          "colorbar": {
                            "outlinewidth": 0,
                            "ticks": ""
                          }
                        },
                        "type": "scatter3d"
                      }
                    ],
                    "scattercarpet": [
                      {
                        "marker": {
                          "colorbar": {
                            "outlinewidth": 0,
                            "ticks": ""
                          }
                        },
                        "type": "scattercarpet"
                      }
                    ],
                    "scattergeo": [
                      {
                        "marker": {
                          "colorbar": {
                            "outlinewidth": 0,
                            "ticks": ""
                          }
                        },
                        "type": "scattergeo"
                      }
                    ],
                    "scattergl": [
                      {
                        "marker": {
                          "colorbar": {
                            "outlinewidth": 0,
                            "ticks": ""
                          }
                        },
                        "type": "scattergl"
                      }
                    ],
                    "scattermapbox": [
                      {
                        "marker": {
                          "colorbar": {
                            "outlinewidth": 0,
                            "ticks": ""
                          }
                        },
                        "type": "scattermapbox"
                      }
                    ],
                    "scatterpolar": [
                      {
                        "marker": {
                          "colorbar": {
                            "outlinewidth": 0,
                            "ticks": ""
                          }
                        },
                        "type": "scatterpolar"
                      }
                    ],
                    "scatterpolargl": [
                      {
                        "marker": {
                          "colorbar": {
                            "outlinewidth": 0,
                            "ticks": ""
                          }
                        },
                        "type": "scatterpolargl"
                      }
                    ],
                    "scatterternary": [
                      {
                        "marker": {
                          "colorbar": {
                            "outlinewidth": 0,
                            "ticks": ""
                          }
                        },
                        "type": "scatterternary"
                      }
                    ],
                    "surface": [
                      {
                        "colorbar": {
                          "outlinewidth": 0,
                          "ticks": ""
                        },
                        "colorscale": [
                          [
                            0,
                            "#0d0887"
                          ],
                          [
                            0.1111111111111111,
                            "#46039f"
                          ],
                          [
                            0.2222222222222222,
                            "#7201a8"
                          ],
                          [
                            0.3333333333333333,
                            "#9c179e"
                          ],
                          [
                            0.4444444444444444,
                            "#bd3786"
                          ],
                          [
                            0.5555555555555556,
                            "#d8576b"
                          ],
                          [
                            0.6666666666666666,
                            "#ed7953"
                          ],
                          [
                            0.7777777777777778,
                            "#fb9f3a"
                          ],
                          [
                            0.8888888888888888,
                            "#fdca26"
                          ],
                          [
                            1,
                            "#f0f921"
                          ]
                        ],
                        "type": "surface"
                      }
                    ],
                    "table": [
                      {
                        "cells": {
                          "fill": {
                            "color": "#EBF0F8"
                          },
                          "line": {
                            "color": "white"
                          }
                        },
                        "header": {
                          "fill": {
                            "color": "#C8D4E3"
                          },
                          "line": {
                            "color": "white"
                          }
                        },
                        "type": "table"
                      }
                    ]
                  },
                  "layout": {
                    "annotationdefaults": {
                      "arrowcolor": "#2a3f5f",
                      "arrowhead": 0,
                      "arrowwidth": 1
                    },
                    "autotypenumbers": "strict",
                    "coloraxis": {
                      "colorbar": {
                        "outlinewidth": 0,
                        "ticks": ""
                      }
                    },
                    "colorscale": {
                      "diverging": [
                        [
                          0,
                          "#8e0152"
                        ],
                        [
                          0.1,
                          "#c51b7d"
                        ],
                        [
                          0.2,
                          "#de77ae"
                        ],
                        [
                          0.3,
                          "#f1b6da"
                        ],
                        [
                          0.4,
                          "#fde0ef"
                        ],
                        [
                          0.5,
                          "#f7f7f7"
                        ],
                        [
                          0.6,
                          "#e6f5d0"
                        ],
                        [
                          0.7,
                          "#b8e186"
                        ],
                        [
                          0.8,
                          "#7fbc41"
                        ],
                        [
                          0.9,
                          "#4d9221"
                        ],
                        [
                          1,
                          "#276419"
                        ]
                      ],
                      "sequential": [
                        [
                          0,
                          "#0d0887"
                        ],
                        [
                          0.1111111111111111,
                          "#46039f"
                        ],
                        [
                          0.2222222222222222,
                          "#7201a8"
                        ],
                        [
                          0.3333333333333333,
                          "#9c179e"
                        ],
                        [
                          0.4444444444444444,
                          "#bd3786"
                        ],
                        [
                          0.5555555555555556,
                          "#d8576b"
                        ],
                        [
                          0.6666666666666666,
                          "#ed7953"
                        ],
                        [
                          0.7777777777777778,
                          "#fb9f3a"
                        ],
                        [
                          0.8888888888888888,
                          "#fdca26"
                        ],
                        [
                          1,
                          "#f0f921"
                        ]
                      ],
                      "sequentialminus": [
                        [
                          0,
                          "#0d0887"
                        ],
                        [
                          0.1111111111111111,
                          "#46039f"
                        ],
                        [
                          0.2222222222222222,
                          "#7201a8"
                        ],
                        [
                          0.3333333333333333,
                          "#9c179e"
                        ],
                        [
                          0.4444444444444444,
                          "#bd3786"
                        ],
                        [
                          0.5555555555555556,
                          "#d8576b"
                        ],
                        [
                          0.6666666666666666,
                          "#ed7953"
                        ],
                        [
                          0.7777777777777778,
                          "#fb9f3a"
                        ],
                        [
                          0.8888888888888888,
                          "#fdca26"
                        ],
                        [
                          1,
                          "#f0f921"
                        ]
                      ]
                    },
                    "colorway": [
                      "#636efa",
                      "#EF553B",
                      "#00cc96",
                      "#ab63fa",
                      "#FFA15A",
                      "#19d3f3",
                      "#FF6692",
                      "#B6E880",
                      "#FF97FF",
                      "#FECB52"
                    ],
                    "font": {
                      "color": "#2a3f5f"
                    },
                    "geo": {
                      "bgcolor": "white",
                      "lakecolor": "white",
                      "landcolor": "#E5ECF6",
                      "showlakes": true,
                      "showland": true,
                      "subunitcolor": "white"
                    },
                    "hoverlabel": {
                      "align": "left"
                    },
                    "hovermode": "closest",
                    "mapbox": {
                      "style": "light"
                    },
                    "paper_bgcolor": "white",
                    "plot_bgcolor": "#E5ECF6",
                    "polar": {
                      "angularaxis": {
                        "gridcolor": "white",
                        "linecolor": "white",
                        "ticks": ""
                      },
                      "bgcolor": "#E5ECF6",
                      "radialaxis": {
                        "gridcolor": "white",
                        "linecolor": "white",
                        "ticks": ""
                      }
                    },
                    "scene": {
                      "xaxis": {
                        "backgroundcolor": "#E5ECF6",
                        "gridcolor": "white",
                        "gridwidth": 2,
                        "linecolor": "white",
                        "showbackground": true,
                        "ticks": "",
                        "zerolinecolor": "white"
                      },
                      "yaxis": {
                        "backgroundcolor": "#E5ECF6",
                        "gridcolor": "white",
                        "gridwidth": 2,
                        "linecolor": "white",
                        "showbackground": true,
                        "ticks": "",
                        "zerolinecolor": "white"
                      },
                      "zaxis": {
                        "backgroundcolor": "#E5ECF6",
                        "gridcolor": "white",
                        "gridwidth": 2,
                        "linecolor": "white",
                        "showbackground": true,
                        "ticks": "",
                        "zerolinecolor": "white"
                      }
                    },
                    "shapedefaults": {
                      "line": {
                        "color": "#2a3f5f"
                      }
                    },
                    "ternary": {
                      "aaxis": {
                        "gridcolor": "white",
                        "linecolor": "white",
                        "ticks": ""
                      },
                      "baxis": {
                        "gridcolor": "white",
                        "linecolor": "white",
                        "ticks": ""
                      },
                      "bgcolor": "#E5ECF6",
                      "caxis": {
                        "gridcolor": "white",
                        "linecolor": "white",
                        "ticks": ""
                      }
                    },
                    "title": {
                      "x": 0.05
                    },
                    "xaxis": {
                      "automargin": true,
                      "gridcolor": "white",
                      "linecolor": "white",
                      "ticks": "",
                      "title": {
                        "standoff": 15
                      },
                      "zerolinecolor": "white",
                      "zerolinewidth": 2
                    },
                    "yaxis": {
                      "automargin": true,
                      "gridcolor": "white",
                      "linecolor": "white",
                      "ticks": "",
                      "title": {
                        "standoff": 15
                      },
                      "zerolinecolor": "white",
                      "zerolinewidth": 2
                    }
                  }
                },
                "xaxis": {
                  "anchor": "y",
                  "autorange": true,
                  "domain": [
                    0,
                    1
                  ],
                  "range": [
                    -403.55967162378624,
                    9375.199586474797
                  ],
                  "title": {
                    "text": "efficiency"
                  },
                  "type": "linear"
                },
                "yaxis": {
                  "anchor": "x",
                  "autorange": true,
                  "domain": [
                    0,
                    1
                  ],
                  "range": [
                    -0.03285310724288974,
                    2.0742853085122817
                  ],
                  "title": {
                    "text": "total_diff"
                  },
                  "type": "linear"
                }
              }
            },
            "image/png": "[encoded data removed]",
            "text/html": [
              "<div>                            <div id=\"8c750262-d8ca-4e87-baf1-3260164844cc\" class=\"plotly-graph-div\" style=\"height:525px; width:100%;\"></div>            <script type=\"text/javascript\">                require([\"plotly\"], function(Plotly) {                    window.PLOTLYENV=window.PLOTLYENV || {};                                    if (document.getElementById(\"8c750262-d8ca-4e87-baf1-3260164844cc\")) {                    Plotly.newPlot(                        \"8c750262-d8ca-4e87-baf1-3260164844cc\",                        [{\"hovertemplate\":\"cluster=\\u041a\\u043b\\u0430\\u0441\\u0442\\u0435\\u0440 0<br>site=\\u0420\\u0411\\u041a<br>efficiency=%{x}<br>total_diff=%{y}<extra></extra>\",\"legendgroup\":\"\\u041a\\u043b\\u0430\\u0441\\u0442\\u0435\\u0440 0, \\u0420\\u0411\\u041a\",\"marker\":{\"color\":\"#636efa\",\"symbol\":\"circle\"},\"mode\":\"markers\",\"name\":\"\\u041a\\u043b\\u0430\\u0441\\u0442\\u0435\\u0440 0, \\u0420\\u0411\\u041a\",\"orientation\":\"v\",\"showlegend\":true,\"x\":[364.8605996843766],\"xaxis\":\"x\",\"y\":[0.39413856565024136],\"yaxis\":\"y\",\"type\":\"scatter\"},{\"hovertemplate\":\"cluster=\\u041a\\u043b\\u0430\\u0441\\u0442\\u0435\\u0440 0<br>site=\\u0426\\u0418\\u0410\\u041d<br>efficiency=%{x}<br>total_diff=%{y}<extra></extra>\",\"legendgroup\":\"\\u041a\\u043b\\u0430\\u0441\\u0442\\u0435\\u0440 0, \\u0426\\u0418\\u0410\\u041d\",\"marker\":{\"color\":\"#636efa\",\"symbol\":\"diamond\"},\"mode\":\"markers\",\"name\":\"\\u041a\\u043b\\u0430\\u0441\\u0442\\u0435\\u0440 0, \\u0426\\u0418\\u0410\\u041d\",\"orientation\":\"v\",\"showlegend\":true,\"x\":[450.70694487698535],\"xaxis\":\"x\",\"y\":[0.4191999825628411],\"yaxis\":\"y\",\"type\":\"scatter\"},{\"hovertemplate\":\"cluster=\\u041a\\u043b\\u0430\\u0441\\u0442\\u0435\\u0440 0<br>site=2\\u0413\\u0418\\u0421<br>efficiency=%{x}<br>total_diff=%{y}<extra></extra>\",\"legendgroup\":\"\\u041a\\u043b\\u0430\\u0441\\u0442\\u0435\\u0440 0, 2\\u0413\\u0418\\u0421\",\"marker\":{\"color\":\"#636efa\",\"symbol\":\"square\"},\"mode\":\"markers\",\"name\":\"\\u041a\\u043b\\u0430\\u0441\\u0442\\u0435\\u0440 0, 2\\u0413\\u0418\\u0421\",\"orientation\":\"v\",\"showlegend\":true,\"x\":[387.2254559565386],\"xaxis\":\"x\",\"y\":[0.4453700503578439],\"yaxis\":\"y\",\"type\":\"scatter\"},{\"hovertemplate\":\"cluster=\\u041a\\u043b\\u0430\\u0441\\u0442\\u0435\\u0440 0<br>site=Avito<br>efficiency=%{x}<br>total_diff=%{y}<extra></extra>\",\"legendgroup\":\"\\u041a\\u043b\\u0430\\u0441\\u0442\\u0435\\u0440 0, Avito\",\"marker\":{\"color\":\"#636efa\",\"symbol\":\"x\"},\"mode\":\"markers\",\"name\":\"\\u041a\\u043b\\u0430\\u0441\\u0442\\u0435\\u0440 0, Avito\",\"orientation\":\"v\",\"showlegend\":true,\"x\":[8846.95792880259],\"xaxis\":\"x\",\"y\":[0.45752546921172926],\"yaxis\":\"y\",\"type\":\"scatter\"},{\"hovertemplate\":\"cluster=\\u041a\\u043b\\u0430\\u0441\\u0442\\u0435\\u0440 0<br>site=\\u042e\\u043b\\u0430<br>efficiency=%{x}<br>total_diff=%{y}<extra></extra>\",\"legendgroup\":\"\\u041a\\u043b\\u0430\\u0441\\u0442\\u0435\\u0440 0, \\u042e\\u043b\\u0430\",\"marker\":{\"color\":\"#636efa\",\"symbol\":\"cross\"},\"mode\":\"markers\",\"name\":\"\\u041a\\u043b\\u0430\\u0441\\u0442\\u0435\\u0440 0, \\u042e\\u043b\\u0430\",\"orientation\":\"v\",\"showlegend\":true,\"x\":[156.53370655470027],\"xaxis\":\"x\",\"y\":[0.4743516972058574],\"yaxis\":\"y\",\"type\":\"scatter\"},{\"hovertemplate\":\"cluster=\\u041a\\u043b\\u0430\\u0441\\u0442\\u0435\\u0440 1<br>site=\\u0426\\u0418\\u0410\\u041d<br>efficiency=%{x}<br>total_diff=%{y}<extra></extra>\",\"legendgroup\":\"\\u041a\\u043b\\u0430\\u0441\\u0442\\u0435\\u0440 1, \\u0426\\u0418\\u0410\\u041d\",\"marker\":{\"color\":\"#EF553B\",\"symbol\":\"diamond\"},\"mode\":\"markers\",\"name\":\"\\u041a\\u043b\\u0430\\u0441\\u0442\\u0435\\u0440 1, \\u0426\\u0418\\u0410\\u041d\",\"orientation\":\"v\",\"showlegend\":true,\"x\":[450.70694487698535],\"xaxis\":\"x\",\"y\":[0.10842094563160469],\"yaxis\":\"y\",\"type\":\"scatter\"},{\"hovertemplate\":\"cluster=\\u041a\\u043b\\u0430\\u0441\\u0442\\u0435\\u0440 1<br>site=2\\u0413\\u0418\\u0421<br>efficiency=%{x}<br>total_diff=%{y}<extra></extra>\",\"legendgroup\":\"\\u041a\\u043b\\u0430\\u0441\\u0442\\u0435\\u0440 1, 2\\u0413\\u0418\\u0421\",\"marker\":{\"color\":\"#EF553B\",\"symbol\":\"square\"},\"mode\":\"markers\",\"name\":\"\\u041a\\u043b\\u0430\\u0441\\u0442\\u0435\\u0440 1, 2\\u0413\\u0418\\u0421\",\"orientation\":\"v\",\"showlegend\":true,\"x\":[387.2254559565386],\"xaxis\":\"x\",\"y\":[0.12451512923022295],\"yaxis\":\"y\",\"type\":\"scatter\"},{\"hovertemplate\":\"cluster=\\u041a\\u043b\\u0430\\u0441\\u0442\\u0435\\u0440 1<br>site=Avito<br>efficiency=%{x}<br>total_diff=%{y}<extra></extra>\",\"legendgroup\":\"\\u041a\\u043b\\u0430\\u0441\\u0442\\u0435\\u0440 1, Avito\",\"marker\":{\"color\":\"#EF553B\",\"symbol\":\"x\"},\"mode\":\"markers\",\"name\":\"\\u041a\\u043b\\u0430\\u0441\\u0442\\u0435\\u0440 1, Avito\",\"orientation\":\"v\",\"showlegend\":true,\"x\":[8846.95792880259],\"xaxis\":\"x\",\"y\":[0.1497653929404732],\"yaxis\":\"y\",\"type\":\"scatter\"},{\"hovertemplate\":\"cluster=\\u041a\\u043b\\u0430\\u0441\\u0442\\u0435\\u0440 1<br>site=\\u042e\\u043b\\u0430<br>efficiency=%{x}<br>total_diff=%{y}<extra></extra>\",\"legendgroup\":\"\\u041a\\u043b\\u0430\\u0441\\u0442\\u0435\\u0440 1, \\u042e\\u043b\\u0430\",\"marker\":{\"color\":\"#EF553B\",\"symbol\":\"cross\"},\"mode\":\"markers\",\"name\":\"\\u041a\\u043b\\u0430\\u0441\\u0442\\u0435\\u0440 1, \\u042e\\u043b\\u0430\",\"orientation\":\"v\",\"showlegend\":true,\"x\":[156.53370655470027],\"xaxis\":\"x\",\"y\":[0.15638480328393953],\"yaxis\":\"y\",\"type\":\"scatter\"},{\"hovertemplate\":\"cluster=\\u041a\\u043b\\u0430\\u0441\\u0442\\u0435\\u0440 1<br>site=Wildberries<br>efficiency=%{x}<br>total_diff=%{y}<extra></extra>\",\"legendgroup\":\"\\u041a\\u043b\\u0430\\u0441\\u0442\\u0435\\u0440 1, Wildberries\",\"marker\":{\"color\":\"#EF553B\",\"symbol\":\"circle\"},\"mode\":\"markers\",\"name\":\"\\u041a\\u043b\\u0430\\u0441\\u0442\\u0435\\u0440 1, Wildberries\",\"orientation\":\"v\",\"showlegend\":true,\"x\":[6921.818181818182],\"xaxis\":\"x\",\"y\":[0.15735290183337095],\"yaxis\":\"y\",\"type\":\"scatter\"},{\"hovertemplate\":\"cluster=\\u041a\\u043b\\u0430\\u0441\\u0442\\u0435\\u0440 2<br>site=\\u0426\\u0418\\u0410\\u041d<br>efficiency=%{x}<br>total_diff=%{y}<extra></extra>\",\"legendgroup\":\"\\u041a\\u043b\\u0430\\u0441\\u0442\\u0435\\u0440 2, \\u0426\\u0418\\u0410\\u041d\",\"marker\":{\"color\":\"#00cc96\",\"symbol\":\"diamond\"},\"mode\":\"markers\",\"name\":\"\\u041a\\u043b\\u0430\\u0441\\u0442\\u0435\\u0440 2, \\u0426\\u0418\\u0410\\u041d\",\"orientation\":\"v\",\"showlegend\":true,\"x\":[450.70694487698535],\"xaxis\":\"x\",\"y\":[1.7620187395058264],\"yaxis\":\"y\",\"type\":\"scatter\"},{\"hovertemplate\":\"cluster=\\u041a\\u043b\\u0430\\u0441\\u0442\\u0435\\u0440 2<br>site=2\\u0413\\u0418\\u0421<br>efficiency=%{x}<br>total_diff=%{y}<extra></extra>\",\"legendgroup\":\"\\u041a\\u043b\\u0430\\u0441\\u0442\\u0435\\u0440 2, 2\\u0413\\u0418\\u0421\",\"marker\":{\"color\":\"#00cc96\",\"symbol\":\"square\"},\"mode\":\"markers\",\"name\":\"\\u041a\\u043b\\u0430\\u0441\\u0442\\u0435\\u0440 2, 2\\u0413\\u0418\\u0421\",\"orientation\":\"v\",\"showlegend\":true,\"x\":[387.2254559565386],\"xaxis\":\"x\",\"y\":[1.830342260539687],\"yaxis\":\"y\",\"type\":\"scatter\"},{\"hovertemplate\":\"cluster=\\u041a\\u043b\\u0430\\u0441\\u0442\\u0435\\u0440 2<br>site=Wildberries<br>efficiency=%{x}<br>total_diff=%{y}<extra></extra>\",\"legendgroup\":\"\\u041a\\u043b\\u0430\\u0441\\u0442\\u0435\\u0440 2, Wildberries\",\"marker\":{\"color\":\"#00cc96\",\"symbol\":\"circle\"},\"mode\":\"markers\",\"name\":\"\\u041a\\u043b\\u0430\\u0441\\u0442\\u0435\\u0440 2, Wildberries\",\"orientation\":\"v\",\"showlegend\":true,\"x\":[6921.818181818182],\"xaxis\":\"x\",\"y\":[1.8422129928951811],\"yaxis\":\"y\",\"type\":\"scatter\"},{\"hovertemplate\":\"cluster=\\u041a\\u043b\\u0430\\u0441\\u0442\\u0435\\u0440 2<br>site=\\u041e\\u0442\\u0437\\u043e\\u0432\\u0438\\u043a<br>efficiency=%{x}<br>total_diff=%{y}<extra></extra>\",\"legendgroup\":\"\\u041a\\u043b\\u0430\\u0441\\u0442\\u0435\\u0440 2, \\u041e\\u0442\\u0437\\u043e\\u0432\\u0438\\u043a\",\"marker\":{\"color\":\"#00cc96\",\"symbol\":\"diamond\"},\"mode\":\"markers\",\"name\":\"\\u041a\\u043b\\u0430\\u0441\\u0442\\u0435\\u0440 2, \\u041e\\u0442\\u0437\\u043e\\u0432\\u0438\\u043a\",\"orientation\":\"v\",\"showlegend\":true,\"x\":[124.6819860484202],\"xaxis\":\"x\",\"y\":[1.9136898357697087],\"yaxis\":\"y\",\"type\":\"scatter\"},{\"hovertemplate\":\"cluster=\\u041a\\u043b\\u0430\\u0441\\u0442\\u0435\\u0440 2<br>site=Ozon<br>efficiency=%{x}<br>total_diff=%{y}<extra></extra>\",\"legendgroup\":\"\\u041a\\u043b\\u0430\\u0441\\u0442\\u0435\\u0440 2, Ozon\",\"marker\":{\"color\":\"#00cc96\",\"symbol\":\"square\"},\"mode\":\"markers\",\"name\":\"\\u041a\\u043b\\u0430\\u0441\\u0442\\u0435\\u0440 2, Ozon\",\"orientation\":\"v\",\"showlegend\":true,\"x\":[2883.209109730849],\"xaxis\":\"x\",\"y\":[1.9330112556377872],\"yaxis\":\"y\",\"type\":\"scatter\"},{\"hovertemplate\":\"cluster=\\u041a\\u043b\\u0430\\u0441\\u0442\\u0435\\u0440 3<br>site=\\u0420\\u0411\\u041a<br>efficiency=%{x}<br>total_diff=%{y}<extra></extra>\",\"legendgroup\":\"\\u041a\\u043b\\u0430\\u0441\\u0442\\u0435\\u0440 3, \\u0420\\u0411\\u041a\",\"marker\":{\"color\":\"#ab63fa\",\"symbol\":\"circle\"},\"mode\":\"markers\",\"name\":\"\\u041a\\u043b\\u0430\\u0441\\u0442\\u0435\\u0440 3, \\u0420\\u0411\\u041a\",\"orientation\":\"v\",\"showlegend\":true,\"x\":[364.8605996843766],\"xaxis\":\"x\",\"y\":[0.8913528054642443],\"yaxis\":\"y\",\"type\":\"scatter\"},{\"hovertemplate\":\"cluster=\\u041a\\u043b\\u0430\\u0441\\u0442\\u0435\\u0440 3<br>site=\\u0426\\u0418\\u0410\\u041d<br>efficiency=%{x}<br>total_diff=%{y}<extra></extra>\",\"legendgroup\":\"\\u041a\\u043b\\u0430\\u0441\\u0442\\u0435\\u0440 3, \\u0426\\u0418\\u0410\\u041d\",\"marker\":{\"color\":\"#ab63fa\",\"symbol\":\"diamond\"},\"mode\":\"markers\",\"name\":\"\\u041a\\u043b\\u0430\\u0441\\u0442\\u0435\\u0440 3, \\u0426\\u0418\\u0410\\u041d\",\"orientation\":\"v\",\"showlegend\":true,\"x\":[450.70694487698535],\"xaxis\":\"x\",\"y\":[0.9763583378079318],\"yaxis\":\"y\",\"type\":\"scatter\"},{\"hovertemplate\":\"cluster=\\u041a\\u043b\\u0430\\u0441\\u0442\\u0435\\u0440 3<br>site=2\\u0413\\u0418\\u0421<br>efficiency=%{x}<br>total_diff=%{y}<extra></extra>\",\"legendgroup\":\"\\u041a\\u043b\\u0430\\u0441\\u0442\\u0435\\u0440 3, 2\\u0413\\u0418\\u0421\",\"marker\":{\"color\":\"#ab63fa\",\"symbol\":\"square\"},\"mode\":\"markers\",\"name\":\"\\u041a\\u043b\\u0430\\u0441\\u0442\\u0435\\u0440 3, 2\\u0413\\u0418\\u0421\",\"orientation\":\"v\",\"showlegend\":true,\"x\":[387.2254559565386],\"xaxis\":\"x\",\"y\":[0.9631563164803352],\"yaxis\":\"y\",\"type\":\"scatter\"},{\"hovertemplate\":\"cluster=\\u041a\\u043b\\u0430\\u0441\\u0442\\u0435\\u0440 3<br>site=Avito<br>efficiency=%{x}<br>total_diff=%{y}<extra></extra>\",\"legendgroup\":\"\\u041a\\u043b\\u0430\\u0441\\u0442\\u0435\\u0440 3, Avito\",\"marker\":{\"color\":\"#ab63fa\",\"symbol\":\"x\"},\"mode\":\"markers\",\"name\":\"\\u041a\\u043b\\u0430\\u0441\\u0442\\u0435\\u0440 3, Avito\",\"orientation\":\"v\",\"showlegend\":true,\"x\":[8846.95792880259],\"xaxis\":\"x\",\"y\":[0.9497308124112793],\"yaxis\":\"y\",\"type\":\"scatter\"},{\"hovertemplate\":\"cluster=\\u041a\\u043b\\u0430\\u0441\\u0442\\u0435\\u0440 3<br>site=\\u042e\\u043b\\u0430<br>efficiency=%{x}<br>total_diff=%{y}<extra></extra>\",\"legendgroup\":\"\\u041a\\u043b\\u0430\\u0441\\u0442\\u0435\\u0440 3, \\u042e\\u043b\\u0430\",\"marker\":{\"color\":\"#ab63fa\",\"symbol\":\"cross\"},\"mode\":\"markers\",\"name\":\"\\u041a\\u043b\\u0430\\u0441\\u0442\\u0435\\u0440 3, \\u042e\\u043b\\u0430\",\"orientation\":\"v\",\"showlegend\":true,\"x\":[156.53370655470027],\"xaxis\":\"x\",\"y\":[0.9589351429418483],\"yaxis\":\"y\",\"type\":\"scatter\"}],                        {\"legend\":{\"title\":{\"text\":\"cluster, site\"},\"tracegroupgap\":0},\"margin\":{\"t\":60},\"template\":{\"data\":{\"barpolar\":[{\"marker\":{\"line\":{\"color\":\"#E5ECF6\",\"width\":0.5},\"pattern\":{\"fillmode\":\"overlay\",\"size\":10,\"solidity\":0.2}},\"type\":\"barpolar\"}],\"bar\":[{\"error_x\":{\"color\":\"#2a3f5f\"},\"error_y\":{\"color\":\"#2a3f5f\"},\"marker\":{\"line\":{\"color\":\"#E5ECF6\",\"width\":0.5},\"pattern\":{\"fillmode\":\"overlay\",\"size\":10,\"solidity\":0.2}},\"type\":\"bar\"}],\"carpet\":[{\"aaxis\":{\"endlinecolor\":\"#2a3f5f\",\"gridcolor\":\"white\",\"linecolor\":\"white\",\"minorgridcolor\":\"white\",\"startlinecolor\":\"#2a3f5f\"},\"baxis\":{\"endlinecolor\":\"#2a3f5f\",\"gridcolor\":\"white\",\"linecolor\":\"white\",\"minorgridcolor\":\"white\",\"startlinecolor\":\"#2a3f5f\"},\"type\":\"carpet\"}],\"choropleth\":[{\"colorbar\":{\"outlinewidth\":0,\"ticks\":\"\"},\"type\":\"choropleth\"}],\"contourcarpet\":[{\"colorbar\":{\"outlinewidth\":0,\"ticks\":\"\"},\"type\":\"contourcarpet\"}],\"contour\":[{\"colorbar\":{\"outlinewidth\":0,\"ticks\":\"\"},\"colorscale\":[[0.0,\"#0d0887\"],[0.1111111111111111,\"#46039f\"],[0.2222222222222222,\"#7201a8\"],[0.3333333333333333,\"#9c179e\"],[0.4444444444444444,\"#bd3786\"],[0.5555555555555556,\"#d8576b\"],[0.6666666666666666,\"#ed7953\"],[0.7777777777777778,\"#fb9f3a\"],[0.8888888888888888,\"#fdca26\"],[1.0,\"#f0f921\"]],\"type\":\"contour\"}],\"heatmapgl\":[{\"colorbar\":{\"outlinewidth\":0,\"ticks\":\"\"},\"colorscale\":[[0.0,\"#0d0887\"],[0.1111111111111111,\"#46039f\"],[0.2222222222222222,\"#7201a8\"],[0.3333333333333333,\"#9c179e\"],[0.4444444444444444,\"#bd3786\"],[0.5555555555555556,\"#d8576b\"],[0.6666666666666666,\"#ed7953\"],[0.7777777777777778,\"#fb9f3a\"],[0.8888888888888888,\"#fdca26\"],[1.0,\"#f0f921\"]],\"type\":\"heatmapgl\"}],\"heatmap\":[{\"colorbar\":{\"outlinewidth\":0,\"ticks\":\"\"},\"colorscale\":[[0.0,\"#0d0887\"],[0.1111111111111111,\"#46039f\"],[0.2222222222222222,\"#7201a8\"],[0.3333333333333333,\"#9c179e\"],[0.4444444444444444,\"#bd3786\"],[0.5555555555555556,\"#d8576b\"],[0.6666666666666666,\"#ed7953\"],[0.7777777777777778,\"#fb9f3a\"],[0.8888888888888888,\"#fdca26\"],[1.0,\"#f0f921\"]],\"type\":\"heatmap\"}],\"histogram2dcontour\":[{\"colorbar\":{\"outlinewidth\":0,\"ticks\":\"\"},\"colorscale\":[[0.0,\"#0d0887\"],[0.1111111111111111,\"#46039f\"],[0.2222222222222222,\"#7201a8\"],[0.3333333333333333,\"#9c179e\"],[0.4444444444444444,\"#bd3786\"],[0.5555555555555556,\"#d8576b\"],[0.6666666666666666,\"#ed7953\"],[0.7777777777777778,\"#fb9f3a\"],[0.8888888888888888,\"#fdca26\"],[1.0,\"#f0f921\"]],\"type\":\"histogram2dcontour\"}],\"histogram2d\":[{\"colorbar\":{\"outlinewidth\":0,\"ticks\":\"\"},\"colorscale\":[[0.0,\"#0d0887\"],[0.1111111111111111,\"#46039f\"],[0.2222222222222222,\"#7201a8\"],[0.3333333333333333,\"#9c179e\"],[0.4444444444444444,\"#bd3786\"],[0.5555555555555556,\"#d8576b\"],[0.6666666666666666,\"#ed7953\"],[0.7777777777777778,\"#fb9f3a\"],[0.8888888888888888,\"#fdca26\"],[1.0,\"#f0f921\"]],\"type\":\"histogram2d\"}],\"histogram\":[{\"marker\":{\"pattern\":{\"fillmode\":\"overlay\",\"size\":10,\"solidity\":0.2}},\"type\":\"histogram\"}],\"mesh3d\":[{\"colorbar\":{\"outlinewidth\":0,\"ticks\":\"\"},\"type\":\"mesh3d\"}],\"parcoords\":[{\"line\":{\"colorbar\":{\"outlinewidth\":0,\"ticks\":\"\"}},\"type\":\"parcoords\"}],\"pie\":[{\"automargin\":true,\"type\":\"pie\"}],\"scatter3d\":[{\"line\":{\"colorbar\":{\"outlinewidth\":0,\"ticks\":\"\"}},\"marker\":{\"colorbar\":{\"outlinewidth\":0,\"ticks\":\"\"}},\"type\":\"scatter3d\"}],\"scattercarpet\":[{\"marker\":{\"colorbar\":{\"outlinewidth\":0,\"ticks\":\"\"}},\"type\":\"scattercarpet\"}],\"scattergeo\":[{\"marker\":{\"colorbar\":{\"outlinewidth\":0,\"ticks\":\"\"}},\"type\":\"scattergeo\"}],\"scattergl\":[{\"marker\":{\"colorbar\":{\"outlinewidth\":0,\"ticks\":\"\"}},\"type\":\"scattergl\"}],\"scattermapbox\":[{\"marker\":{\"colorbar\":{\"outlinewidth\":0,\"ticks\":\"\"}},\"type\":\"scattermapbox\"}],\"scatterpolargl\":[{\"marker\":{\"colorbar\":{\"outlinewidth\":0,\"ticks\":\"\"}},\"type\":\"scatterpolargl\"}],\"scatterpolar\":[{\"marker\":{\"colorbar\":{\"outlinewidth\":0,\"ticks\":\"\"}},\"type\":\"scatterpolar\"}],\"scatter\":[{\"marker\":{\"colorbar\":{\"outlinewidth\":0,\"ticks\":\"\"}},\"type\":\"scatter\"}],\"scatterternary\":[{\"marker\":{\"colorbar\":{\"outlinewidth\":0,\"ticks\":\"\"}},\"type\":\"scatterternary\"}],\"surface\":[{\"colorbar\":{\"outlinewidth\":0,\"ticks\":\"\"},\"colorscale\":[[0.0,\"#0d0887\"],[0.1111111111111111,\"#46039f\"],[0.2222222222222222,\"#7201a8\"],[0.3333333333333333,\"#9c179e\"],[0.4444444444444444,\"#bd3786\"],[0.5555555555555556,\"#d8576b\"],[0.6666666666666666,\"#ed7953\"],[0.7777777777777778,\"#fb9f3a\"],[0.8888888888888888,\"#fdca26\"],[1.0,\"#f0f921\"]],\"type\":\"surface\"}],\"table\":[{\"cells\":{\"fill\":{\"color\":\"#EBF0F8\"},\"line\":{\"color\":\"white\"}},\"header\":{\"fill\":{\"color\":\"#C8D4E3\"},\"line\":{\"color\":\"white\"}},\"type\":\"table\"}]},\"layout\":{\"annotationdefaults\":{\"arrowcolor\":\"#2a3f5f\",\"arrowhead\":0,\"arrowwidth\":1},\"autotypenumbers\":\"strict\",\"coloraxis\":{\"colorbar\":{\"outlinewidth\":0,\"ticks\":\"\"}},\"colorscale\":{\"diverging\":[[0,\"#8e0152\"],[0.1,\"#c51b7d\"],[0.2,\"#de77ae\"],[0.3,\"#f1b6da\"],[0.4,\"#fde0ef\"],[0.5,\"#f7f7f7\"],[0.6,\"#e6f5d0\"],[0.7,\"#b8e186\"],[0.8,\"#7fbc41\"],[0.9,\"#4d9221\"],[1,\"#276419\"]],\"sequential\":[[0.0,\"#0d0887\"],[0.1111111111111111,\"#46039f\"],[0.2222222222222222,\"#7201a8\"],[0.3333333333333333,\"#9c179e\"],[0.4444444444444444,\"#bd3786\"],[0.5555555555555556,\"#d8576b\"],[0.6666666666666666,\"#ed7953\"],[0.7777777777777778,\"#fb9f3a\"],[0.8888888888888888,\"#fdca26\"],[1.0,\"#f0f921\"]],\"sequentialminus\":[[0.0,\"#0d0887\"],[0.1111111111111111,\"#46039f\"],[0.2222222222222222,\"#7201a8\"],[0.3333333333333333,\"#9c179e\"],[0.4444444444444444,\"#bd3786\"],[0.5555555555555556,\"#d8576b\"],[0.6666666666666666,\"#ed7953\"],[0.7777777777777778,\"#fb9f3a\"],[0.8888888888888888,\"#fdca26\"],[1.0,\"#f0f921\"]]},\"colorway\":[\"#636efa\",\"#EF553B\",\"#00cc96\",\"#ab63fa\",\"#FFA15A\",\"#19d3f3\",\"#FF6692\",\"#B6E880\",\"#FF97FF\",\"#FECB52\"],\"font\":{\"color\":\"#2a3f5f\"},\"geo\":{\"bgcolor\":\"white\",\"lakecolor\":\"white\",\"landcolor\":\"#E5ECF6\",\"showlakes\":true,\"showland\":true,\"subunitcolor\":\"white\"},\"hoverlabel\":{\"align\":\"left\"},\"hovermode\":\"closest\",\"mapbox\":{\"style\":\"light\"},\"paper_bgcolor\":\"white\",\"plot_bgcolor\":\"#E5ECF6\",\"polar\":{\"angularaxis\":{\"gridcolor\":\"white\",\"linecolor\":\"white\",\"ticks\":\"\"},\"bgcolor\":\"#E5ECF6\",\"radialaxis\":{\"gridcolor\":\"white\",\"linecolor\":\"white\",\"ticks\":\"\"}},\"scene\":{\"xaxis\":{\"backgroundcolor\":\"#E5ECF6\",\"gridcolor\":\"white\",\"gridwidth\":2,\"linecolor\":\"white\",\"showbackground\":true,\"ticks\":\"\",\"zerolinecolor\":\"white\"},\"yaxis\":{\"backgroundcolor\":\"#E5ECF6\",\"gridcolor\":\"white\",\"gridwidth\":2,\"linecolor\":\"white\",\"showbackground\":true,\"ticks\":\"\",\"zerolinecolor\":\"white\"},\"zaxis\":{\"backgroundcolor\":\"#E5ECF6\",\"gridcolor\":\"white\",\"gridwidth\":2,\"linecolor\":\"white\",\"showbackground\":true,\"ticks\":\"\",\"zerolinecolor\":\"white\"}},\"shapedefaults\":{\"line\":{\"color\":\"#2a3f5f\"}},\"ternary\":{\"aaxis\":{\"gridcolor\":\"white\",\"linecolor\":\"white\",\"ticks\":\"\"},\"baxis\":{\"gridcolor\":\"white\",\"linecolor\":\"white\",\"ticks\":\"\"},\"bgcolor\":\"#E5ECF6\",\"caxis\":{\"gridcolor\":\"white\",\"linecolor\":\"white\",\"ticks\":\"\"}},\"title\":{\"x\":0.05},\"xaxis\":{\"automargin\":true,\"gridcolor\":\"white\",\"linecolor\":\"white\",\"ticks\":\"\",\"title\":{\"standoff\":15},\"zerolinecolor\":\"white\",\"zerolinewidth\":2},\"yaxis\":{\"automargin\":true,\"gridcolor\":\"white\",\"linecolor\":\"white\",\"ticks\":\"\",\"title\":{\"standoff\":15},\"zerolinecolor\":\"white\",\"zerolinewidth\":2}}},\"xaxis\":{\"anchor\":\"y\",\"domain\":[0.0,1.0],\"title\":{\"text\":\"efficiency\"}},\"yaxis\":{\"anchor\":\"x\",\"domain\":[0.0,1.0],\"title\":{\"text\":\"total_diff\"}}},                        {\"responsive\": true}                    ).then(function(){\n",
              "                            \n",
              "var gd = document.getElementById('8c750262-d8ca-4e87-baf1-3260164844cc');\n",
              "var x = new MutationObserver(function (mutations, observer) {{\n",
              "        var display = window.getComputedStyle(gd).display;\n",
              "        if (!display || display === 'none') {{\n",
              "            console.log([gd, 'removed!']);\n",
              "            Plotly.purge(gd);\n",
              "            observer.disconnect();\n",
              "        }}\n",
              "}});\n",
              "\n",
              "// Listen for the removal of the full notebook cells\n",
              "var notebookContainer = gd.closest('#notebook-container');\n",
              "if (notebookContainer) {{\n",
              "    x.observe(notebookContainer, {childList: true});\n",
              "}}\n",
              "\n",
              "// Listen for the clearing of the current output cell\n",
              "var outputEl = gd.closest('.output');\n",
              "if (outputEl) {{\n",
              "    x.observe(outputEl, {childList: true});\n",
              "}}\n",
              "\n",
              "                        })                };                });            </script>        </div>"
            ]
          },
          "metadata": {},
          "output_type": "display_data"
        }
      ],
      "source": [
        "plt_topscat"
      ]
    }
  ],
  "metadata": {
    "colab": {
      "collapsed_sections": [
        "8Mafz1gxmL1g"
      ],
      "name": "clusterization_segmentation.ipynb",
      "provenance": []
    },
    "kernelspec": {
      "display_name": "Python 3 (ipykernel)",
      "language": "python",
      "name": "python3"
    },
    "language_info": {
      "codemirror_mode": {
        "name": "ipython",
        "version": 3
      },
      "file_extension": ".py",
      "mimetype": "text/x-python",
      "name": "python",
      "nbconvert_exporter": "python",
      "pygments_lexer": "ipython3",
      "version": "3.10.0"
    }
  },
  "nbformat": 4,
  "nbformat_minor": 0
}