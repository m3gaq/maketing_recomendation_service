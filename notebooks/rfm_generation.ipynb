{
  "cells": [
    {
      "cell_type": "markdown",
      "source": [
        "# Загрузка данных:"
      ],
      "metadata": {
        "id": "lLiofuJC_ieg"
      }
    },
    {
      "cell_type": "code",
      "source": [
        "!pip install squarify"
      ],
      "metadata": {
        "colab": {
          "base_uri": "https://localhost:8080/"
        },
        "id": "fVfcE9eW8nd4",
        "outputId": "06059475-c250-4366-e675-23173cec264a"
      },
      "execution_count": 11,
      "outputs": [
        {
          "output_type": "stream",
          "name": "stdout",
          "text": [
            "Looking in indexes: https://pypi.org/simple, https://us-python.pkg.dev/colab-wheels/public/simple/\n",
            "Collecting squarify\n",
            "  Downloading squarify-0.4.3-py3-none-any.whl (4.3 kB)\n",
            "Installing collected packages: squarify\n",
            "Successfully installed squarify-0.4.3\n"
          ]
        }
      ]
    },
    {
      "cell_type": "code",
      "source": [
        "pip install matplotlib==3.1.3"
      ],
      "metadata": {
        "colab": {
          "base_uri": "https://localhost:8080/",
          "height": 454
        },
        "id": "j7qLZ7wl9U5a",
        "outputId": "c57999bd-4987-4f2c-f5fd-9385bc89d7f5"
      },
      "execution_count": 15,
      "outputs": [
        {
          "output_type": "stream",
          "name": "stdout",
          "text": [
            "Looking in indexes: https://pypi.org/simple, https://us-python.pkg.dev/colab-wheels/public/simple/\n",
            "Collecting matplotlib==3.1.3\n",
            "  Downloading matplotlib-3.1.3-cp37-cp37m-manylinux1_x86_64.whl (13.1 MB)\n",
            "\u001b[K     |████████████████████████████████| 13.1 MB 5.3 MB/s \n",
            "\u001b[?25hRequirement already satisfied: python-dateutil>=2.1 in /usr/local/lib/python3.7/dist-packages (from matplotlib==3.1.3) (2.8.2)\n",
            "Requirement already satisfied: cycler>=0.10 in /usr/local/lib/python3.7/dist-packages (from matplotlib==3.1.3) (0.11.0)\n",
            "Requirement already satisfied: numpy>=1.11 in /usr/local/lib/python3.7/dist-packages (from matplotlib==3.1.3) (1.21.6)\n",
            "Requirement already satisfied: pyparsing!=2.0.4,!=2.1.2,!=2.1.6,>=2.0.1 in /usr/local/lib/python3.7/dist-packages (from matplotlib==3.1.3) (3.0.9)\n",
            "Requirement already satisfied: kiwisolver>=1.0.1 in /usr/local/lib/python3.7/dist-packages (from matplotlib==3.1.3) (1.4.2)\n",
            "Requirement already satisfied: typing-extensions in /usr/local/lib/python3.7/dist-packages (from kiwisolver>=1.0.1->matplotlib==3.1.3) (4.2.0)\n",
            "Requirement already satisfied: six>=1.5 in /usr/local/lib/python3.7/dist-packages (from python-dateutil>=2.1->matplotlib==3.1.3) (1.15.0)\n",
            "Installing collected packages: matplotlib\n",
            "  Attempting uninstall: matplotlib\n",
            "    Found existing installation: matplotlib 3.2.2\n",
            "    Uninstalling matplotlib-3.2.2:\n",
            "      Successfully uninstalled matplotlib-3.2.2\n",
            "\u001b[31mERROR: pip's dependency resolver does not currently take into account all the packages that are installed. This behaviour is the source of the following dependency conflicts.\n",
            "albumentations 0.1.12 requires imgaug<0.2.7,>=0.2.5, but you have imgaug 0.2.9 which is incompatible.\u001b[0m\n",
            "Successfully installed matplotlib-3.1.3\n"
          ]
        },
        {
          "output_type": "display_data",
          "data": {
            "application/vnd.colab-display-data+json": {
              "pip_warning": {
                "packages": [
                  "matplotlib",
                  "mpl_toolkits"
                ]
              }
            }
          },
          "metadata": {}
        }
      ]
    },
    {
      "cell_type": "markdown",
      "source": [
        "# Библиотеки"
      ],
      "metadata": {
        "id": "iVFeUAeF_tPR"
      }
    },
    {
      "cell_type": "code",
      "source": [
        "from google.colab import drive\n",
        "drive.mount('/content/drive')"
      ],
      "metadata": {
        "id": "SN0JUnsZZzrY",
        "outputId": "a099beed-7876-463b-e1ae-650f5e01015b",
        "colab": {
          "base_uri": "https://localhost:8080/"
        }
      },
      "execution_count": 1,
      "outputs": [
        {
          "output_type": "stream",
          "name": "stdout",
          "text": [
            "Mounted at /content/drive\n"
          ]
        }
      ]
    },
    {
      "cell_type": "code",
      "execution_count": 3,
      "metadata": {
        "id": "9LchcRtkyzC8"
      },
      "outputs": [],
      "source": [
        "# загружаем библиотеки \n",
        "import pandas as pd\n",
        "import squarify\n",
        "import matplotlib.pyplot as plt\n",
        "import requests\n",
        "import numpy as np\n",
        "data_for_generation = pd.read_csv(r'/content/drive/MyDrive/Colab Notebooks/MCH/github_/data_MCH.csv')"
      ]
    },
    {
      "cell_type": "markdown",
      "source": [
        "# Генерация данных:"
      ],
      "metadata": {
        "id": "DVvrx9nsaNx2"
      }
    },
    {
      "cell_type": "markdown",
      "source": [
        " Сгенерируем данные и оценим RFM, которые помогут нам проанализировать исторические данные маркетинговых кампаний.  \n",
        "\n",
        " Модель RFM предназначена для сегментации пользователей на основе трех параметров: \n",
        "1.   **recency** (как давно клиент использовал продукт); \n",
        "2.   **frequency** (как часто клиент пользуется продуктом); \n",
        "3.   **monetary** (сколько денег принес клиент бизнесу/какой денежный оборот и пользователя).\n",
        "\n",
        "Мы ранжируем эти параметры относительно общего распределения всех данных и сегменируем по заранее заданным сегментам: **ABOUT TO SLEEP, RECENT CUSTOMER, CANNOT LOOSE THEM, CHAMPION, LOST CUSTOMER, LOYAL, POTENTIAL LOYALIST, AVERAGE**.\n",
        "\n",
        "(Для оценки RFM нам понадобилось добавить один столбец в виде денежного оборота у клиента на карте в изначальную таблицу транзакций).\n",
        "\n",
        "Таким образом, мы можем как протестировать рекламную кампанию на похожем сегменте пользователей, так и понимать, какой сегмент пользователей из разных каналов к нам приходит. Например, много средних, не очень активных пользователей или не так много золотых."
      ],
      "metadata": {
        "id": "fXssqfWeaZnZ"
      }
    },
    {
      "cell_type": "markdown",
      "source": [
        "Добавляем следующие признаки\n",
        "\n",
        "*   Затраты пользователей\n",
        "\n"
      ],
      "metadata": {
        "id": "Jsw47shkiL2Y"
      }
    },
    {
      "cell_type": "code",
      "source": [
        "data_rfm = pd.DataFrame(columns=[['id', 'date', 'purchase']])"
      ],
      "metadata": {
        "id": "aeP3E7rKfzl5"
      },
      "execution_count": 6,
      "outputs": []
    },
    {
      "cell_type": "code",
      "source": [
        "data_for_generation['id'] = data_for_generation['client_id']\n",
        "data_for_generation['purchase'] = abs(np.random.normal(loc=data_for_generation['purchase_sum'].mean(), \n",
        "                                            scale=data_for_generation['purchase_sum'].std(), \n",
        "                                            size=data_for_generation['purchase_sum'].shape[0]))\n",
        "\n",
        "data_for_generation['date'] = pd.date_range(start=\"2018-09-09\",end=\"2022-02-02\", periods = data_for_generation['purchase'].shape[0]).to_pydatetime().tolist()"
      ],
      "metadata": {
        "id": "bJWr8wj6s55G"
      },
      "execution_count": 7,
      "outputs": []
    },
    {
      "cell_type": "code",
      "source": [
        "from datetime import datetime\n",
        "data_rfm_final = pd.DataFrame(index = data_for_generation.groupby(by = 'client_id').count()['purchase'].index , \n",
        "                              columns = ['purchase'],\n",
        "                              data= data_for_generation.groupby(by = 'client_id').count()['purchase'])\n",
        "data_rfm_final['recency'] = data_for_generation.groupby(by = 'client_id').max()['date']\n",
        "data_rfm_final['monetary_mean'] = data_for_generation.groupby(by = 'client_id').mean()['purchase']\n",
        "data_rfm_final['monetary_sum'] = data_for_generation.groupby(by = 'client_id').sum()['purchase']\n",
        "\n",
        "data_rfm_final.rename(columns = {'purchase':'frequency',}, inplace = True)\n",
        "data_rfm_final['recency'] = data_rfm_final['recency'].apply(lambda x: (datetime.today() - x).days)"
      ],
      "metadata": {
        "id": "g76xl_Ufe9Ei",
        "colab": {
          "base_uri": "https://localhost:8080/"
        },
        "outputId": "55160556-51bd-4018-e607-1a80790480f2"
      },
      "execution_count": 8,
      "outputs": [
        {
          "output_type": "stream",
          "name": "stderr",
          "text": [
            "/usr/local/lib/python3.7/dist-packages/ipykernel_launcher.py:5: FutureWarning: Dropping invalid columns in DataFrameGroupBy.max is deprecated. In a future version, a TypeError will be raised. Before calling .max, select only columns which should be valid for the function.\n",
            "  \"\"\"\n"
          ]
        }
      ]
    },
    {
      "cell_type": "code",
      "source": [
        "data_rfm_final['frequency_score'] = pd.qcut(data_rfm_final['frequency'], 3, labels=[1, 2, 3]) \n",
        "data_rfm_final['recency_score'] = pd.qcut(data_rfm_final['recency'], 3, labels=[3, 2, 1]) \n",
        "data_rfm_final['monetary_score'] = pd.qcut(data_rfm_final['monetary_sum'], 3, labels=[1, 2, 3]) \n",
        "\n",
        "data_rfm_final['rfm_score'] = data_rfm_final['recency_score'].astype('str') + data_rfm_final['frequency_score'].astype('str') + data_rfm_final['monetary_score'].astype('str')\n",
        "\n",
        "rfm_score_dict = {\"112\":\"ABOUT TO SLEEP\", \n",
        "                      \"113\":\"ABOUT TO SLEEP\", \n",
        "                      \"121\":\"ABOUT TO SLEEP\",  \n",
        "                      \"122\":\"ABOUT TO SLEEP\",  \n",
        "                      \"131\":\"ABOUT TO SLEEP\", \n",
        "                      \"211\":\"ABOUT TO SLEEP\", \n",
        "                      \"212\":\"ABOUT TO SLEEP\", \n",
        "                      \"221\":\"ABOUT TO SLEEP\", \n",
        "                      \"311\":\"RECENT CUSTOMER\", \n",
        "                      \"312\":\"RECENT CUSTOMER\", \n",
        "                      \"313\":\"RECENT CUSTOMER\", \n",
        "                      \"123\":\"CANNOT LOOSE THEM\", \n",
        "                      \"132\":\"CANNOT LOOSE THEM\", \n",
        "                      \"133\":\"CANNOT LOOSE THEM\", \n",
        "                      \"333\":\"CHAMPION\", \n",
        "                      \"111\":\"LOST CUSTOMER\",\n",
        "                      \"233\":\"LOYAL\",\n",
        "                      \"323\":\"LOYAL\",\n",
        "                      \"332\":\"LOYAL\",\n",
        "                      \"223\":\"POTENTIAL LOYALIST\",\n",
        "                      \"232\":\"POTENTIAL LOYALIST\",\n",
        "                      \"322\":\"POTENTIAL LOYALIST\",\n",
        "                      \"331\":\"POTENTIAL LOYALIST\",\n",
        "                      \"213\":\"AVERAGE\",\n",
        "                      \"222\":\"AVERAGE\",\n",
        "                      \"231\":\"AVERAGE\",\n",
        "                      \"321\":\"AVERAGE\"}\n",
        "\n",
        "\n",
        "data_rfm_final['rfm_score_name'] = data_rfm_final['rfm_score'].apply(lambda x: rfm_score_dict[x])"
      ],
      "metadata": {
        "id": "-eKsirGxttDY"
      },
      "execution_count": 16,
      "outputs": []
    },
    {
      "cell_type": "code",
      "source": [
        "data_rfm_final.to_csv('/content/drive/MyDrive/Colab Notebooks/MCH/data_rfm.csv')"
      ],
      "metadata": {
        "id": "kTLlFZnfHsz8"
      },
      "execution_count": 17,
      "outputs": []
    },
    {
      "cell_type": "code",
      "source": [
        "plt.figure(figsize=(10, 10), dpi=80)\n",
        "squarify.plot(sizes=data_rfm_final['rfm_score_name'].value_counts(), \n",
        "              label=list(data_rfm_final['rfm_score_name'].value_counts().index),  \n",
        "              alpha=.4 )\n",
        "plt.axis('off')\n",
        "plt.show()"
      ],
      "metadata": {
        "id": "WXE0PF7gic9a",
        "colab": {
          "base_uri": "https://localhost:8080/",
          "height": 637
        },
        "outputId": "c90c8c0e-efe0-450d-ec6a-ae4143fc625b"
      },
      "execution_count": null,
      "outputs": [
        {
          "output_type": "display_data",
          "data": {
            "text/plain": [
              "<Figure size 800x800 with 1 Axes>"
            ],
            "image/png": "[encoded data removed]"
          },
          "metadata": {
            "needs_background": "light"
          }
        }
      ]
    }
  ],
  "metadata": {
    "colab": {
      "collapsed_sections": [
        "8Mafz1gxmL1g"
      ],
      "name": "rfm_generation.ipynb\"",
      "provenance": []
    },
    "kernelspec": {
      "display_name": "Python 3 (ipykernel)",
      "language": "python",
      "name": "python3"
    },
    "language_info": {
      "codemirror_mode": {
        "name": "ipython",
        "version": 3
      },
      "file_extension": ".py",
      "mimetype": "text/x-python",
      "name": "python",
      "nbconvert_exporter": "python",
      "pygments_lexer": "ipython3",
      "version": "3.10.0"
    }
  },
  "nbformat": 4,
  "nbformat_minor": 0
}