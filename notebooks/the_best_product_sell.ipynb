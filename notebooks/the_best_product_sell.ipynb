{
  "cells": [
    {
      "cell_type": "markdown",
      "source": [
        "## Классификация "
      ],
      "metadata": {
        "id": "zdt6cG745OgL"
      }
    },
    {
      "cell_type": "markdown",
      "source": [
        "В данном разделе мы применили к нашим данным классификацию по kNN для того, чтобы понять, какой продукт нужно рекламировать в каком канале. "
      ],
      "metadata": {
        "id": "HaBTL2976c-F"
      }
    },
    {
      "cell_type": "code",
      "execution_count": null,
      "metadata": {
        "id": "9LchcRtkyzC8"
      },
      "outputs": [],
      "source": [
        "# загружаем библиотеки \n",
        "import pandas as pd\n",
        "import numpy as np\n",
        "df = pd.read_csv('https://hse.kamran.uz/share/hack2022_df.csv')"
      ]
    },
    {
      "cell_type": "markdown",
      "metadata": {
        "id": "kYdDh-Fr1FKY"
      },
      "source": [
        "Для начала мы хотим понять, с чем мы работаем. "
      ]
    },
    {
      "cell_type": "markdown",
      "metadata": {
        "id": "avJ2_mG05sdY"
      },
      "source": [
        "Описание полей: \n",
        "1. Client_id - идентификатор клиента \n",
        "2. Gender - пол \n",
        "3. Birth_date - дата рождения клиента \n",
        "4. Create_dt - дата создания счета/дата создания заявки \n",
        "5. nonresident_flag - флаг резидента \n",
        "6. businessman_flag - флаг бизнесмена \n",
        "7. city - город \n",
        "8. term - соглашение об основных условиях сделки \n",
        "9. contract_sum - сумма контракта\n",
        "10. product_category_name - тип продукта (два значения - договор на дк и кк)\n",
        "11. card_id - идентификатор карты \n",
        "12. card_type_name - тип карты \n",
        "13. start_date\n",
        "14. fact_close_date - дата закрытия счет/карты/продукта\n",
        "15. purchase_sum \n",
        "16. purchase_count\n",
        "17. current_balance_avg_sum\n",
        "18. current_balance_sum\n",
        "19. current_debit_turn_sum\n",
        "20. current_credit_turn_sum\n",
        "21. card_type"
      ]
    },
    {
      "cell_type": "markdown",
      "metadata": {
        "id": "Pyza4T0mgmAG"
      },
      "source": [
        "Бинарные категориальные  признаки: \n",
        "1. Gender \n",
        "2. Nonresident_flg \n",
        "3. Businessman_flag \n",
        "\n",
        "\n",
        "Категориальные небинарные: \n",
        "1. City \n",
        "2. product_category_name\n",
        "3. card_type\n",
        "4. card_type_name\n"
      ]
    },
    {
      "cell_type": "markdown",
      "source": [
        "В ячейках ниже мы обрабатываем наши данные (убираем дубли, преобразуем небинарные признаки в числовые)."
      ],
      "metadata": {
        "id": "yMQkvFCq61u6"
      }
    },
    {
      "cell_type": "code",
      "execution_count": null,
      "metadata": {
        "id": "4aUMJNyLWyRj"
      },
      "outputs": [],
      "source": [
        "def preprocess(df, ohe_cols=['card_type_name', 'city']):\n",
        "    df.drop_duplicates(inplace = True)\n",
        "\n",
        "    del df['term']\n",
        "    del df['card_id']\n",
        "\n",
        "    if len(ohe_cols)>1:\n",
        "        del df['client_id']\n",
        "\n",
        "    # преобразование небинарных признаков\n",
        "    one_hot_df = pd.get_dummies(df, \n",
        "                                columns=ohe_cols, \n",
        "                                drop_first=False)\n",
        "    \n",
        "    from datetime import datetime, date\n",
        "    today = date.today()\n",
        "    one_hot_df['Year'] = pd.to_datetime(one_hot_df['birth_date'], format='%Y')\n",
        "    one_hot_df['year'] = pd. DatetimeIndex(one_hot_df['Year']).year\n",
        "    one_hot_df['age'] = today.year - one_hot_df['year']\n",
        "    del one_hot_df['Year']\n",
        "    del one_hot_df['year']\n",
        "    del one_hot_df['birth_date']\n",
        "\n",
        "    one_hot_df['life_account'] = one_hot_df['fact_close_date'] - one_hot_df['start_date']\n",
        "    one_hot_df.loc[one_hot_df[\"gender\"] == \"М\",\"gender\"] = 1\n",
        "    one_hot_df.loc[one_hot_df[\"gender\"] == \"Ж\",\"gender\"] = 0\n",
        "    one_hot_df.loc[one_hot_df[\"nonresident_flag\"] == \"R\",\"nonresident_flag\"] = 0\n",
        "    one_hot_df.loc[one_hot_df[\"nonresident_flag\"] == \"N\",\"nonresident_flag\"] = 1\n",
        "\n",
        "    one_hot_df.loc[one_hot_df['card_type'] == \"dc\",\"card_type\"] = 1\n",
        "    one_hot_df.loc[one_hot_df['card_type'] == \"cc\",\"card_type\"] = 0\n",
        "\n",
        "\n",
        "    one_hot_df.loc[one_hot_df['product_category_name'] == \"Кредитная карта\",\"product_category_name\"] = 1\n",
        "    one_hot_df.loc[one_hot_df['product_category_name'] == \"Договор на текущий счет для дебетовой карты\",'product_category_name'] = 0\n",
        "\n",
        "    one_hot_df[['start_date', 'fact_close_date']] = np.where(one_hot_df[['start_date', 'fact_close_date']].isnull(), 0, 1)\n",
        "    one_hot_df['year'] = pd. DatetimeIndex(one_hot_df['create_date']).year\n",
        "    del one_hot_df['create_date']\n",
        "    one_hot_df.fillna(0, inplace=True)\n",
        "    return one_hot_df\n",
        "\n",
        "def try_different_clusters(K, data):\n",
        "    from sklearn.cluster import KMeans\n",
        "    cluster_values = list(range(1, K+1))\n",
        "    inertias=[]\n",
        "    clust_models=[]\n",
        "    \n",
        "    for c in cluster_values:\n",
        "        model = KMeans(n_clusters = c,init='k-means++',max_iter=400,random_state=42)\n",
        "        model.fit(data)\n",
        "        inertias.append(model.inertia_)\n",
        "        clust_models.append(model)\n",
        "    \n",
        "    return inertias,clust_models\n",
        "\n",
        "def fit(one_hot_df):\n",
        "    from sklearn.cluster import KMeans\n",
        "    kmeans_model = KMeans(init='k-means++',  max_iter=400, random_state=42)\n",
        "    kmeans_model.fit(one_hot_df)\n",
        "\n",
        "    outputs, clust_models = try_different_clusters(7, one_hot_df)\n",
        "    distances = pd.DataFrame({\"clusters\": list(range(1, 8)),\"sum of squared distances\": outputs})\n",
        "\n",
        "    import plotly.graph_objects as go\n",
        "    elbow_fig = go.Figure()\n",
        "    elbow_fig.add_trace(go.Scatter(x=distances[\"clusters\"], y=distances[\"sum of squared distances\"]))\n",
        "\n",
        "    elbow_fig.update_layout(xaxis = dict(tick0 = 1,dtick = 1,tickmode = 'linear'),                  \n",
        "                    xaxis_title=\"Количество кластеров\",\n",
        "                    yaxis_title=\"Сумма расстояний\",\n",
        "                    title_text=\"Оптимальное количество кластеров\")\n",
        "    \n",
        "    return elbow_fig, clust_models, distances"
      ]
    },
    {
      "cell_type": "code",
      "source": [
        "one_hot_df = preprocess(df.copy())"
      ],
      "metadata": {
        "id": "b-jH2QUDjLc7"
      },
      "execution_count": null,
      "outputs": []
    },
    {
      "cell_type": "markdown",
      "source": [
        "## Нахождение наилучшего продукта для компании в подканале"
      ],
      "metadata": {
        "id": "juXdIL7eajs6"
      }
    },
    {
      "cell_type": "code",
      "source": [
        "ohe_df = preprocess(df.drop(columns='city').copy(), ohe_cols=['card_type_name'])\n",
        "ohe_df = ohe_df.groupby(['client_id','gender','age','nonresident_flag']).mean().reset_index().drop(columns=['client_id'])"
      ],
      "metadata": {
        "id": "5hRqBdcY3BMo"
      },
      "execution_count": null,
      "outputs": []
    },
    {
      "cell_type": "code",
      "source": [
        "products = [\n",
        "       'card_type_name_American Express Optimum',\n",
        "       'card_type_name_American Express Premier',\n",
        "       'card_type_name_Eurocard/MasterCard Gold',\n",
        "       'card_type_name_Eurocard/MasterCard Mass',\n",
        "       'card_type_name_Eurocard/MasterCard Platinum',\n",
        "       'card_type_name_Eurocard/MasterCard Virt',\n",
        "       'card_type_name_Eurocard/MasterCard World',\n",
        "       'card_type_name_MasterCard Black Edition',\n",
        "       'card_type_name_MasterCard Electronic',\n",
        "       'card_type_name_MasterCard World Elite', \n",
        "       'card_type_name_MIR Supreme',\n",
        "       'card_type_name_MIR Privilege Plus',\n",
        "       'card_type_name_Дебет карта ПС МИР \"Бюджетная\"',\n",
        "       'card_type_name_МИР Debit', 'card_type_name_МИР Копилка',\n",
        "       'card_type_name_МИР СКБ', 'card_type_name_МИР СКБ ЗП',\n",
        "       'card_type_name_VISA Classic', 'card_type_name_VISA Classic Light',\n",
        "       'card_type_name_VISA Gold', 'card_type_name_VISA Infinite',\n",
        "       'card_type_name_VISA Platinum', 'card_type_name_Visa Classic Rewards',\n",
        "       'card_type_name_Visa Platinum Rewards', 'card_type_name_Visa Rewards',\n",
        "       'card_type_name_Visa Signature', \n",
        "       'card_type_name_Priority Pass',\n",
        "       ]\n",
        "product_type = ['American Express']*2+['MasterCard']*8+['MIR']*7+['visa']*9+['Other']*1\n",
        "product_type = {p:t for p,t in zip(products,product_type)}\n",
        "user = ['gender','age','nonresident_flag']"
      ],
      "metadata": {
        "id": "TpWC-PgIch29"
      },
      "execution_count": null,
      "outputs": []
    },
    {
      "cell_type": "code",
      "source": [
        "def generate_ds(size=1000,db_size=0.3):\n",
        "    def make_social_data(num_people, for_age, p_gender, p_res, p_act):\n",
        "        gender = np.random.choice(binary, num_people, p=[p_gender, 1 - p_gender])\n",
        "        nonresident_flag = np.random.choice(binary, num_people, p=[p_res, 1 - p_res])\n",
        "        active = np.random.choice(binary, num_people, p=[p_act, 1 - p_act])\n",
        "        age = np.random.choice(for_age, num_people)\n",
        "        \n",
        "        data_social_m = pd.DataFrame(columns=[\"gender\", \"age\", \"nonresident_flag\", \"active\"])\n",
        "        data_social_m[\"gender\"], data_social_m[\"age\"], data_social_m[\"nonresident_flag\"], data_social_m[\"active\"] = gender, age, nonresident_flag, active\n",
        "        \n",
        "        return data_social_m\n",
        "\n",
        "    binary = np.arange(2)\n",
        "    for_age_ = np.arange(65) + 20\n",
        "\n",
        "    data_credit = make_social_data(int(size*db_size), for_age_, 0.44, 0.9, 0.7)\n",
        "    data_deb = make_social_data(int(size*(1-db_size)), for_age_, 0.45, 0.9, 0.7)\n",
        "\n",
        "    data_social_media = pd.concat([data_credit, data_deb], ignore_index=True)\n",
        "    data_channel = np.random.randint(0,10,int(size*db_size)+int(size*(1-db_size)))\n",
        "    data_social_media['channel_id'] = data_channel\n",
        "    return data_social_media\n",
        "\n",
        "def match_user_product(one_hot_df, user, products, data_social_media):\n",
        "    from sklearn.neighbors import KNeighborsRegressor\n",
        "    knrs = [pd.Series(KNeighborsRegressor().fit(one_hot_df[user],one_hot_df[product]).predict(data_social_media.drop(columns='active'))) for product in products]\n",
        "\n",
        "    ddd = pd.concat(knrs,axis=1)\n",
        "    ddd.columns = products\n",
        "    return pd.concat([data_social_media,ddd],axis=1)\n",
        "\n",
        "data_social_media = generate_ds()\n",
        "data_social_media"
      ],
      "metadata": {
        "colab": {
          "base_uri": "https://localhost:8080/",
          "height": 424
        },
        "id": "YHuHwIEClfK3",
        "outputId": "2186db64-b371-4047-c511-6c284732acc4"
      },
      "execution_count": null,
      "outputs": [
        {
          "output_type": "execute_result",
          "data": {
            "text/plain": [
              "     gender  age  nonresident_flag  active  channel_id\n",
              "0         0   29                 0       0           2\n",
              "1         1   30                 0       0           0\n",
              "2         1   52                 0       0           7\n",
              "3         1   82                 0       1           8\n",
              "4         0   66                 0       0           0\n",
              "..      ...  ...               ...     ...         ...\n",
              "995       1   73                 0       1           5\n",
              "996       0   24                 1       0           9\n",
              "997       1   80                 0       1           7\n",
              "998       1   48                 0       0           1\n",
              "999       0   21                 0       0           0\n",
              "\n",
              "[1000 rows x 5 columns]"
            ],
            "text/html": [
              "\n",
              "  <div id=\"df-cd3295be-0387-4237-a631-fdbfcfaad3a0\">\n",
              "    <div class=\"colab-df-container\">\n",
              "      <div>\n",
              "<style scoped>\n",
              "    .dataframe tbody tr th:only-of-type {\n",
              "        vertical-align: middle;\n",
              "    }\n",
              "\n",
              "    .dataframe tbody tr th {\n",
              "        vertical-align: top;\n",
              "    }\n",
              "\n",
              "    .dataframe thead th {\n",
              "        text-align: right;\n",
              "    }\n",
              "</style>\n",
              "<table border=\"1\" class=\"dataframe\">\n",
              "  <thead>\n",
              "    <tr style=\"text-align: right;\">\n",
              "      <th></th>\n",
              "      <th>gender</th>\n",
              "      <th>age</th>\n",
              "      <th>nonresident_flag</th>\n",
              "      <th>active</th>\n",
              "      <th>channel_id</th>\n",
              "    </tr>\n",
              "  </thead>\n",
              "  <tbody>\n",
              "    <tr>\n",
              "      <th>0</th>\n",
              "      <td>0</td>\n",
              "      <td>29</td>\n",
              "      <td>0</td>\n",
              "      <td>0</td>\n",
              "      <td>2</td>\n",
              "    </tr>\n",
              "    <tr>\n",
              "      <th>1</th>\n",
              "      <td>1</td>\n",
              "      <td>30</td>\n",
              "      <td>0</td>\n",
              "      <td>0</td>\n",
              "      <td>0</td>\n",
              "    </tr>\n",
              "    <tr>\n",
              "      <th>2</th>\n",
              "      <td>1</td>\n",
              "      <td>52</td>\n",
              "      <td>0</td>\n",
              "      <td>0</td>\n",
              "      <td>7</td>\n",
              "    </tr>\n",
              "    <tr>\n",
              "      <th>3</th>\n",
              "      <td>1</td>\n",
              "      <td>82</td>\n",
              "      <td>0</td>\n",
              "      <td>1</td>\n",
              "      <td>8</td>\n",
              "    </tr>\n",
              "    <tr>\n",
              "      <th>4</th>\n",
              "      <td>0</td>\n",
              "      <td>66</td>\n",
              "      <td>0</td>\n",
              "      <td>0</td>\n",
              "      <td>0</td>\n",
              "    </tr>\n",
              "    <tr>\n",
              "      <th>...</th>\n",
              "      <td>...</td>\n",
              "      <td>...</td>\n",
              "      <td>...</td>\n",
              "      <td>...</td>\n",
              "      <td>...</td>\n",
              "    </tr>\n",
              "    <tr>\n",
              "      <th>995</th>\n",
              "      <td>1</td>\n",
              "      <td>73</td>\n",
              "      <td>0</td>\n",
              "      <td>1</td>\n",
              "      <td>5</td>\n",
              "    </tr>\n",
              "    <tr>\n",
              "      <th>996</th>\n",
              "      <td>0</td>\n",
              "      <td>24</td>\n",
              "      <td>1</td>\n",
              "      <td>0</td>\n",
              "      <td>9</td>\n",
              "    </tr>\n",
              "    <tr>\n",
              "      <th>997</th>\n",
              "      <td>1</td>\n",
              "      <td>80</td>\n",
              "      <td>0</td>\n",
              "      <td>1</td>\n",
              "      <td>7</td>\n",
              "    </tr>\n",
              "    <tr>\n",
              "      <th>998</th>\n",
              "      <td>1</td>\n",
              "      <td>48</td>\n",
              "      <td>0</td>\n",
              "      <td>0</td>\n",
              "      <td>1</td>\n",
              "    </tr>\n",
              "    <tr>\n",
              "      <th>999</th>\n",
              "      <td>0</td>\n",
              "      <td>21</td>\n",
              "      <td>0</td>\n",
              "      <td>0</td>\n",
              "      <td>0</td>\n",
              "    </tr>\n",
              "  </tbody>\n",
              "</table>\n",
              "<p>1000 rows × 5 columns</p>\n",
              "</div>\n",
              "      <button class=\"colab-df-convert\" onclick=\"convertToInteractive('df-cd3295be-0387-4237-a631-fdbfcfaad3a0')\"\n",
              "              title=\"Convert this dataframe to an interactive table.\"\n",
              "              style=\"display:none;\">\n",
              "        \n",
              "  <svg xmlns=\"http://www.w3.org/2000/svg\" height=\"24px\"viewBox=\"0 0 24 24\"\n",
              "       width=\"24px\">\n",
              "    <path d=\"M0 0h24v24H0V0z\" fill=\"none\"/>\n",
              "    <path d=\"M18.56 5.44l.94 2.06.94-2.06 2.06-.94-2.06-.94-.94-2.06-.94 2.06-2.06.94zm-11 1L8.5 8.5l.94-2.06 2.06-.94-2.06-.94L8.5 2.5l-.94 2.06-2.06.94zm10 10l.94 2.06.94-2.06 2.06-.94-2.06-.94-.94-2.06-.94 2.06-2.06.94z\"/><path d=\"M17.41 7.96l-1.37-1.37c-.4-.4-.92-.59-1.43-.59-.52 0-1.04.2-1.43.59L10.3 9.45l-7.72 7.72c-.78.78-.78 2.05 0 2.83L4 21.41c.39.39.9.59 1.41.59.51 0 1.02-.2 1.41-.59l7.78-7.78 2.81-2.81c.8-.78.8-2.07 0-2.86zM5.41 20L4 18.59l7.72-7.72 1.47 1.35L5.41 20z\"/>\n",
              "  </svg>\n",
              "      </button>\n",
              "      \n",
              "  <style>\n",
              "    .colab-df-container {\n",
              "      display:flex;\n",
              "      flex-wrap:wrap;\n",
              "      gap: 12px;\n",
              "    }\n",
              "\n",
              "    .colab-df-convert {\n",
              "      background-color: #E8F0FE;\n",
              "      border: none;\n",
              "      border-radius: 50%;\n",
              "      cursor: pointer;\n",
              "      display: none;\n",
              "      fill: #1967D2;\n",
              "      height: 32px;\n",
              "      padding: 0 0 0 0;\n",
              "      width: 32px;\n",
              "    }\n",
              "\n",
              "    .colab-df-convert:hover {\n",
              "      background-color: #E2EBFA;\n",
              "      box-shadow: 0px 1px 2px rgba(60, 64, 67, 0.3), 0px 1px 3px 1px rgba(60, 64, 67, 0.15);\n",
              "      fill: #174EA6;\n",
              "    }\n",
              "\n",
              "    [theme=dark] .colab-df-convert {\n",
              "      background-color: #3B4455;\n",
              "      fill: #D2E3FC;\n",
              "    }\n",
              "\n",
              "    [theme=dark] .colab-df-convert:hover {\n",
              "      background-color: #434B5C;\n",
              "      box-shadow: 0px 1px 3px 1px rgba(0, 0, 0, 0.15);\n",
              "      filter: drop-shadow(0px 1px 2px rgba(0, 0, 0, 0.3));\n",
              "      fill: #FFFFFF;\n",
              "    }\n",
              "  </style>\n",
              "\n",
              "      <script>\n",
              "        const buttonEl =\n",
              "          document.querySelector('#df-cd3295be-0387-4237-a631-fdbfcfaad3a0 button.colab-df-convert');\n",
              "        buttonEl.style.display =\n",
              "          google.colab.kernel.accessAllowed ? 'block' : 'none';\n",
              "\n",
              "        async function convertToInteractive(key) {\n",
              "          const element = document.querySelector('#df-cd3295be-0387-4237-a631-fdbfcfaad3a0');\n",
              "          const dataTable =\n",
              "            await google.colab.kernel.invokeFunction('convertToInteractive',\n",
              "                                                     [key], {});\n",
              "          if (!dataTable) return;\n",
              "\n",
              "          const docLinkHtml = 'Like what you see? Visit the ' +\n",
              "            '<a target=\"_blank\" href=https://colab.research.google.com/notebooks/data_table.ipynb>data table notebook</a>'\n",
              "            + ' to learn more about interactive tables.';\n",
              "          element.innerHTML = '';\n",
              "          dataTable['output_type'] = 'display_data';\n",
              "          await google.colab.output.renderOutput(dataTable, element);\n",
              "          const docLink = document.createElement('div');\n",
              "          docLink.innerHTML = docLinkHtml;\n",
              "          element.appendChild(docLink);\n",
              "        }\n",
              "      </script>\n",
              "    </div>\n",
              "  </div>\n",
              "  "
            ]
          },
          "metadata": {},
          "execution_count": 23
        }
      ]
    },
    {
      "cell_type": "code",
      "source": [
        "one_hot_df_ = match_user_product(one_hot_df, user, products, data_social_media.drop(columns='channel_id'))\n",
        "one_hot_df_['channel_id'] = data_social_media['channel_id']"
      ],
      "metadata": {
        "id": "oLnCVyufnvuW"
      },
      "execution_count": null,
      "outputs": []
    },
    {
      "cell_type": "code",
      "source": [
        "px.bar(one_hot_df_.groupby('channel_id').mean(),products)"
      ],
      "metadata": {
        "colab": {
          "base_uri": "https://localhost:8080/",
          "height": 542
        },
        "id": "rbcuQ3W5pAa4",
        "outputId": "436a51ac-3605-41d2-b5eb-0254a17bee03"
      },
      "execution_count": null,
      "outputs": [
        {
          "output_type": "display_data",
          "data": {
            "text/html": [
              "<html>\n",
              "<head><meta charset=\"utf-8\" /></head>\n",
              "<body>\n",
              "    <div>            <script src=\"https://cdnjs.cloudflare.com/ajax/libs/mathjax/2.7.5/MathJax.js?config=TeX-AMS-MML_SVG\"></script><script type=\"text/javascript\">if (window.MathJax) {MathJax.Hub.Config({SVG: {font: \"STIX-Web\"}});}</script>                <script type=\"text/javascript\">window.PlotlyConfig = {MathJaxConfig: 'local'};</script>\n",
              "        <script src=\"https://cdn.plot.ly/plotly-2.8.3.min.js\"></script>                <div id=\"1ba497b2-c7f3-46a0-b5a4-7de9f97363b9\" class=\"plotly-graph-div\" style=\"height:525px; width:100%;\"></div>            <script type=\"text/javascript\">                                    window.PLOTLYENV=window.PLOTLYENV || {};                                    if (document.getElementById(\"1ba497b2-c7f3-46a0-b5a4-7de9f97363b9\")) {                    Plotly.newPlot(                        \"1ba497b2-c7f3-46a0-b5a4-7de9f97363b9\",                        [{\"alignmentgroup\":\"True\",\"hovertemplate\":\"variable=card_type_name_American Express Optimum<br>value=%{x}<br>channel_id=%{y}<extra></extra>\",\"legendgroup\":\"card_type_name_American Express Optimum\",\"marker\":{\"color\":\"#636efa\",\"pattern\":{\"shape\":\"\"}},\"name\":\"card_type_name_American Express Optimum\",\"offsetgroup\":\"card_type_name_American Express Optimum\",\"orientation\":\"h\",\"showlegend\":true,\"textposition\":\"auto\",\"x\":[0.0,0.0,0.002127659574468085,0.0,0.0,0.0,0.001869158878504673,0.0,0.0,0.0],\"xaxis\":\"x\",\"y\":[0,1,2,3,4,5,6,7,8,9],\"yaxis\":\"y\",\"type\":\"bar\"},{\"alignmentgroup\":\"True\",\"hovertemplate\":\"variable=card_type_name_American Express Premier<br>value=%{x}<br>channel_id=%{y}<extra></extra>\",\"legendgroup\":\"card_type_name_American Express Premier\",\"marker\":{\"color\":\"#EF553B\",\"pattern\":{\"shape\":\"\"}},\"name\":\"card_type_name_American Express Premier\",\"offsetgroup\":\"card_type_name_American Express Premier\",\"orientation\":\"h\",\"showlegend\":true,\"textposition\":\"auto\",\"x\":[0.0,0.0,0.0,0.0,0.0,0.0,0.0,0.0,0.0,0.0],\"xaxis\":\"x\",\"y\":[0,1,2,3,4,5,6,7,8,9],\"yaxis\":\"y\",\"type\":\"bar\"},{\"alignmentgroup\":\"True\",\"hovertemplate\":\"variable=card_type_name_Eurocard/MasterCard Gold<br>value=%{x}<br>channel_id=%{y}<extra></extra>\",\"legendgroup\":\"card_type_name_Eurocard/MasterCard Gold\",\"marker\":{\"color\":\"#00cc96\",\"pattern\":{\"shape\":\"\"}},\"name\":\"card_type_name_Eurocard/MasterCard Gold\",\"offsetgroup\":\"card_type_name_Eurocard/MasterCard Gold\",\"orientation\":\"h\",\"showlegend\":true,\"textposition\":\"auto\",\"x\":[0.043750000000000004,0.04040404040404041,0.057446808510638304,0.03962264150943397,0.06136363636363637,0.028282828282828285,0.04485981308411215,0.05510204081632653,0.06060606060606061,0.04210526315789474],\"xaxis\":\"x\",\"y\":[0,1,2,3,4,5,6,7,8,9],\"yaxis\":\"y\",\"type\":\"bar\"},{\"alignmentgroup\":\"True\",\"hovertemplate\":\"variable=card_type_name_Eurocard/MasterCard Mass<br>value=%{x}<br>channel_id=%{y}<extra></extra>\",\"legendgroup\":\"card_type_name_Eurocard/MasterCard Mass\",\"marker\":{\"color\":\"#ab63fa\",\"pattern\":{\"shape\":\"\"}},\"name\":\"card_type_name_Eurocard/MasterCard Mass\",\"offsetgroup\":\"card_type_name_Eurocard/MasterCard Mass\",\"orientation\":\"h\",\"showlegend\":true,\"textposition\":\"auto\",\"x\":[0.05416666666666667,0.06464646464646465,0.05319148936170213,0.04716981132075472,0.07727272727272728,0.048484848484848485,0.05046728971962617,0.061224489795918366,0.06666666666666667,0.07017543859649122],\"xaxis\":\"x\",\"y\":[0,1,2,3,4,5,6,7,8,9],\"yaxis\":\"y\",\"type\":\"bar\"},{\"alignmentgroup\":\"True\",\"hovertemplate\":\"variable=card_type_name_Eurocard/MasterCard Platinum<br>value=%{x}<br>channel_id=%{y}<extra></extra>\",\"legendgroup\":\"card_type_name_Eurocard/MasterCard Platinum\",\"marker\":{\"color\":\"#FFA15A\",\"pattern\":{\"shape\":\"\"}},\"name\":\"card_type_name_Eurocard/MasterCard Platinum\",\"offsetgroup\":\"card_type_name_Eurocard/MasterCard Platinum\",\"orientation\":\"h\",\"showlegend\":true,\"textposition\":\"auto\",\"x\":[0.02291666666666667,0.01818181818181818,0.03617021276595745,0.0056603773584905665,0.01590909090909091,0.020202020202020204,0.013084112149532711,0.0163265306122449,0.020202020202020204,0.010526315789473686],\"xaxis\":\"x\",\"y\":[0,1,2,3,4,5,6,7,8,9],\"yaxis\":\"y\",\"type\":\"bar\"},{\"alignmentgroup\":\"True\",\"hovertemplate\":\"variable=card_type_name_Eurocard/MasterCard Virt<br>value=%{x}<br>channel_id=%{y}<extra></extra>\",\"legendgroup\":\"card_type_name_Eurocard/MasterCard Virt\",\"marker\":{\"color\":\"#19d3f3\",\"pattern\":{\"shape\":\"\"}},\"name\":\"card_type_name_Eurocard/MasterCard Virt\",\"offsetgroup\":\"card_type_name_Eurocard/MasterCard Virt\",\"orientation\":\"h\",\"showlegend\":true,\"textposition\":\"auto\",\"x\":[0.0,0.0,0.0,0.0,0.0,0.0,0.0,0.0,0.0,0.0],\"xaxis\":\"x\",\"y\":[0,1,2,3,4,5,6,7,8,9],\"yaxis\":\"y\",\"type\":\"bar\"},{\"alignmentgroup\":\"True\",\"hovertemplate\":\"variable=card_type_name_Eurocard/MasterCard World<br>value=%{x}<br>channel_id=%{y}<extra></extra>\",\"legendgroup\":\"card_type_name_Eurocard/MasterCard World\",\"marker\":{\"color\":\"#FF6692\",\"pattern\":{\"shape\":\"\"}},\"name\":\"card_type_name_Eurocard/MasterCard World\",\"offsetgroup\":\"card_type_name_Eurocard/MasterCard World\",\"orientation\":\"h\",\"showlegend\":true,\"textposition\":\"auto\",\"x\":[0.02291666666666667,0.024242424242424246,0.03617021276595745,0.05660377358490566,0.029545454545454545,0.03838383838383839,0.031775700934579446,0.03877551020408163,0.020202020202020204,0.031578947368421054],\"xaxis\":\"x\",\"y\":[0,1,2,3,4,5,6,7,8,9],\"yaxis\":\"y\",\"type\":\"bar\"},{\"alignmentgroup\":\"True\",\"hovertemplate\":\"variable=card_type_name_MasterCard Black Edition<br>value=%{x}<br>channel_id=%{y}<extra></extra>\",\"legendgroup\":\"card_type_name_MasterCard Black Edition\",\"marker\":{\"color\":\"#B6E880\",\"pattern\":{\"shape\":\"\"}},\"name\":\"card_type_name_MasterCard Black Edition\",\"offsetgroup\":\"card_type_name_MasterCard Black Edition\",\"orientation\":\"h\",\"showlegend\":true,\"textposition\":\"auto\",\"x\":[0.0,0.0,0.0,0.0,0.0,0.0,0.0,0.0,0.0,0.0],\"xaxis\":\"x\",\"y\":[0,1,2,3,4,5,6,7,8,9],\"yaxis\":\"y\",\"type\":\"bar\"},{\"alignmentgroup\":\"True\",\"hovertemplate\":\"variable=card_type_name_MasterCard Electronic<br>value=%{x}<br>channel_id=%{y}<extra></extra>\",\"legendgroup\":\"card_type_name_MasterCard Electronic\",\"marker\":{\"color\":\"#FF97FF\",\"pattern\":{\"shape\":\"\"}},\"name\":\"card_type_name_MasterCard Electronic\",\"offsetgroup\":\"card_type_name_MasterCard Electronic\",\"orientation\":\"h\",\"showlegend\":true,\"textposition\":\"auto\",\"x\":[0.04583333333333334,0.050505050505050504,0.05319148936170213,0.03018867924528302,0.03636363636363637,0.03636363636363636,0.024299065420560748,0.036734693877551024,0.04242424242424243,0.029824561403508774],\"xaxis\":\"x\",\"y\":[0,1,2,3,4,5,6,7,8,9],\"yaxis\":\"y\",\"type\":\"bar\"},{\"alignmentgroup\":\"True\",\"hovertemplate\":\"variable=card_type_name_MasterCard World Elite<br>value=%{x}<br>channel_id=%{y}<extra></extra>\",\"legendgroup\":\"card_type_name_MasterCard World Elite\",\"marker\":{\"color\":\"#FECB52\",\"pattern\":{\"shape\":\"\"}},\"name\":\"card_type_name_MasterCard World Elite\",\"offsetgroup\":\"card_type_name_MasterCard World Elite\",\"orientation\":\"h\",\"showlegend\":true,\"textposition\":\"auto\",\"x\":[0.012500000000000002,0.0060606060606060615,0.002127659574468085,0.011320754716981133,0.004545454545454546,0.00808080808080808,0.011214953271028038,0.014285714285714287,0.00404040404040404,0.005263157894736843],\"xaxis\":\"x\",\"y\":[0,1,2,3,4,5,6,7,8,9],\"yaxis\":\"y\",\"type\":\"bar\"},{\"alignmentgroup\":\"True\",\"hovertemplate\":\"variable=card_type_name_MIR Supreme<br>value=%{x}<br>channel_id=%{y}<extra></extra>\",\"legendgroup\":\"card_type_name_MIR Supreme\",\"marker\":{\"color\":\"#636efa\",\"pattern\":{\"shape\":\"\"}},\"name\":\"card_type_name_MIR Supreme\",\"offsetgroup\":\"card_type_name_MIR Supreme\",\"orientation\":\"h\",\"showlegend\":true,\"textposition\":\"auto\",\"x\":[0.0,0.0,0.0,0.0,0.0,0.0,0.0,0.0,0.0,0.0],\"xaxis\":\"x\",\"y\":[0,1,2,3,4,5,6,7,8,9],\"yaxis\":\"y\",\"type\":\"bar\"},{\"alignmentgroup\":\"True\",\"hovertemplate\":\"variable=card_type_name_MIR Privilege Plus<br>value=%{x}<br>channel_id=%{y}<extra></extra>\",\"legendgroup\":\"card_type_name_MIR Privilege Plus\",\"marker\":{\"color\":\"#EF553B\",\"pattern\":{\"shape\":\"\"}},\"name\":\"card_type_name_MIR Privilege Plus\",\"offsetgroup\":\"card_type_name_MIR Privilege Plus\",\"orientation\":\"h\",\"showlegend\":true,\"textposition\":\"auto\",\"x\":[0.0,0.0,0.0,0.0,0.0,0.0,0.0,0.0,0.0,0.0],\"xaxis\":\"x\",\"y\":[0,1,2,3,4,5,6,7,8,9],\"yaxis\":\"y\",\"type\":\"bar\"},{\"alignmentgroup\":\"True\",\"hovertemplate\":\"variable=card_type_name_\\u0414\\u0435\\u0431\\u0435\\u0442 \\u043a\\u0430\\u0440\\u0442\\u0430 \\u041f\\u0421 \\u041c\\u0418\\u0420 \\\"\\u0411\\u044e\\u0434\\u0436\\u0435\\u0442\\u043d\\u0430\\u044f\\\"<br>value=%{x}<br>channel_id=%{y}<extra></extra>\",\"legendgroup\":\"card_type_name_\\u0414\\u0435\\u0431\\u0435\\u0442 \\u043a\\u0430\\u0440\\u0442\\u0430 \\u041f\\u0421 \\u041c\\u0418\\u0420 \\\"\\u0411\\u044e\\u0434\\u0436\\u0435\\u0442\\u043d\\u0430\\u044f\\\"\",\"marker\":{\"color\":\"#00cc96\",\"pattern\":{\"shape\":\"\"}},\"name\":\"card_type_name_\\u0414\\u0435\\u0431\\u0435\\u0442 \\u043a\\u0430\\u0440\\u0442\\u0430 \\u041f\\u0421 \\u041c\\u0418\\u0420 \\\"\\u0411\\u044e\\u0434\\u0436\\u0435\\u0442\\u043d\\u0430\\u044f\\\"\",\"offsetgroup\":\"card_type_name_\\u0414\\u0435\\u0431\\u0435\\u0442 \\u043a\\u0430\\u0440\\u0442\\u0430 \\u041f\\u0421 \\u041c\\u0418\\u0420 \\\"\\u0411\\u044e\\u0434\\u0436\\u0435\\u0442\\u043d\\u0430\\u044f\\\"\",\"orientation\":\"h\",\"showlegend\":true,\"textposition\":\"auto\",\"x\":[0.15,0.1696969696969697,0.13617021276595745,0.1509433962264151,0.12272727272727274,0.16161616161616163,0.14205607476635515,0.1306122448979592,0.17575757575757578,0.1543859649122807],\"xaxis\":\"x\",\"y\":[0,1,2,3,4,5,6,7,8,9],\"yaxis\":\"y\",\"type\":\"bar\"},{\"alignmentgroup\":\"True\",\"hovertemplate\":\"variable=card_type_name_\\u041c\\u0418\\u0420 Debit<br>value=%{x}<br>channel_id=%{y}<extra></extra>\",\"legendgroup\":\"card_type_name_\\u041c\\u0418\\u0420 Debit\",\"marker\":{\"color\":\"#ab63fa\",\"pattern\":{\"shape\":\"\"}},\"name\":\"card_type_name_\\u041c\\u0418\\u0420 Debit\",\"offsetgroup\":\"card_type_name_\\u041c\\u0418\\u0420 Debit\",\"orientation\":\"h\",\"showlegend\":true,\"textposition\":\"auto\",\"x\":[0.1125,0.08282828282828283,0.11702127659574468,0.08679245283018869,0.10454545454545455,0.08686868686868686,0.09719626168224299,0.07551020408163266,0.09696969696969697,0.08421052631578947],\"xaxis\":\"x\",\"y\":[0,1,2,3,4,5,6,7,8,9],\"yaxis\":\"y\",\"type\":\"bar\"},{\"alignmentgroup\":\"True\",\"hovertemplate\":\"variable=card_type_name_\\u041c\\u0418\\u0420 \\u041a\\u043e\\u043f\\u0438\\u043b\\u043a\\u0430<br>value=%{x}<br>channel_id=%{y}<extra></extra>\",\"legendgroup\":\"card_type_name_\\u041c\\u0418\\u0420 \\u041a\\u043e\\u043f\\u0438\\u043b\\u043a\\u0430\",\"marker\":{\"color\":\"#FFA15A\",\"pattern\":{\"shape\":\"\"}},\"name\":\"card_type_name_\\u041c\\u0418\\u0420 \\u041a\\u043e\\u043f\\u0438\\u043b\\u043a\\u0430\",\"offsetgroup\":\"card_type_name_\\u041c\\u0418\\u0420 \\u041a\\u043e\\u043f\\u0438\\u043b\\u043a\\u0430\",\"orientation\":\"h\",\"showlegend\":true,\"textposition\":\"auto\",\"x\":[0.0020833333333333333,0.00202020202020202,0.0,0.0,0.002272727272727273,0.0,0.003738317757009346,0.004081632653061225,0.00808080808080808,0.0017543859649122807],\"xaxis\":\"x\",\"y\":[0,1,2,3,4,5,6,7,8,9],\"yaxis\":\"y\",\"type\":\"bar\"},{\"alignmentgroup\":\"True\",\"hovertemplate\":\"variable=card_type_name_\\u041c\\u0418\\u0420 \\u0421\\u041a\\u0411<br>value=%{x}<br>channel_id=%{y}<extra></extra>\",\"legendgroup\":\"card_type_name_\\u041c\\u0418\\u0420 \\u0421\\u041a\\u0411\",\"marker\":{\"color\":\"#19d3f3\",\"pattern\":{\"shape\":\"\"}},\"name\":\"card_type_name_\\u041c\\u0418\\u0420 \\u0421\\u041a\\u0411\",\"offsetgroup\":\"card_type_name_\\u041c\\u0418\\u0420 \\u0421\\u041a\\u0411\",\"orientation\":\"h\",\"showlegend\":true,\"textposition\":\"auto\",\"x\":[0.07083333333333335,0.06464646464646465,0.0851063829787234,0.07169811320754718,0.03409090909090909,0.0707070707070707,0.05794392523364486,0.07959183673469387,0.05454545454545455,0.0649122807017544],\"xaxis\":\"x\",\"y\":[0,1,2,3,4,5,6,7,8,9],\"yaxis\":\"y\",\"type\":\"bar\"},{\"alignmentgroup\":\"True\",\"hovertemplate\":\"variable=card_type_name_\\u041c\\u0418\\u0420 \\u0421\\u041a\\u0411 \\u0417\\u041f<br>value=%{x}<br>channel_id=%{y}<extra></extra>\",\"legendgroup\":\"card_type_name_\\u041c\\u0418\\u0420 \\u0421\\u041a\\u0411 \\u0417\\u041f\",\"marker\":{\"color\":\"#FF6692\",\"pattern\":{\"shape\":\"\"}},\"name\":\"card_type_name_\\u041c\\u0418\\u0420 \\u0421\\u041a\\u0411 \\u0417\\u041f\",\"offsetgroup\":\"card_type_name_\\u041c\\u0418\\u0420 \\u0421\\u041a\\u0411 \\u0417\\u041f\",\"orientation\":\"h\",\"showlegend\":true,\"textposition\":\"auto\",\"x\":[0.041666666666666664,0.020202020202020204,0.04468085106382979,0.03962264150943397,0.01363636363636364,0.03434343434343435,0.03364485981308411,0.02653061224489796,0.02828282828282828,0.02105263157894737],\"xaxis\":\"x\",\"y\":[0,1,2,3,4,5,6,7,8,9],\"yaxis\":\"y\",\"type\":\"bar\"},{\"alignmentgroup\":\"True\",\"hovertemplate\":\"variable=card_type_name_VISA Classic<br>value=%{x}<br>channel_id=%{y}<extra></extra>\",\"legendgroup\":\"card_type_name_VISA Classic\",\"marker\":{\"color\":\"#B6E880\",\"pattern\":{\"shape\":\"\"}},\"name\":\"card_type_name_VISA Classic\",\"offsetgroup\":\"card_type_name_VISA Classic\",\"orientation\":\"h\",\"showlegend\":true,\"textposition\":\"auto\",\"x\":[0.075,0.1191919191919192,0.10212765957446808,0.10377358490566038,0.14545454545454548,0.098989898989899,0.102803738317757,0.07755102040816327,0.10303030303030304,0.11754385964912281],\"xaxis\":\"x\",\"y\":[0,1,2,3,4,5,6,7,8,9],\"yaxis\":\"y\",\"type\":\"bar\"},{\"alignmentgroup\":\"True\",\"hovertemplate\":\"variable=card_type_name_VISA Classic Light<br>value=%{x}<br>channel_id=%{y}<extra></extra>\",\"legendgroup\":\"card_type_name_VISA Classic Light\",\"marker\":{\"color\":\"#FF97FF\",\"pattern\":{\"shape\":\"\"}},\"name\":\"card_type_name_VISA Classic Light\",\"offsetgroup\":\"card_type_name_VISA Classic Light\",\"orientation\":\"h\",\"showlegend\":true,\"textposition\":\"auto\",\"x\":[0.1416666666666667,0.1676767676767677,0.16382978723404257,0.18867924528301888,0.15681818181818183,0.16363636363636364,0.18691588785046728,0.2,0.14747474747474748,0.1649122807017544],\"xaxis\":\"x\",\"y\":[0,1,2,3,4,5,6,7,8,9],\"yaxis\":\"y\",\"type\":\"bar\"},{\"alignmentgroup\":\"True\",\"hovertemplate\":\"variable=card_type_name_VISA Gold<br>value=%{x}<br>channel_id=%{y}<extra></extra>\",\"legendgroup\":\"card_type_name_VISA Gold\",\"marker\":{\"color\":\"#FECB52\",\"pattern\":{\"shape\":\"\"}},\"name\":\"card_type_name_VISA Gold\",\"offsetgroup\":\"card_type_name_VISA Gold\",\"orientation\":\"h\",\"showlegend\":true,\"textposition\":\"auto\",\"x\":[0.0020833333333333333,0.00404040404040404,0.006382978723404256,0.0018867924528301887,0.002272727272727273,0.010101010101010102,0.01308411214953271,0.018367346938775512,0.00202020202020202,0.012280701754385965],\"xaxis\":\"x\",\"y\":[0,1,2,3,4,5,6,7,8,9],\"yaxis\":\"y\",\"type\":\"bar\"},{\"alignmentgroup\":\"True\",\"hovertemplate\":\"variable=card_type_name_VISA Infinite<br>value=%{x}<br>channel_id=%{y}<extra></extra>\",\"legendgroup\":\"card_type_name_VISA Infinite\",\"marker\":{\"color\":\"#636efa\",\"pattern\":{\"shape\":\"\"}},\"name\":\"card_type_name_VISA Infinite\",\"offsetgroup\":\"card_type_name_VISA Infinite\",\"orientation\":\"h\",\"showlegend\":true,\"textposition\":\"auto\",\"x\":[0.01875,0.0060606060606060615,0.0,0.0056603773584905665,0.002272727272727273,0.014141414141414142,0.009345794392523364,0.006122448979591837,0.00808080808080808,0.010526315789473686],\"xaxis\":\"x\",\"y\":[0,1,2,3,4,5,6,7,8,9],\"yaxis\":\"y\",\"type\":\"bar\"},{\"alignmentgroup\":\"True\",\"hovertemplate\":\"variable=card_type_name_VISA Platinum<br>value=%{x}<br>channel_id=%{y}<extra></extra>\",\"legendgroup\":\"card_type_name_VISA Platinum\",\"marker\":{\"color\":\"#EF553B\",\"pattern\":{\"shape\":\"\"}},\"name\":\"card_type_name_VISA Platinum\",\"offsetgroup\":\"card_type_name_VISA Platinum\",\"orientation\":\"h\",\"showlegend\":true,\"textposition\":\"auto\",\"x\":[0.0,0.0,0.0,0.0037735849056603774,0.009090909090909092,0.00404040404040404,0.011214953271028038,0.0,0.00404040404040404,0.0035087719298245615],\"xaxis\":\"x\",\"y\":[0,1,2,3,4,5,6,7,8,9],\"yaxis\":\"y\",\"type\":\"bar\"},{\"alignmentgroup\":\"True\",\"hovertemplate\":\"variable=card_type_name_Visa Classic Rewards<br>value=%{x}<br>channel_id=%{y}<extra></extra>\",\"legendgroup\":\"card_type_name_Visa Classic Rewards\",\"marker\":{\"color\":\"#00cc96\",\"pattern\":{\"shape\":\"\"}},\"name\":\"card_type_name_Visa Classic Rewards\",\"offsetgroup\":\"card_type_name_Visa Classic Rewards\",\"orientation\":\"h\",\"showlegend\":true,\"textposition\":\"auto\",\"x\":[0.010416666666666666,0.00404040404040404,0.00425531914893617,0.0056603773584905665,0.00681818181818182,0.00404040404040404,0.007476635514018692,0.006122448979591837,0.00202020202020202,0.008771929824561403],\"xaxis\":\"x\",\"y\":[0,1,2,3,4,5,6,7,8,9],\"yaxis\":\"y\",\"type\":\"bar\"},{\"alignmentgroup\":\"True\",\"hovertemplate\":\"variable=card_type_name_Visa Platinum Rewards<br>value=%{x}<br>channel_id=%{y}<extra></extra>\",\"legendgroup\":\"card_type_name_Visa Platinum Rewards\",\"marker\":{\"color\":\"#ab63fa\",\"pattern\":{\"shape\":\"\"}},\"name\":\"card_type_name_Visa Platinum Rewards\",\"offsetgroup\":\"card_type_name_Visa Platinum Rewards\",\"orientation\":\"h\",\"showlegend\":true,\"textposition\":\"auto\",\"x\":[0.05625,0.04040404040404041,0.01702127659574468,0.032075471698113214,0.045454545454545456,0.05454545454545455,0.04299065420560748,0.03877551020408163,0.01616161616161616,0.04736842105263158],\"xaxis\":\"x\",\"y\":[0,1,2,3,4,5,6,7,8,9],\"yaxis\":\"y\",\"type\":\"bar\"},{\"alignmentgroup\":\"True\",\"hovertemplate\":\"variable=card_type_name_Visa Rewards<br>value=%{x}<br>channel_id=%{y}<extra></extra>\",\"legendgroup\":\"card_type_name_Visa Rewards\",\"marker\":{\"color\":\"#FFA15A\",\"pattern\":{\"shape\":\"\"}},\"name\":\"card_type_name_Visa Rewards\",\"offsetgroup\":\"card_type_name_Visa Rewards\",\"orientation\":\"h\",\"showlegend\":true,\"textposition\":\"auto\",\"x\":[0.0,0.0,0.0,0.0,0.0,0.0,0.0,0.0,0.0,0.0],\"xaxis\":\"x\",\"y\":[0,1,2,3,4,5,6,7,8,9],\"yaxis\":\"y\",\"type\":\"bar\"},{\"alignmentgroup\":\"True\",\"hovertemplate\":\"variable=card_type_name_Visa Signature<br>value=%{x}<br>channel_id=%{y}<extra></extra>\",\"legendgroup\":\"card_type_name_Visa Signature\",\"marker\":{\"color\":\"#19d3f3\",\"pattern\":{\"shape\":\"\"}},\"name\":\"card_type_name_Visa Signature\",\"offsetgroup\":\"card_type_name_Visa Signature\",\"orientation\":\"h\",\"showlegend\":true,\"textposition\":\"auto\",\"x\":[0.0,0.0,0.0,0.0,0.0,0.0,0.0,0.0,0.0,0.0],\"xaxis\":\"x\",\"y\":[0,1,2,3,4,5,6,7,8,9],\"yaxis\":\"y\",\"type\":\"bar\"},{\"alignmentgroup\":\"True\",\"hovertemplate\":\"variable=card_type_name_Priority Pass<br>value=%{x}<br>channel_id=%{y}<extra></extra>\",\"legendgroup\":\"card_type_name_Priority Pass\",\"marker\":{\"color\":\"#FF6692\",\"pattern\":{\"shape\":\"\"}},\"name\":\"card_type_name_Priority Pass\",\"offsetgroup\":\"card_type_name_Priority Pass\",\"orientation\":\"h\",\"showlegend\":true,\"textposition\":\"auto\",\"x\":[0.006250000000000001,0.0060606060606060615,0.002127659574468085,0.009433962264150943,0.002272727272727273,0.00404040404040404,0.007476635514018692,0.012244897959183675,0.00202020202020202,0.0035087719298245615],\"xaxis\":\"x\",\"y\":[0,1,2,3,4,5,6,7,8,9],\"yaxis\":\"y\",\"type\":\"bar\"}],                        {\"template\":{\"data\":{\"bar\":[{\"error_x\":{\"color\":\"#2a3f5f\"},\"error_y\":{\"color\":\"#2a3f5f\"},\"marker\":{\"line\":{\"color\":\"#E5ECF6\",\"width\":0.5},\"pattern\":{\"fillmode\":\"overlay\",\"size\":10,\"solidity\":0.2}},\"type\":\"bar\"}],\"barpolar\":[{\"marker\":{\"line\":{\"color\":\"#E5ECF6\",\"width\":0.5},\"pattern\":{\"fillmode\":\"overlay\",\"size\":10,\"solidity\":0.2}},\"type\":\"barpolar\"}],\"carpet\":[{\"aaxis\":{\"endlinecolor\":\"#2a3f5f\",\"gridcolor\":\"white\",\"linecolor\":\"white\",\"minorgridcolor\":\"white\",\"startlinecolor\":\"#2a3f5f\"},\"baxis\":{\"endlinecolor\":\"#2a3f5f\",\"gridcolor\":\"white\",\"linecolor\":\"white\",\"minorgridcolor\":\"white\",\"startlinecolor\":\"#2a3f5f\"},\"type\":\"carpet\"}],\"choropleth\":[{\"colorbar\":{\"outlinewidth\":0,\"ticks\":\"\"},\"type\":\"choropleth\"}],\"contour\":[{\"colorbar\":{\"outlinewidth\":0,\"ticks\":\"\"},\"colorscale\":[[0.0,\"#0d0887\"],[0.1111111111111111,\"#46039f\"],[0.2222222222222222,\"#7201a8\"],[0.3333333333333333,\"#9c179e\"],[0.4444444444444444,\"#bd3786\"],[0.5555555555555556,\"#d8576b\"],[0.6666666666666666,\"#ed7953\"],[0.7777777777777778,\"#fb9f3a\"],[0.8888888888888888,\"#fdca26\"],[1.0,\"#f0f921\"]],\"type\":\"contour\"}],\"contourcarpet\":[{\"colorbar\":{\"outlinewidth\":0,\"ticks\":\"\"},\"type\":\"contourcarpet\"}],\"heatmap\":[{\"colorbar\":{\"outlinewidth\":0,\"ticks\":\"\"},\"colorscale\":[[0.0,\"#0d0887\"],[0.1111111111111111,\"#46039f\"],[0.2222222222222222,\"#7201a8\"],[0.3333333333333333,\"#9c179e\"],[0.4444444444444444,\"#bd3786\"],[0.5555555555555556,\"#d8576b\"],[0.6666666666666666,\"#ed7953\"],[0.7777777777777778,\"#fb9f3a\"],[0.8888888888888888,\"#fdca26\"],[1.0,\"#f0f921\"]],\"type\":\"heatmap\"}],\"heatmapgl\":[{\"colorbar\":{\"outlinewidth\":0,\"ticks\":\"\"},\"colorscale\":[[0.0,\"#0d0887\"],[0.1111111111111111,\"#46039f\"],[0.2222222222222222,\"#7201a8\"],[0.3333333333333333,\"#9c179e\"],[0.4444444444444444,\"#bd3786\"],[0.5555555555555556,\"#d8576b\"],[0.6666666666666666,\"#ed7953\"],[0.7777777777777778,\"#fb9f3a\"],[0.8888888888888888,\"#fdca26\"],[1.0,\"#f0f921\"]],\"type\":\"heatmapgl\"}],\"histogram\":[{\"marker\":{\"pattern\":{\"fillmode\":\"overlay\",\"size\":10,\"solidity\":0.2}},\"type\":\"histogram\"}],\"histogram2d\":[{\"colorbar\":{\"outlinewidth\":0,\"ticks\":\"\"},\"colorscale\":[[0.0,\"#0d0887\"],[0.1111111111111111,\"#46039f\"],[0.2222222222222222,\"#7201a8\"],[0.3333333333333333,\"#9c179e\"],[0.4444444444444444,\"#bd3786\"],[0.5555555555555556,\"#d8576b\"],[0.6666666666666666,\"#ed7953\"],[0.7777777777777778,\"#fb9f3a\"],[0.8888888888888888,\"#fdca26\"],[1.0,\"#f0f921\"]],\"type\":\"histogram2d\"}],\"histogram2dcontour\":[{\"colorbar\":{\"outlinewidth\":0,\"ticks\":\"\"},\"colorscale\":[[0.0,\"#0d0887\"],[0.1111111111111111,\"#46039f\"],[0.2222222222222222,\"#7201a8\"],[0.3333333333333333,\"#9c179e\"],[0.4444444444444444,\"#bd3786\"],[0.5555555555555556,\"#d8576b\"],[0.6666666666666666,\"#ed7953\"],[0.7777777777777778,\"#fb9f3a\"],[0.8888888888888888,\"#fdca26\"],[1.0,\"#f0f921\"]],\"type\":\"histogram2dcontour\"}],\"mesh3d\":[{\"colorbar\":{\"outlinewidth\":0,\"ticks\":\"\"},\"type\":\"mesh3d\"}],\"parcoords\":[{\"line\":{\"colorbar\":{\"outlinewidth\":0,\"ticks\":\"\"}},\"type\":\"parcoords\"}],\"pie\":[{\"automargin\":true,\"type\":\"pie\"}],\"scatter\":[{\"marker\":{\"colorbar\":{\"outlinewidth\":0,\"ticks\":\"\"}},\"type\":\"scatter\"}],\"scatter3d\":[{\"line\":{\"colorbar\":{\"outlinewidth\":0,\"ticks\":\"\"}},\"marker\":{\"colorbar\":{\"outlinewidth\":0,\"ticks\":\"\"}},\"type\":\"scatter3d\"}],\"scattercarpet\":[{\"marker\":{\"colorbar\":{\"outlinewidth\":0,\"ticks\":\"\"}},\"type\":\"scattercarpet\"}],\"scattergeo\":[{\"marker\":{\"colorbar\":{\"outlinewidth\":0,\"ticks\":\"\"}},\"type\":\"scattergeo\"}],\"scattergl\":[{\"marker\":{\"colorbar\":{\"outlinewidth\":0,\"ticks\":\"\"}},\"type\":\"scattergl\"}],\"scattermapbox\":[{\"marker\":{\"colorbar\":{\"outlinewidth\":0,\"ticks\":\"\"}},\"type\":\"scattermapbox\"}],\"scatterpolar\":[{\"marker\":{\"colorbar\":{\"outlinewidth\":0,\"ticks\":\"\"}},\"type\":\"scatterpolar\"}],\"scatterpolargl\":[{\"marker\":{\"colorbar\":{\"outlinewidth\":0,\"ticks\":\"\"}},\"type\":\"scatterpolargl\"}],\"scatterternary\":[{\"marker\":{\"colorbar\":{\"outlinewidth\":0,\"ticks\":\"\"}},\"type\":\"scatterternary\"}],\"surface\":[{\"colorbar\":{\"outlinewidth\":0,\"ticks\":\"\"},\"colorscale\":[[0.0,\"#0d0887\"],[0.1111111111111111,\"#46039f\"],[0.2222222222222222,\"#7201a8\"],[0.3333333333333333,\"#9c179e\"],[0.4444444444444444,\"#bd3786\"],[0.5555555555555556,\"#d8576b\"],[0.6666666666666666,\"#ed7953\"],[0.7777777777777778,\"#fb9f3a\"],[0.8888888888888888,\"#fdca26\"],[1.0,\"#f0f921\"]],\"type\":\"surface\"}],\"table\":[{\"cells\":{\"fill\":{\"color\":\"#EBF0F8\"},\"line\":{\"color\":\"white\"}},\"header\":{\"fill\":{\"color\":\"#C8D4E3\"},\"line\":{\"color\":\"white\"}},\"type\":\"table\"}]},\"layout\":{\"annotationdefaults\":{\"arrowcolor\":\"#2a3f5f\",\"arrowhead\":0,\"arrowwidth\":1},\"autotypenumbers\":\"strict\",\"coloraxis\":{\"colorbar\":{\"outlinewidth\":0,\"ticks\":\"\"}},\"colorscale\":{\"diverging\":[[0,\"#8e0152\"],[0.1,\"#c51b7d\"],[0.2,\"#de77ae\"],[0.3,\"#f1b6da\"],[0.4,\"#fde0ef\"],[0.5,\"#f7f7f7\"],[0.6,\"#e6f5d0\"],[0.7,\"#b8e186\"],[0.8,\"#7fbc41\"],[0.9,\"#4d9221\"],[1,\"#276419\"]],\"sequential\":[[0.0,\"#0d0887\"],[0.1111111111111111,\"#46039f\"],[0.2222222222222222,\"#7201a8\"],[0.3333333333333333,\"#9c179e\"],[0.4444444444444444,\"#bd3786\"],[0.5555555555555556,\"#d8576b\"],[0.6666666666666666,\"#ed7953\"],[0.7777777777777778,\"#fb9f3a\"],[0.8888888888888888,\"#fdca26\"],[1.0,\"#f0f921\"]],\"sequentialminus\":[[0.0,\"#0d0887\"],[0.1111111111111111,\"#46039f\"],[0.2222222222222222,\"#7201a8\"],[0.3333333333333333,\"#9c179e\"],[0.4444444444444444,\"#bd3786\"],[0.5555555555555556,\"#d8576b\"],[0.6666666666666666,\"#ed7953\"],[0.7777777777777778,\"#fb9f3a\"],[0.8888888888888888,\"#fdca26\"],[1.0,\"#f0f921\"]]},\"colorway\":[\"#636efa\",\"#EF553B\",\"#00cc96\",\"#ab63fa\",\"#FFA15A\",\"#19d3f3\",\"#FF6692\",\"#B6E880\",\"#FF97FF\",\"#FECB52\"],\"font\":{\"color\":\"#2a3f5f\"},\"geo\":{\"bgcolor\":\"white\",\"lakecolor\":\"white\",\"landcolor\":\"#E5ECF6\",\"showlakes\":true,\"showland\":true,\"subunitcolor\":\"white\"},\"hoverlabel\":{\"align\":\"left\"},\"hovermode\":\"closest\",\"mapbox\":{\"style\":\"light\"},\"paper_bgcolor\":\"white\",\"plot_bgcolor\":\"#E5ECF6\",\"polar\":{\"angularaxis\":{\"gridcolor\":\"white\",\"linecolor\":\"white\",\"ticks\":\"\"},\"bgcolor\":\"#E5ECF6\",\"radialaxis\":{\"gridcolor\":\"white\",\"linecolor\":\"white\",\"ticks\":\"\"}},\"scene\":{\"xaxis\":{\"backgroundcolor\":\"#E5ECF6\",\"gridcolor\":\"white\",\"gridwidth\":2,\"linecolor\":\"white\",\"showbackground\":true,\"ticks\":\"\",\"zerolinecolor\":\"white\"},\"yaxis\":{\"backgroundcolor\":\"#E5ECF6\",\"gridcolor\":\"white\",\"gridwidth\":2,\"linecolor\":\"white\",\"showbackground\":true,\"ticks\":\"\",\"zerolinecolor\":\"white\"},\"zaxis\":{\"backgroundcolor\":\"#E5ECF6\",\"gridcolor\":\"white\",\"gridwidth\":2,\"linecolor\":\"white\",\"showbackground\":true,\"ticks\":\"\",\"zerolinecolor\":\"white\"}},\"shapedefaults\":{\"line\":{\"color\":\"#2a3f5f\"}},\"ternary\":{\"aaxis\":{\"gridcolor\":\"white\",\"linecolor\":\"white\",\"ticks\":\"\"},\"baxis\":{\"gridcolor\":\"white\",\"linecolor\":\"white\",\"ticks\":\"\"},\"bgcolor\":\"#E5ECF6\",\"caxis\":{\"gridcolor\":\"white\",\"linecolor\":\"white\",\"ticks\":\"\"}},\"title\":{\"x\":0.05},\"xaxis\":{\"automargin\":true,\"gridcolor\":\"white\",\"linecolor\":\"white\",\"ticks\":\"\",\"title\":{\"standoff\":15},\"zerolinecolor\":\"white\",\"zerolinewidth\":2},\"yaxis\":{\"automargin\":true,\"gridcolor\":\"white\",\"linecolor\":\"white\",\"ticks\":\"\",\"title\":{\"standoff\":15},\"zerolinecolor\":\"white\",\"zerolinewidth\":2}}},\"xaxis\":{\"anchor\":\"y\",\"domain\":[0.0,1.0],\"title\":{\"text\":\"value\"}},\"yaxis\":{\"anchor\":\"x\",\"domain\":[0.0,1.0],\"title\":{\"text\":\"channel_id\"}},\"legend\":{\"title\":{\"text\":\"variable\"},\"tracegroupgap\":0},\"margin\":{\"t\":60},\"barmode\":\"relative\"},                        {\"responsive\": true}                    ).then(function(){\n",
              "                            \n",
              "var gd = document.getElementById('1ba497b2-c7f3-46a0-b5a4-7de9f97363b9');\n",
              "var x = new MutationObserver(function (mutations, observer) {{\n",
              "        var display = window.getComputedStyle(gd).display;\n",
              "        if (!display || display === 'none') {{\n",
              "            console.log([gd, 'removed!']);\n",
              "            Plotly.purge(gd);\n",
              "            observer.disconnect();\n",
              "        }}\n",
              "}});\n",
              "\n",
              "// Listen for the removal of the full notebook cells\n",
              "var notebookContainer = gd.closest('#notebook-container');\n",
              "if (notebookContainer) {{\n",
              "    x.observe(notebookContainer, {childList: true});\n",
              "}}\n",
              "\n",
              "// Listen for the clearing of the current output cell\n",
              "var outputEl = gd.closest('.output');\n",
              "if (outputEl) {{\n",
              "    x.observe(outputEl, {childList: true});\n",
              "}}\n",
              "\n",
              "                        })                };                            </script>        </div>\n",
              "</body>\n",
              "</html>"
            ]
          },
          "metadata": {}
        }
      ]
    },
    {
      "cell_type": "markdown",
      "source": [
        "Данный график отражает по оси OX среднюю уверенность модели в выборе продукта на данном канале. "
      ],
      "metadata": {
        "id": "U_XAqdY07c5t"
      }
    },
    {
      "cell_type": "code",
      "source": [
        "import pickle as pkl\n",
        "pkl.dump(px.bar(one_hot_df_.groupby('channel_id').mean(),products),open('plt_product.pkl', 'wb'))"
      ],
      "metadata": {
        "id": "vxGQtmI4bq_M"
      },
      "execution_count": null,
      "outputs": []
    },
    {
      "cell_type": "markdown",
      "source": [
        "## Парсер"
      ],
      "metadata": {
        "id": "fVdUYpUQem6O"
      }
    },
    {
      "cell_type": "code",
      "source": [
        "!pip install requests_html"
      ],
      "metadata": {
        "colab": {
          "base_uri": "https://localhost:8080/"
        },
        "id": "Fj80HRj1fCPs",
        "outputId": "7d9b0d31-140c-4ce2-e84f-4b05af26d290"
      },
      "execution_count": null,
      "outputs": [
        {
          "output_type": "stream",
          "name": "stdout",
          "text": [
            "Looking in indexes: https://pypi.org/simple, https://us-python.pkg.dev/colab-wheels/public/simple/\n",
            "Requirement already satisfied: requests_html in /usr/local/lib/python3.7/dist-packages (0.10.0)\n",
            "Requirement already satisfied: requests in /usr/local/lib/python3.7/dist-packages (from requests_html) (2.23.0)\n",
            "Requirement already satisfied: parse in /usr/local/lib/python3.7/dist-packages (from requests_html) (1.19.0)\n",
            "Requirement already satisfied: fake-useragent in /usr/local/lib/python3.7/dist-packages (from requests_html) (0.1.11)\n",
            "Requirement already satisfied: pyppeteer>=0.0.14 in /usr/local/lib/python3.7/dist-packages (from requests_html) (1.0.2)\n",
            "Requirement already satisfied: w3lib in /usr/local/lib/python3.7/dist-packages (from requests_html) (1.22.0)\n",
            "Requirement already satisfied: bs4 in /usr/local/lib/python3.7/dist-packages (from requests_html) (0.0.1)\n",
            "Requirement already satisfied: pyquery in /usr/local/lib/python3.7/dist-packages (from requests_html) (1.4.3)\n",
            "Requirement already satisfied: tqdm<5.0.0,>=4.42.1 in /usr/local/lib/python3.7/dist-packages (from pyppeteer>=0.0.14->requests_html) (4.64.0)\n",
            "Requirement already satisfied: pyee<9.0.0,>=8.1.0 in /usr/local/lib/python3.7/dist-packages (from pyppeteer>=0.0.14->requests_html) (8.2.2)\n",
            "Requirement already satisfied: websockets<11.0,>=10.0 in /usr/local/lib/python3.7/dist-packages (from pyppeteer>=0.0.14->requests_html) (10.3)\n",
            "Requirement already satisfied: importlib-metadata>=1.4 in /usr/local/lib/python3.7/dist-packages (from pyppeteer>=0.0.14->requests_html) (4.11.4)\n",
            "Requirement already satisfied: urllib3<2.0.0,>=1.25.8 in /usr/local/lib/python3.7/dist-packages (from pyppeteer>=0.0.14->requests_html) (1.25.11)\n",
            "Requirement already satisfied: certifi>=2021 in /usr/local/lib/python3.7/dist-packages (from pyppeteer>=0.0.14->requests_html) (2022.5.18.1)\n",
            "Requirement already satisfied: appdirs<2.0.0,>=1.4.3 in /usr/local/lib/python3.7/dist-packages (from pyppeteer>=0.0.14->requests_html) (1.4.4)\n",
            "Requirement already satisfied: typing-extensions>=3.6.4 in /usr/local/lib/python3.7/dist-packages (from importlib-metadata>=1.4->pyppeteer>=0.0.14->requests_html) (4.2.0)\n",
            "Requirement already satisfied: zipp>=0.5 in /usr/local/lib/python3.7/dist-packages (from importlib-metadata>=1.4->pyppeteer>=0.0.14->requests_html) (3.8.0)\n",
            "Requirement already satisfied: beautifulsoup4 in /usr/local/lib/python3.7/dist-packages (from bs4->requests_html) (4.6.3)\n",
            "Requirement already satisfied: cssselect>0.7.9 in /usr/local/lib/python3.7/dist-packages (from pyquery->requests_html) (1.1.0)\n",
            "Requirement already satisfied: lxml>=2.1 in /usr/local/lib/python3.7/dist-packages (from pyquery->requests_html) (4.2.6)\n",
            "Requirement already satisfied: chardet<4,>=3.0.2 in /usr/local/lib/python3.7/dist-packages (from requests->requests_html) (3.0.4)\n",
            "Requirement already satisfied: idna<3,>=2.5 in /usr/local/lib/python3.7/dist-packages (from requests->requests_html) (2.10)\n",
            "Requirement already satisfied: six>=1.4.1 in /usr/local/lib/python3.7/dist-packages (from w3lib->requests_html) (1.15.0)\n"
          ]
        }
      ]
    },
    {
      "cell_type": "code",
      "source": [
        "import re\n",
        "import ast\n",
        "import pandas as pd\n",
        "import plotly.express as px\n",
        "import datetime\n",
        "from requests_html import HTMLSession\n",
        "from bs4 import BeautifulSoup"
      ],
      "metadata": {
        "id": "QaS1a8WsepNl"
      },
      "execution_count": null,
      "outputs": []
    },
    {
      "cell_type": "code",
      "source": [
        "def visits_data(parsed_contents):\n",
        "    \"\"\"\n",
        "    parsed contents = js_script_str\n",
        "    \"\"\"\n",
        "    parsed_contents = re.sub(\"Highcharts.Map\", \"Highcharts.Chart\", parsed_contents)\n",
        "    \n",
        "    # Find the indices of new Highcharts.Chart\n",
        "    lst_1 = [match.start() for match in re.finditer(\"new Highcharts.Chart\", parsed_contents)][1:]\n",
        "    lst_2 = [match.end() for match in re.finditer(\"new Highcharts.Chart\", parsed_contents)]\n",
        "    \n",
        "    # Pairs of indices of consecutive new Highcharts.Chart to parse everything that's inbetween\n",
        "    lst_tuples = list(zip(lst_2, lst_1))\n",
        "    lst_lists = [list(elem) for elem in lst_tuples]\n",
        "    \n",
        "    # Adjust the indices to get rid of rubbish\n",
        "    for t in lst_lists:\n",
        "        t[0] = t[0] + 1\n",
        "        t[1] = t[1] - 30\n",
        "        \n",
        "    # Extract the contents between the new Highcharts.Chart\n",
        "    d1_str = parsed_contents[lst_lists[0][0]:lst_lists[0][1]]\n",
        "    d1_str = re.sub('false', \"False\", d1_str)\n",
        "    d1_str = re.sub('null', '\"\"', d1_str)\n",
        "    re.sub(\"\\\\\\\\\",'\"', d1_str) ### careful, assignment may be needed!!!\n",
        "    \n",
        "    # Convert to dict\n",
        "    d1 = ast.literal_eval(d1_str)\n",
        "    \n",
        "    return d1['chart']['title'], d1['series'][1]['data']"
      ],
      "metadata": {
        "id": "K3ug8uffe0V0"
      },
      "execution_count": null,
      "outputs": []
    },
    {
      "cell_type": "code",
      "source": [
        "def web_parse(website):\n",
        "    root_url = \"https://spymetrics.ru/ru/website/\" \n",
        "    full_url = root_url + website\n",
        "\n",
        "    # create an HTML Session object\n",
        "    session = HTMLSession()\n",
        "\n",
        "    # Use the object above to connect to needed webpage\n",
        "    html= session.get(full_url).text\n",
        "\n",
        "    soup = BeautifulSoup(html, \"html.parser\")\n",
        "    list_js_scripts = soup.find_all(\"script\", type=\"text/javascript\")\n",
        "    js_script_str = None\n",
        "    for js_script in list_js_scripts:\n",
        "        if \"jQuery('#webcompareform')\" in str(js_script):\n",
        "            js_script_str = js_script.contents[0]\n",
        "            visits = visits_data(js_script_str)\n",
        "\n",
        "    today = datetime.date.today()\n",
        "    first = today.replace(day=1)\n",
        "    prev = [first - i * datetime.timedelta(days=25) for i in range(1,7)]\n",
        "    monthes = []\n",
        "    for date in prev:\n",
        "        monthes.append(date.strftime(\"%b%Y\"))\n",
        "    monthes = monthes[::-1]\n",
        "\n",
        "    fig = px.line(y=visits[1], x=monthes, title='Визиты сайта', labels={'x': 'Месяц', 'y': 'Количество посещений'}, color_discrete_sequence=[\"#4C4C9D\"])\n",
        "    return fig"
      ],
      "metadata": {
        "id": "H5vzVRToe7kE"
      },
      "execution_count": null,
      "outputs": []
    },
    {
      "cell_type": "code",
      "source": [
        "web_parse('cian.ru')"
      ],
      "metadata": {
        "colab": {
          "base_uri": "https://localhost:8080/",
          "height": 542
        },
        "id": "uvJSBS21flcF",
        "outputId": "ad478b42-0775-481d-a58b-0389114cb01c"
      },
      "execution_count": null,
      "outputs": [
        {
          "output_type": "display_data",
          "data": {
            "text/html": [
              "<html>\n",
              "<head><meta charset=\"utf-8\" /></head>\n",
              "<body>\n",
              "    <div>            <script src=\"https://cdnjs.cloudflare.com/ajax/libs/mathjax/2.7.5/MathJax.js?config=TeX-AMS-MML_SVG\"></script><script type=\"text/javascript\">if (window.MathJax) {MathJax.Hub.Config({SVG: {font: \"STIX-Web\"}});}</script>                <script type=\"text/javascript\">window.PlotlyConfig = {MathJaxConfig: 'local'};</script>\n",
              "        <script src=\"https://cdn.plot.ly/plotly-2.8.3.min.js\"></script>                <div id=\"d42729d1-aab6-418a-8e70-8d3cb554ff9e\" class=\"plotly-graph-div\" style=\"height:525px; width:100%;\"></div>            <script type=\"text/javascript\">                                    window.PLOTLYENV=window.PLOTLYENV || {};                                    if (document.getElementById(\"d42729d1-aab6-418a-8e70-8d3cb554ff9e\")) {                    Plotly.newPlot(                        \"d42729d1-aab6-418a-8e70-8d3cb554ff9e\",                        [{\"hovertemplate\":\"\\u041c\\u0435\\u0441\\u044f\\u0446=%{x}<br>\\u041a\\u043e\\u043b\\u0438\\u0447\\u0435\\u0441\\u0442\\u0432\\u043e \\u043f\\u043e\\u0441\\u0435\\u0449\\u0435\\u043d\\u0438\\u0439=%{y}<extra></extra>\",\"legendgroup\":\"\",\"line\":{\"color\":\"#4C4C9D\",\"dash\":\"solid\"},\"marker\":{\"symbol\":\"circle\"},\"mode\":\"lines\",\"name\":\"\",\"orientation\":\"v\",\"showlegend\":false,\"x\":[\"Jan2022\",\"Jan2022\",\"Feb2022\",\"Mar2022\",\"Apr2022\",\"May2022\"],\"xaxis\":\"x\",\"y\":[25190000,29250000,26970000,28990000,25750000,26890000],\"yaxis\":\"y\",\"type\":\"scatter\"}],                        {\"template\":{\"data\":{\"bar\":[{\"error_x\":{\"color\":\"#2a3f5f\"},\"error_y\":{\"color\":\"#2a3f5f\"},\"marker\":{\"line\":{\"color\":\"#E5ECF6\",\"width\":0.5},\"pattern\":{\"fillmode\":\"overlay\",\"size\":10,\"solidity\":0.2}},\"type\":\"bar\"}],\"barpolar\":[{\"marker\":{\"line\":{\"color\":\"#E5ECF6\",\"width\":0.5},\"pattern\":{\"fillmode\":\"overlay\",\"size\":10,\"solidity\":0.2}},\"type\":\"barpolar\"}],\"carpet\":[{\"aaxis\":{\"endlinecolor\":\"#2a3f5f\",\"gridcolor\":\"white\",\"linecolor\":\"white\",\"minorgridcolor\":\"white\",\"startlinecolor\":\"#2a3f5f\"},\"baxis\":{\"endlinecolor\":\"#2a3f5f\",\"gridcolor\":\"white\",\"linecolor\":\"white\",\"minorgridcolor\":\"white\",\"startlinecolor\":\"#2a3f5f\"},\"type\":\"carpet\"}],\"choropleth\":[{\"colorbar\":{\"outlinewidth\":0,\"ticks\":\"\"},\"type\":\"choropleth\"}],\"contour\":[{\"colorbar\":{\"outlinewidth\":0,\"ticks\":\"\"},\"colorscale\":[[0.0,\"#0d0887\"],[0.1111111111111111,\"#46039f\"],[0.2222222222222222,\"#7201a8\"],[0.3333333333333333,\"#9c179e\"],[0.4444444444444444,\"#bd3786\"],[0.5555555555555556,\"#d8576b\"],[0.6666666666666666,\"#ed7953\"],[0.7777777777777778,\"#fb9f3a\"],[0.8888888888888888,\"#fdca26\"],[1.0,\"#f0f921\"]],\"type\":\"contour\"}],\"contourcarpet\":[{\"colorbar\":{\"outlinewidth\":0,\"ticks\":\"\"},\"type\":\"contourcarpet\"}],\"heatmap\":[{\"colorbar\":{\"outlinewidth\":0,\"ticks\":\"\"},\"colorscale\":[[0.0,\"#0d0887\"],[0.1111111111111111,\"#46039f\"],[0.2222222222222222,\"#7201a8\"],[0.3333333333333333,\"#9c179e\"],[0.4444444444444444,\"#bd3786\"],[0.5555555555555556,\"#d8576b\"],[0.6666666666666666,\"#ed7953\"],[0.7777777777777778,\"#fb9f3a\"],[0.8888888888888888,\"#fdca26\"],[1.0,\"#f0f921\"]],\"type\":\"heatmap\"}],\"heatmapgl\":[{\"colorbar\":{\"outlinewidth\":0,\"ticks\":\"\"},\"colorscale\":[[0.0,\"#0d0887\"],[0.1111111111111111,\"#46039f\"],[0.2222222222222222,\"#7201a8\"],[0.3333333333333333,\"#9c179e\"],[0.4444444444444444,\"#bd3786\"],[0.5555555555555556,\"#d8576b\"],[0.6666666666666666,\"#ed7953\"],[0.7777777777777778,\"#fb9f3a\"],[0.8888888888888888,\"#fdca26\"],[1.0,\"#f0f921\"]],\"type\":\"heatmapgl\"}],\"histogram\":[{\"marker\":{\"pattern\":{\"fillmode\":\"overlay\",\"size\":10,\"solidity\":0.2}},\"type\":\"histogram\"}],\"histogram2d\":[{\"colorbar\":{\"outlinewidth\":0,\"ticks\":\"\"},\"colorscale\":[[0.0,\"#0d0887\"],[0.1111111111111111,\"#46039f\"],[0.2222222222222222,\"#7201a8\"],[0.3333333333333333,\"#9c179e\"],[0.4444444444444444,\"#bd3786\"],[0.5555555555555556,\"#d8576b\"],[0.6666666666666666,\"#ed7953\"],[0.7777777777777778,\"#fb9f3a\"],[0.8888888888888888,\"#fdca26\"],[1.0,\"#f0f921\"]],\"type\":\"histogram2d\"}],\"histogram2dcontour\":[{\"colorbar\":{\"outlinewidth\":0,\"ticks\":\"\"},\"colorscale\":[[0.0,\"#0d0887\"],[0.1111111111111111,\"#46039f\"],[0.2222222222222222,\"#7201a8\"],[0.3333333333333333,\"#9c179e\"],[0.4444444444444444,\"#bd3786\"],[0.5555555555555556,\"#d8576b\"],[0.6666666666666666,\"#ed7953\"],[0.7777777777777778,\"#fb9f3a\"],[0.8888888888888888,\"#fdca26\"],[1.0,\"#f0f921\"]],\"type\":\"histogram2dcontour\"}],\"mesh3d\":[{\"colorbar\":{\"outlinewidth\":0,\"ticks\":\"\"},\"type\":\"mesh3d\"}],\"parcoords\":[{\"line\":{\"colorbar\":{\"outlinewidth\":0,\"ticks\":\"\"}},\"type\":\"parcoords\"}],\"pie\":[{\"automargin\":true,\"type\":\"pie\"}],\"scatter\":[{\"marker\":{\"colorbar\":{\"outlinewidth\":0,\"ticks\":\"\"}},\"type\":\"scatter\"}],\"scatter3d\":[{\"line\":{\"colorbar\":{\"outlinewidth\":0,\"ticks\":\"\"}},\"marker\":{\"colorbar\":{\"outlinewidth\":0,\"ticks\":\"\"}},\"type\":\"scatter3d\"}],\"scattercarpet\":[{\"marker\":{\"colorbar\":{\"outlinewidth\":0,\"ticks\":\"\"}},\"type\":\"scattercarpet\"}],\"scattergeo\":[{\"marker\":{\"colorbar\":{\"outlinewidth\":0,\"ticks\":\"\"}},\"type\":\"scattergeo\"}],\"scattergl\":[{\"marker\":{\"colorbar\":{\"outlinewidth\":0,\"ticks\":\"\"}},\"type\":\"scattergl\"}],\"scattermapbox\":[{\"marker\":{\"colorbar\":{\"outlinewidth\":0,\"ticks\":\"\"}},\"type\":\"scattermapbox\"}],\"scatterpolar\":[{\"marker\":{\"colorbar\":{\"outlinewidth\":0,\"ticks\":\"\"}},\"type\":\"scatterpolar\"}],\"scatterpolargl\":[{\"marker\":{\"colorbar\":{\"outlinewidth\":0,\"ticks\":\"\"}},\"type\":\"scatterpolargl\"}],\"scatterternary\":[{\"marker\":{\"colorbar\":{\"outlinewidth\":0,\"ticks\":\"\"}},\"type\":\"scatterternary\"}],\"surface\":[{\"colorbar\":{\"outlinewidth\":0,\"ticks\":\"\"},\"colorscale\":[[0.0,\"#0d0887\"],[0.1111111111111111,\"#46039f\"],[0.2222222222222222,\"#7201a8\"],[0.3333333333333333,\"#9c179e\"],[0.4444444444444444,\"#bd3786\"],[0.5555555555555556,\"#d8576b\"],[0.6666666666666666,\"#ed7953\"],[0.7777777777777778,\"#fb9f3a\"],[0.8888888888888888,\"#fdca26\"],[1.0,\"#f0f921\"]],\"type\":\"surface\"}],\"table\":[{\"cells\":{\"fill\":{\"color\":\"#EBF0F8\"},\"line\":{\"color\":\"white\"}},\"header\":{\"fill\":{\"color\":\"#C8D4E3\"},\"line\":{\"color\":\"white\"}},\"type\":\"table\"}]},\"layout\":{\"annotationdefaults\":{\"arrowcolor\":\"#2a3f5f\",\"arrowhead\":0,\"arrowwidth\":1},\"autotypenumbers\":\"strict\",\"coloraxis\":{\"colorbar\":{\"outlinewidth\":0,\"ticks\":\"\"}},\"colorscale\":{\"diverging\":[[0,\"#8e0152\"],[0.1,\"#c51b7d\"],[0.2,\"#de77ae\"],[0.3,\"#f1b6da\"],[0.4,\"#fde0ef\"],[0.5,\"#f7f7f7\"],[0.6,\"#e6f5d0\"],[0.7,\"#b8e186\"],[0.8,\"#7fbc41\"],[0.9,\"#4d9221\"],[1,\"#276419\"]],\"sequential\":[[0.0,\"#0d0887\"],[0.1111111111111111,\"#46039f\"],[0.2222222222222222,\"#7201a8\"],[0.3333333333333333,\"#9c179e\"],[0.4444444444444444,\"#bd3786\"],[0.5555555555555556,\"#d8576b\"],[0.6666666666666666,\"#ed7953\"],[0.7777777777777778,\"#fb9f3a\"],[0.8888888888888888,\"#fdca26\"],[1.0,\"#f0f921\"]],\"sequentialminus\":[[0.0,\"#0d0887\"],[0.1111111111111111,\"#46039f\"],[0.2222222222222222,\"#7201a8\"],[0.3333333333333333,\"#9c179e\"],[0.4444444444444444,\"#bd3786\"],[0.5555555555555556,\"#d8576b\"],[0.6666666666666666,\"#ed7953\"],[0.7777777777777778,\"#fb9f3a\"],[0.8888888888888888,\"#fdca26\"],[1.0,\"#f0f921\"]]},\"colorway\":[\"#636efa\",\"#EF553B\",\"#00cc96\",\"#ab63fa\",\"#FFA15A\",\"#19d3f3\",\"#FF6692\",\"#B6E880\",\"#FF97FF\",\"#FECB52\"],\"font\":{\"color\":\"#2a3f5f\"},\"geo\":{\"bgcolor\":\"white\",\"lakecolor\":\"white\",\"landcolor\":\"#E5ECF6\",\"showlakes\":true,\"showland\":true,\"subunitcolor\":\"white\"},\"hoverlabel\":{\"align\":\"left\"},\"hovermode\":\"closest\",\"mapbox\":{\"style\":\"light\"},\"paper_bgcolor\":\"white\",\"plot_bgcolor\":\"#E5ECF6\",\"polar\":{\"angularaxis\":{\"gridcolor\":\"white\",\"linecolor\":\"white\",\"ticks\":\"\"},\"bgcolor\":\"#E5ECF6\",\"radialaxis\":{\"gridcolor\":\"white\",\"linecolor\":\"white\",\"ticks\":\"\"}},\"scene\":{\"xaxis\":{\"backgroundcolor\":\"#E5ECF6\",\"gridcolor\":\"white\",\"gridwidth\":2,\"linecolor\":\"white\",\"showbackground\":true,\"ticks\":\"\",\"zerolinecolor\":\"white\"},\"yaxis\":{\"backgroundcolor\":\"#E5ECF6\",\"gridcolor\":\"white\",\"gridwidth\":2,\"linecolor\":\"white\",\"showbackground\":true,\"ticks\":\"\",\"zerolinecolor\":\"white\"},\"zaxis\":{\"backgroundcolor\":\"#E5ECF6\",\"gridcolor\":\"white\",\"gridwidth\":2,\"linecolor\":\"white\",\"showbackground\":true,\"ticks\":\"\",\"zerolinecolor\":\"white\"}},\"shapedefaults\":{\"line\":{\"color\":\"#2a3f5f\"}},\"ternary\":{\"aaxis\":{\"gridcolor\":\"white\",\"linecolor\":\"white\",\"ticks\":\"\"},\"baxis\":{\"gridcolor\":\"white\",\"linecolor\":\"white\",\"ticks\":\"\"},\"bgcolor\":\"#E5ECF6\",\"caxis\":{\"gridcolor\":\"white\",\"linecolor\":\"white\",\"ticks\":\"\"}},\"title\":{\"x\":0.05},\"xaxis\":{\"automargin\":true,\"gridcolor\":\"white\",\"linecolor\":\"white\",\"ticks\":\"\",\"title\":{\"standoff\":15},\"zerolinecolor\":\"white\",\"zerolinewidth\":2},\"yaxis\":{\"automargin\":true,\"gridcolor\":\"white\",\"linecolor\":\"white\",\"ticks\":\"\",\"title\":{\"standoff\":15},\"zerolinecolor\":\"white\",\"zerolinewidth\":2}}},\"xaxis\":{\"anchor\":\"y\",\"domain\":[0.0,1.0],\"title\":{\"text\":\"\\u041c\\u0435\\u0441\\u044f\\u0446\"}},\"yaxis\":{\"anchor\":\"x\",\"domain\":[0.0,1.0],\"title\":{\"text\":\"\\u041a\\u043e\\u043b\\u0438\\u0447\\u0435\\u0441\\u0442\\u0432\\u043e \\u043f\\u043e\\u0441\\u0435\\u0449\\u0435\\u043d\\u0438\\u0439\"}},\"legend\":{\"tracegroupgap\":0},\"title\":{\"text\":\"\\u0412\\u0438\\u0437\\u0438\\u0442\\u044b \\u0441\\u0430\\u0439\\u0442\\u0430\"}},                        {\"responsive\": true}                    ).then(function(){\n",
              "                            \n",
              "var gd = document.getElementById('d42729d1-aab6-418a-8e70-8d3cb554ff9e');\n",
              "var x = new MutationObserver(function (mutations, observer) {{\n",
              "        var display = window.getComputedStyle(gd).display;\n",
              "        if (!display || display === 'none') {{\n",
              "            console.log([gd, 'removed!']);\n",
              "            Plotly.purge(gd);\n",
              "            observer.disconnect();\n",
              "        }}\n",
              "}});\n",
              "\n",
              "// Listen for the removal of the full notebook cells\n",
              "var notebookContainer = gd.closest('#notebook-container');\n",
              "if (notebookContainer) {{\n",
              "    x.observe(notebookContainer, {childList: true});\n",
              "}}\n",
              "\n",
              "// Listen for the clearing of the current output cell\n",
              "var outputEl = gd.closest('.output');\n",
              "if (outputEl) {{\n",
              "    x.observe(outputEl, {childList: true});\n",
              "}}\n",
              "\n",
              "                        })                };                            </script>        </div>\n",
              "</body>\n",
              "</html>"
            ]
          },
          "metadata": {}
        }
      ]
    },
    {
      "cell_type": "markdown",
      "source": [
        "Мы спарсили данные с spymetrics. Теперь пользователь может ввести ссылку на сайт и посмотреть его посещаемость. Это помогает маркетолгу проанализировать среду, в которую они собирабтся выходить. Например, если в последний месяц была какая-то аномалия в посещаемости, то вероятно, что на этих пользователях проводится какая-то сторонняя активность. Это дает им дополнительную информацию при принятия решений. "
      ],
      "metadata": {
        "id": "QLCZfpCq7p7r"
      }
    }
  ],
  "metadata": {
    "colab": {
      "collapsed_sections": [],
      "name": "the_best_product_sell.ipynb",
      "provenance": []
    },
    "kernelspec": {
      "display_name": "Python 3 (ipykernel)",
      "language": "python",
      "name": "python3"
    },
    "language_info": {
      "codemirror_mode": {
        "name": "ipython",
        "version": 3
      },
      "file_extension": ".py",
      "mimetype": "text/x-python",
      "name": "python",
      "nbconvert_exporter": "python",
      "pygments_lexer": "ipython3",
      "version": "3.10.0"
    }
  },
  "nbformat": 4,
  "nbformat_minor": 0
}