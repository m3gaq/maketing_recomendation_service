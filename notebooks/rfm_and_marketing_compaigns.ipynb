{
  "nbformat": 4,
  "nbformat_minor": 0,
  "metadata": {
    "colab": {
      "name": "rfm and marketing compaigns.ipynb",
      "provenance": []
    },
    "kernelspec": {
      "name": "python3",
      "display_name": "Python 3"
    },
    "language_info": {
      "name": "python"
    }
  },
  "cells": [
    {
      "cell_type": "markdown",
      "source": [
        "# RFM и исторические данные маркетинговых кампаний\n"
      ],
      "metadata": {
        "id": "dAIimGUkf_zs"
      }
    },
    {
      "cell_type": "markdown",
      "source": [
        " Частью нашего сервиса  является оценка не только метрик из независимых источников, но и оценка собственных исторических данных для помощи в принятии решения по будущему запуску рекламных кампаний. Мы выдвинули гипотезу, что аудитория пабликов вк соответствует (с возможным сдвигом в возрасте) аудитории их первичных источников. Например, если мы хотим оценить потенциальную аудиторию сайта РБК на интерес к какому-то продукту и их доходность, мы можем сделать тестовую рекламную кампанию или, если они есть, - взять исторические данные предыдущих рекламных кампаний в вк на аудитории группы рбк (мы можем узнать, из какой группы пришел клиент по динамическим utm меткам).Таргетированная рекламная кампания в вк намного дешевле рекламы на других платформах и мы знаем параметры настройки на целевую аудиторию - пол, город и интересы нам уже известны из наших данных и описанию паблика. Далее мы можем собрать данные и проанализировать спрос на тот или иной продукт. В том числе, мы можем отслеживать дальнейшие действия покупателей, пришедших из рекламной кампании, оценивать их финансовые показатели (интерепретировать как доходность) и сегментировать их, напрмиер, методом RFM.  \n",
        "\n",
        "Модель RFM предназначена для сегментации пользователей на основе трех параметров: \n",
        "1.   **recency** (как давно клиент использовал продукт); \n",
        "2.   **frequency** (как часто клиент пользуется продуктом); \n",
        "3.   **monetary** (сколько денег принес клиент бизнесу/какой денежный оборот и пользователя). \n",
        "\n",
        "Мы ранжируем эти параметры относительно общего распределения всех данных и сегменируем по заранее заданным сегментам: **ABOUT TO SLEEP, RECENT CUSTOMER, CANNOT LOOSE THEM, CHAMPION, LOST CUSTOMER, LOYAL, POTENTIAL LOYALIST, AVERAGE**.\n",
        "\n",
        "(Для оценки RFM нам понадобилось добавить один столбец в виде денежного оборота у клиента на карте в изначальную таблицу транзакций). \n",
        "\n",
        "Таким образом, мы можем как протестировать рекламную кампанию на похожем сегменте пользователей, так и понимать, какой сегмент пользователей из разных каналов к нам приходит. Например, много средних, не очень активных пользователей или не так много золотых.\n"
      ],
      "metadata": {
        "id": "38-9T8xDf-e2"
      }
    },
    {
      "cell_type": "code",
      "execution_count": 1,
      "metadata": {
        "colab": {
          "base_uri": "https://localhost:8080/",
          "height": 131
        },
        "id": "KwRdJxGLf1Hp",
        "outputId": "73a5e19d-53e6-43db-99b9-ff46c8928158"
      },
      "outputs": [
        {
          "output_type": "error",
          "ename": "IndentationError",
          "evalue": "ignored",
          "traceback": [
            "\u001b[0;36m  File \u001b[0;32m\"<ipython-input-1-e93411ee3e9f>\"\u001b[0;36m, line \u001b[0;32m10\u001b[0m\n\u001b[0;31m    fig = px.bar(data_plot.groupby(by='source').sum(),\u001b[0m\n\u001b[0m    ^\u001b[0m\n\u001b[0;31mIndentationError\u001b[0m\u001b[0;31m:\u001b[0m unexpected indent\n"
          ]
        }
      ],
      "source": [
        "import plotly.express as px\n",
        "\n",
        "def draw_plotly_historic_data_returns(data_plot: pd.DataFrame):\n",
        "  \"\"\" \n",
        "  Функция предзназначена для визуализации доходов со всех каналов\n",
        "    Parameters\n",
        "        ----------\n",
        "        **kwargs : pd.DataFrame\n",
        "  \"\"\"\n",
        "      fig = px.bar(data_plot.groupby(by='source').sum(), \n",
        "                   x = list(data_plot.groupby(by='source').sum().index), \n",
        "                   y = ['contract_sum'])\n",
        "      fig.update_layout(\n",
        "      title=\"Итоговая сумма контрактов по каналам\",\n",
        "      xaxis_title=\"source\",\n",
        "      yaxis_title=\"contract_sum_all\")\n",
        "      return fig\n",
        "\n",
        "\n",
        "def draw_plotly_historic_data(data_plot: pd.DataFrame):\n",
        "    \"\"\"\n",
        "    Функция предзназначена для визуализации распределения интересов к продуктам у пользователей, перешедших по ссылке (купивших и не купивших)\n",
        "       Parameters\n",
        "        ----------\n",
        "        **kwargs : pd.DataFrame\n",
        "  \"\"\"\n",
        "      fig = px.bar(data_plot.groupby(by='source').mean(), \n",
        "                   y = list(data_plot.groupby(by='source').mean().index), \n",
        "                   x=data_plot.columns[-5:])\n",
        "      fig.update_layout(\n",
        "      title=\"Распределение заказанного продукта по каналам\",\n",
        "      xaxis_title=\"Интерес к продукту (процент покупок от общего количества перешедших)\",\n",
        "      yaxis_title=\"Каналы\")\n",
        "      return fig\n",
        "\n",
        "def draw_plotly_historic_data_gender(data_plot: pd.DataFrame):\n",
        "    \"\"\"\n",
        "    Функция предзназначена для визуализации распределения пола заинтересованных пользователей по каждому каналу\n",
        "       Parameters\n",
        "        ----------\n",
        "        **kwargs : pd.DataFrame\n",
        "  \"\"\"\n",
        "\n",
        "      fig = px.bar(data_plot.groupby(by='source').mean(), \n",
        "                   y = list(data_plot.groupby(by='source').mean().index), \n",
        "                   x=['gender'])\n",
        "      fig.update_layout(\n",
        "      title=\"Распределение М/Ж по каналам\",\n",
        "      xaxis_title=\"Пол\",\n",
        "      yaxis_title=\"Каналы\")\n",
        "      return fig\n",
        "\n",
        "from plotly.subplots import make_subplots\n",
        "import plotly.graph_objects as go\n",
        "\n",
        "def rfm_segments_compaign(data_rfm, data_marketing_compaign):\n",
        "      \"\"\"\n",
        "    Функция предзназначена для визуализации сегментации на основе RFM модели по истечению тестового срока клиентов, купивших продукт во время рекламной кампании\n",
        "       Parameters\n",
        "        ----------\n",
        "        **kwargs : pd.DataFrame, pd.DataFrame\n",
        "  \"\"\"\n",
        "\n",
        "    def rfm_query(adid):\n",
        "      ans = data_rfm[\n",
        "                     data_rfm['client_id']\n",
        "                     .isin(data_marketing_compaign[\n",
        "                                         ((data_marketing_compaign.is_deal == 1) & (data_marketing_compaign.adid == adid))\n",
        "                                         ]\n",
        "                           ['client_id']\n",
        "                                        .unique())\n",
        "                     ].rfm_score_name.value_counts()\n",
        "      return ans\n",
        "      \n",
        "    data1 = rfm_query('8730nd')\n",
        "    data2 = rfm_query('873kdb')\n",
        "    data3 = rfm_query('n27cl3')\n",
        "\n",
        "    fig = make_subplots(rows=1, cols=3, \n",
        "                        specs=[[{'type':'domain'}, {'type':'domain'}, {'type':'domain'}]], \n",
        "                                              subplot_titles=['id - 8730nd', 'id - 873kdb', 'id - n27cl3'])\n",
        "    fig.add_trace(\n",
        "        go.Pie(values = list(data1), labels=list(data1.index)),row=1, col=1)\n",
        "    fig.add_trace(\n",
        "        go.Pie(values = list(data2), labels=list(data2.index)),row=1, col=2)\n",
        "    fig.add_trace(\n",
        "        go.Pie(values = list(data3), labels=list(data3.index)),row=1, col=3)\n",
        "    fig.update_layout(height=600, width=800, title_text=\"Сегмент пользователей по RFM, пришедших из рекламных кампаний\")\n",
        "    return fig"
      ]
    },
    {
      "cell_type": "code",
      "source": [
        ""
      ],
      "metadata": {
        "id": "3j0711cHlMsL"
      },
      "execution_count": null,
      "outputs": []
    }
  ]
}